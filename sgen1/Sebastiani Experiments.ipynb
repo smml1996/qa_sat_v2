{
 "cells": [
  {
   "cell_type": "code",
   "execution_count": 1,
   "id": "charming-adobe",
   "metadata": {},
   "outputs": [],
   "source": [
    "from utils import load_cnf, cnf_to_bqm\n",
    "from redundancy import initialize_mirror_vars, mirror_variable, update_bqm_mirror_variables,update_bqm_single_mirror\n",
    "from redundancy import get_bqm_chain_lengths\n",
    "from embedding_utils import count_qubits_used\n",
    "from minorminer import find_embedding\n",
    "from dwave.system import DWaveSampler, FixedEmbeddingComposite\n",
    "from greedy import SteepestDescentComposite\n",
    "from embedding_utils import get_chain_lengths\n",
    "import seaborn as sns"
   ]
  },
  {
   "cell_type": "code",
   "execution_count": 2,
   "id": "infrared-foster",
   "metadata": {},
   "outputs": [],
   "source": [
    "original_vars_to_mirrors = dict()\n",
    "mirrors = dict()\n",
    "num_variables, num_clauses, variables, clauses = load_cnf(f\"./sebastiani-sat/var100.cnf\")\n",
    "# initialize_mirror_vars(variables, mirrors, original_vars_to_mirrors)\n",
    "# for var in range(1,101):\n",
    "#     mirror_variable(var, variables, clauses, mirrors, original_vars_to_mirrors)\n",
    "bqm, or_result_vars, clauses_qubits = cnf_to_bqm(variables, clauses)\n",
    "# for i in range(1, 101):\n",
    "#     update_bqm_single_mirror(bqm, i, mirrors, original_vars_to_mirrors)"
   ]
  },
  {
   "cell_type": "code",
   "execution_count": 17,
   "id": "growing-township",
   "metadata": {},
   "outputs": [
    {
     "data": {
      "text/plain": [
       "100"
      ]
     },
     "execution_count": 17,
     "metadata": {},
     "output_type": "execute_result"
    }
   ],
   "source": [
    "num_variables"
   ]
  },
  {
   "cell_type": "code",
   "execution_count": 3,
   "id": "peaceful-alliance",
   "metadata": {},
   "outputs": [
    {
     "data": {
      "text/plain": [
       "<AxesSubplot:ylabel='Count'>"
      ]
     },
     "execution_count": 3,
     "metadata": {},
     "output_type": "execute_result"
    },
    {
     "data": {
      "image/png": "[encoded data removed]",
      "text/plain": [
       "<Figure size 432x288 with 1 Axes>"
      ]
     },
     "metadata": {
      "needs_background": "light"
     },
     "output_type": "display_data"
    }
   ],
   "source": [
    "qpu_pegasus = DWaveSampler(solver={'topology__type': 'pegasus'})\n",
    "embedding = find_embedding(bqm.quadratic.keys(), qpu_pegasus.edgelist, random_seed=134)\n",
    "\n",
    "sns.histplot(get_chain_lengths(bqm, embedding)[0])"
   ]
  },
  {
   "cell_type": "code",
   "execution_count": 4,
   "id": "cellular-franklin",
   "metadata": {},
   "outputs": [
    {
     "data": {
      "text/plain": [
       "(-100.0, {})"
      ]
     },
     "execution_count": 4,
     "metadata": {},
     "output_type": "execute_result"
    }
   ],
   "source": [
    "from dwave.preprocessing.lower_bounds import roof_duality\n",
    "roof_duality(bqm)"
   ]
  },
  {
   "cell_type": "code",
   "execution_count": 6,
   "id": "involved-laugh",
   "metadata": {},
   "outputs": [
    {
     "data": {
      "text/plain": [
       "8.0"
      ]
     },
     "execution_count": 6,
     "metadata": {},
     "output_type": "execute_result"
    }
   ],
   "source": [
    "sampler = FixedEmbeddingComposite(DWaveSampler(solver={\"name\": \"Advantage_system4.1\"}), embedding)\n",
    "sampleset = sampler.sample(bqm, num_reads=1000, answer_mode='raw', chain_strength=1.75, auto_scale=True)\n",
    "sampleset.first.energy"
   ]
  },
  {
   "cell_type": "code",
   "execution_count": 97,
   "id": "higher-bullet",
   "metadata": {},
   "outputs": [
    {
     "data": {
      "text/plain": [
       "2.0"
      ]
     },
     "execution_count": 97,
     "metadata": {},
     "output_type": "execute_result"
    }
   ],
   "source": [
    "import neal\n",
    "\n",
    "simulated_sampler = neal.SimulatedAnnealingSampler()\n",
    "sampleset = simulated_sampler.sample(bqm,initial_state=sampleset.first[0], num_sweeps=10000000)\n",
    "sampleset.first.energy"
   ]
  },
  {
   "cell_type": "code",
   "execution_count": 64,
   "id": "governmental-color",
   "metadata": {},
   "outputs": [
    {
     "data": {
      "text/plain": [
       "{1: 1,\n",
       " 2: 0,\n",
       " 3: 1,\n",
       " 4: 0,\n",
       " 5: 0,\n",
       " 6: 0,\n",
       " 7: 1,\n",
       " 8: 0,\n",
       " 9: 0,\n",
       " 10: 0,\n",
       " 11: 0,\n",
       " 12: 0,\n",
       " 13: 0,\n",
       " 14: 1,\n",
       " 15: 0,\n",
       " 16: 0,\n",
       " 17: 0,\n",
       " 18: 0,\n",
       " 19: 0,\n",
       " 20: 0,\n",
       " 21: 0,\n",
       " 22: 1,\n",
       " 23: 1,\n",
       " 24: 0,\n",
       " 25: 0,\n",
       " 26: 1,\n",
       " 27: 1,\n",
       " 28: 0,\n",
       " 29: 1,\n",
       " 30: 0,\n",
       " 31: 1,\n",
       " 32: 0,\n",
       " 33: 0,\n",
       " 34: 0,\n",
       " 35: 0,\n",
       " 36: 0,\n",
       " 37: 0,\n",
       " 38: 0,\n",
       " 39: 0,\n",
       " 40: 0,\n",
       " 41: 1,\n",
       " 42: 0,\n",
       " 43: 0,\n",
       " 44: 0,\n",
       " 45: 1,\n",
       " 46: 0,\n",
       " 47: 0,\n",
       " 48: 0,\n",
       " 49: 0,\n",
       " 50: 0,\n",
       " 51: 0,\n",
       " 52: 0,\n",
       " 53: 1,\n",
       " 54: 0,\n",
       " 55: 0,\n",
       " 56: 0,\n",
       " 57: 1,\n",
       " 58: 0,\n",
       " 59: 0,\n",
       " 60: 1,\n",
       " 61: 0,\n",
       " 62: 1,\n",
       " 63: 1,\n",
       " 64: 0,\n",
       " 65: 0,\n",
       " 66: 0,\n",
       " 67: 0,\n",
       " 68: 0,\n",
       " 69: 0,\n",
       " 70: 0,\n",
       " 71: 0,\n",
       " 72: 0,\n",
       " 73: 1,\n",
       " 74: 0,\n",
       " 75: 0,\n",
       " 76: 0,\n",
       " 77: 0,\n",
       " 78: 0,\n",
       " 79: 1,\n",
       " 80: 1,\n",
       " 81: 0,\n",
       " 82: 0,\n",
       " 83: 0,\n",
       " 84: 0,\n",
       " 85: 0,\n",
       " 86: 0,\n",
       " 87: 0,\n",
       " 88: 0,\n",
       " 89: 1,\n",
       " 90: 0,\n",
       " 91: 0,\n",
       " 92: 0,\n",
       " 93: 1,\n",
       " 94: 1,\n",
       " 95: 0,\n",
       " 96: 0,\n",
       " 97: 0,\n",
       " 98: 1,\n",
       " 99: 0,\n",
       " 100: 1,\n",
       " 101: 1,\n",
       " 102: 1,\n",
       " 103: 1,\n",
       " 104: 1,\n",
       " 105: 1,\n",
       " 106: 1,\n",
       " 107: 1,\n",
       " 108: 1,\n",
       " 109: 1,\n",
       " 110: 1,\n",
       " 111: 1,\n",
       " 112: 1,\n",
       " 113: 1,\n",
       " 114: 1,\n",
       " 115: 1,\n",
       " 116: 1,\n",
       " 117: 1,\n",
       " 118: 1,\n",
       " 119: 1,\n",
       " 120: 1,\n",
       " 121: 1,\n",
       " 122: 1,\n",
       " 123: 1,\n",
       " 124: 1,\n",
       " 125: 1,\n",
       " 126: 1,\n",
       " 127: 1,\n",
       " 128: 1,\n",
       " 129: 1,\n",
       " 130: 1,\n",
       " 131: 1,\n",
       " 132: 1,\n",
       " 133: 1,\n",
       " 134: 1,\n",
       " 135: 1,\n",
       " 136: 1,\n",
       " 137: 1,\n",
       " 138: 1,\n",
       " 139: 1,\n",
       " 140: 1,\n",
       " 141: 1,\n",
       " 142: 1,\n",
       " 143: 1,\n",
       " 144: 1,\n",
       " 145: 1,\n",
       " 146: 1,\n",
       " 147: 1,\n",
       " 148: 1,\n",
       " 149: 1,\n",
       " 150: 1,\n",
       " 151: 1,\n",
       " 152: 1,\n",
       " 153: 1,\n",
       " 154: 1,\n",
       " 155: 1,\n",
       " 156: 1,\n",
       " 157: 1,\n",
       " 158: 1,\n",
       " 159: 1,\n",
       " 160: 1,\n",
       " 161: 1,\n",
       " 162: 1,\n",
       " 163: 1,\n",
       " 164: 1,\n",
       " 165: 1,\n",
       " 166: 1,\n",
       " 167: 1,\n",
       " 168: 1,\n",
       " 169: 1,\n",
       " 170: 1,\n",
       " 171: 1,\n",
       " 172: 1,\n",
       " 173: 1,\n",
       " 174: 1,\n",
       " 175: 1,\n",
       " 176: 1,\n",
       " 177: 1,\n",
       " 178: 1,\n",
       " 179: 1,\n",
       " 180: 1,\n",
       " 181: 1,\n",
       " 182: 1,\n",
       " 183: 1,\n",
       " 184: 1,\n",
       " 185: 1,\n",
       " 186: 1,\n",
       " 187: 1,\n",
       " 188: 1,\n",
       " 189: 1,\n",
       " 190: 1,\n",
       " 191: 1,\n",
       " 192: 1,\n",
       " 193: 1,\n",
       " 194: 1,\n",
       " 195: 1,\n",
       " 196: 1,\n",
       " 197: 1,\n",
       " 198: 1,\n",
       " 199: 1,\n",
       " 200: 1}"
      ]
     },
     "execution_count": 64,
     "metadata": {},
     "output_type": "execute_result"
    }
   ],
   "source": [
    "sampleset.first[0]"
   ]
  },
  {
   "cell_type": "code",
   "execution_count": null,
   "id": "exact-merchant",
   "metadata": {},
   "outputs": [],
   "source": [
    "answer_path = \"./sat/sgen1-sat-140-100_result.cnf\"\n",
    "answer_file = open(answer_path)\n",
    "answer = dict()\n",
    "\n",
    "cnf_result = answer_file.readline().split(\" \")\n",
    "assert (int(cnf_result[-1]) == 0)\n",
    "\n",
    "for x in cnf_result[:-1]:\n",
    "    int_x = int(x)\n",
    "    value = int(int_x > 0)\n",
    "    answer[abs(int_x)] = value\n",
    "    for mirror in original_vars_to_mirrors[abs(int_x)]:\n",
    "        answer[mirror] = value\n",
    "answer_file.close()"
   ]
  },
  {
   "cell_type": "code",
   "execution_count": 65,
   "id": "statistical-jordan",
   "metadata": {},
   "outputs": [],
   "source": [
    "answer = dict()\n",
    "for (var, mirrors) in original_vars_to_mirrors.items():\n",
    "    answer[var] = sampleset.first[0][var]\n",
    "    for mirror in mirrors:\n",
    "        assert(answer[var] == samplet.first[0][mirror])\n",
    "        answer[mirror] = sampleset.first[0][var]"
   ]
  },
  {
   "cell_type": "code",
   "execution_count": 70,
   "id": "asian-national",
   "metadata": {},
   "outputs": [],
   "source": [
    "for i in range(1, 101):\n",
    "    answer[i] = sampleset.first[0][i]"
   ]
  },
  {
   "cell_type": "code",
   "execution_count": 71,
   "id": "laughing-uruguay",
   "metadata": {},
   "outputs": [
    {
     "name": "stdout",
     "output_type": "stream",
     "text": [
      "{1: 1, 2: 0, 3: 1, 4: 0, 5: 0, 6: 0, 7: 1, 8: 0, 9: 0, 10: 0, 11: 0, 12: 0, 13: 0, 14: 1, 15: 0, 16: 0, 17: 0, 18: 0, 19: 0, 20: 0, 21: 0, 22: 1, 23: 1, 24: 0, 25: 0, 26: 1, 27: 1, 28: 0, 29: 1, 30: 0, 31: 1, 32: 0, 33: 0, 34: 0, 35: 0, 36: 0, 37: 0, 38: 0, 39: 0, 40: 0, 41: 1, 42: 0, 43: 0, 44: 0, 45: 1, 46: 0, 47: 0, 48: 0, 49: 0, 50: 0, 51: 0, 52: 0, 53: 1, 54: 0, 55: 0, 56: 0, 57: 1, 58: 0, 59: 0, 60: 1, 61: 0, 62: 1, 63: 1, 64: 0, 65: 0, 66: 0, 67: 0, 68: 0, 69: 0, 70: 0, 71: 0, 72: 0, 73: 1, 74: 0, 75: 0, 76: 0, 77: 0, 78: 0, 79: 1, 80: 1, 81: 0, 82: 0, 83: 0, 84: 0, 85: 0, 86: 0, 87: 0, 88: 0, 89: 1, 90: 0, 91: 0, 92: 0, 93: 1, 94: 1, 95: 0, 96: 0, 97: 0, 98: 1, 99: 0, 100: 1, 101: 1, 102: 1, 103: 1, 104: 1, 105: 1, 106: 1, 107: 1, 108: 1, 109: 1, 110: 1, 111: 1, 112: 1, 113: 1, 114: 1, 115: 1, 116: 1, 117: 1, 118: 1, 119: 1, 120: 1, 121: 1, 122: 1, 123: 1, 124: 1, 125: 1, 126: 1, 127: 1, 128: 1, 129: 1, 130: 1, 131: 1, 132: 1, 133: 1, 134: 1, 135: 1, 136: 1, 137: 1, 138: 1, 139: 1, 140: 1, 141: 1, 142: 1, 143: 1, 144: 1, 145: 1, 146: 1, 147: 1, 148: 1, 149: 1, 150: 1, 151: 1, 152: 1, 153: 1, 154: 1, 155: 1, 156: 1, 157: 1, 158: 1, 159: 1, 160: 1, 161: 1, 162: 1, 163: 1, 164: 1, 165: 1, 166: 1, 167: 1, 168: 1, 169: 1, 170: 1, 171: 1, 172: 1, 173: 1, 174: 1, 175: 1, 176: 1, 177: 1, 178: 1, 179: 1, 180: 1, 181: 1, 182: 1, 183: 1, 184: 1, 185: 1, 186: 1, 187: 1, 188: 1, 189: 1, 190: 1, 191: 1, 192: 1, 193: 1, 194: 1, 195: 1, 196: 1, 197: 1, 198: 1, 199: 1, 200: 1}\n"
     ]
    },
    {
     "data": {
      "text/plain": [
       "0.0"
      ]
     },
     "execution_count": 71,
     "metadata": {},
     "output_type": "execute_result"
    }
   ],
   "source": [
    "from utils import evaluate_cnf_formula\n",
    "evaluate_cnf_formula(answer, or_result_vars, bqm)"
   ]
  },
  {
   "cell_type": "code",
   "execution_count": 72,
   "id": "published-darkness",
   "metadata": {},
   "outputs": [],
   "source": [
    "from utils import evaluate_clauses"
   ]
  },
  {
   "cell_type": "code",
   "execution_count": 73,
   "id": "worth-technique",
   "metadata": {},
   "outputs": [
    {
     "data": {
      "text/plain": [
       "True"
      ]
     },
     "execution_count": 73,
     "metadata": {},
     "output_type": "execute_result"
    }
   ],
   "source": [
    "evaluate_clauses(answer, clauses)"
   ]
  },
  {
   "cell_type": "code",
   "execution_count": 76,
   "id": "perfect-intellectual",
   "metadata": {},
   "outputs": [
    {
     "data": {
      "text/plain": [
       "{'anneal_offsets': ['parameters'],\n",
       " 'anneal_schedule': ['parameters'],\n",
       " 'annealing_time': ['parameters'],\n",
       " 'answer_mode': ['parameters'],\n",
       " 'auto_scale': ['parameters'],\n",
       " 'flux_biases': ['parameters'],\n",
       " 'flux_drift_compensation': ['parameters'],\n",
       " 'h_gain_schedule': ['parameters'],\n",
       " 'initial_state': ['parameters'],\n",
       " 'max_answers': ['parameters'],\n",
       " 'num_reads': ['parameters'],\n",
       " 'num_spin_reversal_transforms': ['parameters'],\n",
       " 'programming_thermalization': ['parameters'],\n",
       " 'readout_thermalization': ['parameters'],\n",
       " 'reduce_intersample_correlation': ['parameters'],\n",
       " 'reinitialize_state': ['parameters'],\n",
       " 'warnings': [],\n",
       " 'label': []}"
      ]
     },
     "execution_count": 76,
     "metadata": {},
     "output_type": "execute_result"
    }
   ],
   "source": [
    "qpu_pegasus.parameters"
   ]
  },
  {
   "cell_type": "code",
   "execution_count": 19,
   "id": "personal-yellow",
   "metadata": {},
   "outputs": [
    {
     "data": {
      "text/plain": [
       "-0.0001500217998314891"
      ]
     },
     "execution_count": 19,
     "metadata": {},
     "output_type": "execute_result"
    }
   ],
   "source": [
    "annealing_offset = qpu_pegasus.properties['anneal_offset_step']\n",
    "qubit_offset_ranges = qpu_pegasus.properties['anneal_offset_ranges']\n",
    "annealing_offset"
   ]
  },
  {
   "cell_type": "code",
   "execution_count": 28,
   "id": "returning-penalty",
   "metadata": {},
   "outputs": [],
   "source": [
    "def get_qubits_used(embedding):\n",
    "    qubits_used = set()\n",
    "    for (logic_var, chain) in embedding.items():\n",
    "        for c in chain:\n",
    "            qubits_used.add(c)\n",
    "            \n",
    "    return qubits_used\n",
    "\n",
    "def advance_annealing_of_unused(embedding, qubit_offsets):\n",
    "    qubits_used = get_qubits_used(embedding)\n",
    "    for i in range(len(qubit_offset_ranges)):\n",
    "        if i not in qubits_used:\n",
    "            max_offset = qubit_offset_ranges[i][1]\n",
    "            qubit_offsets[i] = max_offset\n",
    "            "
   ]
  },
  {
   "cell_type": "code",
   "execution_count": 116,
   "id": "general-encounter",
   "metadata": {},
   "outputs": [],
   "source": [
    "qubit_offsets = [0] * len(qubit_offset_ranges)\n",
    "for (logic_var, chain) in embedding.items():\n",
    "    for c in chain:\n",
    "        if logic_var <= num_variables:\n",
    "            min_offset = qubit_offset_ranges[c][0]\n",
    "            qubit_offsets[c] = min_offset/10"
   ]
  },
  {
   "cell_type": "code",
   "execution_count": 117,
   "id": "composite-sport",
   "metadata": {},
   "outputs": [],
   "source": [
    "advance_annealing_of_unused(embedding, qubit_offsets)"
   ]
  },
  {
   "cell_type": "code",
   "execution_count": 118,
   "id": "timely-wallet",
   "metadata": {},
   "outputs": [
    {
     "data": {
      "text/plain": [
       "0.0"
      ]
     },
     "execution_count": 118,
     "metadata": {},
     "output_type": "execute_result"
    }
   ],
   "source": [
    "sampler = SteepestDescentComposite(FixedEmbeddingComposite(DWaveSampler(solver={\"name\": \"Advantage_system4.1\"}), embedding))\n",
    "sampleset = sampler.sample(bqm, num_reads=1000, answer_mode='raw', anneal_offsets=qubit_offsets, chain_strength=1.5, auto_scale=True)\n",
    "sampleset.first.energy"
   ]
  },
  {
   "cell_type": "code",
   "execution_count": 119,
   "id": "atmospheric-rolling",
   "metadata": {},
   "outputs": [
    {
     "data": {
      "text/plain": [
       "18"
      ]
     },
     "execution_count": 119,
     "metadata": {},
     "output_type": "execute_result"
    }
   ],
   "source": [
    "len(sampleset.lowest())"
   ]
  },
  {
   "cell_type": "code",
   "execution_count": 127,
   "id": "chicken-purple",
   "metadata": {},
   "outputs": [
    {
     "name": "stdout",
     "output_type": "stream",
     "text": [
      "True\n",
      "True\n",
      "True\n",
      "True\n",
      "True\n",
      "True\n",
      "True\n",
      "True\n",
      "True\n",
      "True\n",
      "True\n",
      "True\n",
      "True\n",
      "True\n",
      "True\n",
      "True\n",
      "True\n",
      "True\n"
     ]
    }
   ],
   "source": [
    "from utils import evaluate_clauses\n",
    "for sample in sampleset.lowest():\n",
    "    print(evaluate_clauses(sample, clauses))"
   ]
  },
  {
   "cell_type": "code",
   "execution_count": 129,
   "id": "latest-environment",
   "metadata": {},
   "outputs": [
    {
     "data": {
      "text/plain": [
       "0.0"
      ]
     },
     "execution_count": 129,
     "metadata": {},
     "output_type": "execute_result"
    }
   ],
   "source": [
    "sampler = SteepestDescentComposite(FixedEmbeddingComposite(DWaveSampler(solver={\"name\": \"Advantage_system4.1\"}), embedding))\n",
    "sampleset = sampler.sample(bqm, num_reads=100, answer_mode='raw', anneal_offsets=qubit_offsets, chain_strength=1.5, auto_scale=True)\n",
    "sampleset.first.energy"
   ]
  },
  {
   "cell_type": "code",
   "execution_count": 131,
   "id": "special-supervision",
   "metadata": {},
   "outputs": [
    {
     "data": {
      "text/plain": [
       "2"
      ]
     },
     "execution_count": 131,
     "metadata": {},
     "output_type": "execute_result"
    }
   ],
   "source": [
    "len(sampleset.lowest())"
   ]
  },
  {
   "cell_type": "code",
   "execution_count": 141,
   "id": "human-movement",
   "metadata": {},
   "outputs": [
    {
     "data": {
      "text/plain": [
       "678"
      ]
     },
     "execution_count": 141,
     "metadata": {},
     "output_type": "execute_result"
    }
   ],
   "source": [
    "len(get_qubits_used(embedding))"
   ]
  },
  {
   "cell_type": "code",
   "execution_count": 143,
   "id": "scenic-arrest",
   "metadata": {},
   "outputs": [
    {
     "data": {
      "text/plain": [
       "200"
      ]
     },
     "execution_count": 143,
     "metadata": {},
     "output_type": "execute_result"
    }
   ],
   "source": [
    "len(bqm.variables)"
   ]
  },
  {
   "cell_type": "code",
   "execution_count": null,
   "id": "tight-compound",
   "metadata": {},
   "outputs": [],
   "source": []
  }
 ],
 "metadata": {
  "kernelspec": {
   "display_name": "Python 3",
   "language": "python",
   "name": "python3"
  },
  "language_info": {
   "codemirror_mode": {
    "name": "ipython",
    "version": 3
   },
   "file_extension": ".py",
   "mimetype": "text/x-python",
   "name": "python",
   "nbconvert_exporter": "python",
   "pygments_lexer": "ipython3",
   "version": "3.9.9"
  }
 },
 "nbformat": 4,
 "nbformat_minor": 5
}
