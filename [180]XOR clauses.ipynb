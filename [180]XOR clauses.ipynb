{
 "cells": [
  {
   "cell_type": "code",
   "execution_count": 1,
   "id": "false-baghdad",
   "metadata": {},
   "outputs": [],
   "source": [
    "from utils import *"
   ]
  },
  {
   "cell_type": "code",
   "execution_count": 2,
   "id": "promotional-delta",
   "metadata": {},
   "outputs": [],
   "source": [
    "num_variables, num_clauses, variables, clauses = load_cnf(f\"./sat/sgen1-sat-180-100.cnf\")"
   ]
  },
  {
   "cell_type": "code",
   "execution_count": 3,
   "id": "fixed-purchase",
   "metadata": {},
   "outputs": [
    {
     "data": {
      "text/plain": [
       "180"
      ]
     },
     "execution_count": 3,
     "metadata": {},
     "output_type": "execute_result"
    }
   ],
   "source": [
    "num_variables"
   ]
  },
  {
   "cell_type": "code",
   "execution_count": 4,
   "id": "twelve-destiny",
   "metadata": {},
   "outputs": [],
   "source": [
    "cnf_result = \"-1 -2 3 -4 -5 6 -7 -8 -9 -10 -11 12 -13 -14 -15 -16 -17 18 -19 -20 -21 -22 23 -24 -25 -26 27 -28 -29 -30 -31 32 -33 -34 -35 36 -37 -38 -39 -40 41 -42 -43 -44 -45 -46 -47 -48 49 -50 51 -52 -53 -54 -55 -56 -57 -58 59 -60 61 -62 -63 -64 -65 -66 -67 68 -69 -70 71 -72 -73 -74 -75 -76 -77 78 -79 -80 -81 -82 -83 84 -85 -86 87 -88 -89 -90 -91 -92 -93 94 -95 -96 -97 -98 99 -100 -101 -102 -103 104 -105 -106 107 -108 -109 -110 -111 -112 113 -114 -115 116 -117 -118 -119 -120 -121 -122 -123 124 -125 -126 -127 128 -129 -130 -131 -132 133 -134 -135 136 -137 -138 -139 -140 -141 -142 -143 144 -145 -146 -147 -148 149 -150 -151 152 -153 -154 -155 -156 -157 -158 159 -160 -161 162 -163 -164 -165 -166 167 -168 -169 -170 -171 -172 173 -174 -175 -176 177 -178 -179 -180 0\".split(\" \")\n",
    "answer = dict()\n",
    "for x in cnf_result[:-1]:\n",
    "    int_x = int(x)\n",
    "    answer[abs(int_x)] = int(int_x > 0)\n",
    "#evaluate_clauses(answer, clauses)"
   ]
  },
  {
   "cell_type": "code",
   "execution_count": 5,
   "id": "ambient-northwest",
   "metadata": {},
   "outputs": [],
   "source": [
    "long_clauses = get_long_clauses(5, clauses)"
   ]
  },
  {
   "cell_type": "code",
   "execution_count": 6,
   "id": "endangered-trash",
   "metadata": {},
   "outputs": [
    {
     "data": {
      "text/plain": [
       "180"
      ]
     },
     "execution_count": 6,
     "metadata": {},
     "output_type": "execute_result"
    }
   ],
   "source": [
    "new_clauses,new_count, mapping = xor_clauses(long_clauses, num_variables)\n",
    "new_count"
   ]
  },
  {
   "cell_type": "code",
   "execution_count": 7,
   "id": "veterinary-yellow",
   "metadata": {},
   "outputs": [],
   "source": [
    "clauses.extend(new_clauses)"
   ]
  },
  {
   "cell_type": "code",
   "execution_count": 8,
   "id": "simplified-purple",
   "metadata": {},
   "outputs": [
    {
     "data": {
      "text/plain": [
       "True"
      ]
     },
     "execution_count": 8,
     "metadata": {},
     "output_type": "execute_result"
    }
   ],
   "source": [
    "evaluate_clauses(answer, clauses)"
   ]
  },
  {
   "cell_type": "code",
   "execution_count": 9,
   "id": "virgin-customs",
   "metadata": {},
   "outputs": [],
   "source": [
    "dump_clauses_to_cnf_file(\"./xor_sat_180.cnf\", clauses, new_count)"
   ]
  },
  {
   "cell_type": "code",
   "execution_count": 10,
   "id": "martial-kentucky",
   "metadata": {},
   "outputs": [
    {
     "data": {
      "text/plain": [
       "True"
      ]
     },
     "execution_count": 10,
     "metadata": {},
     "output_type": "execute_result"
    }
   ],
   "source": [
    "cnf_result2 = \"-1 -2 3 -4 -5 6 -7 -8 -9 -10 -11 12 -13 -14 -15 -16 -17 18 -19 -20 -21 -22 23 -24 -25 -26 27 -28 -29 -30 -31 32 -33 -34 -35 36 -37 -38 -39 -40 41 -42 -43 -44 -45 -46 -47 -48 49 -50 51 -52 -53 -54 -55 -56 -57 -58 59 -60 61 -62 -63 -64 -65 -66 -67 68 -69 -70 71 -72 -73 -74 -75 -76 -77 78 -79 -80 -81 -82 -83 84 -85 -86 87 -88 -89 -90 -91 -92 -93 94 -95 -96 -97 -98 99 -100 -101 -102 -103 104 -105 -106 107 -108 -109 -110 -111 -112 113 -114 -115 116 -117 -118 -119 -120 -121 -122 -123 124 -125 -126 -127 128 -129 -130 -131 -132 133 -134 -135 136 -137 -138 -139 -140 -141 -142 -143 144 -145 -146 -147 -148 149 -150 -151 152 -153 -154 -155 -156 -157 -158 159 -160 -161 162 -163 -164 -165 -166 167 -168 -169 -170 -171 -172 173 -174 -175 -176 177 -178 -179 -180 0\".split(\" \")\n",
    "answer2 = dict()\n",
    "for x in cnf_result2[:-1]:\n",
    "    int_x = int(x)\n",
    "    answer2[abs(int_x)] = int(int_x > 0)\n",
    "evaluate_clauses(answer2, clauses)"
   ]
  },
  {
   "cell_type": "code",
   "execution_count": 11,
   "id": "gorgeous-latvia",
   "metadata": {},
   "outputs": [],
   "source": [
    "for (key, value) in answer.items():\n",
    "    if value != answer2[key]:\n",
    "        print(key) "
   ]
  },
  {
   "cell_type": "code",
   "execution_count": null,
   "id": "concerned-northwest",
   "metadata": {},
   "outputs": [],
   "source": []
  }
 ],
 "metadata": {
  "kernelspec": {
   "display_name": "Python 3",
   "language": "python",
   "name": "python3"
  },
  "language_info": {
   "codemirror_mode": {
    "name": "ipython",
    "version": 3
   },
   "file_extension": ".py",
   "mimetype": "text/x-python",
   "name": "python",
   "nbconvert_exporter": "python",
   "pygments_lexer": "ipython3",
   "version": "3.9.12"
  }
 },
 "nbformat": 4,
 "nbformat_minor": 5
}
