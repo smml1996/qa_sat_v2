{
 "cells": [
  {
   "cell_type": "code",
   "execution_count": 2,
   "id": "undefined-orchestra",
   "metadata": {},
   "outputs": [],
   "source": [
    "from utils import load_cnf, cnf_to_bqm\n",
    "from embedding_utils import *\n",
    "import seaborn as sns\n",
    "from redundancy import *\n",
    "from utils import *"
   ]
  },
  {
   "cell_type": "code",
   "execution_count": 3,
   "id": "olive-mention",
   "metadata": {},
   "outputs": [],
   "source": [
    "def get_distance(sample1, sample2):\n",
    "    distance = 0\n",
    "    for (key, value) in sample1.items():\n",
    "        if value != sample2[key]:\n",
    "            distance+=1\n",
    "    return distance"
   ]
  },
  {
   "cell_type": "code",
   "execution_count": 4,
   "id": "steady-change",
   "metadata": {},
   "outputs": [],
   "source": [
    "folder = 'sat'\n",
    "_variables = 180\n",
    "path = f\"./{folder}/sgen1-{folder}-{_variables}-100.cnf\""
   ]
  },
  {
   "cell_type": "code",
   "execution_count": 5,
   "id": "rapid-switzerland",
   "metadata": {},
   "outputs": [],
   "source": [
    "num_variables, num_clauses, variables, clauses = load_cnf(path)\n",
    "bqm, or_result_vars, clauses_qubits, temp = cnf_to_bqm(variables, clauses)"
   ]
  },
  {
   "cell_type": "code",
   "execution_count": 6,
   "id": "streaming-submission",
   "metadata": {},
   "outputs": [
    {
     "data": {
      "text/plain": [
       "0.0"
      ]
     },
     "execution_count": 6,
     "metadata": {},
     "output_type": "execute_result"
    }
   ],
   "source": [
    "cnf_result = \"-1 -2 3 -4 -5 6 -7 -8 -9 -10 -11 12 -13 -14 -15 -16 -17 18 -19 -20 -21 -22 23 -24 -25 -26 27 -28 -29 -30 -31 32 -33 -34 -35 36 -37 -38 -39 -40 41 -42 -43 -44 -45 -46 -47 -48 49 -50 51 -52 -53 -54 -55 -56 -57 -58 59 -60 61 -62 -63 -64 -65 -66 -67 68 -69 -70 71 -72 -73 -74 -75 -76 -77 78 -79 -80 -81 -82 -83 84 -85 -86 87 -88 -89 -90 -91 -92 -93 94 -95 -96 -97 -98 99 -100 -101 -102 -103 104 -105 -106 107 -108 -109 -110 -111 -112 113 -114 -115 116 -117 -118 -119 -120 -121 -122 -123 124 -125 -126 -127 128 -129 -130 -131 -132 133 -134 -135 136 -137 -138 -139 -140 -141 -142 -143 144 -145 -146 -147 -148 149 -150 -151 152 -153 -154 -155 -156 -157 -158 159 -160 -161 162 -163 -164 -165 -166 167 -168 -169 -170 -171 -172 173 -174 -175 -176 177 -178 -179 -180 0\".split(\" \")\n",
    "answer = dict()\n",
    "for x in cnf_result[:-1]:\n",
    "    int_x = int(x)\n",
    "    answer[abs(int_x)] = int(int_x > 0)\n",
    "evaluate_cnf_formula(answer, or_result_vars, bqm)"
   ]
  },
  {
   "cell_type": "code",
   "execution_count": 7,
   "id": "english-motivation",
   "metadata": {},
   "outputs": [],
   "source": [
    "for clause in clauses:\n",
    "    line = \"\"\n",
    "    true_bits = 0\n",
    "    for var in clause:\n",
    "        line += f\" {answer[abs(var)]}\"\n",
    "        if answer[abs(var)] == 1:\n",
    "            true_bits +=1\n",
    "    if len(clause) == 5:\n",
    "        assert(true_bits == 1)"
   ]
  },
  {
   "cell_type": "code",
   "execution_count": 8,
   "id": "fancy-spectrum",
   "metadata": {},
   "outputs": [
    {
     "data": {
      "text/plain": [
       "[]"
      ]
     },
     "execution_count": 8,
     "metadata": {},
     "output_type": "execute_result"
    }
   ],
   "source": [
    "get_false_clauses(answer, clauses)"
   ]
  },
  {
   "cell_type": "code",
   "execution_count": 9,
   "id": "massive-bikini",
   "metadata": {},
   "outputs": [
    {
     "data": {
      "text/plain": [
       "180"
      ]
     },
     "execution_count": 9,
     "metadata": {},
     "output_type": "execute_result"
    }
   ],
   "source": [
    "len(bqm.variables)"
   ]
  },
  {
   "cell_type": "code",
   "execution_count": 10,
   "id": "matched-photography",
   "metadata": {},
   "outputs": [
    {
     "name": "stdout",
     "output_type": "stream",
     "text": [
      "1584\n"
     ]
    },
    {
     "data": {
      "text/plain": [
       "<AxesSubplot:ylabel='Count'>"
      ]
     },
     "execution_count": 10,
     "metadata": {},
     "output_type": "execute_result"
    },
    {
     "data": {
      "image/png": "[encoded data removed]",
      "text/plain": [
       "<Figure size 432x288 with 1 Axes>"
      ]
     },
     "metadata": {
      "needs_background": "light"
     },
     "output_type": "display_data"
    }
   ],
   "source": [
    "embedding = get_embedding(bqm, 109)\n",
    "print(count_qubits_used(embedding))\n",
    "sns.histplot(get_chain_lengths(bqm, embedding)[0])"
   ]
  },
  {
   "cell_type": "code",
   "execution_count": 2,
   "id": "after-reducing",
   "metadata": {},
   "outputs": [
    {
     "ename": "NameError",
     "evalue": "name 'get_embedding' is not defined",
     "output_type": "error",
     "traceback": [
      "\u001b[0;31m---------------------------------------------------------------------------\u001b[0m",
      "\u001b[0;31mNameError\u001b[0m                                 Traceback (most recent call last)",
      "\u001b[0;32m<ipython-input-2-bca19f2e062d>\u001b[0m in \u001b[0;36m<module>\u001b[0;34m\u001b[0m\n\u001b[1;32m      1\u001b[0m \u001b[0;32mfor\u001b[0m \u001b[0mi\u001b[0m \u001b[0;32min\u001b[0m \u001b[0mrange\u001b[0m\u001b[0;34m(\u001b[0m\u001b[0;36m10\u001b[0m\u001b[0;34m,\u001b[0m \u001b[0;36m1000\u001b[0m\u001b[0;34m)\u001b[0m\u001b[0;34m:\u001b[0m\u001b[0;34m\u001b[0m\u001b[0;34m\u001b[0m\u001b[0m\n\u001b[0;32m----> 2\u001b[0;31m     \u001b[0mtemp_embedding\u001b[0m \u001b[0;34m=\u001b[0m \u001b[0mget_embedding\u001b[0m\u001b[0;34m(\u001b[0m\u001b[0mbqm\u001b[0m\u001b[0;34m,\u001b[0m \u001b[0mi\u001b[0m\u001b[0;34m)\u001b[0m\u001b[0;34m\u001b[0m\u001b[0;34m\u001b[0m\u001b[0m\n\u001b[0m\u001b[1;32m      3\u001b[0m     \u001b[0mprint\u001b[0m\u001b[0;34m(\u001b[0m\u001b[0mi\u001b[0m\u001b[0;34m,\u001b[0m\u001b[0mcount_qubits_used\u001b[0m\u001b[0;34m(\u001b[0m\u001b[0mtemp_embedding\u001b[0m\u001b[0;34m)\u001b[0m\u001b[0;34m)\u001b[0m\u001b[0;34m\u001b[0m\u001b[0;34m\u001b[0m\u001b[0m\n",
      "\u001b[0;31mNameError\u001b[0m: name 'get_embedding' is not defined"
     ]
    }
   ],
   "source": [
    "for i in range(10, 1000):\n",
    "    temp_embedding = get_embedding(bqm, i)\n",
    "    print(i,count_qubits_used(temp_embedding))"
   ]
  },
  {
   "cell_type": "code",
   "execution_count": 1,
   "id": "beneficial-shoulder",
   "metadata": {},
   "outputs": [
    {
     "ename": "ImportError",
     "evalue": "cannot import name 'find_clique_embedding' from 'minorminer' (/usr/local/lib/python3.9/site-packages/minorminer/__init__.py)",
     "output_type": "error",
     "traceback": [
      "\u001b[0;31m---------------------------------------------------------------------------\u001b[0m",
      "\u001b[0;31mImportError\u001b[0m                               Traceback (most recent call last)",
      "\u001b[0;32m<ipython-input-1-a918c8cae27a>\u001b[0m in \u001b[0;36m<module>\u001b[0;34m\u001b[0m\n\u001b[0;32m----> 1\u001b[0;31m \u001b[0;32mfrom\u001b[0m \u001b[0mminorminer\u001b[0m \u001b[0;32mimport\u001b[0m \u001b[0mfind_clique_embedding\u001b[0m\u001b[0;34m\u001b[0m\u001b[0;34m\u001b[0m\u001b[0m\n\u001b[0m\u001b[1;32m      2\u001b[0m \u001b[0mc_embedding\u001b[0m \u001b[0;34m=\u001b[0m \u001b[0mfind_clique_embedding\u001b[0m\u001b[0;34m(\u001b[0m\u001b[0mbqm\u001b[0m\u001b[0;34m.\u001b[0m\u001b[0mquadratic\u001b[0m\u001b[0;34m.\u001b[0m\u001b[0mkeys\u001b[0m\u001b[0;34m(\u001b[0m\u001b[0;34m)\u001b[0m\u001b[0;34m,\u001b[0m \u001b[0mqpu_pegasus\u001b[0m\u001b[0;34m.\u001b[0m\u001b[0medgelist\u001b[0m\u001b[0;34m(\u001b[0m\u001b[0;34m)\u001b[0m\u001b[0;34m)\u001b[0m\u001b[0;34m\u001b[0m\u001b[0;34m\u001b[0m\u001b[0m\n",
      "\u001b[0;31mImportError\u001b[0m: cannot import name 'find_clique_embedding' from 'minorminer' (/usr/local/lib/python3.9/site-packages/minorminer/__init__.py)"
     ]
    }
   ],
   "source": [
    "from minorminer import find_clique_embedding\n",
    "c_embedding = find_clique_embedding(bqm.quadratic.keys(), qpu_pegasus.edgelist())"
   ]
  },
  {
   "cell_type": "markdown",
   "id": "desperate-regulation",
   "metadata": {},
   "source": [
    "----------------"
   ]
  },
  {
   "cell_type": "code",
   "execution_count": 15,
   "id": "modular-chain",
   "metadata": {},
   "outputs": [
    {
     "name": "stdout",
     "output_type": "stream",
     "text": [
      "4.0\n"
     ]
    },
    {
     "data": {
      "text/plain": [
       "[[-102, -104], [-176, -179]]"
      ]
     },
     "execution_count": 15,
     "metadata": {},
     "output_type": "execute_result"
    }
   ],
   "source": [
    "import neal\n",
    "\n",
    "simulated_sampler = neal.SimulatedAnnealingSampler()\n",
    "sampleset = simulated_sampler.sample(bqm,num_sweeps=10000000)\n",
    "print(sampleset.first.energy)\n",
    "get_false_clauses(sampleset.first.sample, clauses)"
   ]
  },
  {
   "cell_type": "code",
   "execution_count": 17,
   "id": "alleged-nevada",
   "metadata": {},
   "outputs": [
    {
     "data": {
      "text/plain": [
       "(-216.0, {})"
      ]
     },
     "execution_count": 17,
     "metadata": {},
     "output_type": "execute_result"
    }
   ],
   "source": [
    "from dwave.preprocessing.lower_bounds import roof_duality\n",
    "roof_duality(bqm)"
   ]
  },
  {
   "cell_type": "code",
   "execution_count": 39,
   "id": "existing-romance",
   "metadata": {},
   "outputs": [],
   "source": [
    "sampler =  get_greedy_quantum_sampler(embedding)"
   ]
  },
  {
   "cell_type": "code",
   "execution_count": 37,
   "id": "international-facial",
   "metadata": {},
   "outputs": [],
   "source": [
    "qubit_offsets = get_0_qubits_offsets()\n",
    "qpu_offsets = get_qubit_offset_ranges()\n",
    "advance_annealing_of_unused(embedding, qubit_offsets)"
   ]
  },
  {
   "cell_type": "code",
   "execution_count": 48,
   "id": "dutch-valley",
   "metadata": {},
   "outputs": [],
   "source": [
    "for (logic_var, chain) in embedding.items():\n",
    "    for c in chain:\n",
    "        min_offset = get_min_offset(qpu_offsets, c)\n",
    "        if logic_var <= num_variables:\n",
    "            qubit_offsets[c] = min_offset/2.5\n",
    "#         else:\n",
    "#             divisor = 14-len(chain)+1\n",
    "#             qubit_offsets[c] = min_offset/divisor"
   ]
  },
  {
   "cell_type": "markdown",
   "id": "accredited-minneapolis",
   "metadata": {},
   "source": [
    "------"
   ]
  },
  {
   "cell_type": "code",
   "execution_count": 55,
   "id": "julian-fraction",
   "metadata": {},
   "outputs": [
    {
     "name": "stdout",
     "output_type": "stream",
     "text": [
      "26.0\n",
      "33.8\n"
     ]
    }
   ],
   "source": [
    "sampleset_h1 = sampler.sample(bqm, num_reads=1000,answer_mode='raw', anneal_offsets=qubit_offsets, chain_strength=1.5, auto_scale=True)\n",
    "print(sampleset_h1.first.energy)\n",
    "print(get_avg_energy(sampleset_h1))"
   ]
  },
  {
   "cell_type": "code",
   "execution_count": 56,
   "id": "cellular-envelope",
   "metadata": {},
   "outputs": [
    {
     "data": {
      "text/plain": [
       "[[-6, -7],\n",
       " [-31, -32],\n",
       " [-36, -37],\n",
       " [-61, -62],\n",
       " [-87, -89],\n",
       " [-106, -107],\n",
       " [-134, -135],\n",
       " [160, 131, 68, 122, 64],\n",
       " [33, 110, 133, 75, 46],\n",
       " [138, 90, 3, 11, 111],\n",
       " [65, 10, 23, 95, 154],\n",
       " [48, 5, 91, 104, 148]]"
      ]
     },
     "execution_count": 56,
     "metadata": {},
     "output_type": "execute_result"
    }
   ],
   "source": [
    "get_false_clauses(sampleset_h1.first.sample, clauses)"
   ]
  },
  {
   "cell_type": "code",
   "execution_count": 64,
   "id": "atlantic-barcelona",
   "metadata": {},
   "outputs": [
    {
     "name": "stdout",
     "output_type": "stream",
     "text": [
      "24.0\n",
      "34.91\n"
     ]
    }
   ],
   "source": [
    "sampleset_offsets = sampler.sample(bqm, num_reads=1000, \n",
    "                                   anneal_schedule=[[0.0,1.0],[2.5, 0.5], [27.5,0.5],[30.0,1.0]],\n",
    "                                   answer_mode='raw', \n",
    "                                   anneal_offsets=qubit_offsets, \n",
    "                                   chain_strength=1.25, \n",
    "                                   auto_scale=True, initial_state=sampleset.first.sample, \n",
    "                                   reinitialize_state=True)\n",
    "print(sampleset_offsets.first.energy)\n",
    "print(get_avg_energy(sampleset_offsets))"
   ]
  },
  {
   "cell_type": "code",
   "execution_count": null,
   "id": "eight-schema",
   "metadata": {},
   "outputs": [],
   "source": []
  }
 ],
 "metadata": {
  "kernelspec": {
   "display_name": "Python 3",
   "language": "python",
   "name": "python3"
  },
  "language_info": {
   "codemirror_mode": {
    "name": "ipython",
    "version": 3
   },
   "file_extension": ".py",
   "mimetype": "text/x-python",
   "name": "python",
   "nbconvert_exporter": "python",
   "pygments_lexer": "ipython3",
   "version": "3.9.9"
  }
 },
 "nbformat": 4,
 "nbformat_minor": 5
}
