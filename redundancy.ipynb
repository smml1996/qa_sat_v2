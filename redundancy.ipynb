{
 "cells": [
  {
   "cell_type": "code",
   "execution_count": 1,
   "id": "accredited-algeria",
   "metadata": {},
   "outputs": [],
   "source": [
    "from utils import load_cnf, cnf_to_bqm, get_ancilla_index"
   ]
  },
  {
   "cell_type": "code",
   "execution_count": 2,
   "id": "alpine-professor",
   "metadata": {},
   "outputs": [],
   "source": [
    "def load_file(folder = 'sat', _variables=140):\n",
    "    path = f\"./{folder}/sgen1-{folder}-{_variables}-100.cnf\"\n",
    "    num_variables, num_clauses, variables, clauses = load_cnf(path)\n",
    "    return num_variables, num_clauses, variables, clauses"
   ]
  },
  {
   "cell_type": "code",
   "execution_count": 6,
   "id": "meaningful-thumbnail",
   "metadata": {},
   "outputs": [],
   "source": [
    "import random\n",
    "def get_key_with_value(d, val):\n",
    "    keys = []\n",
    "    for (key, _) in d.items():\n",
    "        if d[key] == val:\n",
    "            keys.append(key)\n",
    "    if len(keys) == 0:\n",
    "        return -1\n",
    "    else:\n",
    "        return random.choice(keys)\n",
    "\n",
    "def mirror_variable(variables, clauses) -> (int, int):\n",
    "    # find variables that repeats the most\n",
    "    counts = dict()\n",
    "    for clause in clauses:\n",
    "        for var in clause:\n",
    "            abs_var = abs(var)\n",
    "            if abs_var not in counts:\n",
    "                counts[abs_var] = 0\n",
    "            counts[abs_var] += 1\n",
    "    \n",
    "    max_count = max(counts.values())\n",
    "    key = get_key_with_value(counts, max_count)\n",
    "    assert(key != -1)\n",
    "    assert(counts[key] == max_count)\n",
    "    new_variable = len(variables) + 1 \n",
    "    assert(new_variable not in variables)\n",
    "    variables.add(new_variable)\n",
    "    replacements = max_count//2\n",
    "    if replacements == 0:\n",
    "        return key, new_variable\n",
    "    for clause in clauses:\n",
    "        for i in range(len(clause)):\n",
    "            if abs(clause[i]) == key:\n",
    "                if clause[i] < 0:\n",
    "                    clause[i] = -new_variable\n",
    "                else:\n",
    "                    clause[i] = new_variable\n",
    "                replacements -= 1\n",
    "                if replacements == 0:\n",
    "                    return key, new_variable\n",
    "    return -1, -1"
   ]
  },
  {
   "cell_type": "code",
   "execution_count": 7,
   "id": "round-relay",
   "metadata": {},
   "outputs": [],
   "source": [
    "num_variables, num_clauses, variables, clauses = load_file()"
   ]
  },
  {
   "cell_type": "code",
   "execution_count": 11,
   "id": "living-mandate",
   "metadata": {},
   "outputs": [],
   "source": [
    "random.seed(1)\n",
    "num_variables_to_mirror = 1\n",
    "variables_to_mirror = []\n",
    "for i in range(num_variables_to_mirror):\n",
    "    variables_to_mirror.append(mirror_variable(variables, clauses))"
   ]
  },
  {
   "cell_type": "code",
   "execution_count": 12,
   "id": "sudden-partnership",
   "metadata": {},
   "outputs": [],
   "source": [
    "bqm, or_result_vars, clauses_qubits = cnf_to_bqm(variables, clauses)"
   ]
  },
  {
   "cell_type": "code",
   "execution_count": 13,
   "id": "explicit-horizon",
   "metadata": {},
   "outputs": [
    {
     "data": {
      "text/plain": [
       "479"
      ]
     },
     "execution_count": 13,
     "metadata": {},
     "output_type": "execute_result"
    }
   ],
   "source": [
    "len(bqm.variables)"
   ]
  },
  {
   "cell_type": "code",
   "execution_count": 14,
   "id": "american-valentine",
   "metadata": {},
   "outputs": [],
   "source": [
    "def update_bqm_mirror_variable(original, mirror):\n",
    "    global bqm\n",
    "    bqm.add_variable(original, 2)\n",
    "    bqm.add_variable(mirror, 2)\n",
    "    bqm.add_interaction(original, mirror, -4)"
   ]
  },
  {
   "cell_type": "code",
   "execution_count": 8,
   "id": "aging-fruit",
   "metadata": {},
   "outputs": [],
   "source": [
    "for vtm in variables_to_mirror:\n",
    "    update_bqm_mirrow_variable(vtm[0], vtm[1])"
   ]
  },
  {
   "cell_type": "code",
   "execution_count": 15,
   "id": "developed-locator",
   "metadata": {},
   "outputs": [],
   "source": [
    "from minorminer import find_embedding\n",
    "from dwave.system import DWaveSampler, FixedEmbeddingComposite\n",
    "qpu_pegasus = DWaveSampler(solver={'topology__type': 'pegasus'})"
   ]
  },
  {
   "cell_type": "code",
   "execution_count": 16,
   "id": "capital-floating",
   "metadata": {},
   "outputs": [
    {
     "data": {
      "text/plain": [
       "<AxesSubplot:ylabel='Count'>"
      ]
     },
     "execution_count": 16,
     "metadata": {},
     "output_type": "execute_result"
    },
    {
     "data": {
      "image/png": "[encoded data removed]",
      "text/plain": [
       "<Figure size 432x288 with 1 Axes>"
      ]
     },
     "metadata": {
      "needs_background": "light"
     },
     "output_type": "display_data"
    }
   ],
   "source": [
    "embedding = find_embedding(bqm.quadratic.keys(), qpu_pegasus.edgelist, random_seed=1)\n",
    "\n",
    "def get_chain_lengths(_embedding):\n",
    "    lengths = []\n",
    "    biases = []\n",
    "    for (key, value) in _embedding.items():\n",
    "        lengths.append(len(value))\n",
    "        biases.append(bqm.linear[key])\n",
    "    return lengths, biases\n",
    "\n",
    "import seaborn as sns\n",
    "sns.histplot(get_chain_lengths(embedding)[0])"
   ]
  },
  {
   "cell_type": "code",
   "execution_count": 17,
   "id": "photographic-florence",
   "metadata": {},
   "outputs": [],
   "source": [
    "def count_qubits_used(embedding):\n",
    "    physical_vars = set()\n",
    "    for (logic_var, chain) in embedding.items():\n",
    "        for pv in chain:\n",
    "            physical_vars.add(pv)\n",
    "        \n",
    "    return len(physical_vars)\n",
    "#count_qubits_used(embedding)"
   ]
  },
  {
   "cell_type": "markdown",
   "id": "anonymous-subdivision",
   "metadata": {},
   "source": [
    "-----------------------"
   ]
  },
  {
   "cell_type": "code",
   "execution_count": null,
   "id": "hydraulic-password",
   "metadata": {},
   "outputs": [
    {
     "name": "stdout",
     "output_type": "stream",
     "text": [
      "0 1413\n",
      "1 1467\n",
      "2 1461\n",
      "3"
     ]
    }
   ],
   "source": [
    "num_variables_to_mirror = 1\n",
    "mirrored_variables = []\n",
    "total_used_qubits = []\n",
    "for num_variables_to_mirror in range(141):\n",
    "    \n",
    "    num_variables, num_clauses, variables, clauses = load_file()\n",
    "    variables_to_mirror = []\n",
    "    for i in range(num_variables_to_mirror):\n",
    "        variables_to_mirror.append(mirror_variable(variables, clauses))\n",
    "    bqm, or_result_vars, clauses_qubits = cnf_to_bqm(variables, clauses)\n",
    "    assert(len(bqm.variables) == 308 + num_variables_to_mirror)\n",
    "    for vtm in variables_to_mirror:\n",
    "        update_bqm_mirror_variable(vtm[0], vtm[1])\n",
    "    embedding = find_embedding(bqm.quadratic.keys(), qpu_pegasus.edgelist, random_seed=1)\n",
    "    mirrored_variables.append(num_variables_to_mirror)\n",
    "    total_used_qubits.append(count_qubits_used(embedding))\n",
    "    print(num_variables_to_mirror, count_qubits_used(embedding))"
   ]
  },
  {
   "cell_type": "code",
   "execution_count": null,
   "id": "greenhouse-school",
   "metadata": {},
   "outputs": [],
   "source": [
    "\n"
   ]
  }
 ],
 "metadata": {
  "kernelspec": {
   "display_name": "Python 3",
   "language": "python",
   "name": "python3"
  },
  "language_info": {
   "codemirror_mode": {
    "name": "ipython",
    "version": 3
   },
   "file_extension": ".py",
   "mimetype": "text/x-python",
   "name": "python",
   "nbconvert_exporter": "python",
   "pygments_lexer": "ipython3",
   "version": "3.9.9"
  }
 },
 "nbformat": 4,
 "nbformat_minor": 5
}
