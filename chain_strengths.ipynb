{
 "cells": [
  {
   "cell_type": "code",
   "execution_count": 1,
   "id": "instructional-peripheral",
   "metadata": {},
   "outputs": [],
   "source": [
    "from utils import load_cnf, cnf_to_bqm\n",
    "from embedding_utils import *\n",
    "import seaborn as sns\n",
    "from redundancy import *\n",
    "from utils import *\n",
    "from dwave.embedding.chain_strength import scaled\n",
    "import pandas as pd\n",
    "from brute_force import get_bqm_random_sat\n",
    "import numpy as np\n",
    "import matplotlib.pyplot as plt"
   ]
  },
  {
   "cell_type": "code",
   "execution_count": 2,
   "id": "sweet-richardson",
   "metadata": {},
   "outputs": [],
   "source": [
    "seed = 1\n",
    "qpu = get_qpu()"
   ]
  },
  {
   "cell_type": "code",
   "execution_count": 3,
   "id": "plastic-climb",
   "metadata": {},
   "outputs": [
    {
     "data": {
      "text/html": [
       "<div>\n",
       "<style scoped>\n",
       "    .dataframe tbody tr th:only-of-type {\n",
       "        vertical-align: middle;\n",
       "    }\n",
       "\n",
       "    .dataframe tbody tr th {\n",
       "        vertical-align: top;\n",
       "    }\n",
       "\n",
       "    .dataframe thead th {\n",
       "        text-align: right;\n",
       "    }\n",
       "</style>\n",
       "<table border=\"1\" class=\"dataframe\">\n",
       "  <thead>\n",
       "    <tr style=\"text-align: right;\">\n",
       "      <th></th>\n",
       "      <th>num_variables</th>\n",
       "      <th>num_clauses</th>\n",
       "      <th>var_clause_rel</th>\n",
       "      <th>max_chain_length</th>\n",
       "      <th>num_qubits</th>\n",
       "      <th>variance</th>\n",
       "    </tr>\n",
       "  </thead>\n",
       "  <tbody>\n",
       "    <tr>\n",
       "      <th>0</th>\n",
       "      <td>20</td>\n",
       "      <td>35</td>\n",
       "      <td>0.57</td>\n",
       "      <td>3</td>\n",
       "      <td>88</td>\n",
       "      <td>0.47</td>\n",
       "    </tr>\n",
       "    <tr>\n",
       "      <th>1</th>\n",
       "      <td>20</td>\n",
       "      <td>30</td>\n",
       "      <td>0.67</td>\n",
       "      <td>3</td>\n",
       "      <td>72</td>\n",
       "      <td>0.37</td>\n",
       "    </tr>\n",
       "    <tr>\n",
       "      <th>2</th>\n",
       "      <td>15</td>\n",
       "      <td>45</td>\n",
       "      <td>0.33</td>\n",
       "      <td>4</td>\n",
       "      <td>102</td>\n",
       "      <td>0.99</td>\n",
       "    </tr>\n",
       "    <tr>\n",
       "      <th>3</th>\n",
       "      <td>15</td>\n",
       "      <td>40</td>\n",
       "      <td>0.38</td>\n",
       "      <td>4</td>\n",
       "      <td>90</td>\n",
       "      <td>0.79</td>\n",
       "    </tr>\n",
       "    <tr>\n",
       "      <th>4</th>\n",
       "      <td>15</td>\n",
       "      <td>35</td>\n",
       "      <td>0.43</td>\n",
       "      <td>3</td>\n",
       "      <td>76</td>\n",
       "      <td>0.62</td>\n",
       "    </tr>\n",
       "    <tr>\n",
       "      <th>5</th>\n",
       "      <td>15</td>\n",
       "      <td>30</td>\n",
       "      <td>0.50</td>\n",
       "      <td>3</td>\n",
       "      <td>71</td>\n",
       "      <td>0.48</td>\n",
       "    </tr>\n",
       "    <tr>\n",
       "      <th>6</th>\n",
       "      <td>15</td>\n",
       "      <td>25</td>\n",
       "      <td>0.60</td>\n",
       "      <td>3</td>\n",
       "      <td>54</td>\n",
       "      <td>0.33</td>\n",
       "    </tr>\n",
       "    <tr>\n",
       "      <th>7</th>\n",
       "      <td>15</td>\n",
       "      <td>20</td>\n",
       "      <td>0.75</td>\n",
       "      <td>2</td>\n",
       "      <td>46</td>\n",
       "      <td>0.22</td>\n",
       "    </tr>\n",
       "    <tr>\n",
       "      <th>8</th>\n",
       "      <td>15</td>\n",
       "      <td>15</td>\n",
       "      <td>1.00</td>\n",
       "      <td>2</td>\n",
       "      <td>34</td>\n",
       "      <td>0.12</td>\n",
       "    </tr>\n",
       "    <tr>\n",
       "      <th>9</th>\n",
       "      <td>10</td>\n",
       "      <td>25</td>\n",
       "      <td>0.40</td>\n",
       "      <td>3</td>\n",
       "      <td>48</td>\n",
       "      <td>0.36</td>\n",
       "    </tr>\n",
       "    <tr>\n",
       "      <th>10</th>\n",
       "      <td>10</td>\n",
       "      <td>20</td>\n",
       "      <td>0.50</td>\n",
       "      <td>2</td>\n",
       "      <td>39</td>\n",
       "      <td>0.22</td>\n",
       "    </tr>\n",
       "    <tr>\n",
       "      <th>11</th>\n",
       "      <td>10</td>\n",
       "      <td>15</td>\n",
       "      <td>0.67</td>\n",
       "      <td>2</td>\n",
       "      <td>30</td>\n",
       "      <td>0.17</td>\n",
       "    </tr>\n",
       "    <tr>\n",
       "      <th>12</th>\n",
       "      <td>10</td>\n",
       "      <td>10</td>\n",
       "      <td>1.00</td>\n",
       "      <td>2</td>\n",
       "      <td>21</td>\n",
       "      <td>0.05</td>\n",
       "    </tr>\n",
       "  </tbody>\n",
       "</table>\n",
       "</div>"
      ],
      "text/plain": [
       "    num_variables  num_clauses  var_clause_rel  max_chain_length  num_qubits  \\\n",
       "0              20           35            0.57                 3          88   \n",
       "1              20           30            0.67                 3          72   \n",
       "2              15           45            0.33                 4         102   \n",
       "3              15           40            0.38                 4          90   \n",
       "4              15           35            0.43                 3          76   \n",
       "5              15           30            0.50                 3          71   \n",
       "6              15           25            0.60                 3          54   \n",
       "7              15           20            0.75                 2          46   \n",
       "8              15           15            1.00                 2          34   \n",
       "9              10           25            0.40                 3          48   \n",
       "10             10           20            0.50                 2          39   \n",
       "11             10           15            0.67                 2          30   \n",
       "12             10           10            1.00                 2          21   \n",
       "\n",
       "    variance  \n",
       "0       0.47  \n",
       "1       0.37  \n",
       "2       0.99  \n",
       "3       0.79  \n",
       "4       0.62  \n",
       "5       0.48  \n",
       "6       0.33  \n",
       "7       0.22  \n",
       "8       0.12  \n",
       "9       0.36  \n",
       "10      0.22  \n",
       "11      0.17  \n",
       "12      0.05  "
      ]
     },
     "execution_count": 3,
     "metadata": {},
     "output_type": "execute_result"
    }
   ],
   "source": [
    "df_embeddings = df = pd.read_csv(\"./rnd_best_embeddings.csv\")\n",
    "df_embeddings"
   ]
  },
  {
   "cell_type": "markdown",
   "id": "horizontal-nightlife",
   "metadata": {},
   "source": [
    "# Quantum Sampler"
   ]
  },
  {
   "cell_type": "code",
   "execution_count": 4,
   "id": "chemical-blank",
   "metadata": {},
   "outputs": [],
   "source": [
    "def find_best_chain_strength(bqm, embedding, top_chain_strength, clauses, file_name):\n",
    "    chain_strengths = []\n",
    "    precisions = []\n",
    "    for chain_strength in list(np.arange(1.0, top_chain_strength + 0.25, 0.25)):\n",
    "        chain_strengths.append(chain_strength)\n",
    "        precisions.append(sample_with_sampler(embedding, bqm, 100, chain_strength, clauses))\n",
    "    current_df = pd.DataFrame({\n",
    "     'chain_strength': chain_strengths,\n",
    "     'precision': precisions,\n",
    "     })  \n",
    "    current_df.to_csv(f\"./rnd_cnf_precision/{file_name}.csv\")\n",
    "    return current_df\n",
    "    "
   ]
  },
  {
   "cell_type": "markdown",
   "id": "atmospheric-trace",
   "metadata": {},
   "source": [
    "## 10 variables"
   ]
  },
  {
   "cell_type": "code",
   "execution_count": 7,
   "id": "combined-times",
   "metadata": {},
   "outputs": [
    {
     "name": "stdout",
     "output_type": "stream",
     "text": [
      "6.0 4.0\n",
      "8.0 4.0\n",
      "8.0 4.0\n",
      "16.0 4.0\n"
     ]
    }
   ],
   "source": [
    "for (n_clauses, random_seed) in [(10, 100), (15, 94), (20, 73), (25, 95)]:\n",
    "    bqm, clauses = get_bqm_random_sat(10, n_clauses, seed)\n",
    "    embedding = get_embedding(bqm, qpu, random_seed)\n",
    "    print(scaled(bqm, embedding), max(bqm.quadratic.values()) )"
   ]
  },
  {
   "cell_type": "code",
   "execution_count": 15,
   "id": "ancient-monroe",
   "metadata": {},
   "outputs": [],
   "source": [
    "# bqm, clauses = get_bqm_random_sat(10, 10, seed)\n",
    "# embedding = get_embedding(bqm, qpu, 100)\n",
    "# current_df = find_best_chain_strength(bqm, embedding, 6.0, clauses, \"v10_c10\")"
   ]
  },
  {
   "cell_type": "code",
   "execution_count": 31,
   "id": "outstanding-entry",
   "metadata": {},
   "outputs": [
    {
     "data": {
      "text/plain": [
       "<AxesSubplot:xlabel='chain_strength', ylabel='precision'>"
      ]
     },
     "execution_count": 31,
     "metadata": {},
     "output_type": "execute_result"
    },
    {
     "data": {
      "image/png": "[encoded data removed]",
      "text/plain": [
       "<Figure size 432x288 with 1 Axes>"
      ]
     },
     "metadata": {
      "needs_background": "light"
     },
     "output_type": "display_data"
    }
   ],
   "source": [
    "df = pd.read_csv(\"./rnd_cnf_precision/v10_c10.csv\")\n",
    "plt.axvline(4, 0,1.0,color='r')\n",
    "sns.lineplot(data=df, x=\"chain_strength\", y=\"precision\")"
   ]
  },
  {
   "cell_type": "code",
   "execution_count": 17,
   "id": "equal-durham",
   "metadata": {},
   "outputs": [],
   "source": [
    "# bqm, clauses = get_bqm_random_sat(10, 15, seed)\n",
    "# embedding = get_embedding(bqm, qpu, 94)\n",
    "# current_df = find_best_chain_strength(bqm, embedding, 8.0, clauses, \"v10_c15\")"
   ]
  },
  {
   "cell_type": "code",
   "execution_count": 32,
   "id": "developed-wallet",
   "metadata": {},
   "outputs": [
    {
     "data": {
      "text/plain": [
       "<AxesSubplot:xlabel='chain_strength', ylabel='precision'>"
      ]
     },
     "execution_count": 32,
     "metadata": {},
     "output_type": "execute_result"
    },
    {
     "data": {
      "image/png": "[encoded data removed]",
      "text/plain": [
       "<Figure size 432x288 with 1 Axes>"
      ]
     },
     "metadata": {
      "needs_background": "light"
     },
     "output_type": "display_data"
    }
   ],
   "source": [
    "df = pd.read_csv(\"./rnd_cnf_precision/v10_c15.csv\")\n",
    "plt.axvline(4, 0,1.0,color='r')\n",
    "sns.lineplot(data=df, x=\"chain_strength\", y=\"precision\")"
   ]
  },
  {
   "cell_type": "code",
   "execution_count": 19,
   "id": "neural-residence",
   "metadata": {},
   "outputs": [],
   "source": [
    "# bqm, clauses = get_bqm_random_sat(10, 20, seed)\n",
    "# embedding = get_embedding(bqm, qpu, 73)\n",
    "# current_df = find_best_chain_strength(bqm, embedding, 8.0, clauses, \"v10_c20\")"
   ]
  },
  {
   "cell_type": "code",
   "execution_count": 33,
   "id": "prescription-bennett",
   "metadata": {},
   "outputs": [
    {
     "data": {
      "text/plain": [
       "<AxesSubplot:xlabel='chain_strength', ylabel='precision'>"
      ]
     },
     "execution_count": 33,
     "metadata": {},
     "output_type": "execute_result"
    },
    {
     "data": {
      "image/png": "[encoded data removed]",
      "text/plain": [
       "<Figure size 432x288 with 1 Axes>"
      ]
     },
     "metadata": {
      "needs_background": "light"
     },
     "output_type": "display_data"
    }
   ],
   "source": [
    "df = pd.read_csv(\"./rnd_cnf_precision/v10_c20.csv\")\n",
    "plt.axvline(4, 0,1.0,color='r')\n",
    "sns.lineplot(data=df, x=\"chain_strength\", y=\"precision\")"
   ]
  },
  {
   "cell_type": "code",
   "execution_count": 21,
   "id": "placed-active",
   "metadata": {},
   "outputs": [],
   "source": [
    "# bqm, clauses = get_bqm_random_sat(10, 25, seed)\n",
    "# embedding = get_embedding(bqm, qpu, 95)\n",
    "# current_df = find_best_chain_strength(bqm, embedding, 16.0, clauses, \"v10_c25\")"
   ]
  },
  {
   "cell_type": "code",
   "execution_count": 34,
   "id": "rising-boost",
   "metadata": {},
   "outputs": [
    {
     "data": {
      "text/plain": [
       "<AxesSubplot:xlabel='chain_strength', ylabel='precision'>"
      ]
     },
     "execution_count": 34,
     "metadata": {},
     "output_type": "execute_result"
    },
    {
     "data": {
      "image/png": "[encoded data removed]",
      "text/plain": [
       "<Figure size 432x288 with 1 Axes>"
      ]
     },
     "metadata": {
      "needs_background": "light"
     },
     "output_type": "display_data"
    }
   ],
   "source": [
    "df = pd.read_csv(\"./rnd_cnf_precision/v10_c25.csv\")\n",
    "plt.axvline(4, 0,1.0,color='r')\n",
    "sns.lineplot(data=df, x=\"chain_strength\", y=\"precision\")"
   ]
  },
  {
   "cell_type": "markdown",
   "id": "flexible-trial",
   "metadata": {},
   "source": [
    "## 15 variables"
   ]
  },
  {
   "cell_type": "code",
   "execution_count": 34,
   "id": "constitutional-agriculture",
   "metadata": {},
   "outputs": [
    {
     "name": "stdout",
     "output_type": "stream",
     "text": [
      "15 74 4.0\n",
      "20 88 4.0\n",
      "25 1 4.0\n",
      "30 54 4.0\n",
      "35 63 6.0\n",
      "40 3 6.0\n",
      "45 16 6.0\n"
     ]
    }
   ],
   "source": [
    "for (n_clauses, random_seed) in [(15, 74), (20, 88), (25, 1), (30, 54), (35, 63), (40, 3), (45, 16)]:\n",
    "    bqm, clauses = get_bqm_random_sat(15, n_clauses, seed)\n",
    "    embedding = get_embedding(bqm, qpu, random_seed)\n",
    "#     temp = []\n",
    "#     for val in bqm.quadratic.values():\n",
    "#         temp.append(abs(val))\n",
    "#     print(max(temp))\n",
    "    print(n_clauses,random_seed,max(bqm.quadratic.values()) )"
   ]
  },
  {
   "cell_type": "code",
   "execution_count": 6,
   "id": "complimentary-solomon",
   "metadata": {},
   "outputs": [],
   "source": [
    "# bqm, clauses = get_bqm_random_sat(15, 15, seed)\n",
    "# embedding = get_embedding(bqm, qpu, 74)\n",
    "# current_df = find_best_chain_strength(bqm, embedding, 5.0, clauses, \"v15_c15\")"
   ]
  },
  {
   "cell_type": "code",
   "execution_count": 24,
   "id": "talented-needle",
   "metadata": {},
   "outputs": [
    {
     "data": {
      "text/plain": [
       "<AxesSubplot:xlabel='chain_strength', ylabel='precision'>"
      ]
     },
     "execution_count": 24,
     "metadata": {},
     "output_type": "execute_result"
    },
    {
     "data": {
      "image/png": "[encoded data removed]",
      "text/plain": [
       "<Figure size 432x288 with 1 Axes>"
      ]
     },
     "metadata": {
      "needs_background": "light"
     },
     "output_type": "display_data"
    }
   ],
   "source": [
    "df = pd.read_csv(\"./rnd_cnf_precision/v15_c15.csv\")\n",
    "plt.axvline(4, 0,1.0,color='r')\n",
    "sns.lineplot(data=df, x=\"chain_strength\", y=\"precision\")"
   ]
  },
  {
   "cell_type": "code",
   "execution_count": 12,
   "id": "involved-samoa",
   "metadata": {},
   "outputs": [],
   "source": [
    "# bqm, clauses = get_bqm_random_sat(15, 20, seed)\n",
    "# embedding = get_embedding(bqm, qpu, 88)\n",
    "# current_df = find_best_chain_strength(bqm, embedding, 5.0, clauses, \"v15_c20\")"
   ]
  },
  {
   "cell_type": "code",
   "execution_count": 25,
   "id": "honest-cooper",
   "metadata": {},
   "outputs": [
    {
     "data": {
      "text/plain": [
       "<AxesSubplot:xlabel='chain_strength', ylabel='precision'>"
      ]
     },
     "execution_count": 25,
     "metadata": {},
     "output_type": "execute_result"
    },
    {
     "data": {
      "image/png": "[encoded data removed]",
      "text/plain": [
       "<Figure size 432x288 with 1 Axes>"
      ]
     },
     "metadata": {
      "needs_background": "light"
     },
     "output_type": "display_data"
    }
   ],
   "source": [
    "df = pd.read_csv(\"./rnd_cnf_precision/v15_c20.csv\")\n",
    "plt.axvline(4, 0,1.0,color='r')\n",
    "sns.lineplot(data=df, x=\"chain_strength\", y=\"precision\")"
   ]
  },
  {
   "cell_type": "code",
   "execution_count": 14,
   "id": "fresh-indication",
   "metadata": {},
   "outputs": [],
   "source": [
    "# bqm, clauses = get_bqm_random_sat(15, 25, seed)\n",
    "# embedding = get_embedding(bqm, qpu, 1)\n",
    "# current_df = find_best_chain_strength(bqm, embedding, 5.0, clauses, \"v15_c25\")"
   ]
  },
  {
   "cell_type": "code",
   "execution_count": 26,
   "id": "interracial-calcium",
   "metadata": {},
   "outputs": [
    {
     "data": {
      "text/plain": [
       "<AxesSubplot:xlabel='chain_strength', ylabel='precision'>"
      ]
     },
     "execution_count": 26,
     "metadata": {},
     "output_type": "execute_result"
    },
    {
     "data": {
      "image/png": "[encoded data removed]",
      "text/plain": [
       "<Figure size 432x288 with 1 Axes>"
      ]
     },
     "metadata": {
      "needs_background": "light"
     },
     "output_type": "display_data"
    }
   ],
   "source": [
    "df = pd.read_csv(\"./rnd_cnf_precision/v15_c25.csv\")\n",
    "plt.axvline(4, 0,1.0,color='r')\n",
    "sns.lineplot(data=df, x=\"chain_strength\", y=\"precision\")"
   ]
  },
  {
   "cell_type": "code",
   "execution_count": 17,
   "id": "moderate-bruce",
   "metadata": {},
   "outputs": [],
   "source": [
    "# bqm, clauses = get_bqm_random_sat(15, 30, seed)\n",
    "# embedding = get_embedding(bqm, qpu, 54)\n",
    "# current_df = find_best_chain_strength(bqm, embedding, 5.0, clauses, \"v15_c30\")"
   ]
  },
  {
   "cell_type": "code",
   "execution_count": 27,
   "id": "organized-council",
   "metadata": {},
   "outputs": [
    {
     "data": {
      "text/plain": [
       "<AxesSubplot:xlabel='chain_strength', ylabel='precision'>"
      ]
     },
     "execution_count": 27,
     "metadata": {},
     "output_type": "execute_result"
    },
    {
     "data": {
      "image/png": "[encoded data removed]",
      "text/plain": [
       "<Figure size 432x288 with 1 Axes>"
      ]
     },
     "metadata": {
      "needs_background": "light"
     },
     "output_type": "display_data"
    }
   ],
   "source": [
    "df = pd.read_csv(\"./rnd_cnf_precision/v15_c30.csv\")\n",
    "plt.axvline(4, 0,1.0,color='r')\n",
    "sns.lineplot(data=df, x=\"chain_strength\", y=\"precision\")"
   ]
  },
  {
   "cell_type": "code",
   "execution_count": 19,
   "id": "informative-archive",
   "metadata": {},
   "outputs": [],
   "source": [
    "# bqm, clauses = get_bqm_random_sat(15, 35, seed)\n",
    "# embedding = get_embedding(bqm, qpu, 63)\n",
    "# current_df = find_best_chain_strength(bqm, embedding, 7.0, clauses, \"v15_c35\")"
   ]
  },
  {
   "cell_type": "code",
   "execution_count": 28,
   "id": "authentic-issue",
   "metadata": {},
   "outputs": [
    {
     "data": {
      "text/plain": [
       "<AxesSubplot:xlabel='chain_strength', ylabel='precision'>"
      ]
     },
     "execution_count": 28,
     "metadata": {},
     "output_type": "execute_result"
    },
    {
     "data": {
      "image/png": "[encoded data removed]",
      "text/plain": [
       "<Figure size 432x288 with 1 Axes>"
      ]
     },
     "metadata": {
      "needs_background": "light"
     },
     "output_type": "display_data"
    }
   ],
   "source": [
    "df = pd.read_csv(\"./rnd_cnf_precision/v15_c35.csv\")\n",
    "plt.axvline(6, 0,1.0,color='r')\n",
    "sns.lineplot(data=df, x=\"chain_strength\", y=\"precision\")"
   ]
  },
  {
   "cell_type": "code",
   "execution_count": 21,
   "id": "noted-department",
   "metadata": {},
   "outputs": [],
   "source": [
    "# bqm, clauses = get_bqm_random_sat(15, 40, seed)\n",
    "# embedding = get_embedding(bqm, qpu, 3)\n",
    "# current_df = find_best_chain_strength(bqm, embedding, 7.0, clauses, \"v15_c40\")"
   ]
  },
  {
   "cell_type": "code",
   "execution_count": 29,
   "id": "informational-envelope",
   "metadata": {},
   "outputs": [
    {
     "data": {
      "text/plain": [
       "<AxesSubplot:xlabel='chain_strength', ylabel='precision'>"
      ]
     },
     "execution_count": 29,
     "metadata": {},
     "output_type": "execute_result"
    },
    {
     "data": {
      "image/png": "[encoded data removed]",
      "text/plain": [
       "<Figure size 432x288 with 1 Axes>"
      ]
     },
     "metadata": {
      "needs_background": "light"
     },
     "output_type": "display_data"
    }
   ],
   "source": [
    "df = pd.read_csv(\"./rnd_cnf_precision/v15_c40.csv\")\n",
    "plt.axvline(6, 0,1.0,color='r')\n",
    "sns.lineplot(data=df, x=\"chain_strength\", y=\"precision\")"
   ]
  },
  {
   "cell_type": "code",
   "execution_count": 23,
   "id": "dimensional-contamination",
   "metadata": {},
   "outputs": [],
   "source": [
    "# bqm, clauses = get_bqm_random_sat(15, 45, seed)\n",
    "# embedding = get_embedding(bqm, qpu, 16)\n",
    "# current_df = find_best_chain_strength(bqm, embedding, 7.0, clauses, \"v15_c45\")"
   ]
  },
  {
   "cell_type": "code",
   "execution_count": 30,
   "id": "recorded-cassette",
   "metadata": {},
   "outputs": [
    {
     "data": {
      "text/plain": [
       "<AxesSubplot:xlabel='chain_strength', ylabel='precision'>"
      ]
     },
     "execution_count": 30,
     "metadata": {},
     "output_type": "execute_result"
    },
    {
     "data": {
      "image/png": "[encoded data removed]",
      "text/plain": [
       "<Figure size 432x288 with 1 Axes>"
      ]
     },
     "metadata": {
      "needs_background": "light"
     },
     "output_type": "display_data"
    }
   ],
   "source": [
    "df = pd.read_csv(\"./rnd_cnf_precision/v15_c45.csv\")\n",
    "plt.axvline(6, 0,1.0,color='r')\n",
    "sns.lineplot(data=df, x=\"chain_strength\", y=\"precision\")"
   ]
  },
  {
   "cell_type": "markdown",
   "id": "comic-privacy",
   "metadata": {},
   "source": [
    "## 20 variables"
   ]
  },
  {
   "cell_type": "code",
   "execution_count": 36,
   "id": "unsigned-representation",
   "metadata": {},
   "outputs": [
    {
     "name": "stdout",
     "output_type": "stream",
     "text": [
      "12.0 5.0\n",
      "14.0 5.0\n"
     ]
    }
   ],
   "source": [
    "for (n_clauses, random_seed) in [(30, 55), (35, 27)]:\n",
    "    bqm, clauses = get_bqm_random_sat(20, n_clauses, seed)\n",
    "    embedding = get_embedding(bqm, qpu, random_seed)\n",
    "#     temp = []\n",
    "#     for val in bqm.quadratic.values():\n",
    "#         temp.append(abs(val))\n",
    "#     print(max(temp))\n",
    "    print(scaled(bqm, embedding), max(bqm.quadratic.values()) )"
   ]
  },
  {
   "cell_type": "code",
   "execution_count": 23,
   "id": "alpine-contributor",
   "metadata": {},
   "outputs": [],
   "source": [
    "# bqm, clauses = get_bqm_random_sat(20, 30, seed)\n",
    "# embedding = get_embedding(bqm, qpu, 55)\n",
    "# current_df = find_best_chain_strength(bqm, embedding, 12.0, clauses, \"v20_c30\")"
   ]
  },
  {
   "cell_type": "code",
   "execution_count": 35,
   "id": "likely-scott",
   "metadata": {},
   "outputs": [
    {
     "data": {
      "text/plain": [
       "<AxesSubplot:xlabel='chain_strength', ylabel='precision'>"
      ]
     },
     "execution_count": 35,
     "metadata": {},
     "output_type": "execute_result"
    },
    {
     "data": {
      "image/png": "[encoded data removed]",
      "text/plain": [
       "<Figure size 432x288 with 1 Axes>"
      ]
     },
     "metadata": {
      "needs_background": "light"
     },
     "output_type": "display_data"
    }
   ],
   "source": [
    "df = pd.read_csv(\"./rnd_cnf_precision/v20_c30.csv\")\n",
    "plt.axvline(5, 0,1.0,color='r')\n",
    "sns.lineplot(data=df, x=\"chain_strength\", y=\"precision\")"
   ]
  },
  {
   "cell_type": "code",
   "execution_count": 25,
   "id": "psychological-insulin",
   "metadata": {},
   "outputs": [],
   "source": [
    "# bqm, clauses = get_bqm_random_sat(20, 35, seed)\n",
    "# embedding = get_embedding(bqm, qpu, 27)\n",
    "# current_df = find_best_chain_strength(bqm, embedding, 14.0, clauses, \"v20_c35\")"
   ]
  },
  {
   "cell_type": "code",
   "execution_count": 36,
   "id": "handy-olive",
   "metadata": {},
   "outputs": [
    {
     "data": {
      "text/plain": [
       "<AxesSubplot:xlabel='chain_strength', ylabel='precision'>"
      ]
     },
     "execution_count": 36,
     "metadata": {},
     "output_type": "execute_result"
    },
    {
     "data": {
      "image/png": "[encoded data removed]",
      "text/plain": [
       "<Figure size 432x288 with 1 Axes>"
      ]
     },
     "metadata": {
      "needs_background": "light"
     },
     "output_type": "display_data"
    }
   ],
   "source": [
    "df = pd.read_csv(\"./rnd_cnf_precision/v20_c35.csv\")\n",
    "plt.axvline(5, 0,1.0,color='r')\n",
    "sns.lineplot(data=df, x=\"chain_strength\", y=\"precision\")"
   ]
  },
  {
   "cell_type": "code",
   "execution_count": 39,
   "id": "velvet-poultry",
   "metadata": {},
   "outputs": [
    {
     "data": {
      "text/html": [
       "<div>\n",
       "<style scoped>\n",
       "    .dataframe tbody tr th:only-of-type {\n",
       "        vertical-align: middle;\n",
       "    }\n",
       "\n",
       "    .dataframe tbody tr th {\n",
       "        vertical-align: top;\n",
       "    }\n",
       "\n",
       "    .dataframe thead th {\n",
       "        text-align: right;\n",
       "    }\n",
       "</style>\n",
       "<table border=\"1\" class=\"dataframe\">\n",
       "  <thead>\n",
       "    <tr style=\"text-align: right;\">\n",
       "      <th></th>\n",
       "      <th>chain_strength</th>\n",
       "      <th>precision</th>\n",
       "      <th>vars</th>\n",
       "    </tr>\n",
       "  </thead>\n",
       "  <tbody>\n",
       "    <tr>\n",
       "      <th>0</th>\n",
       "      <td>1.00</td>\n",
       "      <td>0.00</td>\n",
       "      <td>20</td>\n",
       "    </tr>\n",
       "    <tr>\n",
       "      <th>1</th>\n",
       "      <td>1.25</td>\n",
       "      <td>0.00</td>\n",
       "      <td>20</td>\n",
       "    </tr>\n",
       "    <tr>\n",
       "      <th>2</th>\n",
       "      <td>1.50</td>\n",
       "      <td>0.00</td>\n",
       "      <td>20</td>\n",
       "    </tr>\n",
       "    <tr>\n",
       "      <th>3</th>\n",
       "      <td>1.75</td>\n",
       "      <td>0.00</td>\n",
       "      <td>20</td>\n",
       "    </tr>\n",
       "    <tr>\n",
       "      <th>4</th>\n",
       "      <td>2.00</td>\n",
       "      <td>0.03</td>\n",
       "      <td>20</td>\n",
       "    </tr>\n",
       "    <tr>\n",
       "      <th>5</th>\n",
       "      <td>2.25</td>\n",
       "      <td>0.07</td>\n",
       "      <td>20</td>\n",
       "    </tr>\n",
       "    <tr>\n",
       "      <th>6</th>\n",
       "      <td>2.50</td>\n",
       "      <td>0.08</td>\n",
       "      <td>20</td>\n",
       "    </tr>\n",
       "    <tr>\n",
       "      <th>7</th>\n",
       "      <td>2.75</td>\n",
       "      <td>0.10</td>\n",
       "      <td>20</td>\n",
       "    </tr>\n",
       "    <tr>\n",
       "      <th>8</th>\n",
       "      <td>3.00</td>\n",
       "      <td>0.01</td>\n",
       "      <td>20</td>\n",
       "    </tr>\n",
       "    <tr>\n",
       "      <th>9</th>\n",
       "      <td>3.25</td>\n",
       "      <td>0.05</td>\n",
       "      <td>20</td>\n",
       "    </tr>\n",
       "    <tr>\n",
       "      <th>10</th>\n",
       "      <td>3.50</td>\n",
       "      <td>0.01</td>\n",
       "      <td>20</td>\n",
       "    </tr>\n",
       "    <tr>\n",
       "      <th>11</th>\n",
       "      <td>3.75</td>\n",
       "      <td>0.02</td>\n",
       "      <td>20</td>\n",
       "    </tr>\n",
       "    <tr>\n",
       "      <th>12</th>\n",
       "      <td>4.00</td>\n",
       "      <td>0.00</td>\n",
       "      <td>20</td>\n",
       "    </tr>\n",
       "    <tr>\n",
       "      <th>13</th>\n",
       "      <td>4.25</td>\n",
       "      <td>0.00</td>\n",
       "      <td>20</td>\n",
       "    </tr>\n",
       "    <tr>\n",
       "      <th>14</th>\n",
       "      <td>4.50</td>\n",
       "      <td>0.01</td>\n",
       "      <td>20</td>\n",
       "    </tr>\n",
       "    <tr>\n",
       "      <th>15</th>\n",
       "      <td>4.75</td>\n",
       "      <td>0.00</td>\n",
       "      <td>20</td>\n",
       "    </tr>\n",
       "    <tr>\n",
       "      <th>16</th>\n",
       "      <td>5.00</td>\n",
       "      <td>0.00</td>\n",
       "      <td>20</td>\n",
       "    </tr>\n",
       "    <tr>\n",
       "      <th>17</th>\n",
       "      <td>5.25</td>\n",
       "      <td>0.00</td>\n",
       "      <td>20</td>\n",
       "    </tr>\n",
       "    <tr>\n",
       "      <th>18</th>\n",
       "      <td>5.50</td>\n",
       "      <td>0.00</td>\n",
       "      <td>20</td>\n",
       "    </tr>\n",
       "    <tr>\n",
       "      <th>19</th>\n",
       "      <td>5.75</td>\n",
       "      <td>0.00</td>\n",
       "      <td>20</td>\n",
       "    </tr>\n",
       "    <tr>\n",
       "      <th>20</th>\n",
       "      <td>6.00</td>\n",
       "      <td>0.00</td>\n",
       "      <td>20</td>\n",
       "    </tr>\n",
       "    <tr>\n",
       "      <th>21</th>\n",
       "      <td>6.25</td>\n",
       "      <td>0.00</td>\n",
       "      <td>20</td>\n",
       "    </tr>\n",
       "    <tr>\n",
       "      <th>22</th>\n",
       "      <td>6.50</td>\n",
       "      <td>0.00</td>\n",
       "      <td>20</td>\n",
       "    </tr>\n",
       "    <tr>\n",
       "      <th>23</th>\n",
       "      <td>6.75</td>\n",
       "      <td>0.00</td>\n",
       "      <td>20</td>\n",
       "    </tr>\n",
       "    <tr>\n",
       "      <th>24</th>\n",
       "      <td>7.00</td>\n",
       "      <td>0.00</td>\n",
       "      <td>20</td>\n",
       "    </tr>\n",
       "  </tbody>\n",
       "</table>\n",
       "</div>"
      ],
      "text/plain": [
       "    chain_strength  precision  vars\n",
       "0             1.00       0.00    20\n",
       "1             1.25       0.00    20\n",
       "2             1.50       0.00    20\n",
       "3             1.75       0.00    20\n",
       "4             2.00       0.03    20\n",
       "5             2.25       0.07    20\n",
       "6             2.50       0.08    20\n",
       "7             2.75       0.10    20\n",
       "8             3.00       0.01    20\n",
       "9             3.25       0.05    20\n",
       "10            3.50       0.01    20\n",
       "11            3.75       0.02    20\n",
       "12            4.00       0.00    20\n",
       "13            4.25       0.00    20\n",
       "14            4.50       0.01    20\n",
       "15            4.75       0.00    20\n",
       "16            5.00       0.00    20\n",
       "17            5.25       0.00    20\n",
       "18            5.50       0.00    20\n",
       "19            5.75       0.00    20\n",
       "20            6.00       0.00    20\n",
       "21            6.25       0.00    20\n",
       "22            6.50       0.00    20\n",
       "23            6.75       0.00    20\n",
       "24            7.00       0.00    20"
      ]
     },
     "execution_count": 39,
     "metadata": {},
     "output_type": "execute_result"
    }
   ],
   "source": [
    "current_df[\"vars\"] = 20\n",
    "current_df"
   ]
  },
  {
   "cell_type": "markdown",
   "id": "interpreted-pierre",
   "metadata": {},
   "source": [
    "# Merging Results"
   ]
  },
  {
   "cell_type": "code",
   "execution_count": 101,
   "id": "consecutive-frequency",
   "metadata": {},
   "outputs": [],
   "source": [
    "def get_best_results():\n",
    "    vars_to_clauses = {\n",
    "        10: [10, 15, 20, 25],\n",
    "        15: [15, 20, 25, 30, 35, 40, 45],\n",
    "        20: [30, 35]\n",
    "    }\n",
    "\n",
    "    total_rows = 0\n",
    "    nvars_series = []\n",
    "    nclauses_series = []\n",
    "    chain_strengths = []\n",
    "    precisions = []\n",
    "    coeffs = []\n",
    "    for (n_vars, n_clauses_arr) in vars_to_clauses.items():\n",
    "        for n_clauses in n_clauses_arr:\n",
    "            current_df = pd.read_csv(f\"./rnd_cnf_precision/v{n_vars}_c{n_clauses}.csv\")[[\"chain_strength\", \"precision\"]]\n",
    "            best_chain_strength = current_df.loc[current_df['precision'].idxmax()]['chain_strength']\n",
    "            best_precision = current_df.loc[current_df['precision'].idxmax()]['precision']\n",
    "            bqm, clauses = get_bqm_random_sat(n_vars, n_clauses, seed)\n",
    "            nvars_series.append(n_vars)\n",
    "            nclauses_series.append(n_clauses)\n",
    "            chain_strengths.append(best_chain_strength)\n",
    "            precisions.append(best_precision)\n",
    "            coeffs.append(max(bqm.quadratic.values()))\n",
    "            \n",
    "    df = pd.DataFrame({\n",
    "        'vars': nvars_series,\n",
    "        'clauses': nclauses_series,\n",
    "        'chain_strength':chain_strengths,\n",
    "        'precision': precisions,\n",
    "        'max_coeff': coeffs\n",
    "    })\n",
    "    return df\n",
    "        "
   ]
  },
  {
   "cell_type": "code",
   "execution_count": 102,
   "id": "accredited-referral",
   "metadata": {},
   "outputs": [
    {
     "data": {
      "text/html": [
       "<div>\n",
       "<style scoped>\n",
       "    .dataframe tbody tr th:only-of-type {\n",
       "        vertical-align: middle;\n",
       "    }\n",
       "\n",
       "    .dataframe tbody tr th {\n",
       "        vertical-align: top;\n",
       "    }\n",
       "\n",
       "    .dataframe thead th {\n",
       "        text-align: right;\n",
       "    }\n",
       "</style>\n",
       "<table border=\"1\" class=\"dataframe\">\n",
       "  <thead>\n",
       "    <tr style=\"text-align: right;\">\n",
       "      <th></th>\n",
       "      <th>vars</th>\n",
       "      <th>clauses</th>\n",
       "      <th>chain_strength</th>\n",
       "      <th>precision</th>\n",
       "      <th>max_coeff</th>\n",
       "    </tr>\n",
       "  </thead>\n",
       "  <tbody>\n",
       "    <tr>\n",
       "      <th>0</th>\n",
       "      <td>10</td>\n",
       "      <td>10</td>\n",
       "      <td>1.75</td>\n",
       "      <td>0.75</td>\n",
       "      <td>4.0</td>\n",
       "    </tr>\n",
       "    <tr>\n",
       "      <th>1</th>\n",
       "      <td>10</td>\n",
       "      <td>15</td>\n",
       "      <td>1.50</td>\n",
       "      <td>0.60</td>\n",
       "      <td>4.0</td>\n",
       "    </tr>\n",
       "    <tr>\n",
       "      <th>2</th>\n",
       "      <td>10</td>\n",
       "      <td>20</td>\n",
       "      <td>2.00</td>\n",
       "      <td>0.37</td>\n",
       "      <td>4.0</td>\n",
       "    </tr>\n",
       "    <tr>\n",
       "      <th>3</th>\n",
       "      <td>10</td>\n",
       "      <td>25</td>\n",
       "      <td>2.00</td>\n",
       "      <td>0.22</td>\n",
       "      <td>4.0</td>\n",
       "    </tr>\n",
       "    <tr>\n",
       "      <th>4</th>\n",
       "      <td>15</td>\n",
       "      <td>15</td>\n",
       "      <td>1.75</td>\n",
       "      <td>0.83</td>\n",
       "      <td>4.0</td>\n",
       "    </tr>\n",
       "    <tr>\n",
       "      <th>5</th>\n",
       "      <td>15</td>\n",
       "      <td>20</td>\n",
       "      <td>2.00</td>\n",
       "      <td>0.61</td>\n",
       "      <td>4.0</td>\n",
       "    </tr>\n",
       "    <tr>\n",
       "      <th>6</th>\n",
       "      <td>15</td>\n",
       "      <td>25</td>\n",
       "      <td>1.50</td>\n",
       "      <td>0.57</td>\n",
       "      <td>4.0</td>\n",
       "    </tr>\n",
       "    <tr>\n",
       "      <th>7</th>\n",
       "      <td>15</td>\n",
       "      <td>30</td>\n",
       "      <td>2.00</td>\n",
       "      <td>0.42</td>\n",
       "      <td>4.0</td>\n",
       "    </tr>\n",
       "    <tr>\n",
       "      <th>8</th>\n",
       "      <td>15</td>\n",
       "      <td>35</td>\n",
       "      <td>2.00</td>\n",
       "      <td>0.22</td>\n",
       "      <td>6.0</td>\n",
       "    </tr>\n",
       "    <tr>\n",
       "      <th>9</th>\n",
       "      <td>15</td>\n",
       "      <td>40</td>\n",
       "      <td>2.00</td>\n",
       "      <td>0.20</td>\n",
       "      <td>6.0</td>\n",
       "    </tr>\n",
       "    <tr>\n",
       "      <th>10</th>\n",
       "      <td>15</td>\n",
       "      <td>45</td>\n",
       "      <td>2.75</td>\n",
       "      <td>0.10</td>\n",
       "      <td>6.0</td>\n",
       "    </tr>\n",
       "    <tr>\n",
       "      <th>11</th>\n",
       "      <td>20</td>\n",
       "      <td>30</td>\n",
       "      <td>2.25</td>\n",
       "      <td>0.45</td>\n",
       "      <td>5.0</td>\n",
       "    </tr>\n",
       "    <tr>\n",
       "      <th>12</th>\n",
       "      <td>20</td>\n",
       "      <td>35</td>\n",
       "      <td>2.00</td>\n",
       "      <td>0.30</td>\n",
       "      <td>5.0</td>\n",
       "    </tr>\n",
       "  </tbody>\n",
       "</table>\n",
       "</div>"
      ],
      "text/plain": [
       "    vars  clauses  chain_strength  precision  max_coeff\n",
       "0     10       10            1.75       0.75        4.0\n",
       "1     10       15            1.50       0.60        4.0\n",
       "2     10       20            2.00       0.37        4.0\n",
       "3     10       25            2.00       0.22        4.0\n",
       "4     15       15            1.75       0.83        4.0\n",
       "5     15       20            2.00       0.61        4.0\n",
       "6     15       25            1.50       0.57        4.0\n",
       "7     15       30            2.00       0.42        4.0\n",
       "8     15       35            2.00       0.22        6.0\n",
       "9     15       40            2.00       0.20        6.0\n",
       "10    15       45            2.75       0.10        6.0\n",
       "11    20       30            2.25       0.45        5.0\n",
       "12    20       35            2.00       0.30        5.0"
      ]
     },
     "execution_count": 102,
     "metadata": {},
     "output_type": "execute_result"
    }
   ],
   "source": [
    "df_chain_strengths = get_best_results()\n",
    "df_chain_strengths"
   ]
  },
  {
   "cell_type": "code",
   "execution_count": 85,
   "id": "available-television",
   "metadata": {},
   "outputs": [
    {
     "data": {
      "text/html": [
       "<div>\n",
       "<style scoped>\n",
       "    .dataframe tbody tr th:only-of-type {\n",
       "        vertical-align: middle;\n",
       "    }\n",
       "\n",
       "    .dataframe tbody tr th {\n",
       "        vertical-align: top;\n",
       "    }\n",
       "\n",
       "    .dataframe thead th {\n",
       "        text-align: right;\n",
       "    }\n",
       "</style>\n",
       "<table border=\"1\" class=\"dataframe\">\n",
       "  <thead>\n",
       "    <tr style=\"text-align: right;\">\n",
       "      <th></th>\n",
       "      <th>num_variables</th>\n",
       "      <th>num_clauses</th>\n",
       "      <th>var_clause_rel</th>\n",
       "      <th>max_chain_length</th>\n",
       "      <th>num_qubits</th>\n",
       "      <th>variance</th>\n",
       "    </tr>\n",
       "  </thead>\n",
       "  <tbody>\n",
       "    <tr>\n",
       "      <th>0</th>\n",
       "      <td>20</td>\n",
       "      <td>35</td>\n",
       "      <td>0.57</td>\n",
       "      <td>3</td>\n",
       "      <td>88</td>\n",
       "      <td>0.47</td>\n",
       "    </tr>\n",
       "    <tr>\n",
       "      <th>1</th>\n",
       "      <td>20</td>\n",
       "      <td>30</td>\n",
       "      <td>0.67</td>\n",
       "      <td>3</td>\n",
       "      <td>72</td>\n",
       "      <td>0.37</td>\n",
       "    </tr>\n",
       "    <tr>\n",
       "      <th>2</th>\n",
       "      <td>15</td>\n",
       "      <td>45</td>\n",
       "      <td>0.33</td>\n",
       "      <td>4</td>\n",
       "      <td>102</td>\n",
       "      <td>0.99</td>\n",
       "    </tr>\n",
       "    <tr>\n",
       "      <th>3</th>\n",
       "      <td>15</td>\n",
       "      <td>40</td>\n",
       "      <td>0.38</td>\n",
       "      <td>4</td>\n",
       "      <td>90</td>\n",
       "      <td>0.79</td>\n",
       "    </tr>\n",
       "    <tr>\n",
       "      <th>4</th>\n",
       "      <td>15</td>\n",
       "      <td>35</td>\n",
       "      <td>0.43</td>\n",
       "      <td>3</td>\n",
       "      <td>76</td>\n",
       "      <td>0.62</td>\n",
       "    </tr>\n",
       "    <tr>\n",
       "      <th>5</th>\n",
       "      <td>15</td>\n",
       "      <td>30</td>\n",
       "      <td>0.50</td>\n",
       "      <td>3</td>\n",
       "      <td>71</td>\n",
       "      <td>0.48</td>\n",
       "    </tr>\n",
       "    <tr>\n",
       "      <th>6</th>\n",
       "      <td>15</td>\n",
       "      <td>25</td>\n",
       "      <td>0.60</td>\n",
       "      <td>3</td>\n",
       "      <td>54</td>\n",
       "      <td>0.33</td>\n",
       "    </tr>\n",
       "    <tr>\n",
       "      <th>7</th>\n",
       "      <td>15</td>\n",
       "      <td>20</td>\n",
       "      <td>0.75</td>\n",
       "      <td>2</td>\n",
       "      <td>46</td>\n",
       "      <td>0.22</td>\n",
       "    </tr>\n",
       "    <tr>\n",
       "      <th>8</th>\n",
       "      <td>15</td>\n",
       "      <td>15</td>\n",
       "      <td>1.00</td>\n",
       "      <td>2</td>\n",
       "      <td>34</td>\n",
       "      <td>0.12</td>\n",
       "    </tr>\n",
       "    <tr>\n",
       "      <th>9</th>\n",
       "      <td>10</td>\n",
       "      <td>25</td>\n",
       "      <td>0.40</td>\n",
       "      <td>3</td>\n",
       "      <td>48</td>\n",
       "      <td>0.36</td>\n",
       "    </tr>\n",
       "    <tr>\n",
       "      <th>10</th>\n",
       "      <td>10</td>\n",
       "      <td>20</td>\n",
       "      <td>0.50</td>\n",
       "      <td>2</td>\n",
       "      <td>39</td>\n",
       "      <td>0.22</td>\n",
       "    </tr>\n",
       "    <tr>\n",
       "      <th>11</th>\n",
       "      <td>10</td>\n",
       "      <td>15</td>\n",
       "      <td>0.67</td>\n",
       "      <td>2</td>\n",
       "      <td>30</td>\n",
       "      <td>0.17</td>\n",
       "    </tr>\n",
       "    <tr>\n",
       "      <th>12</th>\n",
       "      <td>10</td>\n",
       "      <td>10</td>\n",
       "      <td>1.00</td>\n",
       "      <td>2</td>\n",
       "      <td>21</td>\n",
       "      <td>0.05</td>\n",
       "    </tr>\n",
       "  </tbody>\n",
       "</table>\n",
       "</div>"
      ],
      "text/plain": [
       "    num_variables  num_clauses  var_clause_rel  max_chain_length  num_qubits  \\\n",
       "0              20           35            0.57                 3          88   \n",
       "1              20           30            0.67                 3          72   \n",
       "2              15           45            0.33                 4         102   \n",
       "3              15           40            0.38                 4          90   \n",
       "4              15           35            0.43                 3          76   \n",
       "5              15           30            0.50                 3          71   \n",
       "6              15           25            0.60                 3          54   \n",
       "7              15           20            0.75                 2          46   \n",
       "8              15           15            1.00                 2          34   \n",
       "9              10           25            0.40                 3          48   \n",
       "10             10           20            0.50                 2          39   \n",
       "11             10           15            0.67                 2          30   \n",
       "12             10           10            1.00                 2          21   \n",
       "\n",
       "    variance  \n",
       "0       0.47  \n",
       "1       0.37  \n",
       "2       0.99  \n",
       "3       0.79  \n",
       "4       0.62  \n",
       "5       0.48  \n",
       "6       0.33  \n",
       "7       0.22  \n",
       "8       0.12  \n",
       "9       0.36  \n",
       "10      0.22  \n",
       "11      0.17  \n",
       "12      0.05  "
      ]
     },
     "execution_count": 85,
     "metadata": {},
     "output_type": "execute_result"
    }
   ],
   "source": [
    "df_embeddings = pd.read_csv(\"./rnd_best_embeddings.csv\")\n",
    "df_embeddings"
   ]
  },
  {
   "cell_type": "code",
   "execution_count": 103,
   "id": "supposed-defense",
   "metadata": {},
   "outputs": [
    {
     "data": {
      "text/html": [
       "<div>\n",
       "<style scoped>\n",
       "    .dataframe tbody tr th:only-of-type {\n",
       "        vertical-align: middle;\n",
       "    }\n",
       "\n",
       "    .dataframe tbody tr th {\n",
       "        vertical-align: top;\n",
       "    }\n",
       "\n",
       "    .dataframe thead th {\n",
       "        text-align: right;\n",
       "    }\n",
       "</style>\n",
       "<table border=\"1\" class=\"dataframe\">\n",
       "  <thead>\n",
       "    <tr style=\"text-align: right;\">\n",
       "      <th></th>\n",
       "      <th>vars</th>\n",
       "      <th>clauses</th>\n",
       "      <th>chain_strength</th>\n",
       "      <th>precision</th>\n",
       "      <th>max_coeff</th>\n",
       "      <th>var_clause_rel</th>\n",
       "      <th>max_chain_length</th>\n",
       "      <th>num_qubits</th>\n",
       "      <th>variance</th>\n",
       "    </tr>\n",
       "  </thead>\n",
       "  <tbody>\n",
       "    <tr>\n",
       "      <th>0</th>\n",
       "      <td>10</td>\n",
       "      <td>10</td>\n",
       "      <td>1.75</td>\n",
       "      <td>0.75</td>\n",
       "      <td>4.0</td>\n",
       "      <td>1.00</td>\n",
       "      <td>2</td>\n",
       "      <td>21</td>\n",
       "      <td>0.05</td>\n",
       "    </tr>\n",
       "    <tr>\n",
       "      <th>1</th>\n",
       "      <td>10</td>\n",
       "      <td>15</td>\n",
       "      <td>1.50</td>\n",
       "      <td>0.60</td>\n",
       "      <td>4.0</td>\n",
       "      <td>0.67</td>\n",
       "      <td>2</td>\n",
       "      <td>30</td>\n",
       "      <td>0.17</td>\n",
       "    </tr>\n",
       "    <tr>\n",
       "      <th>2</th>\n",
       "      <td>10</td>\n",
       "      <td>20</td>\n",
       "      <td>2.00</td>\n",
       "      <td>0.37</td>\n",
       "      <td>4.0</td>\n",
       "      <td>0.50</td>\n",
       "      <td>2</td>\n",
       "      <td>39</td>\n",
       "      <td>0.22</td>\n",
       "    </tr>\n",
       "    <tr>\n",
       "      <th>3</th>\n",
       "      <td>10</td>\n",
       "      <td>25</td>\n",
       "      <td>2.00</td>\n",
       "      <td>0.22</td>\n",
       "      <td>4.0</td>\n",
       "      <td>0.40</td>\n",
       "      <td>3</td>\n",
       "      <td>48</td>\n",
       "      <td>0.36</td>\n",
       "    </tr>\n",
       "    <tr>\n",
       "      <th>4</th>\n",
       "      <td>15</td>\n",
       "      <td>15</td>\n",
       "      <td>1.75</td>\n",
       "      <td>0.83</td>\n",
       "      <td>4.0</td>\n",
       "      <td>1.00</td>\n",
       "      <td>2</td>\n",
       "      <td>34</td>\n",
       "      <td>0.12</td>\n",
       "    </tr>\n",
       "    <tr>\n",
       "      <th>5</th>\n",
       "      <td>15</td>\n",
       "      <td>20</td>\n",
       "      <td>2.00</td>\n",
       "      <td>0.61</td>\n",
       "      <td>4.0</td>\n",
       "      <td>0.75</td>\n",
       "      <td>2</td>\n",
       "      <td>46</td>\n",
       "      <td>0.22</td>\n",
       "    </tr>\n",
       "    <tr>\n",
       "      <th>6</th>\n",
       "      <td>15</td>\n",
       "      <td>25</td>\n",
       "      <td>1.50</td>\n",
       "      <td>0.57</td>\n",
       "      <td>4.0</td>\n",
       "      <td>0.60</td>\n",
       "      <td>3</td>\n",
       "      <td>54</td>\n",
       "      <td>0.33</td>\n",
       "    </tr>\n",
       "    <tr>\n",
       "      <th>7</th>\n",
       "      <td>15</td>\n",
       "      <td>30</td>\n",
       "      <td>2.00</td>\n",
       "      <td>0.42</td>\n",
       "      <td>4.0</td>\n",
       "      <td>0.50</td>\n",
       "      <td>3</td>\n",
       "      <td>71</td>\n",
       "      <td>0.48</td>\n",
       "    </tr>\n",
       "    <tr>\n",
       "      <th>8</th>\n",
       "      <td>15</td>\n",
       "      <td>35</td>\n",
       "      <td>2.00</td>\n",
       "      <td>0.22</td>\n",
       "      <td>6.0</td>\n",
       "      <td>0.43</td>\n",
       "      <td>3</td>\n",
       "      <td>76</td>\n",
       "      <td>0.62</td>\n",
       "    </tr>\n",
       "    <tr>\n",
       "      <th>9</th>\n",
       "      <td>15</td>\n",
       "      <td>40</td>\n",
       "      <td>2.00</td>\n",
       "      <td>0.20</td>\n",
       "      <td>6.0</td>\n",
       "      <td>0.38</td>\n",
       "      <td>4</td>\n",
       "      <td>90</td>\n",
       "      <td>0.79</td>\n",
       "    </tr>\n",
       "    <tr>\n",
       "      <th>10</th>\n",
       "      <td>15</td>\n",
       "      <td>45</td>\n",
       "      <td>2.75</td>\n",
       "      <td>0.10</td>\n",
       "      <td>6.0</td>\n",
       "      <td>0.33</td>\n",
       "      <td>4</td>\n",
       "      <td>102</td>\n",
       "      <td>0.99</td>\n",
       "    </tr>\n",
       "    <tr>\n",
       "      <th>11</th>\n",
       "      <td>20</td>\n",
       "      <td>30</td>\n",
       "      <td>2.25</td>\n",
       "      <td>0.45</td>\n",
       "      <td>5.0</td>\n",
       "      <td>0.67</td>\n",
       "      <td>3</td>\n",
       "      <td>72</td>\n",
       "      <td>0.37</td>\n",
       "    </tr>\n",
       "    <tr>\n",
       "      <th>12</th>\n",
       "      <td>20</td>\n",
       "      <td>35</td>\n",
       "      <td>2.00</td>\n",
       "      <td>0.30</td>\n",
       "      <td>5.0</td>\n",
       "      <td>0.57</td>\n",
       "      <td>3</td>\n",
       "      <td>88</td>\n",
       "      <td>0.47</td>\n",
       "    </tr>\n",
       "  </tbody>\n",
       "</table>\n",
       "</div>"
      ],
      "text/plain": [
       "    vars  clauses  chain_strength  precision  max_coeff  var_clause_rel  \\\n",
       "0     10       10            1.75       0.75        4.0            1.00   \n",
       "1     10       15            1.50       0.60        4.0            0.67   \n",
       "2     10       20            2.00       0.37        4.0            0.50   \n",
       "3     10       25            2.00       0.22        4.0            0.40   \n",
       "4     15       15            1.75       0.83        4.0            1.00   \n",
       "5     15       20            2.00       0.61        4.0            0.75   \n",
       "6     15       25            1.50       0.57        4.0            0.60   \n",
       "7     15       30            2.00       0.42        4.0            0.50   \n",
       "8     15       35            2.00       0.22        6.0            0.43   \n",
       "9     15       40            2.00       0.20        6.0            0.38   \n",
       "10    15       45            2.75       0.10        6.0            0.33   \n",
       "11    20       30            2.25       0.45        5.0            0.67   \n",
       "12    20       35            2.00       0.30        5.0            0.57   \n",
       "\n",
       "    max_chain_length  num_qubits  variance  \n",
       "0                  2          21      0.05  \n",
       "1                  2          30      0.17  \n",
       "2                  2          39      0.22  \n",
       "3                  3          48      0.36  \n",
       "4                  2          34      0.12  \n",
       "5                  2          46      0.22  \n",
       "6                  3          54      0.33  \n",
       "7                  3          71      0.48  \n",
       "8                  3          76      0.62  \n",
       "9                  4          90      0.79  \n",
       "10                 4         102      0.99  \n",
       "11                 3          72      0.37  \n",
       "12                 3          88      0.47  "
      ]
     },
     "execution_count": 103,
     "metadata": {},
     "output_type": "execute_result"
    }
   ],
   "source": [
    "merged_data = pd.merge(\n",
    "    df_chain_strengths, \n",
    "    df_embeddings,  \n",
    "    how='left', \n",
    "    left_on=['vars','clauses'], \n",
    "    right_on = ['num_variables','num_clauses'])\n",
    "merged_data = merged_data.drop(['num_variables', 'num_clauses'],axis=1)\n",
    "merged_data"
   ]
  },
  {
   "cell_type": "code",
   "execution_count": 104,
   "id": "grand-diversity",
   "metadata": {},
   "outputs": [
    {
     "data": {
      "text/html": [
       "<div>\n",
       "<style scoped>\n",
       "    .dataframe tbody tr th:only-of-type {\n",
       "        vertical-align: middle;\n",
       "    }\n",
       "\n",
       "    .dataframe tbody tr th {\n",
       "        vertical-align: top;\n",
       "    }\n",
       "\n",
       "    .dataframe thead th {\n",
       "        text-align: right;\n",
       "    }\n",
       "</style>\n",
       "<table border=\"1\" class=\"dataframe\">\n",
       "  <thead>\n",
       "    <tr style=\"text-align: right;\">\n",
       "      <th></th>\n",
       "      <th>vars</th>\n",
       "      <th>clauses</th>\n",
       "      <th>chain_strength</th>\n",
       "      <th>precision</th>\n",
       "      <th>max_coeff</th>\n",
       "      <th>var_clause_rel</th>\n",
       "      <th>max_chain_length</th>\n",
       "      <th>num_qubits</th>\n",
       "      <th>variance</th>\n",
       "    </tr>\n",
       "  </thead>\n",
       "  <tbody>\n",
       "    <tr>\n",
       "      <th>vars</th>\n",
       "      <td>1.000000</td>\n",
       "      <td>0.554794</td>\n",
       "      <td>0.348743</td>\n",
       "      <td>-0.172387</td>\n",
       "      <td>0.449461</td>\n",
       "      <td>-0.072592</td>\n",
       "      <td>0.423634</td>\n",
       "      <td>0.664071</td>\n",
       "      <td>0.373378</td>\n",
       "    </tr>\n",
       "    <tr>\n",
       "      <th>clauses</th>\n",
       "      <td>0.554794</td>\n",
       "      <td>1.000000</td>\n",
       "      <td>0.701561</td>\n",
       "      <td>-0.863465</td>\n",
       "      <td>0.847060</td>\n",
       "      <td>-0.799627</td>\n",
       "      <td>0.927585</td>\n",
       "      <td>0.986132</td>\n",
       "      <td>0.964289</td>\n",
       "    </tr>\n",
       "    <tr>\n",
       "      <th>chain_strength</th>\n",
       "      <td>0.348743</td>\n",
       "      <td>0.701561</td>\n",
       "      <td>1.000000</td>\n",
       "      <td>-0.662053</td>\n",
       "      <td>0.615634</td>\n",
       "      <td>-0.504374</td>\n",
       "      <td>0.586667</td>\n",
       "      <td>0.694733</td>\n",
       "      <td>0.710710</td>\n",
       "    </tr>\n",
       "    <tr>\n",
       "      <th>precision</th>\n",
       "      <td>-0.172387</td>\n",
       "      <td>-0.863465</td>\n",
       "      <td>-0.662053</td>\n",
       "      <td>1.000000</td>\n",
       "      <td>-0.711896</td>\n",
       "      <td>0.946264</td>\n",
       "      <td>-0.791842</td>\n",
       "      <td>-0.793034</td>\n",
       "      <td>-0.850289</td>\n",
       "    </tr>\n",
       "    <tr>\n",
       "      <th>max_coeff</th>\n",
       "      <td>0.449461</td>\n",
       "      <td>0.847060</td>\n",
       "      <td>0.615634</td>\n",
       "      <td>-0.711896</td>\n",
       "      <td>1.000000</td>\n",
       "      <td>-0.566021</td>\n",
       "      <td>0.772619</td>\n",
       "      <td>0.828525</td>\n",
       "      <td>0.862629</td>\n",
       "    </tr>\n",
       "    <tr>\n",
       "      <th>var_clause_rel</th>\n",
       "      <td>-0.072592</td>\n",
       "      <td>-0.799627</td>\n",
       "      <td>-0.504374</td>\n",
       "      <td>0.946264</td>\n",
       "      <td>-0.566021</td>\n",
       "      <td>1.000000</td>\n",
       "      <td>-0.747955</td>\n",
       "      <td>-0.712435</td>\n",
       "      <td>-0.798043</td>\n",
       "    </tr>\n",
       "    <tr>\n",
       "      <th>max_chain_length</th>\n",
       "      <td>0.423634</td>\n",
       "      <td>0.927585</td>\n",
       "      <td>0.586667</td>\n",
       "      <td>-0.791842</td>\n",
       "      <td>0.772619</td>\n",
       "      <td>-0.747955</td>\n",
       "      <td>1.000000</td>\n",
       "      <td>0.896920</td>\n",
       "      <td>0.929696</td>\n",
       "    </tr>\n",
       "    <tr>\n",
       "      <th>num_qubits</th>\n",
       "      <td>0.664071</td>\n",
       "      <td>0.986132</td>\n",
       "      <td>0.694733</td>\n",
       "      <td>-0.793034</td>\n",
       "      <td>0.828525</td>\n",
       "      <td>-0.712435</td>\n",
       "      <td>0.896920</td>\n",
       "      <td>1.000000</td>\n",
       "      <td>0.927800</td>\n",
       "    </tr>\n",
       "    <tr>\n",
       "      <th>variance</th>\n",
       "      <td>0.373378</td>\n",
       "      <td>0.964289</td>\n",
       "      <td>0.710710</td>\n",
       "      <td>-0.850289</td>\n",
       "      <td>0.862629</td>\n",
       "      <td>-0.798043</td>\n",
       "      <td>0.929696</td>\n",
       "      <td>0.927800</td>\n",
       "      <td>1.000000</td>\n",
       "    </tr>\n",
       "  </tbody>\n",
       "</table>\n",
       "</div>"
      ],
      "text/plain": [
       "                      vars   clauses  chain_strength  precision  max_coeff  \\\n",
       "vars              1.000000  0.554794        0.348743  -0.172387   0.449461   \n",
       "clauses           0.554794  1.000000        0.701561  -0.863465   0.847060   \n",
       "chain_strength    0.348743  0.701561        1.000000  -0.662053   0.615634   \n",
       "precision        -0.172387 -0.863465       -0.662053   1.000000  -0.711896   \n",
       "max_coeff         0.449461  0.847060        0.615634  -0.711896   1.000000   \n",
       "var_clause_rel   -0.072592 -0.799627       -0.504374   0.946264  -0.566021   \n",
       "max_chain_length  0.423634  0.927585        0.586667  -0.791842   0.772619   \n",
       "num_qubits        0.664071  0.986132        0.694733  -0.793034   0.828525   \n",
       "variance          0.373378  0.964289        0.710710  -0.850289   0.862629   \n",
       "\n",
       "                  var_clause_rel  max_chain_length  num_qubits  variance  \n",
       "vars                   -0.072592          0.423634    0.664071  0.373378  \n",
       "clauses                -0.799627          0.927585    0.986132  0.964289  \n",
       "chain_strength         -0.504374          0.586667    0.694733  0.710710  \n",
       "precision               0.946264         -0.791842   -0.793034 -0.850289  \n",
       "max_coeff              -0.566021          0.772619    0.828525  0.862629  \n",
       "var_clause_rel          1.000000         -0.747955   -0.712435 -0.798043  \n",
       "max_chain_length       -0.747955          1.000000    0.896920  0.929696  \n",
       "num_qubits             -0.712435          0.896920    1.000000  0.927800  \n",
       "variance               -0.798043          0.929696    0.927800  1.000000  "
      ]
     },
     "execution_count": 104,
     "metadata": {},
     "output_type": "execute_result"
    }
   ],
   "source": [
    "merged_data.corr()"
   ]
  },
  {
   "cell_type": "code",
   "execution_count": 108,
   "id": "elder-approach",
   "metadata": {},
   "outputs": [],
   "source": [
    "df_ratio_sat = pd.read_csv(\"./random_cnfs.csv\")\n",
    "df_ratio_sat = df_ratio_sat.drop(['Unnamed: 0'], axis=1)\n",
    "merged_data2 = pd.merge(\n",
    "    merged_data, \n",
    "    df_ratio_sat,  \n",
    "    how='left', \n",
    "    left_on=['vars','clauses'], \n",
    "    right_on = ['variables','clauses'])\n",
    "\n",
    "merged_data2 = merged_data2.drop(['variables'], axis=1)"
   ]
  },
  {
   "cell_type": "code",
   "execution_count": 115,
   "id": "athletic-jurisdiction",
   "metadata": {},
   "outputs": [
    {
     "data": {
      "image/png": "[encoded data removed]",
      "text/plain": [
       "<Figure size 842.4x595.44 with 2 Axes>"
      ]
     },
     "metadata": {},
     "output_type": "display_data"
    }
   ],
   "source": [
    "sns.set(rc={'figure.figsize':(11.7,8.27)})\n",
    "ax = sns.heatmap(merged_data2.corr(), cbar=True, annot=True)"
   ]
  },
  {
   "cell_type": "code",
   "execution_count": 116,
   "id": "mexican-secret",
   "metadata": {},
   "outputs": [],
   "source": [
    "merged_data2.to_csv(\"./final_results.csv\")"
   ]
  },
  {
   "cell_type": "code",
   "execution_count": null,
   "id": "accurate-bullet",
   "metadata": {},
   "outputs": [],
   "source": []
  }
 ],
 "metadata": {
  "kernelspec": {
   "display_name": "Python 3",
   "language": "python",
   "name": "python3"
  },
  "language_info": {
   "codemirror_mode": {
    "name": "ipython",
    "version": 3
   },
   "file_extension": ".py",
   "mimetype": "text/x-python",
   "name": "python",
   "nbconvert_exporter": "python",
   "pygments_lexer": "ipython3",
   "version": "3.9.12"
  }
 },
 "nbformat": 4,
 "nbformat_minor": 5
}
