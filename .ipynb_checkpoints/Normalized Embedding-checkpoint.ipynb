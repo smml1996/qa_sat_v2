{
 "cells": [
  {
   "cell_type": "code",
   "execution_count": 1,
   "id": "rocky-surgeon",
   "metadata": {},
   "outputs": [],
   "source": [
    "from utils import load_cnf, cnf_to_bqm\n",
    "from embedding_utils import *\n",
    "import seaborn as sns\n",
    "from redundancy import *\n",
    "from utils import *"
   ]
  },
  {
   "cell_type": "code",
   "execution_count": 2,
   "id": "direct-melissa",
   "metadata": {},
   "outputs": [],
   "source": [
    "folder = 'sat'\n",
    "_variables = 160\n",
    "path = f\"./{folder}/sgen1-{folder}-{_variables}-100.cnf\""
   ]
  },
  {
   "cell_type": "code",
   "execution_count": 20,
   "id": "discrete-sperm",
   "metadata": {},
   "outputs": [
    {
     "data": {
      "text/plain": [
       "353"
      ]
     },
     "execution_count": 20,
     "metadata": {},
     "output_type": "execute_result"
    }
   ],
   "source": [
    "num_variables, num_clauses, variables, clauses = load_cnf(path)\n",
    "bqm, or_result_vars, clauses_qubits = cnf_to_bqm(variables, clauses)"
   ]
  },
  {
   "cell_type": "code",
   "execution_count": 4,
   "id": "secondary-trading",
   "metadata": {},
   "outputs": [
    {
     "name": "stdout",
     "output_type": "stream",
     "text": [
      "1595\n"
     ]
    },
    {
     "data": {
      "text/plain": [
       "<AxesSubplot:ylabel='Count'>"
      ]
     },
     "execution_count": 4,
     "metadata": {},
     "output_type": "execute_result"
    },
    {
     "data": {
      "image/png": "[encoded data removed]",
      "text/plain": [
       "<Figure size 432x288 with 1 Axes>"
      ]
     },
     "metadata": {
      "needs_background": "light"
     },
     "output_type": "display_data"
    }
   ],
   "source": [
    "embedding = get_embedding(bqm, 40) #121\n",
    "print(count_qubits_used(embedding))\n",
    "sns.histplot(get_chain_lengths(bqm, embedding)[0])"
   ]
  },
  {
   "cell_type": "code",
   "execution_count": 24,
   "id": "macro-secretary",
   "metadata": {},
   "outputs": [],
   "source": [
    "qubo, embedding_qubo = remove_chains(embedding)\n",
    "qubo.scale(0.5)"
   ]
  },
  {
   "cell_type": "code",
   "execution_count": 22,
   "id": "boring-agriculture",
   "metadata": {},
   "outputs": [],
   "source": [
    "chain_lengths_per_qubit = dict()\n",
    "for (_, chain) in embedding.items():\n",
    "    l = len(chain)\n",
    "    for c in chain:\n",
    "        assert(c not in chain_lengths_per_qubit.keys())\n",
    "        chain_lengths_per_qubit[c] = l\n",
    "        "
   ]
  },
  {
   "cell_type": "code",
   "execution_count": 6,
   "id": "criminal-center",
   "metadata": {},
   "outputs": [
    {
     "data": {
      "text/plain": [
       "(-192.0, {})"
      ]
     },
     "execution_count": 6,
     "metadata": {},
     "output_type": "execute_result"
    }
   ],
   "source": [
    "from dwave.preprocessing.lower_bounds import roof_duality\n",
    "ee, variables_to_fix = roof_duality(bqm)\n",
    "ee, variables_to_fix"
   ]
  },
  {
   "cell_type": "code",
   "execution_count": 23,
   "id": "attempted-korea",
   "metadata": {},
   "outputs": [
    {
     "data": {
      "text/plain": [
       "(-765.1746253746255, {})"
      ]
     },
     "execution_count": 23,
     "metadata": {},
     "output_type": "execute_result"
    }
   ],
   "source": [
    "qubo2 = get_embedded_bqm(bqm, embedding)\n",
    "ee2, variables_to_fix2 = roof_duality(qubo2)\n",
    "ee2, variables_to_fix"
   ]
  },
  {
   "cell_type": "code",
   "execution_count": 28,
   "id": "strategic-costa",
   "metadata": {},
   "outputs": [
    {
     "data": {
      "text/plain": [
       "0.0"
      ]
     },
     "execution_count": 28,
     "metadata": {},
     "output_type": "execute_result"
    }
   ],
   "source": [
    "sampler = FixedEmbeddingComposite(DWaveSampler(solver={\"name\": \"Advantage_system4.1\"}), embedding_qubo)\n",
    "sampleset = sampler.sample(qubo, num_reads=50, answer_mode='raw', chain_strength=1.75, auto_scale=True)\n",
    "sampleset.first.energy"
   ]
  },
  {
   "cell_type": "code",
   "execution_count": 29,
   "id": "successful-killer",
   "metadata": {},
   "outputs": [
    {
     "data": {
      "text/plain": [
       "21"
      ]
     },
     "execution_count": 29,
     "metadata": {},
     "output_type": "execute_result"
    }
   ],
   "source": [
    "len(sampleset.lowest())"
   ]
  },
  {
   "cell_type": "code",
   "execution_count": 32,
   "id": "innocent-appendix",
   "metadata": {},
   "outputs": [
    {
     "name": "stdout",
     "output_type": "stream",
     "text": [
      "True\n",
      "True\n",
      "True\n",
      "True\n",
      "True\n",
      "True\n",
      "True\n",
      "True\n",
      "True\n",
      "True\n",
      "True\n",
      "True\n",
      "True\n",
      "True\n",
      "True\n",
      "True\n",
      "True\n",
      "True\n",
      "True\n",
      "True\n",
      "True\n"
     ]
    }
   ],
   "source": [
    "def are_chains_correct(sample):\n",
    "    for (logic_var, chain) in embedding.items():\n",
    "        val = sample[chain[0]]\n",
    "        for i in range(1, len(chain)):\n",
    "            if sample[chain[i]] != val:\n",
    "                return False\n",
    "    return True\n",
    "        \n",
    "for sample in sampleset.lowest():\n",
    "    print(are_chains_correct(sample))"
   ]
  },
  {
   "cell_type": "code",
   "execution_count": 38,
   "id": "strong-sentence",
   "metadata": {},
   "outputs": [
    {
     "ename": "AttributeError",
     "evalue": "'SampleSet' object has no attribute 'as_samples'",
     "output_type": "error",
     "traceback": [
      "\u001b[0;31m---------------------------------------------------------------------------\u001b[0m",
      "\u001b[0;31mAttributeError\u001b[0m                            Traceback (most recent call last)",
      "\u001b[0;32m<ipython-input-38-5235be896090>\u001b[0m in \u001b[0;36m<module>\u001b[0;34m\u001b[0m\n\u001b[0;32m----> 1\u001b[0;31m \u001b[0;32mfor\u001b[0m \u001b[0msample\u001b[0m \u001b[0;32min\u001b[0m \u001b[0msampleset\u001b[0m\u001b[0;34m.\u001b[0m\u001b[0mas_samples\u001b[0m\u001b[0;34m(\u001b[0m\u001b[0;34m)\u001b[0m\u001b[0;34m:\u001b[0m\u001b[0;34m\u001b[0m\u001b[0;34m\u001b[0m\u001b[0m\n\u001b[0m\u001b[1;32m      2\u001b[0m     \u001b[0mprint\u001b[0m\u001b[0;34m(\u001b[0m\u001b[0msample\u001b[0m\u001b[0;34m)\u001b[0m\u001b[0;34m\u001b[0m\u001b[0;34m\u001b[0m\u001b[0m\n",
      "\u001b[0;31mAttributeError\u001b[0m: 'SampleSet' object has no attribute 'as_samples'"
     ]
    }
   ],
   "source": [
    "for sample in sampleset.as_samples():\n",
    "    print(sample)"
   ]
  },
  {
   "cell_type": "code",
   "execution_count": null,
   "id": "seventh-reservation",
   "metadata": {},
   "outputs": [],
   "source": []
  }
 ],
 "metadata": {
  "kernelspec": {
   "display_name": "Python 3",
   "language": "python",
   "name": "python3"
  },
  "language_info": {
   "codemirror_mode": {
    "name": "ipython",
    "version": 3
   },
   "file_extension": ".py",
   "mimetype": "text/x-python",
   "name": "python",
   "nbconvert_exporter": "python",
   "pygments_lexer": "ipython3",
   "version": "3.9.9"
  }
 },
 "nbformat": 4,
 "nbformat_minor": 5
}
