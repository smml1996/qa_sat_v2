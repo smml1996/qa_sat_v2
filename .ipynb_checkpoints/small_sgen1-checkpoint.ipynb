{
 "cells": [
  {
   "cell_type": "code",
   "execution_count": 3,
   "id": "individual-stockholm",
   "metadata": {},
   "outputs": [],
   "source": [
    "from brute_force import *\n",
    "from utils import *\n",
    "import pandas as pd\n",
    "from embedding_utils import *"
   ]
  },
  {
   "cell_type": "code",
   "execution_count": null,
   "id": "exterior-proposal",
   "metadata": {},
   "outputs": [],
   "source": [
    "variances = []\n",
    "nvars = []\n",
    "nclauses = []\n",
    "\n",
    "for i in range(0, 9):\n",
    "    num_variables, num_clauses, variables, clauses = load_cnf(f\"./sgen_cnfs/var20_xor{i}.cnf\")\n",
    "    nvars.append(num_variables)\n",
    "    n_clauses(num_clauses)\n",
    "    bqm, _, _, _ = cnf_to_bqm(variables, clauses)\n",
    "    find_best_embedding(bqm, qpu, isnetworkx=False, top=100)"
   ]
  }
 ],
 "metadata": {
  "kernelspec": {
   "display_name": "Python 3",
   "language": "python",
   "name": "python3"
  },
  "language_info": {
   "codemirror_mode": {
    "name": "ipython",
    "version": 3
   },
   "file_extension": ".py",
   "mimetype": "text/x-python",
   "name": "python",
   "nbconvert_exporter": "python",
   "pygments_lexer": "ipython3",
   "version": "3.9.12"
  }
 },
 "nbformat": 4,
 "nbformat_minor": 5
}
