{
 "cells": [
  {
   "cell_type": "code",
   "execution_count": 1,
   "id": "advanced-shaft",
   "metadata": {},
   "outputs": [],
   "source": [
    "from utils import load_cnf, cnf_to_bqm, get_ancilla_index\n",
    "\n",
    "def load_file(folder = 'sat', _variables=140):\n",
    "    path = f\"./{folder}/sgen1-{folder}-{_variables}-100.cnf\"\n",
    "    num_variables, num_clauses, variables, clauses = load_cnf(path)\n",
    "    return num_variables, num_clauses, variables, clauses"
   ]
  },
  {
   "cell_type": "code",
   "execution_count": 2,
   "id": "chubby-stopping",
   "metadata": {},
   "outputs": [],
   "source": [
    "original_vars_to_mirrors: Dict[int, List[int]] = dict()\n",
    "mirrors: Dict[int, int] = dict()\n",
    "clean_mirror_vars()\n",
    "num_variables, num_clauses, variables, clauses = load_file()\n",
    "initialize_mirror_vars(variables)"
   ]
  },
  {
   "cell_type": "code",
   "execution_count": 3,
   "id": "increased-flavor",
   "metadata": {},
   "outputs": [],
   "source": [
    "variables_to_mirror = []\n",
    "for var in range(1,len(variables)):\n",
    "    variables_to_mirror.append(mirror_variable(var, variables, clauses))\n",
    "for var in range(1,len(variables)):\n",
    "    variables_to_mirror.append(mirror_variable(var, variables, clauses))\n",
    "for var in range(1,len(variables)):\n",
    "    variables_to_mirror.append(mirror_variable(var, variables, clauses))"
   ]
  },
  {
   "cell_type": "code",
   "execution_count": 4,
   "id": "lasting-armstrong",
   "metadata": {},
   "outputs": [
    {
     "data": {
      "text/plain": [
       "1281"
      ]
     },
     "execution_count": 4,
     "metadata": {},
     "output_type": "execute_result"
    }
   ],
   "source": [
    "bqm, or_result_vars, clauses_qubits = cnf_to_bqm(variables, clauses)\n",
    "len(bqm.variables)"
   ]
  },
  {
   "cell_type": "code",
   "execution_count": 5,
   "id": "compact-activation",
   "metadata": {},
   "outputs": [],
   "source": [
    "def update_bqm_mirror_variable(original, mirror):\n",
    "    global bqm\n",
    "    bqm.add_variable(original, 2)\n",
    "    bqm.add_variable(mirror, 2)\n",
    "    bqm.add_interaction(original, mirror, -4)"
   ]
  },
  {
   "cell_type": "code",
   "execution_count": 6,
   "id": "raised-shaft",
   "metadata": {},
   "outputs": [],
   "source": [
    "for vtm in variables_to_mirror:\n",
    "    update_bqm_mirror_variable(vtm[0], vtm[1])"
   ]
  },
  {
   "cell_type": "markdown",
   "id": "delayed-syndicate",
   "metadata": {},
   "source": [
    "----------------------------"
   ]
  },
  {
   "cell_type": "code",
   "execution_count": 7,
   "id": "rational-review",
   "metadata": {},
   "outputs": [],
   "source": [
    "from minorminer import find_embedding\n",
    "from dwave.system import DWaveSampler, FixedEmbeddingComposite\n",
    "from greedy import SteepestDescentComposite\n",
    "qpu_pegasus = DWaveSampler(solver={'topology__type': 'pegasus'})"
   ]
  },
  {
   "cell_type": "code",
   "execution_count": 8,
   "id": "better-triangle",
   "metadata": {},
   "outputs": [
    {
     "data": {
      "text/plain": [
       "<AxesSubplot:ylabel='Count'>"
      ]
     },
     "execution_count": 8,
     "metadata": {},
     "output_type": "execute_result"
    },
    {
     "data": {
      "image/png": "[encoded data removed]",
      "text/plain": [
       "<Figure size 432x288 with 1 Axes>"
      ]
     },
     "metadata": {
      "needs_background": "light"
     },
     "output_type": "display_data"
    }
   ],
   "source": [
    "embedding = find_embedding(bqm.quadratic.keys(), qpu_pegasus.edgelist, random_seed=1238)\n",
    "\n",
    "def get_chain_lengths(_embedding):\n",
    "    lengths = []\n",
    "    biases = []\n",
    "    for (key, value) in _embedding.items():\n",
    "        lengths.append(len(value))\n",
    "        biases.append(bqm.linear[key])\n",
    "    return lengths, biases\n",
    "\n",
    "def count_qubits_used(embedding):\n",
    "    physical_vars = set()\n",
    "    for (logic_var, chain) in embedding.items():\n",
    "        for pv in chain:\n",
    "            physical_vars.add(pv)\n",
    "        \n",
    "    return len(physical_vars)\n",
    "\n",
    "import seaborn as sns\n",
    "sns.histplot(get_chain_lengths(embedding)[0])"
   ]
  },
  {
   "cell_type": "code",
   "execution_count": 9,
   "id": "polyphonic-prototype",
   "metadata": {},
   "outputs": [
    {
     "data": {
      "text/plain": [
       "3474"
      ]
     },
     "execution_count": 9,
     "metadata": {},
     "output_type": "execute_result"
    }
   ],
   "source": [
    "count_qubits_used(embedding)"
   ]
  },
  {
   "cell_type": "code",
   "execution_count": null,
   "id": "continuous-chrome",
   "metadata": {},
   "outputs": [],
   "source": [
    "for (logic_var, chains) in embedding.items():\n",
    "    if len(chains) == 1:\n",
    "        pass"
   ]
  },
  {
   "cell_type": "code",
   "execution_count": null,
   "id": "designing-market",
   "metadata": {},
   "outputs": [],
   "source": [
    "# sampler = SteepestDescentComposite(FixedEmbeddingComposite(DWaveSampler(solver={\"name\": \"Advantage_system4.1\"}), embedding))\n",
    "# sampleset = sampler.sample(bqm, num_reads=1000, answer_mode='raw', chain_strength=2)\n",
    "# sampleset.first.energy"
   ]
  },
  {
   "cell_type": "code",
   "execution_count": 10,
   "id": "anticipated-alcohol",
   "metadata": {},
   "outputs": [
    {
     "ename": "AttributeError",
     "evalue": "module 'scipy.sparse' has no attribute 'coo_array'",
     "output_type": "error",
     "traceback": [
      "\u001b[0;31m---------------------------------------------------------------------------\u001b[0m",
      "\u001b[0;31mAttributeError\u001b[0m                            Traceback (most recent call last)",
      "\u001b[0;32m<ipython-input-10-d668b8e08733>\u001b[0m in \u001b[0;36m<module>\u001b[0;34m\u001b[0m\n\u001b[1;32m      4\u001b[0m \u001b[0;32mfrom\u001b[0m \u001b[0mmatplotlib\u001b[0m\u001b[0;34m.\u001b[0m\u001b[0mpyplot\u001b[0m \u001b[0;32mimport\u001b[0m \u001b[0mfigure\u001b[0m\u001b[0;34m\u001b[0m\u001b[0;34m\u001b[0m\u001b[0m\n\u001b[1;32m      5\u001b[0m \u001b[0mfigure\u001b[0m\u001b[0;34m(\u001b[0m\u001b[0mfigsize\u001b[0m\u001b[0;34m=\u001b[0m\u001b[0;34m(\u001b[0m\u001b[0;36m15\u001b[0m\u001b[0;34m,\u001b[0m \u001b[0;36m15\u001b[0m\u001b[0;34m)\u001b[0m\u001b[0;34m)\u001b[0m\u001b[0;34m\u001b[0m\u001b[0;34m\u001b[0m\u001b[0m\n\u001b[0;32m----> 6\u001b[0;31m \u001b[0mnx\u001b[0m\u001b[0;34m.\u001b[0m\u001b[0mdraw\u001b[0m\u001b[0;34m(\u001b[0m\u001b[0mbqm_graph\u001b[0m\u001b[0;34m)\u001b[0m\u001b[0;34m\u001b[0m\u001b[0;34m\u001b[0m\u001b[0m\n\u001b[0m",
      "\u001b[0;32m/usr/local/lib/python3.9/site-packages/networkx/drawing/nx_pylab.py\u001b[0m in \u001b[0;36mdraw\u001b[0;34m(G, pos, ax, **kwds)\u001b[0m\n\u001b[1;32m    118\u001b[0m         \u001b[0mkwds\u001b[0m\u001b[0;34m[\u001b[0m\u001b[0;34m\"with_labels\"\u001b[0m\u001b[0;34m]\u001b[0m \u001b[0;34m=\u001b[0m \u001b[0;34m\"labels\"\u001b[0m \u001b[0;32min\u001b[0m \u001b[0mkwds\u001b[0m\u001b[0;34m\u001b[0m\u001b[0;34m\u001b[0m\u001b[0m\n\u001b[1;32m    119\u001b[0m \u001b[0;34m\u001b[0m\u001b[0m\n\u001b[0;32m--> 120\u001b[0;31m     \u001b[0mdraw_networkx\u001b[0m\u001b[0;34m(\u001b[0m\u001b[0mG\u001b[0m\u001b[0;34m,\u001b[0m \u001b[0mpos\u001b[0m\u001b[0;34m=\u001b[0m\u001b[0mpos\u001b[0m\u001b[0;34m,\u001b[0m \u001b[0max\u001b[0m\u001b[0;34m=\u001b[0m\u001b[0max\u001b[0m\u001b[0;34m,\u001b[0m \u001b[0;34m**\u001b[0m\u001b[0mkwds\u001b[0m\u001b[0;34m)\u001b[0m\u001b[0;34m\u001b[0m\u001b[0;34m\u001b[0m\u001b[0m\n\u001b[0m\u001b[1;32m    121\u001b[0m     \u001b[0max\u001b[0m\u001b[0;34m.\u001b[0m\u001b[0mset_axis_off\u001b[0m\u001b[0;34m(\u001b[0m\u001b[0;34m)\u001b[0m\u001b[0;34m\u001b[0m\u001b[0;34m\u001b[0m\u001b[0m\n\u001b[1;32m    122\u001b[0m     \u001b[0mplt\u001b[0m\u001b[0;34m.\u001b[0m\u001b[0mdraw_if_interactive\u001b[0m\u001b[0;34m(\u001b[0m\u001b[0;34m)\u001b[0m\u001b[0;34m\u001b[0m\u001b[0;34m\u001b[0m\u001b[0m\n",
      "\u001b[0;32m/usr/local/lib/python3.9/site-packages/networkx/drawing/nx_pylab.py\u001b[0m in \u001b[0;36mdraw_networkx\u001b[0;34m(G, pos, arrows, with_labels, **kwds)\u001b[0m\n\u001b[1;32m    329\u001b[0m \u001b[0;34m\u001b[0m\u001b[0m\n\u001b[1;32m    330\u001b[0m     \u001b[0;32mif\u001b[0m \u001b[0mpos\u001b[0m \u001b[0;32mis\u001b[0m \u001b[0;32mNone\u001b[0m\u001b[0;34m:\u001b[0m\u001b[0;34m\u001b[0m\u001b[0;34m\u001b[0m\u001b[0m\n\u001b[0;32m--> 331\u001b[0;31m         \u001b[0mpos\u001b[0m \u001b[0;34m=\u001b[0m \u001b[0mnx\u001b[0m\u001b[0;34m.\u001b[0m\u001b[0mdrawing\u001b[0m\u001b[0;34m.\u001b[0m\u001b[0mspring_layout\u001b[0m\u001b[0;34m(\u001b[0m\u001b[0mG\u001b[0m\u001b[0;34m)\u001b[0m  \u001b[0;31m# default to spring layout\u001b[0m\u001b[0;34m\u001b[0m\u001b[0;34m\u001b[0m\u001b[0m\n\u001b[0m\u001b[1;32m    332\u001b[0m \u001b[0;34m\u001b[0m\u001b[0m\n\u001b[1;32m    333\u001b[0m     \u001b[0mdraw_networkx_nodes\u001b[0m\u001b[0;34m(\u001b[0m\u001b[0mG\u001b[0m\u001b[0;34m,\u001b[0m \u001b[0mpos\u001b[0m\u001b[0;34m,\u001b[0m \u001b[0;34m**\u001b[0m\u001b[0mnode_kwds\u001b[0m\u001b[0;34m)\u001b[0m\u001b[0;34m\u001b[0m\u001b[0;34m\u001b[0m\u001b[0m\n",
      "\u001b[0;32m/usr/local/lib/python3.9/site-packages/networkx/utils/decorators.py\u001b[0m in \u001b[0;36mfunc\u001b[0;34m(_argmap__wrapper, *args, **kwargs)\u001b[0m\n\u001b[1;32m    814\u001b[0m \u001b[0;34m\u001b[0m\u001b[0m\n\u001b[1;32m    815\u001b[0m             \u001b[0;32mdef\u001b[0m \u001b[0mfunc\u001b[0m\u001b[0;34m(\u001b[0m\u001b[0;34m*\u001b[0m\u001b[0margs\u001b[0m\u001b[0;34m,\u001b[0m \u001b[0m__wrapper\u001b[0m\u001b[0;34m=\u001b[0m\u001b[0;32mNone\u001b[0m\u001b[0;34m,\u001b[0m \u001b[0;34m**\u001b[0m\u001b[0mkwargs\u001b[0m\u001b[0;34m)\u001b[0m\u001b[0;34m:\u001b[0m\u001b[0;34m\u001b[0m\u001b[0;34m\u001b[0m\u001b[0m\n\u001b[0;32m--> 816\u001b[0;31m                 \u001b[0;32mreturn\u001b[0m \u001b[0margmap\u001b[0m\u001b[0;34m.\u001b[0m\u001b[0m_lazy_compile\u001b[0m\u001b[0;34m(\u001b[0m\u001b[0m__wrapper\u001b[0m\u001b[0;34m)\u001b[0m\u001b[0;34m(\u001b[0m\u001b[0;34m*\u001b[0m\u001b[0margs\u001b[0m\u001b[0;34m,\u001b[0m \u001b[0;34m**\u001b[0m\u001b[0mkwargs\u001b[0m\u001b[0;34m)\u001b[0m\u001b[0;34m\u001b[0m\u001b[0;34m\u001b[0m\u001b[0m\n\u001b[0m\u001b[1;32m    817\u001b[0m \u001b[0;34m\u001b[0m\u001b[0m\n\u001b[1;32m    818\u001b[0m         \u001b[0;31m# standard function-wrapping stuff\u001b[0m\u001b[0;34m\u001b[0m\u001b[0;34m\u001b[0m\u001b[0m\n",
      "\u001b[0;32m/usr/local/lib/python3.9/site-packages/networkx/utils/decorators.py\u001b[0m in \u001b[0;36margmap_spring_layout_1\u001b[0;34m(G, k, pos, fixed, iterations, threshold, weight, scale, center, dim, seed)\u001b[0m\n\u001b[1;32m      2\u001b[0m \u001b[0;32mfrom\u001b[0m \u001b[0mos\u001b[0m\u001b[0;34m.\u001b[0m\u001b[0mpath\u001b[0m \u001b[0;32mimport\u001b[0m \u001b[0msplitext\u001b[0m\u001b[0;34m\u001b[0m\u001b[0;34m\u001b[0m\u001b[0m\n\u001b[1;32m      3\u001b[0m \u001b[0;32mfrom\u001b[0m \u001b[0mcontextlib\u001b[0m \u001b[0;32mimport\u001b[0m \u001b[0mcontextmanager\u001b[0m\u001b[0;34m\u001b[0m\u001b[0;34m\u001b[0m\u001b[0m\n\u001b[0;32m----> 4\u001b[0;31m \u001b[0;32mfrom\u001b[0m \u001b[0mpathlib\u001b[0m \u001b[0;32mimport\u001b[0m \u001b[0mPath\u001b[0m\u001b[0;34m\u001b[0m\u001b[0;34m\u001b[0m\u001b[0m\n\u001b[0m\u001b[1;32m      5\u001b[0m \u001b[0;34m\u001b[0m\u001b[0m\n\u001b[1;32m      6\u001b[0m \u001b[0;32mimport\u001b[0m \u001b[0mnetworkx\u001b[0m \u001b[0;32mas\u001b[0m \u001b[0mnx\u001b[0m\u001b[0;34m\u001b[0m\u001b[0;34m\u001b[0m\u001b[0m\n",
      "\u001b[0;32m/usr/local/lib/python3.9/site-packages/networkx/drawing/layout.py\u001b[0m in \u001b[0;36mspring_layout\u001b[0;34m(G, k, pos, fixed, iterations, threshold, weight, scale, center, dim, seed)\u001b[0m\n\u001b[1;32m    474\u001b[0m         \u001b[0;32mif\u001b[0m \u001b[0mlen\u001b[0m\u001b[0;34m(\u001b[0m\u001b[0mG\u001b[0m\u001b[0;34m)\u001b[0m \u001b[0;34m<\u001b[0m \u001b[0;36m500\u001b[0m\u001b[0;34m:\u001b[0m  \u001b[0;31m# sparse solver for large graphs\u001b[0m\u001b[0;34m\u001b[0m\u001b[0;34m\u001b[0m\u001b[0m\n\u001b[1;32m    475\u001b[0m             \u001b[0;32mraise\u001b[0m \u001b[0mValueError\u001b[0m\u001b[0;34m\u001b[0m\u001b[0;34m\u001b[0m\u001b[0m\n\u001b[0;32m--> 476\u001b[0;31m         \u001b[0mA\u001b[0m \u001b[0;34m=\u001b[0m \u001b[0mnx\u001b[0m\u001b[0;34m.\u001b[0m\u001b[0mto_scipy_sparse_array\u001b[0m\u001b[0;34m(\u001b[0m\u001b[0mG\u001b[0m\u001b[0;34m,\u001b[0m \u001b[0mweight\u001b[0m\u001b[0;34m=\u001b[0m\u001b[0mweight\u001b[0m\u001b[0;34m,\u001b[0m \u001b[0mdtype\u001b[0m\u001b[0;34m=\u001b[0m\u001b[0;34m\"f\"\u001b[0m\u001b[0;34m)\u001b[0m\u001b[0;34m\u001b[0m\u001b[0;34m\u001b[0m\u001b[0m\n\u001b[0m\u001b[1;32m    477\u001b[0m         \u001b[0;32mif\u001b[0m \u001b[0mk\u001b[0m \u001b[0;32mis\u001b[0m \u001b[0;32mNone\u001b[0m \u001b[0;32mand\u001b[0m \u001b[0mfixed\u001b[0m \u001b[0;32mis\u001b[0m \u001b[0;32mnot\u001b[0m \u001b[0;32mNone\u001b[0m\u001b[0;34m:\u001b[0m\u001b[0;34m\u001b[0m\u001b[0;34m\u001b[0m\u001b[0m\n\u001b[1;32m    478\u001b[0m             \u001b[0;31m# We must adjust k by domain size for layouts not near 1x1\u001b[0m\u001b[0;34m\u001b[0m\u001b[0;34m\u001b[0m\u001b[0m\n",
      "\u001b[0;32m/usr/local/lib/python3.9/site-packages/networkx/convert_matrix.py\u001b[0m in \u001b[0;36mto_scipy_sparse_array\u001b[0;34m(G, nodelist, dtype, weight, format)\u001b[0m\n\u001b[1;32m    919\u001b[0m             \u001b[0mr\u001b[0m \u001b[0;34m+=\u001b[0m \u001b[0mdiag_index\u001b[0m\u001b[0;34m\u001b[0m\u001b[0;34m\u001b[0m\u001b[0m\n\u001b[1;32m    920\u001b[0m             \u001b[0mc\u001b[0m \u001b[0;34m+=\u001b[0m \u001b[0mdiag_index\u001b[0m\u001b[0;34m\u001b[0m\u001b[0;34m\u001b[0m\u001b[0m\n\u001b[0;32m--> 921\u001b[0;31m         \u001b[0mA\u001b[0m \u001b[0;34m=\u001b[0m \u001b[0msp\u001b[0m\u001b[0;34m.\u001b[0m\u001b[0msparse\u001b[0m\u001b[0;34m.\u001b[0m\u001b[0mcoo_array\u001b[0m\u001b[0;34m(\u001b[0m\u001b[0;34m(\u001b[0m\u001b[0md\u001b[0m\u001b[0;34m,\u001b[0m \u001b[0;34m(\u001b[0m\u001b[0mr\u001b[0m\u001b[0;34m,\u001b[0m \u001b[0mc\u001b[0m\u001b[0;34m)\u001b[0m\u001b[0;34m)\u001b[0m\u001b[0;34m,\u001b[0m \u001b[0mshape\u001b[0m\u001b[0;34m=\u001b[0m\u001b[0;34m(\u001b[0m\u001b[0mnlen\u001b[0m\u001b[0;34m,\u001b[0m \u001b[0mnlen\u001b[0m\u001b[0;34m)\u001b[0m\u001b[0;34m,\u001b[0m \u001b[0mdtype\u001b[0m\u001b[0;34m=\u001b[0m\u001b[0mdtype\u001b[0m\u001b[0;34m)\u001b[0m\u001b[0;34m\u001b[0m\u001b[0;34m\u001b[0m\u001b[0m\n\u001b[0m\u001b[1;32m    922\u001b[0m     \u001b[0;32mtry\u001b[0m\u001b[0;34m:\u001b[0m\u001b[0;34m\u001b[0m\u001b[0;34m\u001b[0m\u001b[0m\n\u001b[1;32m    923\u001b[0m         \u001b[0;32mreturn\u001b[0m \u001b[0mA\u001b[0m\u001b[0;34m.\u001b[0m\u001b[0masformat\u001b[0m\u001b[0;34m(\u001b[0m\u001b[0mformat\u001b[0m\u001b[0;34m)\u001b[0m\u001b[0;34m\u001b[0m\u001b[0;34m\u001b[0m\u001b[0m\n",
      "\u001b[0;31mAttributeError\u001b[0m: module 'scipy.sparse' has no attribute 'coo_array'"
     ]
    },
    {
     "data": {
      "image/png": "[encoded data removed]",
      "text/plain": [
       "<Figure size 1080x1080 with 1 Axes>"
      ]
     },
     "metadata": {},
     "output_type": "display_data"
    }
   ],
   "source": [
    "import dimod\n",
    "bqm_graph = dimod.to_networkx_graph(bqm)\n",
    "import networkx as nx\n",
    "from matplotlib.pyplot import figure\n",
    "figure(figsize=(15, 15))\n",
    "nx.draw(bqm_graph)"
   ]
  },
  {
   "cell_type": "code",
   "execution_count": null,
   "id": "otherwise-algeria",
   "metadata": {},
   "outputs": [],
   "source": [
    "for (key, value) in bqm.adj.items():\n",
    "    if len(value) == 2:\n",
    "        print(key)"
   ]
  },
  {
   "cell_type": "markdown",
   "id": "suffering-modification",
   "metadata": {},
   "source": [
    "------------"
   ]
  },
  {
   "cell_type": "code",
   "execution_count": 14,
   "id": "casual-pioneer",
   "metadata": {},
   "outputs": [],
   "source": [
    "pegasus_adj = qpu_pegasus.adjacency"
   ]
  },
  {
   "cell_type": "code",
   "execution_count": 12,
   "id": "representative-machinery",
   "metadata": {},
   "outputs": [],
   "source": [
    "freq = []\n",
    "freq_dict = dict()\n",
    "for node in pegasus_adj.keys():\n",
    "    l = len(pegasus_adj[node])\n",
    "    if l not in freq_dict:\n",
    "        freq_dict[l] = 0\n",
    "    freq.append(l)\n",
    "    freq_dict[l] += 1"
   ]
  },
  {
   "cell_type": "code",
   "execution_count": 13,
   "id": "moved-pressure",
   "metadata": {},
   "outputs": [
    {
     "data": {
      "text/plain": [
       "<AxesSubplot:ylabel='Count'>"
      ]
     },
     "execution_count": 13,
     "metadata": {},
     "output_type": "execute_result"
    },
    {
     "data": {
      "image/png": "[encoded data removed]",
      "text/plain": [
       "<Figure size 432x288 with 1 Axes>"
      ]
     },
     "metadata": {
      "needs_background": "light"
     },
     "output_type": "display_data"
    }
   ],
   "source": [
    "import seaborn as sns\n",
    "sns.histplot(freq)"
   ]
  },
  {
   "cell_type": "code",
   "execution_count": 29,
   "id": "engaged-pipeline",
   "metadata": {},
   "outputs": [
    {
     "data": {
      "text/plain": [
       "{6: 32, 7: 208, 10: 36, 11: 203, 14: 814, 15: 4290, 13: 43, 12: 1}"
      ]
     },
     "execution_count": 29,
     "metadata": {},
     "output_type": "execute_result"
    }
   ],
   "source": [
    "freq_dict"
   ]
  },
  {
   "cell_type": "code",
   "execution_count": 62,
   "id": "herbal-rachel",
   "metadata": {},
   "outputs": [
    {
     "name": "stdout",
     "output_type": "stream",
     "text": [
      "3\n",
      "6\n",
      "7\n",
      "10\n",
      "11\n",
      "12\n",
      "13\n",
      "14\n",
      "16\n",
      "17\n",
      "18\n",
      "19\n",
      "21\n",
      "22\n",
      "23\n",
      "24\n",
      "25\n",
      "27\n",
      "28\n",
      "30\n",
      "32\n",
      "34\n",
      "35\n",
      "36\n",
      "38\n",
      "39\n",
      "40\n",
      "41\n",
      "44\n",
      "47\n",
      "48\n",
      "49\n",
      "51\n",
      "52\n",
      "53\n",
      "57\n",
      "58\n",
      "59\n",
      "60\n",
      "61\n",
      "62\n",
      "65\n",
      "67\n",
      "68\n",
      "69\n",
      "71\n",
      "76\n",
      "78\n",
      "79\n",
      "82\n",
      "83\n",
      "84\n",
      "85\n",
      "87\n",
      "88\n",
      "91\n",
      "92\n",
      "94\n",
      "97\n",
      "98\n",
      "99\n",
      "100\n",
      "101\n",
      "103\n",
      "104\n",
      "107\n",
      "108\n",
      "109\n",
      "110\n",
      "111\n",
      "112\n",
      "113\n",
      "114\n",
      "115\n",
      "116\n",
      "117\n",
      "120\n",
      "123\n",
      "124\n",
      "128\n",
      "129\n",
      "130\n",
      "131\n",
      "133\n",
      "134\n",
      "135\n",
      "136\n",
      "137\n",
      "138\n",
      "140\n"
     ]
    }
   ],
   "source": [
    "num_variables, num_clauses, variables, clauses = load_file()\n",
    "variables_to_mirror = []\n",
    "for var in range(1,len(variables)+1):\n",
    "    variables_to_mirror.append(mirror_variable(var, variables, clauses))\n",
    "for var in a:\n",
    "    print(var)\n",
    "    variables_to_mirror.append(mirror_variable(var, variables, clauses))\n",
    "variables_to_mirror.append(mirror_variable(2, variables, clauses))  \n",
    "bqm, or_result_vars, clauses_qubits = cnf_to_bqm(variables, clauses)\n",
    "for vtm in variables_to_mirror:\n",
    "    update_bqm_mirror_variable(vtm[0], vtm[1])"
   ]
  },
  {
   "cell_type": "code",
   "execution_count": 56,
   "id": "taken-yemen",
   "metadata": {},
   "outputs": [
    {
     "data": {
      "text/plain": [
       "2"
      ]
     },
     "execution_count": 56,
     "metadata": {},
     "output_type": "execute_result"
    }
   ],
   "source": [
    "get_count_occurrences(2, clauses)"
   ]
  },
  {
   "cell_type": "code",
   "execution_count": 57,
   "id": "western-angola",
   "metadata": {},
   "outputs": [],
   "source": [
    "bqm_freq_dict = dict()\n",
    "bqm_freq = []\n",
    "for node in bqm.adj.keys():\n",
    "    l = len(bqm.adj[node])\n",
    "    if l not in bqm_freq_dict:\n",
    "        bqm_freq_dict[l] = 0\n",
    "    bqm_freq.append(l)\n",
    "    bqm_freq_dict[l] += 1"
   ]
  },
  {
   "cell_type": "code",
   "execution_count": 58,
   "id": "increasing-angola",
   "metadata": {},
   "outputs": [
    {
     "data": {
      "text/plain": [
       "<AxesSubplot:ylabel='Count'>"
      ]
     },
     "execution_count": 58,
     "metadata": {},
     "output_type": "execute_result"
    },
    {
     "data": {
      "image/png": "[encoded data removed]",
      "text/plain": [
       "<Figure size 432x288 with 1 Axes>"
      ]
     },
     "metadata": {
      "needs_background": "light"
     },
     "output_type": "display_data"
    }
   ],
   "source": [
    "sns.histplot(bqm_freq)"
   ]
  },
  {
   "cell_type": "code",
   "execution_count": 59,
   "id": "maritime-dispute",
   "metadata": {},
   "outputs": [],
   "source": [
    "a = []\n",
    "for node in bqm.adj.keys():\n",
    "    l = len(bqm.adj[node])\n",
    "    if l ==6:\n",
    "        a.append(node)"
   ]
  },
  {
   "cell_type": "code",
   "execution_count": 61,
   "id": "brazilian-juice",
   "metadata": {},
   "outputs": [
    {
     "data": {
      "text/plain": [
       "[3,\n",
       " 6,\n",
       " 7,\n",
       " 10,\n",
       " 11,\n",
       " 12,\n",
       " 13,\n",
       " 14,\n",
       " 16,\n",
       " 17,\n",
       " 18,\n",
       " 19,\n",
       " 21,\n",
       " 22,\n",
       " 23,\n",
       " 24,\n",
       " 25,\n",
       " 27,\n",
       " 28,\n",
       " 30,\n",
       " 32,\n",
       " 34,\n",
       " 35,\n",
       " 36,\n",
       " 38,\n",
       " 39,\n",
       " 40,\n",
       " 41,\n",
       " 44,\n",
       " 47,\n",
       " 48,\n",
       " 49,\n",
       " 51,\n",
       " 52,\n",
       " 53,\n",
       " 57,\n",
       " 58,\n",
       " 59,\n",
       " 60,\n",
       " 61,\n",
       " 62,\n",
       " 65,\n",
       " 67,\n",
       " 68,\n",
       " 69,\n",
       " 71,\n",
       " 76,\n",
       " 78,\n",
       " 79,\n",
       " 82,\n",
       " 83,\n",
       " 84,\n",
       " 85,\n",
       " 87,\n",
       " 88,\n",
       " 91,\n",
       " 92,\n",
       " 94,\n",
       " 97,\n",
       " 98,\n",
       " 99,\n",
       " 100,\n",
       " 101,\n",
       " 103,\n",
       " 104,\n",
       " 107,\n",
       " 108,\n",
       " 109,\n",
       " 110,\n",
       " 111,\n",
       " 112,\n",
       " 113,\n",
       " 114,\n",
       " 115,\n",
       " 116,\n",
       " 117,\n",
       " 120,\n",
       " 123,\n",
       " 124,\n",
       " 128,\n",
       " 129,\n",
       " 130,\n",
       " 131,\n",
       " 133,\n",
       " 134,\n",
       " 135,\n",
       " 136,\n",
       " 137,\n",
       " 138,\n",
       " 140]"
      ]
     },
     "execution_count": 61,
     "metadata": {},
     "output_type": "execute_result"
    }
   ],
   "source": [
    "a"
   ]
  },
  {
   "cell_type": "code",
   "execution_count": 12,
   "id": "extraordinary-cooper",
   "metadata": {},
   "outputs": [
    {
     "data": {
      "text/plain": [
       "{4: 280, 5: 111, 6: 1, 3: 443, 2: 170, 1: 276}"
      ]
     },
     "execution_count": 12,
     "metadata": {},
     "output_type": "execute_result"
    }
   ],
   "source": [
    "bqm_freq_dict"
   ]
  },
  {
   "cell_type": "markdown",
   "id": "sitting-glass",
   "metadata": {},
   "source": [
    "---------"
   ]
  },
  {
   "cell_type": "code",
   "execution_count": 15,
   "id": "imposed-frederick",
   "metadata": {},
   "outputs": [
    {
     "data": {
      "text/plain": [
       "5104"
      ]
     },
     "execution_count": 15,
     "metadata": {},
     "output_type": "execute_result"
    }
   ],
   "source": [
    "def has_high_degree_neighbour(edges):\n",
    "    for node in edges:\n",
    "        l = len(pegasus_adj[node])\n",
    "        if l > 8:\n",
    "            return True\n",
    "    return False\n",
    "\n",
    "high_degree_nodes = set()\n",
    "for node in pegasus_adj.keys():\n",
    "    l = len(pegasus_adj[node])\n",
    "    if l > 13:\n",
    "        if has_high_degree_neighbour(pegasus_adj[node]):\n",
    "            high_degree_nodes.add(node)\n",
    "len(high_degree_nodes)"
   ]
  },
  {
   "cell_type": "code",
   "execution_count": 16,
   "id": "spoken-thursday",
   "metadata": {},
   "outputs": [
    {
     "data": {
      "text/plain": [
       "36383"
      ]
     },
     "execution_count": 16,
     "metadata": {},
     "output_type": "execute_result"
    }
   ],
   "source": [
    "valid_edges = []\n",
    "for edge in qpu_pegasus.edgelist:\n",
    "    if edge[0] in high_degree_nodes and edge[1] in high_degree_nodes:\n",
    "        valid_edges.append(edge)\n",
    "len(valid_edges)"
   ]
  },
  {
   "cell_type": "code",
   "execution_count": 17,
   "id": "pressed-distinction",
   "metadata": {},
   "outputs": [],
   "source": [
    "embedding = find_embedding(bqm.quadratic.keys(), valid_edges, random_seed=1238)"
   ]
  },
  {
   "cell_type": "code",
   "execution_count": 18,
   "id": "forty-influence",
   "metadata": {},
   "outputs": [
    {
     "data": {
      "text/plain": [
       "<AxesSubplot:ylabel='Count'>"
      ]
     },
     "execution_count": 18,
     "metadata": {},
     "output_type": "execute_result"
    },
    {
     "data": {
      "image/png": "[encoded data removed]",
      "text/plain": [
       "<Figure size 432x288 with 1 Axes>"
      ]
     },
     "metadata": {
      "needs_background": "light"
     },
     "output_type": "display_data"
    }
   ],
   "source": [
    "sns.histplot(get_chain_lengths(embedding)[0])"
   ]
  },
  {
   "cell_type": "code",
   "execution_count": 25,
   "id": "coupled-education",
   "metadata": {},
   "outputs": [
    {
     "data": {
      "text/plain": [
       "2468"
      ]
     },
     "execution_count": 25,
     "metadata": {},
     "output_type": "execute_result"
    }
   ],
   "source": [
    "count_qubits_used(embedding)"
   ]
  },
  {
   "cell_type": "code",
   "execution_count": 50,
   "id": "metropolitan-wyoming",
   "metadata": {},
   "outputs": [
    {
     "data": {
      "text/plain": [
       "{}"
      ]
     },
     "execution_count": 50,
     "metadata": {},
     "output_type": "execute_result"
    }
   ],
   "source": [
    "embedding"
   ]
  },
  {
   "cell_type": "code",
   "execution_count": null,
   "id": "awful-mother",
   "metadata": {},
   "outputs": [],
   "source": []
  }
 ],
 "metadata": {
  "kernelspec": {
   "display_name": "Python 3",
   "language": "python",
   "name": "python3"
  },
  "language_info": {
   "codemirror_mode": {
    "name": "ipython",
    "version": 3
   },
   "file_extension": ".py",
   "mimetype": "text/x-python",
   "name": "python",
   "nbconvert_exporter": "python",
   "pygments_lexer": "ipython3",
   "version": "3.9.9"
  }
 },
 "nbformat": 4,
 "nbformat_minor": 5
}
