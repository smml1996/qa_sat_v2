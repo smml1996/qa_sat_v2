{
 "cells": [
  {
   "cell_type": "code",
   "execution_count": 1,
   "id": "accepting-bible",
   "metadata": {},
   "outputs": [],
   "source": [
    "from utils import load_cnf, cnf_to_bqm, get_ancilla_index"
   ]
  },
  {
   "cell_type": "code",
   "execution_count": 2,
   "id": "scientific-hearing",
   "metadata": {},
   "outputs": [],
   "source": [
    "def load_file(folder = 'sat', _variables=140):\n",
    "    path = f\"./{folder}/sgen1-{folder}-{_variables}-100.cnf\"\n",
    "    num_variables, num_clauses, variables, clauses = load_cnf(path)\n",
    "    return num_variables, num_clauses, variables, clauses"
   ]
  },
  {
   "cell_type": "code",
   "execution_count": 3,
   "id": "behind-campus",
   "metadata": {},
   "outputs": [],
   "source": [
    "def get_key_with_value(d, val):\n",
    "    for (key, value) in d.items():\n",
    "        if d[key] == val:\n",
    "            return key\n",
    "        \n",
    "    return -1\n",
    "\n",
    "def mirror_variable(variables, clauses) -> (int, int):\n",
    "    # find variables that repeats the most\n",
    "    counts = dict()\n",
    "    for clause in clauses:\n",
    "        for var in clause:\n",
    "            abs_var = abs(var)\n",
    "            if abs_var not in counts:\n",
    "                counts[abs_var] = 0\n",
    "            counts[abs_var] += 1\n",
    "    \n",
    "    max_count = max(counts.values())\n",
    "    key = get_key_with_value(counts, max_count)\n",
    "    assert(key != -1)\n",
    "    assert(counts[key] == max_count)\n",
    "    new_variable = len(variables) + 1 \n",
    "    assert(new_variable not in variables)\n",
    "    variables.add(new_variable)\n",
    "    replacements = max_count//2\n",
    "    if replacements == 0:\n",
    "        return key, new_variable\n",
    "    for clause in clauses:\n",
    "        for i in range(len(clause)):\n",
    "            if abs(clause[i]) == key:\n",
    "                if clause[i] < 0:\n",
    "                    clause[i] = -new_variable\n",
    "                else:\n",
    "                    clause[i] = new_variable\n",
    "                replacements -= 1\n",
    "                if replacements == 0:\n",
    "                    return key, new_variable\n",
    "    return -1, -1"
   ]
  },
  {
   "cell_type": "code",
   "execution_count": 20,
   "id": "white-beginning",
   "metadata": {},
   "outputs": [],
   "source": [
    "num_variables, num_clauses, variables, clauses = load_file()"
   ]
  },
  {
   "cell_type": "code",
   "execution_count": 5,
   "id": "olive-latino",
   "metadata": {},
   "outputs": [],
   "source": [
    "num_variables_to_mirror = 1\n",
    "variables_to_mirror = []\n",
    "for i in range(num_variables_to_mirror):\n",
    "    variables_to_mirror.append(mirror_variable(variables, clauses))"
   ]
  },
  {
   "cell_type": "code",
   "execution_count": 18,
   "id": "trained-dividend",
   "metadata": {},
   "outputs": [],
   "source": [
    "bqm, or_result_vars, clauses_qubits = cnf_to_bqm(variables, clauses)"
   ]
  },
  {
   "cell_type": "code",
   "execution_count": 19,
   "id": "gothic-population",
   "metadata": {},
   "outputs": [
    {
     "data": {
      "text/plain": [
       "308"
      ]
     },
     "execution_count": 19,
     "metadata": {},
     "output_type": "execute_result"
    }
   ],
   "source": [
    "len(bqm.variables)"
   ]
  },
  {
   "cell_type": "code",
   "execution_count": 10,
   "id": "statistical-postage",
   "metadata": {},
   "outputs": [],
   "source": [
    "def update_bqm_mirror_variable(original, mirror):\n",
    "    global bqm\n",
    "    bqm.add_variable(original, 2)\n",
    "    bqm.add_variable(mirror, 2)\n",
    "    bqm.add_interaction(original, mirror, -4)"
   ]
  },
  {
   "cell_type": "code",
   "execution_count": 8,
   "id": "constant-projection",
   "metadata": {},
   "outputs": [],
   "source": [
    "for vtm in variables_to_mirror:\n",
    "    update_bqm_mirrow_variable(vtm[0], vtm[1])"
   ]
  },
  {
   "cell_type": "code",
   "execution_count": 5,
   "id": "focused-portsmouth",
   "metadata": {},
   "outputs": [],
   "source": [
    "from minorminer import find_embedding\n",
    "from dwave.system import DWaveSampler, FixedEmbeddingComposite\n",
    "qpu_pegasus = DWaveSampler(solver={'topology__type': 'pegasus'})"
   ]
  },
  {
   "cell_type": "code",
   "execution_count": 6,
   "id": "adverse-catalog",
   "metadata": {},
   "outputs": [
    {
     "ename": "NameError",
     "evalue": "name 'bqm' is not defined",
     "output_type": "error",
     "traceback": [
      "\u001b[0;31m---------------------------------------------------------------------------\u001b[0m",
      "\u001b[0;31mNameError\u001b[0m                                 Traceback (most recent call last)",
      "\u001b[0;32m<ipython-input-6-dda6a22cd41a>\u001b[0m in \u001b[0;36m<module>\u001b[0;34m\u001b[0m\n\u001b[0;32m----> 1\u001b[0;31m \u001b[0membedding\u001b[0m \u001b[0;34m=\u001b[0m \u001b[0mfind_embedding\u001b[0m\u001b[0;34m(\u001b[0m\u001b[0mbqm\u001b[0m\u001b[0;34m.\u001b[0m\u001b[0mquadratic\u001b[0m\u001b[0;34m.\u001b[0m\u001b[0mkeys\u001b[0m\u001b[0;34m(\u001b[0m\u001b[0;34m)\u001b[0m\u001b[0;34m,\u001b[0m \u001b[0mqpu_pegasus\u001b[0m\u001b[0;34m.\u001b[0m\u001b[0medgelist\u001b[0m\u001b[0;34m,\u001b[0m \u001b[0mrandom_seed\u001b[0m\u001b[0;34m=\u001b[0m\u001b[0;36m1\u001b[0m\u001b[0;34m)\u001b[0m\u001b[0;34m\u001b[0m\u001b[0;34m\u001b[0m\u001b[0m\n\u001b[0m\u001b[1;32m      2\u001b[0m \u001b[0;34m\u001b[0m\u001b[0m\n\u001b[1;32m      3\u001b[0m \u001b[0;32mdef\u001b[0m \u001b[0mget_chain_lengths\u001b[0m\u001b[0;34m(\u001b[0m\u001b[0m_embedding\u001b[0m\u001b[0;34m)\u001b[0m\u001b[0;34m:\u001b[0m\u001b[0;34m\u001b[0m\u001b[0;34m\u001b[0m\u001b[0m\n\u001b[1;32m      4\u001b[0m     \u001b[0mlengths\u001b[0m \u001b[0;34m=\u001b[0m \u001b[0;34m[\u001b[0m\u001b[0;34m]\u001b[0m\u001b[0;34m\u001b[0m\u001b[0;34m\u001b[0m\u001b[0m\n\u001b[1;32m      5\u001b[0m     \u001b[0mbiases\u001b[0m \u001b[0;34m=\u001b[0m \u001b[0;34m[\u001b[0m\u001b[0;34m]\u001b[0m\u001b[0;34m\u001b[0m\u001b[0;34m\u001b[0m\u001b[0m\n",
      "\u001b[0;31mNameError\u001b[0m: name 'bqm' is not defined"
     ]
    }
   ],
   "source": [
    "embedding = find_embedding(bqm.quadratic.keys(), qpu_pegasus.edgelist, random_seed=1)\n",
    "\n",
    "def get_chain_lengths(_embedding):\n",
    "    lengths = []\n",
    "    biases = []\n",
    "    for (key, value) in _embedding.items():\n",
    "        lengths.append(len(value))\n",
    "        biases.append(bqm.linear[key])\n",
    "    return lengths, biases\n",
    "\n",
    "import seaborn as sns\n",
    "sns.histplot(get_chain_lengths(embedding)[0])"
   ]
  },
  {
   "cell_type": "code",
   "execution_count": 8,
   "id": "imposed-celebration",
   "metadata": {},
   "outputs": [],
   "source": [
    "def count_qubits_used(embedding):\n",
    "    physical_vars = set()\n",
    "    for (logic_var, chain) in embedding.items():\n",
    "        for pv in chain:\n",
    "            physical_vars.add(pv)\n",
    "        \n",
    "    return len(physical_vars)\n",
    "#count_qubits_used(embedding)"
   ]
  },
  {
   "cell_type": "markdown",
   "id": "parental-thomas",
   "metadata": {},
   "source": [
    "-----------------------"
   ]
  },
  {
   "cell_type": "code",
   "execution_count": null,
   "id": "second-browser",
   "metadata": {},
   "outputs": [
    {
     "name": "stdout",
     "output_type": "stream",
     "text": [
      "0 1413\n",
      "1 1441\n",
      "2 1370\n",
      "3 1620\n",
      "4 1480\n",
      "5 1592\n",
      "6 1416\n",
      "7 1687\n",
      "8 1585\n",
      "9 1457\n",
      "10 1567\n",
      "11 1491\n",
      "12 1462\n",
      "13 1603\n",
      "14 1569\n",
      "15 1355\n",
      "16 1489\n",
      "17 1444\n",
      "18 1443\n",
      "19 1452\n",
      "20 1396\n",
      "21 1657\n",
      "22 1565\n",
      "23 1592\n",
      "24 1393\n",
      "25 1388\n",
      "26 1407\n",
      "27 1522\n",
      "28 1607\n",
      "29 1387\n",
      "30 1450\n",
      "31 1446\n",
      "32 1435\n",
      "33 1530\n",
      "34 1470\n",
      "35 1416\n",
      "36 1627\n",
      "37 1357\n",
      "38 1419\n",
      "39 1719\n",
      "40 1759\n",
      "41 1575\n",
      "42 1567\n",
      "43 1678\n",
      "44 1629\n",
      "45 1531\n",
      "46 1681\n",
      "47 1602\n",
      "48 1582\n",
      "49 1583\n",
      "50 1570\n",
      "51 1604\n",
      "52 1487\n",
      "53 1624\n",
      "54 1617\n",
      "55 1538\n",
      "56 1459\n",
      "57 1603\n",
      "58 1570\n",
      "59 1564\n",
      "60 1869\n",
      "61 1646\n",
      "62 1652\n",
      "63 1548\n",
      "64 1583\n",
      "65 1608\n",
      "66 1692\n",
      "67 1612\n",
      "68 1669\n",
      "69 1658\n",
      "70 1904\n",
      "71 1825\n",
      "72 1469\n",
      "73 1530\n",
      "74 1557\n",
      "75 1612\n",
      "76 1496\n",
      "77 1635\n",
      "78 1625\n",
      "79 1543\n",
      "80 1660\n",
      "81 1682\n",
      "82 1670\n",
      "83 1710\n",
      "84 1599\n",
      "85 1526\n",
      "86 1438\n",
      "87 1877\n",
      "88 1679\n",
      "89 1521\n",
      "90 1528\n",
      "91 1586\n",
      "92 1628\n",
      "93 1656\n",
      "94 1698\n",
      "95 1882\n",
      "96 1719\n",
      "97 1605\n",
      "98 1641\n",
      "99 1546\n",
      "100 1762\n",
      "101 1779\n",
      "102 1712\n",
      "103"
     ]
    }
   ],
   "source": [
    "num_variables_to_mirror = 1\n",
    "mirrored_variables = []\n",
    "total_used_qubits = []\n",
    "for num_variables_to_mirror in range(141):\n",
    "    \n",
    "    num_variables, num_clauses, variables, clauses = load_file()\n",
    "    variables_to_mirror = []\n",
    "    for i in range(num_variables_to_mirror):\n",
    "        variables_to_mirror.append(mirror_variable(variables, clauses))\n",
    "    bqm, or_result_vars, clauses_qubits = cnf_to_bqm(variables, clauses)\n",
    "    assert(len(bqm.variables) == 308 + num_variables_to_mirror)\n",
    "    for vtm in variables_to_mirror:\n",
    "        update_bqm_mirror_variable(vtm[0], vtm[1])\n",
    "    embedding = find_embedding(bqm.quadratic.keys(), qpu_pegasus.edgelist, random_seed=1)\n",
    "    mirrored_variables.append(num_variables_to_mirror)\n",
    "    total_used_qubits.append(count_qubits_used(embedding))\n",
    "    print(num_variables_to_mirror, count_qubits_used(embedding))"
   ]
  },
  {
   "cell_type": "code",
   "execution_count": null,
   "id": "democratic-costa",
   "metadata": {},
   "outputs": [],
   "source": []
  }
 ],
 "metadata": {
  "kernelspec": {
   "display_name": "Python 3",
   "language": "python",
   "name": "python3"
  },
  "language_info": {
   "codemirror_mode": {
    "name": "ipython",
    "version": 3
   },
   "file_extension": ".py",
   "mimetype": "text/x-python",
   "name": "python",
   "nbconvert_exporter": "python",
   "pygments_lexer": "ipython3",
   "version": "3.9.9"
  }
 },
 "nbformat": 4,
 "nbformat_minor": 5
}
