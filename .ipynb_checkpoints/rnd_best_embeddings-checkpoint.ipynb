{
 "cells": [
  {
   "cell_type": "code",
   "execution_count": 1,
   "id": "beautiful-croatia",
   "metadata": {},
   "outputs": [],
   "source": [
    "from utils import load_cnf, cnf_to_bqm\n",
    "from embedding_utils import *\n",
    "import seaborn as sns\n",
    "from redundancy import *\n",
    "from utils import *\n",
    "from dwave.embedding.chain_strength import scaled\n",
    "import pandas as pd\n",
    "from brute_force import get_bqm_random_sat"
   ]
  },
  {
   "cell_type": "code",
   "execution_count": 6,
   "id": "otherwise-baghdad",
   "metadata": {},
   "outputs": [],
   "source": [
    "seed = 1\n",
    "n_variables = list(range(10, 21, 5))\n",
    "n_clauses = list(range(10, 101, 5))\n",
    "rows = []\n",
    "qpu = get_qpu()"
   ]
  },
  {
   "cell_type": "code",
   "execution_count": 3,
   "id": "tired-airport",
   "metadata": {},
   "outputs": [],
   "source": [
    "# for n in n_variables:\n",
    "#     for c in n_clauses:\n",
    "#         variables, clauses = get_random_instance(n, c, seed)\n",
    "#         sat_ratio = get_percentage_satisfiable(variables, clauses)\n",
    "#         rows.append([n, c, sat_ratio])\n",
    "\n",
    "# tn_variables = []\n",
    "# tn_clauses = []\n",
    "# t_sat = []\n",
    "# for row in rows:\n",
    "#     tn_variables.append(row[0])\n",
    "#     tn_clauses.append(row[1])\n",
    "#     t_sat.append(row[2])\n",
    "# df = pd.DataFrame({\n",
    "#     'variables': tn_variables,\n",
    "#     'clauses': tn_clauses,\n",
    "#     'ratio_sat': t_sat\n",
    "# })  \n",
    "# df.to_csv(\"random_cnfs.csv\")\n",
    "\n",
    "df = pd.read_csv(\"./random_cnfs.csv\")\n",
    "df = df.drop(['Unnamed: 0'], axis=1)"
   ]
  },
  {
   "cell_type": "code",
   "execution_count": 4,
   "id": "foreign-clinton",
   "metadata": {},
   "outputs": [
    {
     "data": {
      "text/plain": [
       "<AxesSubplot:xlabel='clauses', ylabel='ratio_sat'>"
      ]
     },
     "execution_count": 4,
     "metadata": {},
     "output_type": "execute_result"
    },
    {
     "data": {
      "image/png": "[encoded data removed]",
      "text/plain": [
       "<Figure size 432x288 with 1 Axes>"
      ]
     },
     "metadata": {},
     "output_type": "display_data"
    }
   ],
   "source": [
    "import seaborn as sns\n",
    "sns.set_style(\"whitegrid\")\n",
    "sns.lineplot(data=df[df.ratio_sat > 0], x=\"clauses\", y=\"ratio_sat\", hue=\"variables\")"
   ]
  },
  {
   "cell_type": "code",
   "execution_count": 5,
   "id": "exposed-shareware",
   "metadata": {},
   "outputs": [
    {
     "data": {
      "text/html": [
       "<div>\n",
       "<style scoped>\n",
       "    .dataframe tbody tr th:only-of-type {\n",
       "        vertical-align: middle;\n",
       "    }\n",
       "\n",
       "    .dataframe tbody tr th {\n",
       "        vertical-align: top;\n",
       "    }\n",
       "\n",
       "    .dataframe thead th {\n",
       "        text-align: right;\n",
       "    }\n",
       "</style>\n",
       "<table border=\"1\" class=\"dataframe\">\n",
       "  <thead>\n",
       "    <tr style=\"text-align: right;\">\n",
       "      <th></th>\n",
       "      <th>variables</th>\n",
       "      <th>clauses</th>\n",
       "      <th>ratio_sat</th>\n",
       "    </tr>\n",
       "  </thead>\n",
       "  <tbody>\n",
       "    <tr>\n",
       "      <th>43</th>\n",
       "      <td>20</td>\n",
       "      <td>35</td>\n",
       "      <td>0.01</td>\n",
       "    </tr>\n",
       "    <tr>\n",
       "      <th>26</th>\n",
       "      <td>15</td>\n",
       "      <td>45</td>\n",
       "      <td>0.01</td>\n",
       "    </tr>\n",
       "    <tr>\n",
       "      <th>25</th>\n",
       "      <td>15</td>\n",
       "      <td>40</td>\n",
       "      <td>0.01</td>\n",
       "    </tr>\n",
       "    <tr>\n",
       "      <th>24</th>\n",
       "      <td>15</td>\n",
       "      <td>35</td>\n",
       "      <td>0.01</td>\n",
       "    </tr>\n",
       "    <tr>\n",
       "      <th>42</th>\n",
       "      <td>20</td>\n",
       "      <td>30</td>\n",
       "      <td>0.02</td>\n",
       "    </tr>\n",
       "    <tr>\n",
       "      <th>23</th>\n",
       "      <td>15</td>\n",
       "      <td>30</td>\n",
       "      <td>0.02</td>\n",
       "    </tr>\n",
       "    <tr>\n",
       "      <th>22</th>\n",
       "      <td>15</td>\n",
       "      <td>25</td>\n",
       "      <td>0.03</td>\n",
       "    </tr>\n",
       "    <tr>\n",
       "      <th>3</th>\n",
       "      <td>10</td>\n",
       "      <td>25</td>\n",
       "      <td>0.04</td>\n",
       "    </tr>\n",
       "    <tr>\n",
       "      <th>41</th>\n",
       "      <td>20</td>\n",
       "      <td>25</td>\n",
       "      <td>0.04</td>\n",
       "    </tr>\n",
       "    <tr>\n",
       "      <th>2</th>\n",
       "      <td>10</td>\n",
       "      <td>20</td>\n",
       "      <td>0.06</td>\n",
       "    </tr>\n",
       "    <tr>\n",
       "      <th>40</th>\n",
       "      <td>20</td>\n",
       "      <td>20</td>\n",
       "      <td>0.08</td>\n",
       "    </tr>\n",
       "    <tr>\n",
       "      <th>21</th>\n",
       "      <td>15</td>\n",
       "      <td>20</td>\n",
       "      <td>0.10</td>\n",
       "    </tr>\n",
       "    <tr>\n",
       "      <th>39</th>\n",
       "      <td>20</td>\n",
       "      <td>15</td>\n",
       "      <td>0.13</td>\n",
       "    </tr>\n",
       "    <tr>\n",
       "      <th>1</th>\n",
       "      <td>10</td>\n",
       "      <td>15</td>\n",
       "      <td>0.14</td>\n",
       "    </tr>\n",
       "    <tr>\n",
       "      <th>20</th>\n",
       "      <td>15</td>\n",
       "      <td>15</td>\n",
       "      <td>0.16</td>\n",
       "    </tr>\n",
       "    <tr>\n",
       "      <th>38</th>\n",
       "      <td>20</td>\n",
       "      <td>10</td>\n",
       "      <td>0.25</td>\n",
       "    </tr>\n",
       "    <tr>\n",
       "      <th>0</th>\n",
       "      <td>10</td>\n",
       "      <td>10</td>\n",
       "      <td>0.27</td>\n",
       "    </tr>\n",
       "    <tr>\n",
       "      <th>19</th>\n",
       "      <td>15</td>\n",
       "      <td>10</td>\n",
       "      <td>0.29</td>\n",
       "    </tr>\n",
       "  </tbody>\n",
       "</table>\n",
       "</div>"
      ],
      "text/plain": [
       "    variables  clauses  ratio_sat\n",
       "43         20       35       0.01\n",
       "26         15       45       0.01\n",
       "25         15       40       0.01\n",
       "24         15       35       0.01\n",
       "42         20       30       0.02\n",
       "23         15       30       0.02\n",
       "22         15       25       0.03\n",
       "3          10       25       0.04\n",
       "41         20       25       0.04\n",
       "2          10       20       0.06\n",
       "40         20       20       0.08\n",
       "21         15       20       0.10\n",
       "39         20       15       0.13\n",
       "1          10       15       0.14\n",
       "20         15       15       0.16\n",
       "38         20       10       0.25\n",
       "0          10       10       0.27\n",
       "19         15       10       0.29"
      ]
     },
     "execution_count": 5,
     "metadata": {},
     "output_type": "execute_result"
    }
   ],
   "source": [
    "df[df.ratio_sat > 0].sort_values(by=['ratio_sat'])"
   ]
  },
  {
   "cell_type": "markdown",
   "id": "present-australian",
   "metadata": {},
   "source": [
    "# Experiments"
   ]
  },
  {
   "cell_type": "markdown",
   "id": "backed-polymer",
   "metadata": {},
   "source": [
    "## 20 variables"
   ]
  },
  {
   "cell_type": "code",
   "execution_count": 6,
   "id": "adequate-router",
   "metadata": {},
   "outputs": [
    {
     "data": {
      "text/html": [
       "<div>\n",
       "<style scoped>\n",
       "    .dataframe tbody tr th:only-of-type {\n",
       "        vertical-align: middle;\n",
       "    }\n",
       "\n",
       "    .dataframe tbody tr th {\n",
       "        vertical-align: top;\n",
       "    }\n",
       "\n",
       "    .dataframe thead th {\n",
       "        text-align: right;\n",
       "    }\n",
       "</style>\n",
       "<table border=\"1\" class=\"dataframe\">\n",
       "  <thead>\n",
       "    <tr style=\"text-align: right;\">\n",
       "      <th></th>\n",
       "      <th>variables</th>\n",
       "      <th>clauses</th>\n",
       "      <th>ratio_sat</th>\n",
       "    </tr>\n",
       "  </thead>\n",
       "  <tbody>\n",
       "    <tr>\n",
       "      <th>43</th>\n",
       "      <td>20</td>\n",
       "      <td>35</td>\n",
       "      <td>0.01</td>\n",
       "    </tr>\n",
       "    <tr>\n",
       "      <th>42</th>\n",
       "      <td>20</td>\n",
       "      <td>30</td>\n",
       "      <td>0.02</td>\n",
       "    </tr>\n",
       "    <tr>\n",
       "      <th>41</th>\n",
       "      <td>20</td>\n",
       "      <td>25</td>\n",
       "      <td>0.04</td>\n",
       "    </tr>\n",
       "    <tr>\n",
       "      <th>40</th>\n",
       "      <td>20</td>\n",
       "      <td>20</td>\n",
       "      <td>0.08</td>\n",
       "    </tr>\n",
       "    <tr>\n",
       "      <th>39</th>\n",
       "      <td>20</td>\n",
       "      <td>15</td>\n",
       "      <td>0.13</td>\n",
       "    </tr>\n",
       "    <tr>\n",
       "      <th>38</th>\n",
       "      <td>20</td>\n",
       "      <td>10</td>\n",
       "      <td>0.25</td>\n",
       "    </tr>\n",
       "  </tbody>\n",
       "</table>\n",
       "</div>"
      ],
      "text/plain": [
       "    variables  clauses  ratio_sat\n",
       "43         20       35       0.01\n",
       "42         20       30       0.02\n",
       "41         20       25       0.04\n",
       "40         20       20       0.08\n",
       "39         20       15       0.13\n",
       "38         20       10       0.25"
      ]
     },
     "execution_count": 6,
     "metadata": {},
     "output_type": "execute_result"
    }
   ],
   "source": [
    "df[(df.ratio_sat > 0) & (df.variables == 20)].sort_values(by=['ratio_sat'])"
   ]
  },
  {
   "cell_type": "code",
   "execution_count": 10,
   "id": "dutch-chair",
   "metadata": {},
   "outputs": [
    {
     "name": "stdout",
     "output_type": "stream",
     "text": [
      "ratio sat: 0.01\n"
     ]
    }
   ],
   "source": [
    "bqm, clauses = get_bqm_random_sat(20, 35, seed)"
   ]
  },
  {
   "cell_type": "code",
   "execution_count": 11,
   "id": "vanilla-heather",
   "metadata": {},
   "outputs": [
    {
     "name": "stdout",
     "output_type": "stream",
     "text": [
      "best embedding random_seed 27\n",
      "best embedding max_chain_length 3\n",
      "best embedding qubits used 88\n",
      "best embedding variance: 0.4666666666666667\n"
     ]
    }
   ],
   "source": [
    "embedding, random_seed = find_best_embedding(bqm, qpu)"
   ]
  },
  {
   "cell_type": "code",
   "execution_count": 23,
   "id": "frank-somewhere",
   "metadata": {},
   "outputs": [
    {
     "name": "stdout",
     "output_type": "stream",
     "text": [
      "lowest energy achieved: 0.0\n",
      "ground energy samples 22/100\n"
     ]
    }
   ],
   "source": [
    "sample_with_sampler(embedding, bqm, 100, scaled, clauses)"
   ]
  },
  {
   "cell_type": "code",
   "execution_count": 24,
   "id": "familiar-beach",
   "metadata": {},
   "outputs": [
    {
     "name": "stdout",
     "output_type": "stream",
     "text": [
      "best embedding max_chain_length 7\n",
      "best embedding qubits used 375\n",
      "best embedding variance: 0.1515151515151515\n"
     ]
    }
   ],
   "source": [
    "clique_embedding = get_clique_embedding(bqm, seed_=1)"
   ]
  },
  {
   "cell_type": "code",
   "execution_count": 25,
   "id": "double-azerbaijan",
   "metadata": {},
   "outputs": [
    {
     "name": "stdout",
     "output_type": "stream",
     "text": [
      "lowest energy achieved: 0.0\n",
      "ground energy samples 1/100\n"
     ]
    }
   ],
   "source": [
    "sample_with_sampler(clique_embedding, bqm, 100, scaled, clauses)"
   ]
  },
  {
   "cell_type": "markdown",
   "id": "atlantic-numbers",
   "metadata": {},
   "source": [
    "----------------------"
   ]
  },
  {
   "cell_type": "code",
   "execution_count": 26,
   "id": "apparent-beverage",
   "metadata": {},
   "outputs": [
    {
     "name": "stdout",
     "output_type": "stream",
     "text": [
      "ratio sat: 0.02\n",
      "best embedding random_seed 55\n",
      "best embedding max_chain_length 3\n",
      "best embedding qubits used 72\n",
      "best embedding variance: 0.37387755102040815\n"
     ]
    }
   ],
   "source": [
    "bqm, clauses = get_bqm_random_sat(20, 30, seed)\n",
    "embedding, random_seed = find_best_embedding(bqm, qpu)"
   ]
  },
  {
   "cell_type": "code",
   "execution_count": 33,
   "id": "smooth-reset",
   "metadata": {},
   "outputs": [
    {
     "name": "stdout",
     "output_type": "stream",
     "text": [
      "lowest energy achieved: 0.0\n",
      "ground energy samples 5/100\n"
     ]
    }
   ],
   "source": [
    "sample_with_sampler(embedding, bqm, 100,scaled, clauses)"
   ]
  },
  {
   "cell_type": "code",
   "execution_count": 31,
   "id": "physical-strengthening",
   "metadata": {},
   "outputs": [
    {
     "name": "stdout",
     "output_type": "stream",
     "text": [
      "lowest energy achieved: 0.0\n",
      "ground energy samples 44/100\n"
     ]
    }
   ],
   "source": [
    "sample_with_sampler(embedding, bqm, 100,2, clauses)"
   ]
  },
  {
   "cell_type": "code",
   "execution_count": 36,
   "id": "southeast-wealth",
   "metadata": {},
   "outputs": [
    {
     "name": "stdout",
     "output_type": "stream",
     "text": [
      "best embedding max_chain_length 6\n",
      "best embedding qubits used 290\n",
      "best embedding variance: 0.16326530612244897\n",
      "lowest energy achieved: 0.0\n",
      "ground energy samples 5/100\n"
     ]
    }
   ],
   "source": [
    "clique_embedding = get_clique_embedding(bqm, seed_=1)\n",
    "sample_with_sampler(clique_embedding, bqm, 100, scaled, clauses)"
   ]
  },
  {
   "cell_type": "markdown",
   "id": "preliminary-extension",
   "metadata": {},
   "source": [
    "## 15 variables"
   ]
  },
  {
   "cell_type": "code",
   "execution_count": 16,
   "id": "korean-gauge",
   "metadata": {},
   "outputs": [
    {
     "data": {
      "text/html": [
       "<div>\n",
       "<style scoped>\n",
       "    .dataframe tbody tr th:only-of-type {\n",
       "        vertical-align: middle;\n",
       "    }\n",
       "\n",
       "    .dataframe tbody tr th {\n",
       "        vertical-align: top;\n",
       "    }\n",
       "\n",
       "    .dataframe thead th {\n",
       "        text-align: right;\n",
       "    }\n",
       "</style>\n",
       "<table border=\"1\" class=\"dataframe\">\n",
       "  <thead>\n",
       "    <tr style=\"text-align: right;\">\n",
       "      <th></th>\n",
       "      <th>variables</th>\n",
       "      <th>clauses</th>\n",
       "      <th>ratio_sat</th>\n",
       "    </tr>\n",
       "  </thead>\n",
       "  <tbody>\n",
       "    <tr>\n",
       "      <th>19</th>\n",
       "      <td>15</td>\n",
       "      <td>10</td>\n",
       "      <td>0.29</td>\n",
       "    </tr>\n",
       "    <tr>\n",
       "      <th>20</th>\n",
       "      <td>15</td>\n",
       "      <td>15</td>\n",
       "      <td>0.16</td>\n",
       "    </tr>\n",
       "    <tr>\n",
       "      <th>21</th>\n",
       "      <td>15</td>\n",
       "      <td>20</td>\n",
       "      <td>0.10</td>\n",
       "    </tr>\n",
       "    <tr>\n",
       "      <th>22</th>\n",
       "      <td>15</td>\n",
       "      <td>25</td>\n",
       "      <td>0.03</td>\n",
       "    </tr>\n",
       "    <tr>\n",
       "      <th>23</th>\n",
       "      <td>15</td>\n",
       "      <td>30</td>\n",
       "      <td>0.02</td>\n",
       "    </tr>\n",
       "    <tr>\n",
       "      <th>24</th>\n",
       "      <td>15</td>\n",
       "      <td>35</td>\n",
       "      <td>0.01</td>\n",
       "    </tr>\n",
       "    <tr>\n",
       "      <th>25</th>\n",
       "      <td>15</td>\n",
       "      <td>40</td>\n",
       "      <td>0.01</td>\n",
       "    </tr>\n",
       "    <tr>\n",
       "      <th>26</th>\n",
       "      <td>15</td>\n",
       "      <td>45</td>\n",
       "      <td>0.01</td>\n",
       "    </tr>\n",
       "  </tbody>\n",
       "</table>\n",
       "</div>"
      ],
      "text/plain": [
       "    variables  clauses  ratio_sat\n",
       "19         15       10       0.29\n",
       "20         15       15       0.16\n",
       "21         15       20       0.10\n",
       "22         15       25       0.03\n",
       "23         15       30       0.02\n",
       "24         15       35       0.01\n",
       "25         15       40       0.01\n",
       "26         15       45       0.01"
      ]
     },
     "execution_count": 16,
     "metadata": {},
     "output_type": "execute_result"
    }
   ],
   "source": [
    "df[(df.ratio_sat > 0) & (df.variables == 15)].sort_values(by=['clauses'])"
   ]
  },
  {
   "cell_type": "code",
   "execution_count": 10,
   "id": "manufactured-broadcast",
   "metadata": {},
   "outputs": [
    {
     "name": "stdout",
     "output_type": "stream",
     "text": [
      "ratio sat: 0.01\n",
      "best embedding random_seed 16\n",
      "best embedding max_chain_length 4\n",
      "best embedding qubits used 102\n",
      "best embedding variance: 0.9932203389830507\n"
     ]
    }
   ],
   "source": [
    "bqm, clauses = get_bqm_random_sat(15, 45, seed)\n",
    "embedding, random_seed = find_best_embedding(bqm, qpu)"
   ]
  },
  {
   "cell_type": "code",
   "execution_count": 17,
   "id": "finite-accessory",
   "metadata": {},
   "outputs": [
    {
     "name": "stdout",
     "output_type": "stream",
     "text": [
      "ratio sat: 0.01\n",
      "best embedding random_seed 3\n",
      "best embedding max_chain_length 4\n",
      "best embedding qubits used 90\n",
      "best embedding variance: 0.7912457912457912\n"
     ]
    }
   ],
   "source": [
    "bqm, clauses = get_bqm_random_sat(15, 40, seed)\n",
    "embedding, random_seed = find_best_embedding(bqm, qpu)"
   ]
  },
  {
   "cell_type": "code",
   "execution_count": 6,
   "id": "upset-positive",
   "metadata": {},
   "outputs": [
    {
     "name": "stdout",
     "output_type": "stream",
     "text": [
      "ratio sat: 0.01\n",
      "best embedding random_seed 63\n",
      "best embedding max_chain_length 3\n",
      "best embedding qubits used 76\n",
      "best embedding variance: 0.6220408163265306\n"
     ]
    }
   ],
   "source": [
    "bqm, clauses = get_bqm_random_sat(15, 35, seed)\n",
    "embedding, random_seed = find_best_embedding(bqm, qpu)"
   ]
  },
  {
   "cell_type": "code",
   "execution_count": 7,
   "id": "modified-transcription",
   "metadata": {},
   "outputs": [
    {
     "name": "stdout",
     "output_type": "stream",
     "text": [
      "ratio sat: 0.02\n",
      "best embedding random_seed 54\n",
      "best embedding max_chain_length 3\n",
      "best embedding qubits used 71\n",
      "best embedding variance: 0.4767676767676768\n"
     ]
    }
   ],
   "source": [
    "bqm, clauses = get_bqm_random_sat(15, 30, seed)\n",
    "embedding, random_seed = find_best_embedding(bqm, qpu)"
   ]
  },
  {
   "cell_type": "code",
   "execution_count": 8,
   "id": "equal-diamond",
   "metadata": {},
   "outputs": [
    {
     "name": "stdout",
     "output_type": "stream",
     "text": [
      "ratio sat: 0.03\n",
      "best embedding random_seed 1\n",
      "best embedding max_chain_length 3\n",
      "best embedding qubits used 54\n",
      "best embedding variance: 0.3358974358974359\n"
     ]
    }
   ],
   "source": [
    "bqm, clauses = get_bqm_random_sat(15, 25, seed)\n",
    "embedding, random_seed = find_best_embedding(bqm, qpu)"
   ]
  },
  {
   "cell_type": "code",
   "execution_count": 7,
   "id": "ideal-production",
   "metadata": {},
   "outputs": [
    {
     "name": "stdout",
     "output_type": "stream",
     "text": [
      "ratio sat: 0.1\n",
      "best embedding random_seed 88\n",
      "best embedding max_chain_length 2\n",
      "best embedding qubits used 46\n",
      "best embedding variance: 0.22184873949579834\n"
     ]
    }
   ],
   "source": [
    "bqm, clauses = get_bqm_random_sat(15, 20, seed)\n",
    "embedding, random_seed = find_best_embedding(bqm, qpu)"
   ]
  },
  {
   "cell_type": "code",
   "execution_count": 8,
   "id": "geological-creation",
   "metadata": {},
   "outputs": [
    {
     "name": "stdout",
     "output_type": "stream",
     "text": [
      "ratio sat: 0.16\n",
      "best embedding random_seed 74\n",
      "best embedding max_chain_length 2\n",
      "best embedding qubits used 34\n",
      "best embedding variance: 0.11954022988505747\n"
     ]
    }
   ],
   "source": [
    "bqm, clauses = get_bqm_random_sat(15, 15, seed)\n",
    "embedding, random_seed = find_best_embedding(bqm, qpu)"
   ]
  },
  {
   "cell_type": "markdown",
   "id": "blessed-electricity",
   "metadata": {},
   "source": [
    "________"
   ]
  },
  {
   "cell_type": "markdown",
   "id": "biological-generic",
   "metadata": {},
   "source": [
    "# 10 variables"
   ]
  },
  {
   "cell_type": "code",
   "execution_count": 13,
   "id": "mighty-seller",
   "metadata": {},
   "outputs": [
    {
     "data": {
      "text/html": [
       "<div>\n",
       "<style scoped>\n",
       "    .dataframe tbody tr th:only-of-type {\n",
       "        vertical-align: middle;\n",
       "    }\n",
       "\n",
       "    .dataframe tbody tr th {\n",
       "        vertical-align: top;\n",
       "    }\n",
       "\n",
       "    .dataframe thead th {\n",
       "        text-align: right;\n",
       "    }\n",
       "</style>\n",
       "<table border=\"1\" class=\"dataframe\">\n",
       "  <thead>\n",
       "    <tr style=\"text-align: right;\">\n",
       "      <th></th>\n",
       "      <th>variables</th>\n",
       "      <th>clauses</th>\n",
       "      <th>ratio_sat</th>\n",
       "    </tr>\n",
       "  </thead>\n",
       "  <tbody>\n",
       "    <tr>\n",
       "      <th>0</th>\n",
       "      <td>10</td>\n",
       "      <td>10</td>\n",
       "      <td>0.27</td>\n",
       "    </tr>\n",
       "    <tr>\n",
       "      <th>1</th>\n",
       "      <td>10</td>\n",
       "      <td>15</td>\n",
       "      <td>0.14</td>\n",
       "    </tr>\n",
       "    <tr>\n",
       "      <th>2</th>\n",
       "      <td>10</td>\n",
       "      <td>20</td>\n",
       "      <td>0.06</td>\n",
       "    </tr>\n",
       "    <tr>\n",
       "      <th>3</th>\n",
       "      <td>10</td>\n",
       "      <td>25</td>\n",
       "      <td>0.04</td>\n",
       "    </tr>\n",
       "  </tbody>\n",
       "</table>\n",
       "</div>"
      ],
      "text/plain": [
       "   variables  clauses  ratio_sat\n",
       "0         10       10       0.27\n",
       "1         10       15       0.14\n",
       "2         10       20       0.06\n",
       "3         10       25       0.04"
      ]
     },
     "execution_count": 13,
     "metadata": {},
     "output_type": "execute_result"
    }
   ],
   "source": [
    "df[(df.ratio_sat > 0) & (df.variables == 10)].sort_values(by=['clauses'])"
   ]
  },
  {
   "cell_type": "code",
   "execution_count": 14,
   "id": "dutch-motion",
   "metadata": {},
   "outputs": [
    {
     "name": "stdout",
     "output_type": "stream",
     "text": [
      "ratio sat: 0.04\n",
      "best embedding random_seed 95\n",
      "best embedding max_chain_length 3\n",
      "best embedding qubits used 48\n",
      "best embedding variance: 0.35798319327731093\n"
     ]
    }
   ],
   "source": [
    "bqm, clauses = get_bqm_random_sat(10, 25, seed)\n",
    "embedding, random_seed = find_best_embedding(bqm, qpu)"
   ]
  },
  {
   "cell_type": "code",
   "execution_count": 16,
   "id": "hollow-marsh",
   "metadata": {},
   "outputs": [
    {
     "name": "stdout",
     "output_type": "stream",
     "text": [
      "ratio sat: 0.06\n",
      "best embedding random_seed 73\n",
      "best embedding max_chain_length 2\n",
      "best embedding qubits used 39\n",
      "best embedding variance: 0.21724137931034482\n"
     ]
    }
   ],
   "source": [
    "bqm, clauses = get_bqm_random_sat(10, 20, seed)\n",
    "embedding, random_seed = find_best_embedding(bqm, qpu)"
   ]
  },
  {
   "cell_type": "code",
   "execution_count": 17,
   "id": "skilled-indicator",
   "metadata": {},
   "outputs": [
    {
     "name": "stdout",
     "output_type": "stream",
     "text": [
      "ratio sat: 0.14\n",
      "best embedding random_seed 94\n",
      "best embedding max_chain_length 2\n",
      "best embedding qubits used 30\n",
      "best embedding variance: 0.16666666666666669\n"
     ]
    }
   ],
   "source": [
    "bqm, clauses = get_bqm_random_sat(10, 15, seed)\n",
    "embedding, random_seed = find_best_embedding(bqm, qpu)"
   ]
  },
  {
   "cell_type": "code",
   "execution_count": 24,
   "id": "careful-brunswick",
   "metadata": {},
   "outputs": [
    {
     "name": "stdout",
     "output_type": "stream",
     "text": [
      "ratio sat: 0.27\n",
      "best embedding random_seed 100\n",
      "best embedding max_chain_length 2\n",
      "best embedding qubits used 21\n",
      "best embedding variance: 0.05\n"
     ]
    }
   ],
   "source": [
    "bqm, clauses = get_bqm_random_sat(10, 10, seed)\n",
    "embedding, random_seed = find_best_embedding(bqm, qpu)"
   ]
  },
  {
   "cell_type": "code",
   "execution_count": 25,
   "id": "minus-yeast",
   "metadata": {},
   "outputs": [
    {
     "data": {
      "text/plain": [
       "6.0"
      ]
     },
     "execution_count": 25,
     "metadata": {},
     "output_type": "execute_result"
    }
   ],
   "source": [
    "scaled(bqm, embedding)"
   ]
  },
  {
   "cell_type": "markdown",
   "id": "aerial-mother",
   "metadata": {},
   "source": [
    "_______"
   ]
  },
  {
   "cell_type": "code",
   "execution_count": 26,
   "id": "massive-incidence",
   "metadata": {},
   "outputs": [
    {
     "data": {
      "text/html": [
       "<div>\n",
       "<style scoped>\n",
       "    .dataframe tbody tr th:only-of-type {\n",
       "        vertical-align: middle;\n",
       "    }\n",
       "\n",
       "    .dataframe tbody tr th {\n",
       "        vertical-align: top;\n",
       "    }\n",
       "\n",
       "    .dataframe thead th {\n",
       "        text-align: right;\n",
       "    }\n",
       "</style>\n",
       "<table border=\"1\" class=\"dataframe\">\n",
       "  <thead>\n",
       "    <tr style=\"text-align: right;\">\n",
       "      <th></th>\n",
       "      <th>num_variables</th>\n",
       "      <th>num_clauses</th>\n",
       "      <th>var_clause_rel</th>\n",
       "      <th>max_chain_length</th>\n",
       "      <th>num_qubits</th>\n",
       "      <th>variance</th>\n",
       "    </tr>\n",
       "  </thead>\n",
       "  <tbody>\n",
       "    <tr>\n",
       "      <th>0</th>\n",
       "      <td>20</td>\n",
       "      <td>35</td>\n",
       "      <td>0.57</td>\n",
       "      <td>3</td>\n",
       "      <td>88</td>\n",
       "      <td>0.47</td>\n",
       "    </tr>\n",
       "    <tr>\n",
       "      <th>1</th>\n",
       "      <td>20</td>\n",
       "      <td>30</td>\n",
       "      <td>0.67</td>\n",
       "      <td>3</td>\n",
       "      <td>72</td>\n",
       "      <td>0.37</td>\n",
       "    </tr>\n",
       "    <tr>\n",
       "      <th>2</th>\n",
       "      <td>15</td>\n",
       "      <td>45</td>\n",
       "      <td>0.33</td>\n",
       "      <td>4</td>\n",
       "      <td>102</td>\n",
       "      <td>0.99</td>\n",
       "    </tr>\n",
       "    <tr>\n",
       "      <th>3</th>\n",
       "      <td>15</td>\n",
       "      <td>40</td>\n",
       "      <td>0.38</td>\n",
       "      <td>4</td>\n",
       "      <td>90</td>\n",
       "      <td>0.79</td>\n",
       "    </tr>\n",
       "    <tr>\n",
       "      <th>4</th>\n",
       "      <td>15</td>\n",
       "      <td>35</td>\n",
       "      <td>0.43</td>\n",
       "      <td>3</td>\n",
       "      <td>76</td>\n",
       "      <td>0.62</td>\n",
       "    </tr>\n",
       "    <tr>\n",
       "      <th>5</th>\n",
       "      <td>15</td>\n",
       "      <td>30</td>\n",
       "      <td>0.50</td>\n",
       "      <td>3</td>\n",
       "      <td>71</td>\n",
       "      <td>0.48</td>\n",
       "    </tr>\n",
       "    <tr>\n",
       "      <th>6</th>\n",
       "      <td>15</td>\n",
       "      <td>25</td>\n",
       "      <td>0.60</td>\n",
       "      <td>3</td>\n",
       "      <td>54</td>\n",
       "      <td>0.33</td>\n",
       "    </tr>\n",
       "    <tr>\n",
       "      <th>7</th>\n",
       "      <td>15</td>\n",
       "      <td>20</td>\n",
       "      <td>0.75</td>\n",
       "      <td>2</td>\n",
       "      <td>46</td>\n",
       "      <td>0.22</td>\n",
       "    </tr>\n",
       "    <tr>\n",
       "      <th>8</th>\n",
       "      <td>15</td>\n",
       "      <td>15</td>\n",
       "      <td>1.00</td>\n",
       "      <td>2</td>\n",
       "      <td>34</td>\n",
       "      <td>0.12</td>\n",
       "    </tr>\n",
       "    <tr>\n",
       "      <th>9</th>\n",
       "      <td>10</td>\n",
       "      <td>25</td>\n",
       "      <td>0.40</td>\n",
       "      <td>3</td>\n",
       "      <td>48</td>\n",
       "      <td>0.36</td>\n",
       "    </tr>\n",
       "    <tr>\n",
       "      <th>10</th>\n",
       "      <td>10</td>\n",
       "      <td>20</td>\n",
       "      <td>0.50</td>\n",
       "      <td>2</td>\n",
       "      <td>39</td>\n",
       "      <td>0.22</td>\n",
       "    </tr>\n",
       "    <tr>\n",
       "      <th>11</th>\n",
       "      <td>10</td>\n",
       "      <td>15</td>\n",
       "      <td>0.67</td>\n",
       "      <td>2</td>\n",
       "      <td>30</td>\n",
       "      <td>0.17</td>\n",
       "    </tr>\n",
       "    <tr>\n",
       "      <th>12</th>\n",
       "      <td>10</td>\n",
       "      <td>10</td>\n",
       "      <td>1.00</td>\n",
       "      <td>2</td>\n",
       "      <td>21</td>\n",
       "      <td>0.05</td>\n",
       "    </tr>\n",
       "  </tbody>\n",
       "</table>\n",
       "</div>"
      ],
      "text/plain": [
       "    num_variables  num_clauses  var_clause_rel  max_chain_length  num_qubits  \\\n",
       "0              20           35            0.57                 3          88   \n",
       "1              20           30            0.67                 3          72   \n",
       "2              15           45            0.33                 4         102   \n",
       "3              15           40            0.38                 4          90   \n",
       "4              15           35            0.43                 3          76   \n",
       "5              15           30            0.50                 3          71   \n",
       "6              15           25            0.60                 3          54   \n",
       "7              15           20            0.75                 2          46   \n",
       "8              15           15            1.00                 2          34   \n",
       "9              10           25            0.40                 3          48   \n",
       "10             10           20            0.50                 2          39   \n",
       "11             10           15            0.67                 2          30   \n",
       "12             10           10            1.00                 2          21   \n",
       "\n",
       "    variance  \n",
       "0       0.47  \n",
       "1       0.37  \n",
       "2       0.99  \n",
       "3       0.79  \n",
       "4       0.62  \n",
       "5       0.48  \n",
       "6       0.33  \n",
       "7       0.22  \n",
       "8       0.12  \n",
       "9       0.36  \n",
       "10      0.22  \n",
       "11      0.17  \n",
       "12      0.05  "
      ]
     },
     "execution_count": 26,
     "metadata": {},
     "output_type": "execute_result"
    }
   ],
   "source": [
    "df_embeddings = df = pd.read_csv(\"./rnd_best_embeddings.csv\")\n",
    "df_embeddings"
   ]
  },
  {
   "cell_type": "code",
   "execution_count": 27,
   "id": "intensive-agency",
   "metadata": {},
   "outputs": [
    {
     "data": {
      "text/plain": [
       "<AxesSubplot:xlabel='num_clauses', ylabel='var_clause_rel'>"
      ]
     },
     "execution_count": 27,
     "metadata": {},
     "output_type": "execute_result"
    },
    {
     "data": {
      "image/png": "[encoded data removed]",
      "text/plain": [
       "<Figure size 432x288 with 1 Axes>"
      ]
     },
     "metadata": {},
     "output_type": "display_data"
    }
   ],
   "source": [
    "sns.set_style(\"whitegrid\")\n",
    "sns.lineplot(data=df_embeddings, x=\"num_clauses\", y=\"var_clause_rel\", hue=\"num_variables\")"
   ]
  },
  {
   "cell_type": "code",
   "execution_count": 31,
   "id": "natural-fitness",
   "metadata": {},
   "outputs": [
    {
     "data": {
      "text/plain": [
       "<AxesSubplot:xlabel='num_clauses', ylabel='variance'>"
      ]
     },
     "execution_count": 31,
     "metadata": {},
     "output_type": "execute_result"
    },
    {
     "data": {
      "image/png": "[encoded data removed]",
      "text/plain": [
       "<Figure size 432x288 with 1 Axes>"
      ]
     },
     "metadata": {},
     "output_type": "display_data"
    }
   ],
   "source": [
    "sns.set_style(\"whitegrid\")\n",
    "sns.lineplot(data=df_embeddings, x=\"num_clauses\", y=\"variance\", hue=\"num_variables\")"
   ]
  },
  {
   "cell_type": "code",
   "execution_count": 33,
   "id": "entertaining-range",
   "metadata": {},
   "outputs": [
    {
     "data": {
      "text/plain": [
       "<AxesSubplot:xlabel='num_clauses', ylabel='num_qubits'>"
      ]
     },
     "execution_count": 33,
     "metadata": {},
     "output_type": "execute_result"
    },
    {
     "data": {
      "image/png": "[encoded data removed]",
      "text/plain": [
       "<Figure size 432x288 with 1 Axes>"
      ]
     },
     "metadata": {},
     "output_type": "display_data"
    }
   ],
   "source": [
    "sns.set_style(\"whitegrid\")\n",
    "sns.lineplot(data=df_embeddings, x=\"num_clauses\", y=\"num_qubits\", hue=\"num_variables\")"
   ]
  },
  {
   "cell_type": "code",
   "execution_count": 34,
   "id": "excessive-fossil",
   "metadata": {},
   "outputs": [
    {
     "data": {
      "text/plain": [
       "<AxesSubplot:xlabel='num_clauses', ylabel='max_chain_length'>"
      ]
     },
     "execution_count": 34,
     "metadata": {},
     "output_type": "execute_result"
    },
    {
     "data": {
      "image/png": "[encoded data removed]",
      "text/plain": [
       "<Figure size 432x288 with 1 Axes>"
      ]
     },
     "metadata": {},
     "output_type": "display_data"
    }
   ],
   "source": [
    "sns.set_style(\"whitegrid\")\n",
    "sns.lineplot(data=df_embeddings, x=\"num_clauses\", y=\"max_chain_length\", hue=\"num_variables\")"
   ]
  },
  {
   "cell_type": "code",
   "execution_count": 35,
   "id": "increasing-worcester",
   "metadata": {},
   "outputs": [
    {
     "data": {
      "text/plain": [
       "<AxesSubplot:xlabel='var_clause_rel', ylabel='variance'>"
      ]
     },
     "execution_count": 35,
     "metadata": {},
     "output_type": "execute_result"
    },
    {
     "data": {
      "image/png": "[encoded data removed]",
      "text/plain": [
       "<Figure size 432x288 with 1 Axes>"
      ]
     },
     "metadata": {},
     "output_type": "display_data"
    }
   ],
   "source": [
    "sns.set_style(\"whitegrid\")\n",
    "sns.lineplot(data=df_embeddings, x=\"var_clause_rel\", y=\"variance\")"
   ]
  },
  {
   "cell_type": "code",
   "execution_count": null,
   "id": "informative-habitat",
   "metadata": {},
   "outputs": [],
   "source": []
  }
 ],
 "metadata": {
  "kernelspec": {
   "display_name": "Python 3",
   "language": "python",
   "name": "python3"
  },
  "language_info": {
   "codemirror_mode": {
    "name": "ipython",
    "version": 3
   },
   "file_extension": ".py",
   "mimetype": "text/x-python",
   "name": "python",
   "nbconvert_exporter": "python",
   "pygments_lexer": "ipython3",
   "version": "3.9.12"
  }
 },
 "nbformat": 4,
 "nbformat_minor": 5
}
