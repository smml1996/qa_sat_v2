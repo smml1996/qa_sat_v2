{
 "cells": [
  {
   "cell_type": "code",
   "execution_count": 1,
   "id": "pediatric-harris",
   "metadata": {},
   "outputs": [],
   "source": [
    "from utils import load_cnf, cnf_to_bqm\n",
    "from embedding_utils import *\n",
    "import seaborn as sns\n",
    "from redundancy import *\n",
    "from utils import *\n",
    "from dwave.embedding.chain_strength import scaled"
   ]
  },
  {
   "cell_type": "code",
   "execution_count": 2,
   "id": "noble-packet",
   "metadata": {},
   "outputs": [
    {
     "name": "stdout",
     "output_type": "stream",
     "text": [
      "100\n"
     ]
    }
   ],
   "source": [
    "num_variables, num_clauses, variables, clauses = load_cnf(f\"./sebastiani-sat/var100.cnf\")\n",
    "bqm, or_result_vars, clauses_qubits, _ = cnf_to_bqm(variables, clauses)\n",
    "print(len(bqm.variables))"
   ]
  },
  {
   "cell_type": "code",
   "execution_count": 3,
   "id": "champion-shift",
   "metadata": {},
   "outputs": [
    {
     "data": {
      "text/plain": [
       "0.0"
      ]
     },
     "execution_count": 3,
     "metadata": {},
     "output_type": "execute_result"
    }
   ],
   "source": [
    "cnf_result = \"1 -2 3 -4 -5 -6 7 -8 -9 -10 -11 -12 -13 14 -15 -16 -17 -18 -19 -20 -21 22 23 -24 -25 26 27 -28 29 -30 31 -32 -33 -34 -35 -36 -37 -38 -39 -40 41 -42 -43 -44 45 -46 -47 -48 -49 -50 -51 -52 53 -54 -55 -56 57 -58 -59 60 -61 62 63 -64 -65 -66 -67 -68 -69 -70 -71 -72 73 -74 -75 -76 -77 -78 79 80 -81 -82 -83 -84 -85 -86 -87 -88 89 -90 -91 -92 93 94 -95 -96 -97 98 -99 100 0\".split(\" \")\n",
    "answer = dict()\n",
    "for x in cnf_result[:-1]:\n",
    "    int_x = int(x)\n",
    "    answer[abs(int_x)] = int(int_x > 0)\n",
    "evaluate_cnf_formula(answer, or_result_vars, bqm)\n"
   ]
  },
  {
   "cell_type": "code",
   "execution_count": 4,
   "id": "seeing-liberty",
   "metadata": {},
   "outputs": [
    {
     "data": {
      "text/plain": [
       "True"
      ]
     },
     "execution_count": 4,
     "metadata": {},
     "output_type": "execute_result"
    }
   ],
   "source": [
    "evaluate_clauses(answer, clauses)"
   ]
  },
  {
   "cell_type": "code",
   "execution_count": 5,
   "id": "informative-minority",
   "metadata": {},
   "outputs": [],
   "source": [
    "# check that clauses of length 4 have only one bit==true\n",
    "for clause in clauses:\n",
    "    line = \"\"\n",
    "    true_bits = 0\n",
    "    for var in clause:\n",
    "        line += f\"{answer[abs(var)]}\"\n",
    "        if answer[abs(var)] == 1:\n",
    "            true_bits +=1\n",
    "    if len(clause) >2:\n",
    "        assert(true_bits == 1)"
   ]
  },
  {
   "cell_type": "code",
   "execution_count": 6,
   "id": "overhead-bidding",
   "metadata": {},
   "outputs": [
    {
     "data": {
      "text/plain": [
       "<AxesSubplot:ylabel='Count'>"
      ]
     },
     "execution_count": 6,
     "metadata": {},
     "output_type": "execute_result"
    },
    {
     "data": {
      "image/png": "[encoded data removed]",
      "text/plain": [
       "<Figure size 432x288 with 1 Axes>"
      ]
     },
     "metadata": {
      "needs_background": "light"
     },
     "output_type": "display_data"
    }
   ],
   "source": [
    "embedding = get_embedding(bqm, 1)\n",
    "chain_lengths = []\n",
    "for (key, chain) in embedding.items():\n",
    "    chain_lengths.append(len(chain))\n",
    "sns.histplot(chain_lengths)"
   ]
  },
  {
   "cell_type": "code",
   "execution_count": 7,
   "id": "toxic-relations",
   "metadata": {},
   "outputs": [
    {
     "data": {
      "text/plain": [
       "449"
      ]
     },
     "execution_count": 7,
     "metadata": {},
     "output_type": "execute_result"
    }
   ],
   "source": [
    "sum(chain_lengths)"
   ]
  },
  {
   "cell_type": "code",
   "execution_count": 36,
   "id": "complex-marijuana",
   "metadata": {},
   "outputs": [],
   "source": [
    "from greedy import SteepestDescentComposite\n",
    "from dwave.system import DWaveCliqueSampler\n",
    "\n",
    "\n",
    "qubit_offsets = get_0_qubits_offsets()\n",
    "qpu_offsets = get_qubit_offset_ranges()\n",
    "advance_annealing_of_unused(embedding, qubit_offsets)"
   ]
  },
  {
   "cell_type": "code",
   "execution_count": 37,
   "id": "wound-victim",
   "metadata": {},
   "outputs": [],
   "source": [
    "\n",
    "for (logic_var, chain) in embedding.items():\n",
    "    for c in chain:\n",
    "        min_offset = get_min_offset(qpu_offsets, c)\n",
    "        if bqm.linear[logic_var] != 0:\n",
    "            qubit_offsets[c] = -0.3\n",
    "#         else:\n",
    "#             qubit_offsets[c] = 0.3"
   ]
  },
  {
   "cell_type": "code",
   "execution_count": 38,
   "id": "similar-miniature",
   "metadata": {},
   "outputs": [
    {
     "name": "stdout",
     "output_type": "stream",
     "text": [
      "4.0\n"
     ]
    },
    {
     "data": {
      "text/plain": [
       "9.84"
      ]
     },
     "execution_count": 38,
     "metadata": {},
     "output_type": "execute_result"
    }
   ],
   "source": [
    "sampler = get_greedy_quantum_sampler(embedding)\n",
    "sampleset = sampler.sample(bqm, \n",
    "                           num_reads=1000, \n",
    "                           anneal_offsets=qubit_offsets,\n",
    "                           chain_strength=1.25, \n",
    "                           auto_scale=True)\n",
    "print(sampleset.first.energy)\n",
    "get_avg_energy(sampleset)"
   ]
  },
  {
   "cell_type": "code",
   "execution_count": 13,
   "id": "sixth-sunset",
   "metadata": {},
   "outputs": [],
   "source": [
    "sampler = SteepestDescentComposite(DWaveCliqueSampler(solver={\"name\": \"Advantage_system4.1\"}))"
   ]
  },
  {
   "cell_type": "code",
   "execution_count": 22,
   "id": "disabled-courtesy",
   "metadata": {},
   "outputs": [
    {
     "name": "stdout",
     "output_type": "stream",
     "text": [
      "5.0\n"
     ]
    },
    {
     "data": {
      "text/plain": [
       "9.08"
      ]
     },
     "execution_count": 22,
     "metadata": {},
     "output_type": "execute_result"
    }
   ],
   "source": [
    "sampleset = sampler.sample(bqm, \n",
    "                           num_reads=100, \n",
    "                           anneal_offsets=qubit_offsets,\n",
    "                           chain_strength=1.25)\n",
    "print(sampleset.first.energy)\n",
    "get_avg_energy(sampleset)"
   ]
  },
  {
   "cell_type": "code",
   "execution_count": 30,
   "id": "thousand-revolution",
   "metadata": {},
   "outputs": [
    {
     "data": {
      "text/plain": [
       "BinaryQuadraticModel({1: -2.0, 2: -2.0, 3: -2.0, 4: -2.0, 5: -2.0, 6: -2.0, 7: -2.0, 8: -2.0, 9: -2.0, 10: -2.0, 11: -2.0, 12: -2.0, 13: -2.0, 14: -2.0, 15: -2.0, 16: -2.0, 17: -2.0, 18: -2.0, 19: -2.0, 20: -2.0, 21: -2.0, 22: -2.0, 23: -2.0, 24: -2.0, 25: -2.0, 26: -2.0, 27: -2.0, 28: -2.0, 29: -2.0, 30: -2.0, 31: -2.0, 32: -2.0, 33: -2.0, 34: -2.0, 35: -2.0, 36: -2.0, 37: -2.0, 38: -2.0, 39: -2.0, 40: -2.0, 41: -2.0, 42: -2.0, 43: -2.0, 44: -2.0, 45: -2.0, 46: -2.0, 47: -2.0, 48: -2.0, 49: -2.0, 50: -2.0, 51: -2.0, 52: -2.0, 53: -2.0, 54: -2.0, 55: -2.0, 56: -2.0, 57: -2.0, 58: -2.0, 59: -2.0, 60: -2.0, 61: -2.0, 62: -2.0, 63: -2.0, 64: -2.0, 65: -2.0, 66: -2.0, 67: -2.0, 68: -2.0, 69: -2.0, 70: -2.0, 71: -2.0, 72: -2.0, 73: -2.0, 74: -2.0, 75: -2.0, 76: -2.0, 77: -2.0, 78: -2.0, 79: -2.0, 80: -2.0, 81: -2.0, 82: -2.0, 83: -2.0, 84: -2.0, 85: -2.0, 86: -2.0, 87: -2.0, 88: -2.0, 89: -2.0, 90: -2.0, 91: -2.0, 92: -2.0, 93: -2.0, 94: -2.0, 95: -2.0, 96: -2.0, 97: -2.0, 98: -2.0, 99: -2.0, 100: -2.0}, {(5, 2): 2.0, (7, 2): 4.0, (7, 5): 2.0, (9, 8): 2.0, (10, 6): 1.0, (12, 5): 2.0, (14, 11): 2.0, (15, 9): 1.0, (16, 4): 1.0, (16, 10): 2.0, (17, 2): 2.0, (17, 7): 2.0, (18, 1): 1.0, (18, 9): 2.0, (19, 3): 2.0, (19, 11): 1.0, (19, 16): 2.0, (20, 7): 1.0, (20, 10): 2.0, (21, 3): 2.0, (21, 19): 2.0, (22, 6): 2.0, (22, 18): 2.0, (23, 5): 1.0, (23, 10): 2.0, (23, 20): 2.0, (24, 4): 1.0, (24, 16): 1.0, (25, 11): 2.0, (25, 22): 1.0, (26, 13): 2.0, (27, 15): 2.0, (28, 3): 1.0, (28, 12): 2.0, (30, 14): 1.0, (31, 10): 2.0, (31, 11): 1.0, (31, 16): 2.0, (31, 19): 1.0, (31, 28): 2.0, (32, 17): 2.0, (32, 27): 1.0, (33, 8): 1.0, (33, 9): 2.0, (33, 18): 2.0, (34, 5): 2.0, (34, 12): 2.0, (34, 26): 2.0, (35, 3): 2.0, (35, 12): 1.0, (36, 3): 2.0, (36, 8): 1.0, (36, 19): 2.0, (36, 21): 2.0, (36, 33): 1.0, (37, 1): 1.0, (37, 18): 1.0, (37, 29): 2.0, (37, 35): 2.0, (38, 23): 2.0, (38, 24): 2.0, (38, 27): 1.0, (38, 32): 1.0, (39, 1): 2.0, (39, 4): 2.0, (39, 29): 1.0, (40, 1): 2.0, (40, 3): 1.0, (40, 8): 2.0, (40, 9): 2.0, (40, 28): 1.0, (40, 39): 2.0, (41, 5): 2.0, (41, 12): 2.0, (41, 25): 2.0, (41, 34): 2.0, (42, 24): 2.0, (42, 26): 1.0, (42, 29): 2.0, (42, 37): 2.0, (43, 3): 2.0, (43, 17): 1.0, (43, 23): 2.0, (43, 35): 2.0, (43, 38): 2.0, (44, 18): 2.0, (44, 20): 2.0, (44, 22): 2.0, (45, 13): 2.0, (45, 16): 2.0, (45, 19): 2.0, (45, 44): 1.0, (46, 5): 1.0, (46, 15): 2.0, (46, 23): 1.0, (46, 25): 2.0, (46, 27): 2.0, (46, 41): 2.0, (47, 26): 2.0, (47, 30): 2.0, (47, 34): 2.0, (47, 41): 1.0, (48, 6): 2.0, (48, 11): 1.0, (48, 12): 2.0, (48, 19): 1.0, (48, 28): 2.0, (48, 31): 1.0, (49, 6): 2.0, (49, 23): 2.0, (49, 38): 2.0, (49, 43): 2.0, (49, 48): 2.0, (50, 13): 2.0, (50, 29): 1.0, (50, 39): 1.0, (50, 45): 2.0, (51, 13): 2.0, (51, 14): 1.0, (51, 26): 2.0, (51, 30): 1.0, (52, 2): 2.0, (52, 7): 2.0, (52, 17): 2.0, (52, 41): 1.0, (52, 47): 1.0, (53, 6): 2.0, (53, 15): 2.0, (53, 48): 2.0, (53, 49): 2.0, (54, 1): 2.0, (54, 4): 2.0, (54, 44): 1.0, (54, 45): 1.0, (55, 4): 2.0, (55, 9): 1.0, (55, 15): 1.0, (55, 28): 2.0, (55, 31): 2.0, (55, 54): 2.0, (56, 2): 2.0, (56, 5): 2.0, (56, 6): 1.0, (56, 7): 2.0, (56, 10): 1.0, (56, 14): 2.0, (57, 8): 2.0, (57, 12): 1.0, (57, 35): 1.0, (58, 18): 2.0, (58, 22): 2.0, (58, 44): 2.0, (58, 51): 2.0, (58, 53): 1.0, (59, 5): 1.0, (59, 23): 1.0, (59, 29): 2.0, (59, 36): 2.0, (59, 46): 1.0, (60, 11): 2.0, (60, 25): 2.0, (60, 34): 1.0, (60, 51): 2.0, (60, 58): 2.0, (61, 13): 1.0, (61, 16): 2.0, (61, 19): 2.0, (61, 29): 2.0, (61, 45): 2.0, (61, 59): 2.0, (62, 12): 2.0, (62, 21): 1.0, (62, 28): 2.0, (62, 32): 2.0, (62, 48): 2.0, (63, 9): 1.0, (63, 15): 1.0, (63, 52): 2.0, (63, 55): 1.0, (64, 11): 2.0, (64, 14): 2.0, (64, 21): 1.0, (64, 24): 2.0, (64, 38): 2.0, (64, 62): 1.0, (65, 14): 1.0, (65, 20): 2.0, (65, 30): 1.0, (65, 44): 2.0, (65, 51): 1.0, (65, 57): 2.0, (66, 15): 2.0, (66, 17): 2.0, (66, 22): 1.0, (66, 25): 1.0, (66, 27): 2.0, (66, 32): 2.0, (66, 46): 2.0, (67, 11): 2.0, (67, 24): 2.0, (67, 25): 2.0, (67, 42): 2.0, (67, 60): 2.0, (68, 3): 1.0, (68, 21): 2.0, (68, 28): 1.0, (68, 40): 1.0, (68, 52): 2.0, (68, 63): 2.0, (69, 10): 2.0, (69, 20): 2.0, (69, 23): 2.0, (69, 25): 2.0, (69, 34): 1.0, (69, 41): 2.0, (69, 46): 2.0, (69, 60): 1.0, (70, 26): 2.0, (70, 27): 1.0, (70, 32): 1.0, (70, 34): 2.0, (70, 38): 1.0, (70, 47): 2.0, (70, 63): 2.0, (71, 8): 2.0, (71, 50): 2.0, (71, 53): 1.0, (71, 57): 2.0, (71, 58): 1.0, (72, 32): 2.0, (72, 49): 1.0, (72, 52): 2.0, (72, 62): 2.0, (72, 63): 2.0, (72, 68): 2.0, (73, 6): 1.0, (73, 10): 1.0, (73, 30): 2.0, (73, 50): 2.0, (73, 56): 1.0, (73, 71): 2.0, (74, 3): 2.0, (74, 15): 2.0, (74, 29): 1.0, (74, 35): 2.0, (74, 39): 1.0, (74, 43): 2.0, (74, 50): 1.0, (74, 53): 2.0, (75, 1): 2.0, (75, 2): 1.0, (75, 32): 2.0, (75, 39): 2.0, (75, 40): 2.0, (75, 62): 2.0, (75, 72): 2.0, (76, 1): 2.0, (76, 26): 1.0, (76, 30): 2.0, (76, 42): 1.0, (76, 54): 2.0, (76, 73): 2.0, (77, 6): 2.0, (77, 22): 2.0, (77, 30): 2.0, (77, 47): 2.0, (77, 67): 1.0, (78, 2): 1.0, (78, 10): 2.0, (78, 16): 2.0, (78, 31): 2.0, (78, 36): 2.0, (78, 59): 2.0, (78, 75): 1.0, (79, 8): 2.0, (79, 9): 2.0, (79, 35): 2.0, (79, 37): 2.0, (79, 40): 2.0, (79, 49): 1.0, (79, 72): 1.0, (80, 2): 1.0, (80, 36): 2.0, (80, 59): 2.0, (80, 75): 1.0, (80, 78): 3.0, (81, 49): 1.0, (81, 63): 2.0, (81, 70): 2.0, (81, 72): 1.0, (81, 79): 1.0, (81, 80): 2.0, (82, 27): 2.0, (82, 44): 1.0, (82, 45): 1.0, (82, 50): 2.0, (82, 54): 1.0, (82, 71): 2.0, (82, 73): 2.0, (83, 14): 2.0, (83, 17): 1.0, (83, 30): 2.0, (83, 43): 1.0, (83, 56): 2.0, (83, 73): 2.0, (83, 76): 2.0, (84, 7): 1.0, (84, 13): 2.0, (84, 20): 1.0, (84, 21): 2.0, (84, 45): 2.0, (84, 50): 2.0, (84, 68): 2.0, (85, 15): 2.0, (85, 26): 1.0, (85, 28): 2.0, (85, 31): 2.0, (85, 42): 1.0, (85, 53): 2.0, (85, 55): 2.0, (85, 74): 2.0, (85, 76): 1.0, (86, 1): 1.0, (86, 4): 2.0, (86, 8): 2.0, (86, 18): 1.0, (86, 37): 1.0, (86, 39): 2.0, (86, 57): 2.0, (86, 71): 2.0, (87, 1): 2.0, (87, 34): 1.0, (87, 35): 2.0, (87, 37): 2.0, (87, 54): 2.0, (87, 60): 1.0, (87, 69): 1.0, (87, 76): 2.0, (87, 79): 2.0, (88, 27): 2.0, (88, 53): 1.0, (88, 57): 2.0, (88, 58): 1.0, (88, 65): 2.0, (88, 71): 1.0, (88, 82): 2.0, (89, 8): 1.0, (89, 20): 2.0, (89, 30): 2.0, (89, 33): 1.0, (89, 36): 1.0, (89, 44): 2.0, (89, 47): 2.0, (89, 65): 2.0, (89, 77): 2.0, (90, 29): 2.0, (90, 59): 2.0, (90, 61): 2.0, (90, 63): 2.0, (90, 67): 1.0, (90, 70): 2.0, (90, 77): 1.0, (90, 81): 2.0, (91, 22): 1.0, (91, 25): 1.0, (91, 51): 2.0, (91, 57): 2.0, (91, 58): 2.0, (91, 60): 2.0, (91, 65): 2.0, (91, 66): 1.0, (91, 88): 2.0, (92, 6): 2.0, (92, 12): 1.0, (92, 22): 2.0, (92, 33): 2.0, (92, 35): 1.0, (92, 57): 1.0, (92, 77): 2.0, (93, 17): 1.0, (93, 24): 2.0, (93, 33): 2.0, (93, 42): 2.0, (93, 43): 1.0, (93, 67): 2.0, (93, 83): 1.0, (93, 92): 2.0, (94, 4): 2.0, (94, 24): 2.0, (94, 38): 2.0, (94, 54): 2.0, (94, 55): 2.0, (94, 64): 2.0, (94, 67): 1.0, (94, 77): 1.0, (94, 90): 1.0, (95, 21): 1.0, (95, 29): 2.0, (95, 37): 2.0, (95, 42): 2.0, (95, 62): 1.0, (95, 64): 1.0, (95, 80): 2.0, (95, 81): 2.0, (96, 13): 1.0, (96, 14): 2.0, (96, 27): 2.0, (96, 56): 2.0, (96, 61): 1.0, (96, 82): 2.0, (96, 83): 2.0, (96, 88): 2.0, (97, 11): 2.0, (97, 14): 2.0, (97, 33): 2.0, (97, 41): 1.0, (97, 47): 1.0, (97, 52): 1.0, (97, 64): 2.0, (97, 92): 2.0, (97, 93): 2.0, (98, 4): 3.0, (98, 9): 2.0, (98, 16): 1.0, (98, 18): 2.0, (98, 24): 1.0, (98, 33): 2.0, (98, 39): 2.0, (98, 86): 2.0, (99, 7): 1.0, (99, 13): 2.0, (99, 20): 1.0, (99, 26): 2.0, (99, 51): 2.0, (99, 80): 2.0, (99, 81): 2.0, (99, 84): 1.0, (99, 95): 2.0, (100, 13): 1.0, (100, 17): 2.0, (100, 21): 2.0, (100, 32): 2.0, (100, 61): 1.0, (100, 66): 2.0, (100, 68): 2.0, (100, 84): 2.0, (100, 96): 1.0}, 50.0, 'BINARY')"
      ]
     },
     "execution_count": 30,
     "metadata": {},
     "output_type": "execute_result"
    }
   ],
   "source": [
    "bqm"
   ]
  },
  {
   "cell_type": "code",
   "execution_count": null,
   "id": "essential-pittsburgh",
   "metadata": {},
   "outputs": [],
   "source": []
  }
 ],
 "metadata": {
  "kernelspec": {
   "display_name": "Python 3",
   "language": "python",
   "name": "python3"
  },
  "language_info": {
   "codemirror_mode": {
    "name": "ipython",
    "version": 3
   },
   "file_extension": ".py",
   "mimetype": "text/x-python",
   "name": "python",
   "nbconvert_exporter": "python",
   "pygments_lexer": "ipython3",
   "version": "3.9.12"
  }
 },
 "nbformat": 4,
 "nbformat_minor": 5
}
