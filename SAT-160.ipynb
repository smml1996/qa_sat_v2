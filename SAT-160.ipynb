{
 "cells": [
  {
   "cell_type": "code",
   "execution_count": 1,
   "id": "forbidden-phone",
   "metadata": {},
   "outputs": [],
   "source": [
    "from utils import load_cnf, cnf_to_bqm\n",
    "from embedding_utils import *\n",
    "import seaborn as sns\n",
    "from redundancy import *\n",
    "from utils import *"
   ]
  },
  {
   "cell_type": "code",
   "execution_count": 2,
   "id": "measured-briefs",
   "metadata": {},
   "outputs": [],
   "source": [
    "folder = 'sat'\n",
    "_variables = 160\n",
    "path = f\"./{folder}/sgen1-{folder}-{_variables}-100.cnf\""
   ]
  },
  {
   "cell_type": "code",
   "execution_count": 3,
   "id": "documented-carol",
   "metadata": {},
   "outputs": [],
   "source": [
    "num_variables, num_clauses, variables, clauses = load_cnf(path)\n",
    "bqm, or_result_vars, clauses_qubits = cnf_to_bqm(variables, clauses)"
   ]
  },
  {
   "cell_type": "code",
   "execution_count": 4,
   "id": "present-adelaide",
   "metadata": {},
   "outputs": [
    {
     "data": {
      "text/plain": [
       "352"
      ]
     },
     "execution_count": 4,
     "metadata": {},
     "output_type": "execute_result"
    }
   ],
   "source": [
    "len(bqm.adj)"
   ]
  },
  {
   "cell_type": "code",
   "execution_count": 5,
   "id": "selective-ultimate",
   "metadata": {},
   "outputs": [
    {
     "data": {
      "text/plain": [
       "160"
      ]
     },
     "execution_count": 5,
     "metadata": {},
     "output_type": "execute_result"
    }
   ],
   "source": [
    "num_variables"
   ]
  },
  {
   "cell_type": "markdown",
   "id": "geographic-wages",
   "metadata": {},
   "source": [
    "# Minor Embedding"
   ]
  },
  {
   "cell_type": "code",
   "execution_count": 14,
   "id": "seeing-choice",
   "metadata": {},
   "outputs": [
    {
     "name": "stdout",
     "output_type": "stream",
     "text": [
      "1595\n"
     ]
    },
    {
     "data": {
      "text/plain": [
       "<AxesSubplot:ylabel='Count'>"
      ]
     },
     "execution_count": 14,
     "metadata": {},
     "output_type": "execute_result"
    },
    {
     "data": {
      "image/png": "[encoded data removed]",
      "text/plain": [
       "<Figure size 432x288 with 1 Axes>"
      ]
     },
     "metadata": {
      "needs_background": "light"
     },
     "output_type": "display_data"
    }
   ],
   "source": [
    "embedding = get_embedding(bqm, 40) #121\n",
    "print(count_qubits_used(embedding))\n",
    "sns.histplot(get_chain_lengths(bqm, embedding)[0])"
   ]
  },
  {
   "cell_type": "markdown",
   "id": "emotional-toronto",
   "metadata": {},
   "source": [
    "# QPU"
   ]
  },
  {
   "cell_type": "code",
   "execution_count": 19,
   "id": "inappropriate-anniversary",
   "metadata": {},
   "outputs": [],
   "source": [
    "sampler =  get_greedy_quantum_sampler(embedding)"
   ]
  },
  {
   "cell_type": "markdown",
   "id": "fuzzy-quest",
   "metadata": {},
   "source": [
    "### Standard setup"
   ]
  },
  {
   "cell_type": "code",
   "execution_count": 22,
   "id": "analyzed-treaty",
   "metadata": {},
   "outputs": [
    {
     "data": {
      "text/plain": [
       "21.0"
      ]
     },
     "execution_count": 22,
     "metadata": {},
     "output_type": "execute_result"
    }
   ],
   "source": [
    "sampleset_standard = sampler.sample(bqm, num_reads=100, answer_mode='raw', chain_strength=4, auto_scale=True)\n",
    "sampleset_standard.first.energy"
   ]
  },
  {
   "cell_type": "markdown",
   "id": "endless-wages",
   "metadata": {},
   "source": [
    "### with annealing offsets"
   ]
  },
  {
   "cell_type": "code",
   "execution_count": 23,
   "id": "smaller-minimum",
   "metadata": {},
   "outputs": [],
   "source": [
    "qubit_offsets = get_0_qubits_offsets()\n",
    "advance_annealing_of_unused(embedding, qubit_offsets)"
   ]
  },
  {
   "cell_type": "code",
   "execution_count": 35,
   "id": "useful-increase",
   "metadata": {},
   "outputs": [],
   "source": [
    "def get_offset(qpu_offsets, var):\n",
    "    min_offset = get_min_offset(qpu_offsets, var)\n",
    "    return min_offset"
   ]
  },
  {
   "cell_type": "code",
   "execution_count": 36,
   "id": "enhanced-undergraduate",
   "metadata": {},
   "outputs": [],
   "source": [
    "set_logic_var_annealing_offsets(embedding, qubit_offsets, num_variables, get_offset)"
   ]
  },
  {
   "cell_type": "code",
   "execution_count": 38,
   "id": "living-hungarian",
   "metadata": {},
   "outputs": [
    {
     "data": {
      "text/plain": [
       "14.0"
      ]
     },
     "execution_count": 38,
     "metadata": {},
     "output_type": "execute_result"
    }
   ],
   "source": [
    "sampleset_offsets = sampler.sample(bqm, num_reads=100, answer_mode='raw', anneal_offsets=qubit_offsets, chain_strength=1.25, auto_scale=True)\n",
    "sampleset_offsets.first.energy"
   ]
  },
  {
   "cell_type": "markdown",
   "id": "failing-jumping",
   "metadata": {},
   "source": [
    "### variable redundacy for good embedding"
   ]
  },
  {
   "cell_type": "code",
   "execution_count": 39,
   "id": "dependent-lending",
   "metadata": {},
   "outputs": [],
   "source": [
    "# mirror variables\n",
    "original_vars_to_mirrors = dict()\n",
    "mirrors = dict()\n",
    "num_variables, num_clauses, variables, clauses = load_cnf(path)\n",
    "initialize_mirror_vars(variables, mirrors, original_vars_to_mirrors)\n",
    "vars_ = variables.copy()\n",
    "for var in vars_:\n",
    "    mirror_variable(var, variables, clauses, mirrors, original_vars_to_mirrors)\n",
    "\n",
    "vars_ = variables.copy()\n",
    "for var in vars_:\n",
    "    mirror_variable(var, variables, clauses, mirrors, original_vars_to_mirrors)\n",
    "    \n",
    "vars_ = variables.copy()\n",
    "for var in vars_:\n",
    "    mirror_variable(var, variables, clauses, mirrors, original_vars_to_mirrors)\n",
    "\n",
    "vars_ = variables.copy()\n",
    "for var in vars_:\n",
    "    mirror_variable(var, variables, clauses, mirrors, original_vars_to_mirrors)\n",
    "# for var in variables:\n",
    "#     mirror_variable(var, variables, clauses, mirrors, original_vars_to_mirrors)\n",
    "\n",
    "# create bqm\n",
    "bqm, or_result_vars, clauses_qubits = cnf_to_bqm(variables, clauses)\n",
    "\n",
    "# connect semantically equal variables\n",
    "for i in range(1, _variables+1):\n",
    "    update_bqm_single_mirror(bqm, i, mirrors, original_vars_to_mirrors)"
   ]
  },
  {
   "cell_type": "code",
   "execution_count": 40,
   "id": "proved-disabled",
   "metadata": {},
   "outputs": [
    {
     "data": {
      "text/plain": [
       "1152"
      ]
     },
     "execution_count": 40,
     "metadata": {},
     "output_type": "execute_result"
    }
   ],
   "source": [
    "len(bqm)"
   ]
  },
  {
   "cell_type": "code",
   "execution_count": 42,
   "id": "similar-terrace",
   "metadata": {},
   "outputs": [
    {
     "name": "stdout",
     "output_type": "stream",
     "text": [
      "3712\n"
     ]
    },
    {
     "data": {
      "text/plain": [
       "<AxesSubplot:ylabel='Count'>"
      ]
     },
     "execution_count": 42,
     "metadata": {},
     "output_type": "execute_result"
    },
    {
     "data": {
      "image/png": "[encoded data removed]",
      "text/plain": [
       "<Figure size 432x288 with 1 Axes>"
      ]
     },
     "metadata": {
      "needs_background": "light"
     },
     "output_type": "display_data"
    }
   ],
   "source": [
    "#for i in range(1, 1000):\n",
    "embedding = get_embedding(bqm, 40)\n",
    "print(count_qubits_used(embedding))\n",
    "sns.histplot(get_chain_lengths(bqm, embedding)[0])"
   ]
  },
  {
   "cell_type": "code",
   "execution_count": 43,
   "id": "initial-austin",
   "metadata": {},
   "outputs": [
    {
     "data": {
      "text/plain": [
       "54.0"
      ]
     },
     "execution_count": 43,
     "metadata": {},
     "output_type": "execute_result"
    }
   ],
   "source": [
    "sampler =  get_greedy_quantum_sampler(embedding)\n",
    "temp = sampler.sample(bqm, num_reads=100, answer_mode='raw', chain_strength=1.3, auto_scale=True)\n",
    "temp.first.energy"
   ]
  },
  {
   "cell_type": "code",
   "execution_count": null,
   "id": "champion-coach",
   "metadata": {},
   "outputs": [],
   "source": []
  }
 ],
 "metadata": {
  "kernelspec": {
   "display_name": "Python 3",
   "language": "python",
   "name": "python3"
  },
  "language_info": {
   "codemirror_mode": {
    "name": "ipython",
    "version": 3
   },
   "file_extension": ".py",
   "mimetype": "text/x-python",
   "name": "python",
   "nbconvert_exporter": "python",
   "pygments_lexer": "ipython3",
   "version": "3.9.9"
  }
 },
 "nbformat": 4,
 "nbformat_minor": 5
}
