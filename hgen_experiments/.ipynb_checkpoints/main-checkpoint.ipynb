{
 "cells": [
  {
   "cell_type": "code",
   "execution_count": 2,
   "id": "neural-island",
   "metadata": {},
   "outputs": [],
   "source": [
    "import sys\n",
    "sys.path.append(\"../\")\n",
    "from utils import load_cnf, cnf_to_bqm\n",
    "from embedding_utils import *\n",
    "import seaborn as sns\n",
    "from redundancy import *\n",
    "from utils import *\n",
    "from dwave.embedding.chain_strength import scaled\n",
    "import pandas as pd\n",
    "from brute_force import get_bqm_random_sat\n",
    "import numpy as np\n",
    "import matplotlib.pyplot as plt"
   ]
  },
  {
   "cell_type": "code",
   "execution_count": 3,
   "id": "conventional-cradle",
   "metadata": {},
   "outputs": [],
   "source": [
    "pegasus_qpu = get_qpu()\n",
    "zephyr_qpu = dnx.zephyr_graph(15)"
   ]
  },
  {
   "cell_type": "code",
   "execution_count": null,
   "id": "early-battle",
   "metadata": {},
   "outputs": [],
   "source": [
    "var_counts = []\n",
    "clauses_counts = []\n",
    "ratios_c_to_var = []\n",
    "for i in range(250, 1001, 50):\n",
    "    for j in range(1, 11):\n",
    "        path = f\"./hgen2_instances/hgen_{i}_{j}.cnf\"\n",
    "        num_variables, num_clauses, variables, clauses = load_cnf(path)\n",
    "        bqm, or_result_vars, clauses_qubits, _ = cnf_to_bqm(variables, clauses)\n",
    "        \n",
    "        assert(num_variables == i)\n",
    "        \n",
    "        ratio = float(num_clauses)/float(num_variables)\n",
    "        \n",
    "        var_counts.append(num_variables)\n",
    "        clauses_counts(num_clauses)\n",
    "        ratios_c_to_var.append(round(ratio))\n",
    "        \n",
    "        \n",
    "        \n",
    "        "
   ]
  },
  {
   "cell_type": "code",
   "execution_count": null,
   "id": "dress-occasion",
   "metadata": {},
   "outputs": [],
   "source": [
    "df = pd.DataFrame({\n",
    "    'vars': var_counts,\n",
    "    'clauses': clauses_counts,\n",
    "    \"clauses_per_var\": ratios_c_to_var,\n",
    "    \n",
    "})"
   ]
  }
 ],
 "metadata": {
  "kernelspec": {
   "display_name": "Python 3",
   "language": "python",
   "name": "python3"
  },
  "language_info": {
   "codemirror_mode": {
    "name": "ipython",
    "version": 3
   },
   "file_extension": ".py",
   "mimetype": "text/x-python",
   "name": "python",
   "nbconvert_exporter": "python",
   "pygments_lexer": "ipython3",
   "version": "3.9.12"
  }
 },
 "nbformat": 4,
 "nbformat_minor": 5
}
