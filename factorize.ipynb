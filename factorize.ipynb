{
 "cells": [
  {
   "cell_type": "code",
   "execution_count": 1,
   "id": "surrounded-gross",
   "metadata": {},
   "outputs": [],
   "source": [
    "from utils import load_cnf, cnf_to_bqm\n",
    "from embedding_utils import *\n",
    "import seaborn as sns\n",
    "from redundancy import *\n",
    "from utils import *\n",
    "from dwave.embedding.chain_strength import scaled"
   ]
  },
  {
   "cell_type": "code",
   "execution_count": 3,
   "id": "floral-carter",
   "metadata": {},
   "outputs": [],
   "source": [
    "input_qubits = [47,8,7,6,5,4,3,2,30,27,76,116,156,196,236,276]\n",
    "input1 = [47,8,7,6,5,4,3,2]\n",
    "input2 = [30,27,76,116,156,196,236,276]"
   ]
  },
  {
   "cell_type": "code",
   "execution_count": 10,
   "id": "antique-participant",
   "metadata": {},
   "outputs": [
    {
     "name": "stdout",
     "output_type": "stream",
     "text": [
      "270.0 2091\n",
      "(-949.9999999999991, {848: 1, 849: 0})\n",
      "266.0 2089\n"
     ]
    }
   ],
   "source": [
    "bqm = process_unicorn_file(\"./factorize_35.qubo\")\n",
    "print(bqm.offset, len(bqm.quadratic.keys()))\n",
    "print(minimize_qubo(bqm, False))\n",
    "bqm.fix_variable(848, 1)\n",
    "bqm.fix_variable(849, 0)\n",
    "print(bqm.offset, len(bqm.quadratic.keys()))"
   ]
  },
  {
   "cell_type": "code",
   "execution_count": 12,
   "id": "treated-senate",
   "metadata": {},
   "outputs": [
    {
     "name": "stdout",
     "output_type": "stream",
     "text": [
      "15 2178\n",
      "16 2123\n",
      "17 1862\n",
      "18 1859\n",
      "19 2131\n",
      "20 2027\n",
      "21 2399\n",
      "22 2160\n",
      "23 1835\n",
      "24 1940\n",
      "25 2077\n",
      "26 2283\n",
      "27 1902\n",
      "28 1868\n",
      "29 1963\n",
      "30 2077\n",
      "31 1958\n",
      "32 2160\n",
      "33 2055\n",
      "34 2031\n",
      "35 2098\n",
      "36 1955\n",
      "37 2054\n",
      "38 2100\n",
      "39 0\n",
      "40 0\n",
      "41 2111\n",
      "42 2148\n",
      "43 2185\n",
      "44 2270\n",
      "45 2065\n",
      "46 2341\n",
      "47 1992\n",
      "48 2023\n"
     ]
    },
    {
     "ename": "KeyboardInterrupt",
     "evalue": "embedding cancelled by keyboard interrupt",
     "output_type": "error",
     "traceback": [
      "\u001b[0;31m---------------------------------------------------------------------------\u001b[0m",
      "\u001b[0;31mKeyboardInterrupt\u001b[0m                         Traceback (most recent call last)",
      "\u001b[0;32m<ipython-input-12-76d550507c9a>\u001b[0m in \u001b[0;36m<module>\u001b[0;34m\u001b[0m\n\u001b[1;32m      1\u001b[0m \u001b[0;32mfor\u001b[0m \u001b[0mi\u001b[0m \u001b[0;32min\u001b[0m \u001b[0mrange\u001b[0m\u001b[0;34m(\u001b[0m\u001b[0;36m15\u001b[0m\u001b[0;34m,\u001b[0m \u001b[0;36m150\u001b[0m\u001b[0;34m)\u001b[0m\u001b[0;34m:\u001b[0m\u001b[0;34m\u001b[0m\u001b[0;34m\u001b[0m\u001b[0m\n\u001b[0;32m----> 2\u001b[0;31m     \u001b[0membedding\u001b[0m \u001b[0;34m=\u001b[0m \u001b[0mget_embedding\u001b[0m\u001b[0;34m(\u001b[0m\u001b[0mbqm\u001b[0m\u001b[0;34m,\u001b[0m \u001b[0mi\u001b[0m\u001b[0;34m)\u001b[0m \u001b[0;31m# 8\u001b[0m\u001b[0;34m\u001b[0m\u001b[0;34m\u001b[0m\u001b[0m\n\u001b[0m\u001b[1;32m      3\u001b[0m     \u001b[0mchain_lengths\u001b[0m \u001b[0;34m=\u001b[0m \u001b[0;34m[\u001b[0m\u001b[0;34m]\u001b[0m\u001b[0;34m\u001b[0m\u001b[0;34m\u001b[0m\u001b[0m\n\u001b[1;32m      4\u001b[0m     \u001b[0;32mfor\u001b[0m \u001b[0;34m(\u001b[0m\u001b[0mkey\u001b[0m\u001b[0;34m,\u001b[0m \u001b[0mchain\u001b[0m\u001b[0;34m)\u001b[0m \u001b[0;32min\u001b[0m \u001b[0membedding\u001b[0m\u001b[0;34m.\u001b[0m\u001b[0mitems\u001b[0m\u001b[0;34m(\u001b[0m\u001b[0;34m)\u001b[0m\u001b[0;34m:\u001b[0m\u001b[0;34m\u001b[0m\u001b[0;34m\u001b[0m\u001b[0m\n\u001b[1;32m      5\u001b[0m         \u001b[0mchain_lengths\u001b[0m\u001b[0;34m.\u001b[0m\u001b[0mappend\u001b[0m\u001b[0;34m(\u001b[0m\u001b[0mlen\u001b[0m\u001b[0;34m(\u001b[0m\u001b[0mchain\u001b[0m\u001b[0;34m)\u001b[0m\u001b[0;34m)\u001b[0m\u001b[0;34m\u001b[0m\u001b[0;34m\u001b[0m\u001b[0m\n",
      "\u001b[0;32m~/Documents/satv2/embedding_utils.py\u001b[0m in \u001b[0;36mget_embedding\u001b[0;34m(bqm, random_seed)\u001b[0m\n\u001b[1;32m     10\u001b[0m \u001b[0;32mdef\u001b[0m \u001b[0mget_embedding\u001b[0m\u001b[0;34m(\u001b[0m\u001b[0mbqm\u001b[0m\u001b[0;34m:\u001b[0m \u001b[0mBinaryQuadraticModel\u001b[0m\u001b[0;34m,\u001b[0m \u001b[0mrandom_seed\u001b[0m\u001b[0;34m:\u001b[0m \u001b[0mint\u001b[0m \u001b[0;34m=\u001b[0m \u001b[0;36m1\u001b[0m\u001b[0;34m)\u001b[0m\u001b[0;34m:\u001b[0m\u001b[0;34m\u001b[0m\u001b[0;34m\u001b[0m\u001b[0m\n\u001b[1;32m     11\u001b[0m     \u001b[0mqpu_pegasus\u001b[0m \u001b[0;34m=\u001b[0m \u001b[0mget_pegasus_qpu\u001b[0m\u001b[0;34m(\u001b[0m\u001b[0;34m)\u001b[0m\u001b[0;34m\u001b[0m\u001b[0;34m\u001b[0m\u001b[0m\n\u001b[0;32m---> 12\u001b[0;31m     \u001b[0;32mreturn\u001b[0m \u001b[0mfind_embedding\u001b[0m\u001b[0;34m(\u001b[0m\u001b[0mbqm\u001b[0m\u001b[0;34m.\u001b[0m\u001b[0mquadratic\u001b[0m\u001b[0;34m.\u001b[0m\u001b[0mkeys\u001b[0m\u001b[0;34m(\u001b[0m\u001b[0;34m)\u001b[0m\u001b[0;34m,\u001b[0m \u001b[0mqpu_pegasus\u001b[0m\u001b[0;34m.\u001b[0m\u001b[0medgelist\u001b[0m\u001b[0;34m,\u001b[0m \u001b[0mrandom_seed\u001b[0m\u001b[0;34m=\u001b[0m\u001b[0mrandom_seed\u001b[0m\u001b[0;34m)\u001b[0m\u001b[0;34m\u001b[0m\u001b[0;34m\u001b[0m\u001b[0m\n\u001b[0m\u001b[1;32m     13\u001b[0m \u001b[0;34m\u001b[0m\u001b[0m\n\u001b[1;32m     14\u001b[0m \u001b[0;34m\u001b[0m\u001b[0m\n",
      "\u001b[0;32m/usr/local/lib/python3.9/site-packages/minorminer/minorminer.py\u001b[0m in \u001b[0;36mfind_embedding\u001b[0;34m(S, T, max_no_improvement, random_seed, timeout, max_beta, tries, inner_rounds, chainlength_patience, max_fill, threads, return_overlap, skip_initialization, verbose, interactive, initial_chains, fixed_chains, restrict_chains, suspend_chains)\u001b[0m\n\u001b[1;32m     39\u001b[0m                    \u001b[0msuspend_chains\u001b[0m\u001b[0;34m=\u001b[0m\u001b[0;34m(\u001b[0m\u001b[0;34m)\u001b[0m\u001b[0;34m,\u001b[0m\u001b[0;34m\u001b[0m\u001b[0;34m\u001b[0m\u001b[0m\n\u001b[1;32m     40\u001b[0m                    ):\n\u001b[0;32m---> 41\u001b[0;31m     return __find_embedding(S, T,\n\u001b[0m\u001b[1;32m     42\u001b[0m                             \u001b[0mmax_no_improvement\u001b[0m\u001b[0;34m=\u001b[0m\u001b[0mmax_no_improvement\u001b[0m\u001b[0;34m,\u001b[0m\u001b[0;34m\u001b[0m\u001b[0;34m\u001b[0m\u001b[0m\n\u001b[1;32m     43\u001b[0m                             \u001b[0mrandom_seed\u001b[0m\u001b[0;34m=\u001b[0m\u001b[0mrandom_seed\u001b[0m\u001b[0;34m,\u001b[0m\u001b[0;34m\u001b[0m\u001b[0;34m\u001b[0m\u001b[0m\n",
      "\u001b[0;32mminorminer/_minorminer.pyx\u001b[0m in \u001b[0;36mminorminer._minorminer.find_embedding\u001b[0;34m()\u001b[0m\n",
      "\u001b[0;31mKeyboardInterrupt\u001b[0m: embedding cancelled by keyboard interrupt"
     ]
    }
   ],
   "source": [
    "for i in range(15, 150):\n",
    "    embedding = get_embedding(bqm, i) # 8\n",
    "    chain_lengths = []\n",
    "    for (key, chain) in embedding.items():\n",
    "        chain_lengths.append(len(chain))\n",
    "    print(i, count_qubits_used(embedding))\n",
    "# "
   ]
  },
  {
   "cell_type": "code",
   "execution_count": 13,
   "id": "adjusted-stewart",
   "metadata": {},
   "outputs": [
    {
     "name": "stdout",
     "output_type": "stream",
     "text": [
      "49 1789\n"
     ]
    },
    {
     "data": {
      "text/plain": [
       "<AxesSubplot:ylabel='Count'>"
      ]
     },
     "execution_count": 13,
     "metadata": {},
     "output_type": "execute_result"
    },
    {
     "data": {
      "image/png": "[encoded data removed]",
      "text/plain": [
       "<Figure size 432x288 with 1 Axes>"
      ]
     },
     "metadata": {
      "needs_background": "light"
     },
     "output_type": "display_data"
    }
   ],
   "source": [
    "embedding = get_embedding(bqm, 8) # 8\n",
    "chain_lengths = []\n",
    "for (key, chain) in embedding.items():\n",
    "    chain_lengths.append(len(chain))\n",
    "print(i, count_qubits_used(embedding))\n",
    "sns.histplot(chain_lengths)"
   ]
  },
  {
   "cell_type": "code",
   "execution_count": 17,
   "id": "occasional-compression",
   "metadata": {},
   "outputs": [],
   "source": [
    "sampler = get_greedy_quantum_sampler(embedding)"
   ]
  },
  {
   "cell_type": "code",
   "execution_count": 23,
   "id": "listed-closer",
   "metadata": {},
   "outputs": [],
   "source": [
    "from greedy import SteepestDescentComposite\n",
    "from dwave.system import DWaveCliqueSampler\n",
    "\n",
    "\n",
    "qubit_offsets = get_0_qubits_offsets()\n",
    "qpu_offsets = get_qubit_offset_ranges()\n",
    "advance_annealing_of_unused(embedding, qubit_offsets)"
   ]
  },
  {
   "cell_type": "code",
   "execution_count": 18,
   "id": "entitled-retention",
   "metadata": {},
   "outputs": [
    {
     "name": "stdout",
     "output_type": "stream",
     "text": [
      "50.0\n"
     ]
    },
    {
     "data": {
      "text/plain": [
       "82.89"
      ]
     },
     "execution_count": 18,
     "metadata": {},
     "output_type": "execute_result"
    }
   ],
   "source": [
    "sampleset = sampler.sample(bqm, \n",
    "                           num_reads=1000, \n",
    "                           chain_strength=1.75, \n",
    "                           auto_scale=True)\n",
    "print(sampleset.first.energy)\n",
    "get_avg_energy(sampleset)"
   ]
  },
  {
   "cell_type": "code",
   "execution_count": 16,
   "id": "regional-residence",
   "metadata": {},
   "outputs": [
    {
     "ename": "NameError",
     "evalue": "name 'sampler' is not defined",
     "output_type": "error",
     "traceback": [
      "\u001b[0;31m---------------------------------------------------------------------------\u001b[0m",
      "\u001b[0;31mNameError\u001b[0m                                 Traceback (most recent call last)",
      "\u001b[0;32m<ipython-input-16-bc451e10e38f>\u001b[0m in \u001b[0;36m<module>\u001b[0;34m\u001b[0m\n\u001b[0;32m----> 1\u001b[0;31m sampleset_offsets = sampler.sample(bqm, num_reads=1000, \n\u001b[0m\u001b[1;32m      2\u001b[0m                                    \u001b[0manneal_schedule\u001b[0m\u001b[0;34m=\u001b[0m\u001b[0;34m[\u001b[0m\u001b[0;34m[\u001b[0m\u001b[0;36m0.0\u001b[0m\u001b[0;34m,\u001b[0m\u001b[0;36m1.0\u001b[0m\u001b[0;34m]\u001b[0m\u001b[0;34m,\u001b[0m\u001b[0;34m[\u001b[0m\u001b[0;36m2.5\u001b[0m\u001b[0;34m,\u001b[0m\u001b[0;36m0.5\u001b[0m\u001b[0;34m]\u001b[0m\u001b[0;34m,\u001b[0m\u001b[0;34m[\u001b[0m\u001b[0;36m17.5\u001b[0m\u001b[0;34m,\u001b[0m\u001b[0;36m0.5\u001b[0m\u001b[0;34m]\u001b[0m\u001b[0;34m,\u001b[0m\u001b[0;34m[\u001b[0m\u001b[0;36m20.0\u001b[0m\u001b[0;34m,\u001b[0m\u001b[0;36m1.0\u001b[0m\u001b[0;34m]\u001b[0m\u001b[0;34m]\u001b[0m\u001b[0;34m,\u001b[0m\u001b[0;34m\u001b[0m\u001b[0;34m\u001b[0m\u001b[0m\n\u001b[1;32m      3\u001b[0m                                    \u001b[0manswer_mode\u001b[0m\u001b[0;34m=\u001b[0m\u001b[0;34m'raw'\u001b[0m\u001b[0;34m,\u001b[0m\u001b[0;34m\u001b[0m\u001b[0;34m\u001b[0m\u001b[0m\n\u001b[1;32m      4\u001b[0m                                    \u001b[0mchain_strength\u001b[0m\u001b[0;34m=\u001b[0m\u001b[0;36m1.75\u001b[0m\u001b[0;34m,\u001b[0m\u001b[0;34m\u001b[0m\u001b[0;34m\u001b[0m\u001b[0m\n\u001b[1;32m      5\u001b[0m                                    \u001b[0minitial_state\u001b[0m\u001b[0;34m=\u001b[0m\u001b[0msampleset\u001b[0m\u001b[0;34m.\u001b[0m\u001b[0mfirst\u001b[0m\u001b[0;34m.\u001b[0m\u001b[0msample\u001b[0m\u001b[0;34m,\u001b[0m\u001b[0;34m\u001b[0m\u001b[0;34m\u001b[0m\u001b[0m\n",
      "\u001b[0;31mNameError\u001b[0m: name 'sampler' is not defined"
     ]
    }
   ],
   "source": [
    "sampleset_offsets = sampler.sample(bqm, num_reads=1000, \n",
    "                                   anneal_schedule=[[0.0,1.0],[2.5,0.5],[17.5,0.5],[20.0,1.0]],\n",
    "                                   answer_mode='raw', \n",
    "                                   chain_strength=1.75, \n",
    "                                   initial_state=sampleset.first.sample, \n",
    "                                   reinitialize_state=True)\n",
    "print(sampleset_offsets.first.energy)\n",
    "print(get_avg_energy(sampleset_offsets))"
   ]
  },
  {
   "cell_type": "code",
   "execution_count": 46,
   "id": "equipped-argentina",
   "metadata": {},
   "outputs": [
    {
     "data": {
      "text/plain": [
       "(-949.9999999999991, {848: 1, 849: 0})"
      ]
     },
     "execution_count": 46,
     "metadata": {},
     "output_type": "execute_result"
    }
   ],
   "source": [
    "minimize_qubo(bqm, False)"
   ]
  },
  {
   "cell_type": "code",
   "execution_count": 50,
   "id": "veterinary-match",
   "metadata": {},
   "outputs": [],
   "source": [
    "bqm.fix_variable(848, 1)\n",
    "bqm.fix_variable(849, 0)"
   ]
  },
  {
   "cell_type": "code",
   "execution_count": 15,
   "id": "hungarian-stanford",
   "metadata": {},
   "outputs": [
    {
     "ename": "NameError",
     "evalue": "name 'sampleset' is not defined",
     "output_type": "error",
     "traceback": [
      "\u001b[0;31m---------------------------------------------------------------------------\u001b[0m",
      "\u001b[0;31mNameError\u001b[0m                                 Traceback (most recent call last)",
      "\u001b[0;32m<ipython-input-15-cc143c9b6366>\u001b[0m in \u001b[0;36m<module>\u001b[0;34m\u001b[0m\n\u001b[1;32m      2\u001b[0m \u001b[0mtemp_bqm\u001b[0m \u001b[0;34m=\u001b[0m \u001b[0mdeepcopy\u001b[0m\u001b[0;34m(\u001b[0m\u001b[0mbqm\u001b[0m\u001b[0;34m)\u001b[0m\u001b[0;34m\u001b[0m\u001b[0;34m\u001b[0m\u001b[0m\n\u001b[1;32m      3\u001b[0m \u001b[0;32mfor\u001b[0m \u001b[0minput_qubit\u001b[0m \u001b[0;32min\u001b[0m \u001b[0minput_qubits\u001b[0m\u001b[0;34m:\u001b[0m\u001b[0;34m\u001b[0m\u001b[0;34m\u001b[0m\u001b[0m\n\u001b[0;32m----> 4\u001b[0;31m     \u001b[0mtemp_bqm\u001b[0m\u001b[0;34m.\u001b[0m\u001b[0mfix_variable\u001b[0m\u001b[0;34m(\u001b[0m\u001b[0minput_qubit\u001b[0m\u001b[0;34m,\u001b[0m \u001b[0msampleset\u001b[0m\u001b[0;34m.\u001b[0m\u001b[0mfirst\u001b[0m\u001b[0;34m.\u001b[0m\u001b[0msample\u001b[0m\u001b[0;34m[\u001b[0m\u001b[0minput_qubit\u001b[0m\u001b[0;34m]\u001b[0m\u001b[0;34m)\u001b[0m\u001b[0;34m\u001b[0m\u001b[0;34m\u001b[0m\u001b[0m\n\u001b[0m",
      "\u001b[0;31mNameError\u001b[0m: name 'sampleset' is not defined"
     ]
    }
   ],
   "source": [
    "from copy import deepcopy\n",
    "temp_bqm = deepcopy(bqm)\n",
    "for input_qubit in input_qubits:\n",
    "    temp_bqm.fix_variable(input_qubit, sampleset.first.sample[input_qubit])"
   ]
  },
  {
   "cell_type": "code",
   "execution_count": 8,
   "id": "julian-ghost",
   "metadata": {},
   "outputs": [],
   "source": [
    "from dwave.preprocessing.lower_bounds import roof_duality"
   ]
  },
  {
   "cell_type": "code",
   "execution_count": 9,
   "id": "difficult-ceiling",
   "metadata": {},
   "outputs": [
    {
     "ename": "AttributeError",
     "evalue": "'function' object has no attribute 'fix_variables'",
     "output_type": "error",
     "traceback": [
      "\u001b[0;31m---------------------------------------------------------------------------\u001b[0m",
      "\u001b[0;31mAttributeError\u001b[0m                            Traceback (most recent call last)",
      "\u001b[0;32m<ipython-input-9-6e2058cf81ec>\u001b[0m in \u001b[0;36m<module>\u001b[0;34m\u001b[0m\n\u001b[0;32m----> 1\u001b[0;31m \u001b[0mroof_duality\u001b[0m\u001b[0;34m.\u001b[0m\u001b[0mfix_variables\u001b[0m\u001b[0;34m(\u001b[0m\u001b[0mbqm\u001b[0m\u001b[0;34m)\u001b[0m\u001b[0;34m\u001b[0m\u001b[0;34m\u001b[0m\u001b[0m\n\u001b[0m",
      "\u001b[0;31mAttributeError\u001b[0m: 'function' object has no attribute 'fix_variables'"
     ]
    }
   ],
   "source": [
    "roof_duality.fix_variables(bqm)"
   ]
  },
  {
   "cell_type": "code",
   "execution_count": 26,
   "id": "destroyed-copying",
   "metadata": {},
   "outputs": [
    {
     "data": {
      "text/plain": [
       "(-674.8593749999995, {369: 1, 848: 1, 849: 0})"
      ]
     },
     "execution_count": 26,
     "metadata": {},
     "output_type": "execute_result"
    }
   ],
   "source": [
    "bqm = process_unicorn_file(\"./factorize_35.qubo\")\n",
    "bqm.scale(0.75)\n",
    "fix_constant_integer(bqm, input1, 7)\n",
    "fix_constant_integer(bqm, input2, 5)\n",
    "roof_duality(bqm, strict=False)"
   ]
  },
  {
   "cell_type": "code",
   "execution_count": 23,
   "id": "orange-setup",
   "metadata": {},
   "outputs": [
    {
     "data": {
      "text/plain": [
       "(-449.90625, {369: 1, 848: 1, 849: 0})"
      ]
     },
     "execution_count": 23,
     "metadata": {},
     "output_type": "execute_result"
    }
   ],
   "source": [
    "bqm = process_unicorn_file(\"./factorize_35.qubo\")\n",
    "bqm.scale(0.5)\n",
    "fix_constant_integer(bqm, input1, 5)\n",
    "fix_constant_integer(bqm, input2, 7)\n",
    "roof_duality(bqm, strict=False)"
   ]
  },
  {
   "cell_type": "code",
   "execution_count": 27,
   "id": "cardiac-public",
   "metadata": {},
   "outputs": [],
   "source": [
    "bqm.fix_variable(369, 1)\n",
    "bqm.fix_variable(848, 1)\n",
    "bqm.fix_variable(849, 0)"
   ]
  },
  {
   "cell_type": "code",
   "execution_count": null,
   "id": "undefined-portable",
   "metadata": {},
   "outputs": [],
   "source": []
  }
 ],
 "metadata": {
  "kernelspec": {
   "display_name": "Python 3",
   "language": "python",
   "name": "python3"
  },
  "language_info": {
   "codemirror_mode": {
    "name": "ipython",
    "version": 3
   },
   "file_extension": ".py",
   "mimetype": "text/x-python",
   "name": "python",
   "nbconvert_exporter": "python",
   "pygments_lexer": "ipython3",
   "version": "3.9.12"
  }
 },
 "nbformat": 4,
 "nbformat_minor": 5
}
