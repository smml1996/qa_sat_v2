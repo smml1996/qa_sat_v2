{
 "cells": [
  {
   "cell_type": "code",
   "execution_count": 1,
   "id": "advanced-shaft",
   "metadata": {},
   "outputs": [],
   "source": [
    "from utils import load_cnf, cnf_to_bqm\n",
    "from redundancy import initialize_mirror_vars, mirror_variable, update_bqm_mirror_variables,update_bqm_single_mirror\n",
    "from redundancy import get_bqm_chain_lengths\n",
    "from embedding_utils import count_qubits_used\n",
    "from minorminer import find_embedding\n",
    "from dwave.system import DWaveSampler, FixedEmbeddingComposite\n",
    "from greedy import SteepestDescentComposite\n",
    "from embedding_utils import get_chain_lengths\n",
    "import seaborn as sns\n",
    "\n",
    "def load_file(folder = 'sat', _variables=140):\n",
    "    path = f\"./{folder}/sgen1-{folder}-{_variables}-100.cnf\"\n",
    "    num_variables, num_clauses, variables, clauses = load_cnf(path)\n",
    "    return num_variables, num_clauses, variables, clauses"
   ]
  },
  {
   "cell_type": "code",
   "execution_count": 14,
   "id": "chubby-stopping",
   "metadata": {},
   "outputs": [],
   "source": [
    "original_vars_to_mirrors = dict()\n",
    "mirrors = dict()\n",
    "num_variables, num_clauses, variables, clauses = load_file()\n",
    "initialize_mirror_vars(variables, mirrors, original_vars_to_mirrors)"
   ]
  },
  {
   "cell_type": "code",
   "execution_count": 15,
   "id": "increased-flavor",
   "metadata": {},
   "outputs": [],
   "source": [
    "for var in range(71,141):\n",
    "    mirror_variable(var, variables, clauses, mirrors, original_vars_to_mirrors)"
   ]
  },
  {
   "cell_type": "code",
   "execution_count": 16,
   "id": "lasting-armstrong",
   "metadata": {},
   "outputs": [
    {
     "data": {
      "text/plain": [
       "378"
      ]
     },
     "execution_count": 16,
     "metadata": {},
     "output_type": "execute_result"
    }
   ],
   "source": [
    "bqm, or_result_vars, clauses_qubits = cnf_to_bqm(variables, clauses)\n",
    "len(bqm.variables)"
   ]
  },
  {
   "cell_type": "code",
   "execution_count": 17,
   "id": "raised-shaft",
   "metadata": {},
   "outputs": [],
   "source": [
    "# update_bqm_mirror_variables(bqm, mirrors, original_vars_to_mirrors)\n",
    "for i in range(71, 141):\n",
    "    update_bqm_single_mirror(bqm, i, mirrors, original_vars_to_mirrors)"
   ]
  },
  {
   "cell_type": "code",
   "execution_count": 18,
   "id": "distinguished-plastic",
   "metadata": {},
   "outputs": [
    {
     "data": {
      "text/plain": [
       "378"
      ]
     },
     "execution_count": 18,
     "metadata": {},
     "output_type": "execute_result"
    }
   ],
   "source": [
    "len(bqm.variables)"
   ]
  },
  {
   "cell_type": "markdown",
   "id": "delayed-syndicate",
   "metadata": {},
   "source": [
    "----------------------------"
   ]
  },
  {
   "cell_type": "code",
   "execution_count": 28,
   "id": "better-triangle",
   "metadata": {},
   "outputs": [
    {
     "data": {
      "text/plain": [
       "<AxesSubplot:ylabel='Count'>"
      ]
     },
     "execution_count": 28,
     "metadata": {},
     "output_type": "execute_result"
    },
    {
     "data": {
      "image/png": "[encoded data removed]",
      "text/plain": [
       "<Figure size 432x288 with 1 Axes>"
      ]
     },
     "metadata": {
      "needs_background": "light"
     },
     "output_type": "display_data"
    }
   ],
   "source": [
    "qpu_pegasus = DWaveSampler(solver={'topology__type': 'pegasus'})\n",
    "embedding = find_embedding(bqm.quadratic.keys(), qpu_pegasus.edgelist, random_seed=1432)\n",
    "\n",
    "sns.histplot(get_chain_lengths(bqm, embedding)[0])"
   ]
  },
  {
   "cell_type": "code",
   "execution_count": 8,
   "id": "polyphonic-prototype",
   "metadata": {},
   "outputs": [
    {
     "data": {
      "text/plain": [
       "1656"
      ]
     },
     "execution_count": 8,
     "metadata": {},
     "output_type": "execute_result"
    }
   ],
   "source": [
    "count_qubits_used(embedding)"
   ]
  },
  {
   "cell_type": "code",
   "execution_count": 9,
   "id": "designing-market",
   "metadata": {},
   "outputs": [
    {
     "data": {
      "text/plain": [
       "22.0"
      ]
     },
     "execution_count": 9,
     "metadata": {},
     "output_type": "execute_result"
    }
   ],
   "source": [
    "# from dwave.system import DWaveSampler, EmbeddingComposite\n",
    "# sampler = SteepestDescentComposite(EmbeddingComposite(DWaveSampler(solver={\"name\": \"Advantage_system4.1\"})))\n",
    "# sampleset = sampler.sample(bqm, num_reads=5000, answer_mode='raw', chain_strength=1.5)\n",
    "# sampleset.first.energy\n",
    "\n",
    "import neal\n",
    "\n",
    "simulated_sampler = neal.SimulatedAnnealingSampler()\n",
    "sampleset = simulated_sampler.sample(bqm)\n",
    "sampleset.first.energy"
   ]
  },
  {
   "cell_type": "markdown",
   "id": "virgin-trinidad",
   "metadata": {},
   "source": [
    "---------"
   ]
  },
  {
   "cell_type": "code",
   "execution_count": 16,
   "id": "matched-cross",
   "metadata": {},
   "outputs": [
    {
     "data": {
      "text/plain": [
       "1"
      ]
     },
     "execution_count": 16,
     "metadata": {},
     "output_type": "execute_result"
    }
   ],
   "source": [
    "len(sampleset.lowest())"
   ]
  },
  {
   "cell_type": "code",
   "execution_count": 17,
   "id": "ambient-sending",
   "metadata": {},
   "outputs": [],
   "source": [
    "def can_variable_be_fixed(sample, value, mirrors):\n",
    "    for mirror in mirrors:\n",
    "        if mirror not in sample.keys():\n",
    "            return False\n",
    "        if sample[mirror] != value:\n",
    "            return False\n",
    "    return True\n",
    "def is_var_in_sample(sample, var):\n",
    "    for key in sample.keys():\n",
    "        if var == key:\n",
    "            return True\n",
    "    return False\n",
    "def get_sample_fixed_values(sample):\n",
    "    fixed_vars = dict()\n",
    "    for (var, mirrors) in original_vars_to_mirrors.items():\n",
    "        if is_var_in_sample(sample, var):\n",
    "            value = sample[var]\n",
    "            if can_variable_be_fixed(sample, value, mirrors):\n",
    "                fixed_vars[var] = value\n",
    "    return fixed_vars\n",
    "def fix_variables(variables_to_fix):\n",
    "    for (var, mirrors) in original_vars_to_mirrors.items():\n",
    "        if var in variables_to_fix.keys():\n",
    "            bqm.fix_variable(var, variables_to_fix[var])\n",
    "            for mirror in mirrors:\n",
    "                bqm.fix_variable(mirror, variables_to_fix[var])"
   ]
  },
  {
   "cell_type": "code",
   "execution_count": 21,
   "id": "decent-jumping",
   "metadata": {},
   "outputs": [],
   "source": [
    "result_samples = []\n",
    "for sample in sampleset.lowest():\n",
    "    result_samples.append(dict())\n",
    "    for i in range(1,71):\n",
    "        result_samples[len(result_samples)-1][i] = sample[i]"
   ]
  },
  {
   "cell_type": "code",
   "execution_count": 34,
   "id": "indirect-australia",
   "metadata": {},
   "outputs": [
    {
     "data": {
      "text/plain": [
       "70"
      ]
     },
     "execution_count": 34,
     "metadata": {},
     "output_type": "execute_result"
    }
   ],
   "source": [
    "len(result_samples[0])"
   ]
  },
  {
   "cell_type": "code",
   "execution_count": 23,
   "id": "detected-spring",
   "metadata": {},
   "outputs": [],
   "source": [
    "fix_variables(result_samples[0])"
   ]
  },
  {
   "cell_type": "code",
   "execution_count": 42,
   "id": "graphic-calibration",
   "metadata": {},
   "outputs": [],
   "source": [
    "from typing import Dict, List, Tuple, Set\n",
    "from redundancy import get_original_variable\n",
    "def evaluate_clause(result: Dict[int, int], clause: List[int]) -> bool:\n",
    "    clause_value = False\n",
    "    for x in clause:\n",
    "        original = get_original_variable(abs(x), mirrors)\n",
    "        val = bool(result[original])\n",
    "        if x < 0:\n",
    "            val = not val\n",
    "        clause_value = clause_value or val\n",
    "    return clause_value\n",
    "\n",
    "def evaluate_clauses(result, clauses):\n",
    "    answer = True\n",
    "    for clause in clauses:\n",
    "        answer = answer and evaluate_clause(result, clause)\n",
    "    return answer\n",
    "\n",
    "def get_false_clauses(result, clauses):\n",
    "    answer = []\n",
    "    for clause in clauses:\n",
    "        if not evaluate_clause(result, clause):\n",
    "            answer.append(clause)\n",
    "    return answer"
   ]
  },
  {
   "cell_type": "code",
   "execution_count": 45,
   "id": "exclusive-theorem",
   "metadata": {},
   "outputs": [],
   "source": [
    "ans = result_samples[0]\n",
    "for i in range(71, 141):\n",
    "    ans[i] = sampleset.first[0][i]"
   ]
  },
  {
   "cell_type": "code",
   "execution_count": 46,
   "id": "coastal-russian",
   "metadata": {},
   "outputs": [
    {
     "data": {
      "text/plain": [
       "[[-223, -224],\n",
       " [-243, -244],\n",
       " [-108, -250],\n",
       " [-251, -253],\n",
       " [-256, -258],\n",
       " [-139, -140],\n",
       " [36, 106, 65, 85, 74],\n",
       " [14, 112, 88, 59, 5],\n",
       " [136, 21, 40, 9, 63]]"
      ]
     },
     "execution_count": 46,
     "metadata": {},
     "output_type": "execute_result"
    }
   ],
   "source": [
    "get_false_clauses(ans, clauses)"
   ]
  },
  {
   "cell_type": "code",
   "execution_count": 47,
   "id": "peripheral-roberts",
   "metadata": {},
   "outputs": [
    {
     "data": {
      "text/plain": [
       "{1: [141],\n",
       " 2: [142],\n",
       " 3: [143],\n",
       " 4: [144],\n",
       " 5: [145],\n",
       " 6: [146],\n",
       " 7: [147],\n",
       " 8: [148],\n",
       " 9: [149],\n",
       " 10: [150],\n",
       " 11: [151],\n",
       " 12: [152],\n",
       " 13: [153],\n",
       " 14: [154],\n",
       " 15: [155],\n",
       " 16: [156],\n",
       " 17: [157],\n",
       " 18: [158],\n",
       " 19: [159],\n",
       " 20: [160],\n",
       " 21: [161],\n",
       " 22: [162],\n",
       " 23: [163],\n",
       " 24: [164],\n",
       " 25: [165],\n",
       " 26: [166],\n",
       " 27: [167],\n",
       " 28: [168],\n",
       " 29: [169],\n",
       " 30: [170],\n",
       " 31: [171],\n",
       " 32: [172],\n",
       " 33: [173],\n",
       " 34: [174],\n",
       " 35: [175],\n",
       " 36: [176],\n",
       " 37: [177],\n",
       " 38: [178],\n",
       " 39: [179],\n",
       " 40: [180],\n",
       " 41: [181],\n",
       " 42: [182],\n",
       " 43: [183],\n",
       " 44: [184],\n",
       " 45: [185],\n",
       " 46: [186],\n",
       " 47: [187],\n",
       " 48: [188],\n",
       " 49: [189],\n",
       " 50: [190],\n",
       " 51: [191],\n",
       " 52: [192],\n",
       " 53: [193],\n",
       " 54: [194],\n",
       " 55: [195],\n",
       " 56: [196],\n",
       " 57: [197],\n",
       " 58: [198],\n",
       " 59: [199],\n",
       " 60: [200],\n",
       " 61: [201],\n",
       " 62: [202],\n",
       " 63: [203],\n",
       " 64: [204],\n",
       " 65: [205],\n",
       " 66: [206],\n",
       " 67: [207],\n",
       " 68: [208],\n",
       " 69: [209],\n",
       " 70: [210],\n",
       " 71: [211],\n",
       " 72: [212],\n",
       " 73: [213],\n",
       " 74: [214],\n",
       " 75: [215],\n",
       " 76: [216],\n",
       " 77: [217],\n",
       " 78: [218],\n",
       " 79: [219],\n",
       " 80: [220],\n",
       " 81: [221],\n",
       " 82: [222],\n",
       " 83: [223],\n",
       " 84: [224],\n",
       " 85: [225],\n",
       " 86: [226],\n",
       " 87: [227],\n",
       " 88: [228],\n",
       " 89: [229],\n",
       " 90: [230],\n",
       " 91: [231],\n",
       " 92: [232],\n",
       " 93: [233],\n",
       " 94: [234],\n",
       " 95: [235],\n",
       " 96: [236],\n",
       " 97: [237],\n",
       " 98: [238],\n",
       " 99: [239],\n",
       " 100: [240],\n",
       " 101: [241],\n",
       " 102: [242],\n",
       " 103: [243],\n",
       " 104: [244],\n",
       " 105: [245],\n",
       " 106: [246],\n",
       " 107: [247],\n",
       " 108: [248],\n",
       " 109: [249],\n",
       " 110: [250],\n",
       " 111: [251],\n",
       " 112: [252],\n",
       " 113: [253],\n",
       " 114: [254],\n",
       " 115: [255],\n",
       " 116: [256],\n",
       " 117: [257],\n",
       " 118: [258],\n",
       " 119: [259],\n",
       " 120: [260],\n",
       " 121: [261],\n",
       " 122: [262],\n",
       " 123: [263],\n",
       " 124: [264],\n",
       " 125: [265],\n",
       " 126: [266],\n",
       " 127: [267],\n",
       " 128: [268],\n",
       " 129: [269],\n",
       " 130: [270],\n",
       " 131: [271],\n",
       " 132: [272],\n",
       " 133: [273],\n",
       " 134: [274],\n",
       " 135: [275],\n",
       " 136: [276],\n",
       " 137: [277],\n",
       " 138: [278],\n",
       " 139: [279],\n",
       " 140: []}"
      ]
     },
     "execution_count": 47,
     "metadata": {},
     "output_type": "execute_result"
    }
   ],
   "source": [
    "original_vars_to_mirrors"
   ]
  },
  {
   "cell_type": "code",
   "execution_count": null,
   "id": "regulation-battlefield",
   "metadata": {},
   "outputs": [],
   "source": []
  },
  {
   "cell_type": "code",
   "execution_count": 22,
   "id": "protective-capability",
   "metadata": {},
   "outputs": [],
   "source": [
    "answer_path = \"./sat/sgen1-sat-140-100_result.cnf\"\n",
    "answer_file = open(answer_path)\n",
    "answer = dict()\n",
    "\n",
    "cnf_result = answer_file.readline().split(\" \")\n",
    "assert (int(cnf_result[-1]) == 0)\n",
    "\n",
    "for x in cnf_result[:-1]:\n",
    "    int_x = int(x)\n",
    "    value = int(int_x > 0)\n",
    "    answer[abs(int_x)] = value\n",
    "    for mirror in original_vars_to_mirrors[abs(int_x)]:\n",
    "        answer[mirror] = value\n",
    "answer_file.close()\n"
   ]
  },
  {
   "cell_type": "code",
   "execution_count": 27,
   "id": "bridal-motion",
   "metadata": {},
   "outputs": [
    {
     "name": "stdout",
     "output_type": "stream",
     "text": [
      "{1: 0, 2: 0, 3: 1, 4: 0, 5: 0, 6: 1, 7: 0, 8: 0, 9: 0, 10: 0, 11: 0, 12: 1, 13: 0, 14: 0, 15: 0, 16: 0, 17: 0, 18: 1, 19: 0, 20: 0, 21: 0, 22: 0, 23: 1, 24: 0, 25: 0, 26: 0, 27: 1, 28: 0, 29: 0, 30: 0, 31: 0, 32: 1, 33: 0, 34: 0, 35: 0, 36: 1, 37: 0, 38: 0, 39: 0, 40: 0, 41: 1, 42: 0, 43: 0, 44: 0, 45: 0, 46: 0, 47: 0, 48: 0, 49: 1, 50: 0, 51: 1, 52: 0, 53: 0, 54: 0, 55: 0, 56: 0, 57: 0, 58: 0, 59: 1, 60: 0, 61: 1, 62: 0, 63: 0, 64: 0, 65: 0, 66: 0, 67: 0, 68: 1, 69: 0, 70: 0, 71: 0, 141: 1, 72: 0, 142: 0, 73: 0, 143: 0, 74: 0, 144: 0, 75: 0, 145: 0, 76: 0, 146: 0, 77: 0, 147: 0, 78: 1, 148: 1, 79: 0, 149: 0, 80: 0, 150: 0, 81: 0, 151: 0, 82: 0, 152: 0, 83: 0, 153: 0, 84: 1, 154: 1, 85: 0, 155: 0, 86: 0, 156: 0, 87: 1, 157: 1, 88: 0, 158: 0, 89: 0, 159: 0, 90: 0, 160: 0, 91: 0, 161: 0, 92: 0, 162: 0, 93: 0, 163: 0, 94: 1, 164: 1, 95: 0, 165: 0, 96: 0, 166: 0, 97: 0, 167: 0, 98: 0, 168: 0, 99: 1, 169: 1, 100: 0, 170: 0, 101: 0, 171: 0, 102: 0, 172: 0, 103: 0, 173: 0, 104: 1, 174: 1, 105: 0, 175: 0, 106: 0, 176: 0, 107: 1, 177: 1, 108: 0, 178: 0, 109: 0, 179: 0, 110: 0, 180: 0, 111: 0, 181: 0, 112: 0, 182: 0, 113: 1, 183: 1, 114: 0, 184: 0, 115: 0, 185: 0, 116: 1, 186: 1, 117: 0, 187: 0, 118: 0, 188: 0, 119: 0, 189: 0, 120: 0, 190: 0, 121: 0, 191: 0, 122: 0, 192: 0, 123: 0, 193: 0, 124: 1, 194: 1, 125: 0, 195: 0, 126: 0, 196: 0, 127: 0, 197: 0, 128: 1, 198: 1, 129: 0, 199: 0, 130: 0, 200: 0, 131: 0, 201: 0, 132: 0, 202: 0, 133: 1, 203: 1, 134: 0, 204: 0, 135: 0, 205: 0, 136: 1, 206: 1, 137: 0, 207: 0, 138: 0, 208: 0, 139: 0, 209: 0, 140: 0, 210: 0, 211: 0, 212: 1, 213: 1, 214: 1, 215: 1, 216: 1, 217: 1, 218: 1, 219: 1, 220: 0, 221: 1, 222: 1, 223: 0, 224: 1, 225: 1, 226: 1, 227: 1, 228: 1, 229: 1, 230: 1, 231: 1, 232: 1, 233: 1, 234: 1, 235: 1, 236: 1, 237: 1, 238: 0, 239: 0, 240: 1, 241: 1, 242: 1, 243: 1, 244: 0, 245: 0, 246: 1, 247: 1, 248: 1, 249: 1, 250: 0, 251: 1, 252: 1, 253: 0, 254: 0, 255: 0, 256: 0, 257: 1, 258: 1, 259: 0, 260: 0, 261: 1, 262: 1, 263: 1, 264: 1, 265: 0, 266: 0, 267: 1, 268: 0, 269: 0, 270: 1, 271: 0, 272: 0, 273: 1, 274: 1, 275: 1, 276: 1, 277: 0, 278: 1, 279: 1, 280: 1, 281: 1, 282: 1, 283: 0, 284: 0, 285: 1, 286: 0, 287: 1, 288: 1, 289: 0, 290: 1, 291: 1, 292: 1, 293: 1, 294: 1, 295: 0, 296: 1, 297: 1, 298: 1, 299: 1, 300: 1, 301: 1, 302: 1, 303: 1, 304: 0, 305: 1, 306: 1, 307: 0, 308: 1, 309: 1, 310: 1, 311: 1, 312: 1, 313: 1, 314: 1, 315: 1, 316: 1, 317: 1, 318: 1, 319: 1, 320: 1, 321: 1, 322: 0, 323: 0, 324: 1, 325: 1, 326: 1, 327: 1, 328: 0, 329: 0, 330: 1, 331: 1, 332: 1, 333: 1, 334: 0, 335: 1, 336: 1, 337: 0, 338: 0, 339: 0, 340: 0, 341: 1, 342: 1, 343: 0, 344: 0, 345: 1, 346: 1, 347: 1, 348: 1, 349: 0, 350: 0, 351: 1, 352: 0, 353: 0, 354: 1, 355: 0, 356: 0, 357: 1, 358: 1, 359: 1, 360: 1, 361: 0, 362: 1, 363: 1, 364: 1, 365: 1, 366: 1, 367: 0, 368: 0, 369: 1, 370: 0, 371: 1, 372: 1, 373: 0, 374: 1, 375: 1, 376: 1, 377: 1, 378: 1}\n"
     ]
    },
    {
     "data": {
      "text/plain": [
       "6.0"
      ]
     },
     "execution_count": 27,
     "metadata": {},
     "output_type": "execute_result"
    }
   ],
   "source": [
    "from utils import evaluate_cnf_formula\n",
    "evaluate_cnf_formula(answer, or_result_vars, bqm)"
   ]
  },
  {
   "cell_type": "code",
   "execution_count": null,
   "id": "national-cutting",
   "metadata": {},
   "outputs": [],
   "source": []
  }
 ],
 "metadata": {
  "kernelspec": {
   "display_name": "Python 3",
   "language": "python",
   "name": "python3"
  },
  "language_info": {
   "codemirror_mode": {
    "name": "ipython",
    "version": 3
   },
   "file_extension": ".py",
   "mimetype": "text/x-python",
   "name": "python",
   "nbconvert_exporter": "python",
   "pygments_lexer": "ipython3",
   "version": "3.9.9"
  }
 },
 "nbformat": 4,
 "nbformat_minor": 5
}
