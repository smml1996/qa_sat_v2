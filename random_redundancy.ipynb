{
 "cells": [
  {
   "cell_type": "code",
   "execution_count": 1,
   "id": "better-frontier",
   "metadata": {},
   "outputs": [],
   "source": [
    "from utils import load_cnf, cnf_to_bqm, get_ancilla_index"
   ]
  },
  {
   "cell_type": "code",
   "execution_count": 2,
   "id": "sexual-taste",
   "metadata": {},
   "outputs": [],
   "source": [
    "def load_file(folder = 'sat', _variables=140):\n",
    "    path = f\"./{folder}/sgen1-{folder}-{_variables}-100.cnf\"\n",
    "    num_variables, num_clauses, variables, clauses = load_cnf(path)\n",
    "    return num_variables, num_clauses, variables, clauses"
   ]
  },
  {
   "cell_type": "code",
   "execution_count": 3,
   "id": "separate-instruction",
   "metadata": {},
   "outputs": [],
   "source": [
    "import random\n",
    "def get_key_with_value(d, val):\n",
    "    keys = []\n",
    "    for (key, _) in d.items():\n",
    "        if d[key] == val:\n",
    "            keys.append(key)\n",
    "    if len(keys) == 0:\n",
    "        return -1\n",
    "    else:\n",
    "        return random.choice(keys)\n",
    "\n",
    "def mirror_variable(variables, clauses) -> (int, int):\n",
    "    # find variables that repeats the most\n",
    "    counts = dict()\n",
    "    for clause in clauses:\n",
    "        for var in clause:\n",
    "            abs_var = abs(var)\n",
    "            if abs_var not in counts:\n",
    "                counts[abs_var] = 0\n",
    "            counts[abs_var] += 1\n",
    "    \n",
    "    max_count = max(counts.values())\n",
    "    key = get_key_with_value(counts, max_count)\n",
    "    assert(key != -1)\n",
    "    assert(counts[key] == max_count)\n",
    "    new_variable = len(variables) + 1 \n",
    "    assert(new_variable not in variables)\n",
    "    variables.add(new_variable)\n",
    "    replacements = max_count//2\n",
    "    if replacements == 0:\n",
    "        return key, new_variable\n",
    "    \n",
    "    while replacements > 0:\n",
    "        clauses_where_var_occur = []\n",
    "        for (index, clause) in enumerate(clauses):\n",
    "            for i in range(len(clause)):\n",
    "                if abs(clause[i]) == key:\n",
    "                    clauses_where_var_occur.append((index,i))\n",
    "                    break\n",
    "                \n",
    "        (clause_index, i) = random.choice(clauses_where_var_occur)\n",
    "        if clauses[clause_index][i] < 0:\n",
    "            clauses[clause_index][i] = -new_variable\n",
    "        else:\n",
    "            clauses[clause_index][i] = new_variable\n",
    "        replacements -= 1\n",
    "    return key, new_variable"
   ]
  },
  {
   "cell_type": "code",
   "execution_count": 4,
   "id": "ranking-railway",
   "metadata": {},
   "outputs": [],
   "source": [
    "num_variables, num_clauses, variables, clauses = load_file()"
   ]
  },
  {
   "cell_type": "code",
   "execution_count": 5,
   "id": "accessible-funds",
   "metadata": {},
   "outputs": [],
   "source": [
    "random.seed(1)\n",
    "num_variables_to_mirror = 1\n",
    "variables_to_mirror = []\n",
    "for i in range(num_variables_to_mirror):\n",
    "    variables_to_mirror.append(mirror_variable(variables, clauses))"
   ]
  },
  {
   "cell_type": "code",
   "execution_count": 6,
   "id": "acceptable-stock",
   "metadata": {},
   "outputs": [],
   "source": [
    "bqm, or_result_vars, clauses_qubits = cnf_to_bqm(variables, clauses)"
   ]
  },
  {
   "cell_type": "code",
   "execution_count": 7,
   "id": "vanilla-arrow",
   "metadata": {},
   "outputs": [
    {
     "data": {
      "text/plain": [
       "309"
      ]
     },
     "execution_count": 7,
     "metadata": {},
     "output_type": "execute_result"
    }
   ],
   "source": [
    "len(bqm.variables)"
   ]
  },
  {
   "cell_type": "code",
   "execution_count": 8,
   "id": "standard-teens",
   "metadata": {},
   "outputs": [],
   "source": [
    "def update_bqm_mirror_variable(original, mirror):\n",
    "    global bqm\n",
    "    bqm.add_variable(original, 2)\n",
    "    bqm.add_variable(mirror, 2)\n",
    "    bqm.add_interaction(original, mirror, -4)"
   ]
  },
  {
   "cell_type": "code",
   "execution_count": 9,
   "id": "official-mobile",
   "metadata": {},
   "outputs": [],
   "source": [
    "for vtm in variables_to_mirror:\n",
    "    update_bqm_mirror_variable(vtm[0], vtm[1])"
   ]
  },
  {
   "cell_type": "code",
   "execution_count": 10,
   "id": "documented-beatles",
   "metadata": {},
   "outputs": [],
   "source": [
    "from minorminer import find_embedding\n",
    "from dwave.system import DWaveSampler, FixedEmbeddingComposite\n",
    "qpu_pegasus = DWaveSampler(solver={'topology__type': 'pegasus'})"
   ]
  },
  {
   "cell_type": "code",
   "execution_count": 11,
   "id": "final-causing",
   "metadata": {},
   "outputs": [
    {
     "data": {
      "text/plain": [
       "<AxesSubplot:ylabel='Count'>"
      ]
     },
     "execution_count": 11,
     "metadata": {},
     "output_type": "execute_result"
    },
    {
     "data": {
      "image/png": "[encoded data removed]",
      "text/plain": [
       "<Figure size 432x288 with 1 Axes>"
      ]
     },
     "metadata": {
      "needs_background": "light"
     },
     "output_type": "display_data"
    }
   ],
   "source": [
    "embedding = find_embedding(bqm.quadratic.keys(), qpu_pegasus.edgelist, random_seed=1)\n",
    "\n",
    "def get_chain_lengths(_embedding):\n",
    "    lengths = []\n",
    "    biases = []\n",
    "    for (key, value) in _embedding.items():\n",
    "        lengths.append(len(value))\n",
    "        biases.append(bqm.linear[key])\n",
    "    return lengths, biases\n",
    "\n",
    "import seaborn as sns\n",
    "sns.histplot(get_chain_lengths(embedding)[0])"
   ]
  },
  {
   "cell_type": "code",
   "execution_count": 13,
   "id": "experienced-gambling",
   "metadata": {},
   "outputs": [
    {
     "data": {
      "text/plain": [
       "1627"
      ]
     },
     "execution_count": 13,
     "metadata": {},
     "output_type": "execute_result"
    }
   ],
   "source": [
    "def count_qubits_used(embedding):\n",
    "    physical_vars = set()\n",
    "    for (logic_var, chain) in embedding.items():\n",
    "        for pv in chain:\n",
    "            physical_vars.add(pv)\n",
    "        \n",
    "    return len(physical_vars)\n",
    "count_qubits_used(embedding)"
   ]
  },
  {
   "cell_type": "markdown",
   "id": "electoral-elements",
   "metadata": {},
   "source": [
    "-----------------------"
   ]
  },
  {
   "cell_type": "code",
   "execution_count": 14,
   "id": "arranged-victim",
   "metadata": {},
   "outputs": [
    {
     "name": "stdout",
     "output_type": "stream",
     "text": [
      "0 1465\n",
      "1 1374\n",
      "2 1594\n",
      "3 1427\n",
      "4 1487\n",
      "5 1332\n",
      "6 1730\n",
      "7 1456\n",
      "8 1490\n",
      "9 1415\n",
      "10 1458\n",
      "11 1633\n",
      "12 1671\n",
      "13 1538\n",
      "14 1541\n",
      "15 1457\n",
      "16 1453\n",
      "17 1442\n",
      "18 1512\n",
      "19 1388\n",
      "20 1358\n",
      "21 1503\n",
      "22 1613\n",
      "23 1598\n",
      "24 1557\n",
      "25 1578\n",
      "26 1501\n",
      "27 1611\n",
      "28 1488\n",
      "29 1604\n",
      "30 1508\n",
      "31 1553\n",
      "32 1546\n",
      "33 1507\n",
      "34 1554\n",
      "35 1623\n",
      "36 1542\n",
      "37 1536\n",
      "38 1690\n",
      "39 1448\n",
      "40 1587\n",
      "41 1653\n",
      "42 1487\n",
      "43 1484\n",
      "44 1455\n",
      "45 1592\n",
      "46 1492\n",
      "47 1568\n",
      "48 1471\n",
      "49 1660\n",
      "50 1600\n",
      "51 1568\n",
      "52 1743\n",
      "53 1563\n",
      "54 1669\n",
      "55 1535\n",
      "56 1615\n",
      "57 1560\n",
      "58 1504\n",
      "59 1499\n",
      "60 1711\n",
      "61 1632\n",
      "62 1578\n",
      "63 1616\n",
      "64 1628\n",
      "65 1678\n",
      "66 1550\n",
      "67 1505\n",
      "68 1642\n",
      "69 2061\n",
      "70 1717\n",
      "71 1642\n",
      "72 1740\n",
      "73 1644\n",
      "74 1575\n",
      "75 1734\n",
      "76 1649\n",
      "77 1562\n",
      "78 1818\n",
      "79 1720\n",
      "80 1484\n",
      "81 1669\n",
      "82 1644\n",
      "83 1566\n",
      "84 1780\n",
      "85 1725\n",
      "86 1663\n",
      "87 1757\n",
      "88 1703\n",
      "89 1641\n",
      "90 1615\n",
      "91 1629\n",
      "92 1748\n",
      "93 1726\n",
      "94 1838\n",
      "95 1840\n",
      "96 1957\n",
      "97 1755\n",
      "98 1628\n",
      "99 1672\n",
      "100 1654\n",
      "101 1770\n",
      "102 1692\n",
      "103 1732\n",
      "104 1804\n",
      "105 1662\n",
      "106 1735\n",
      "107 1654\n",
      "108 1820\n",
      "109 1828\n",
      "110 1601\n",
      "111 1697\n",
      "112 1837\n",
      "113 1779\n",
      "114 1782\n",
      "115 1652\n",
      "116 1809\n",
      "117 2004\n",
      "118 1892\n",
      "119 1887\n",
      "120 1808\n",
      "121 1939\n",
      "122 2021\n",
      "123 1751\n",
      "124 1915\n",
      "125 1899\n",
      "126 1920\n",
      "127 1812\n",
      "128 1839\n",
      "129 1827\n",
      "130 1742\n",
      "131 1908\n",
      "132 1977\n",
      "133 1955\n",
      "134 1995\n",
      "135 1923\n",
      "136 1825\n",
      "137 1898\n",
      "138 1890\n",
      "139 2053\n",
      "140 2117\n"
     ]
    }
   ],
   "source": [
    "num_variables_to_mirror = 1\n",
    "mirrored_variables = []\n",
    "total_used_qubits = []\n",
    "for num_variables_to_mirror in range(141):\n",
    "    random.seed(1)\n",
    "    num_variables, num_clauses, variables, clauses = load_file()\n",
    "    variables_to_mirror = []\n",
    "    for i in range(num_variables_to_mirror):\n",
    "        variables_to_mirror.append(mirror_variable(variables, clauses))\n",
    "    bqm, or_result_vars, clauses_qubits = cnf_to_bqm(variables, clauses)\n",
    "    assert(len(bqm.variables) == 308 + num_variables_to_mirror)\n",
    "    for vtm in variables_to_mirror:\n",
    "        update_bqm_mirror_variable(vtm[0], vtm[1])\n",
    "    embedding = find_embedding(bqm.quadratic.keys(), qpu_pegasus.edgelist, random_seed=1238)\n",
    "    mirrored_variables.append(num_variables_to_mirror)\n",
    "    total_used_qubits.append(count_qubits_used(embedding))\n",
    "    print(num_variables_to_mirror, count_qubits_used(embedding))"
   ]
  }
 ],
 "metadata": {
  "kernelspec": {
   "display_name": "Python 3",
   "language": "python",
   "name": "python3"
  },
  "language_info": {
   "codemirror_mode": {
    "name": "ipython",
    "version": 3
   },
   "file_extension": ".py",
   "mimetype": "text/x-python",
   "name": "python",
   "nbconvert_exporter": "python",
   "pygments_lexer": "ipython3",
   "version": "3.9.9"
  }
 },
 "nbformat": 4,
 "nbformat_minor": 5
}
