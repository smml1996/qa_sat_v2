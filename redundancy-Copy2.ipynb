{
 "cells": [
  {
   "cell_type": "code",
   "execution_count": 16,
   "id": "accepting-bible",
   "metadata": {},
   "outputs": [],
   "source": [
    "from utils import load_cnf, cnf_to_bqm, get_ancilla_index"
   ]
  },
  {
   "cell_type": "code",
   "execution_count": 17,
   "id": "scientific-hearing",
   "metadata": {},
   "outputs": [],
   "source": [
    "def load_file(folder = 'sat', _variables=140):\n",
    "    path = f\"./{folder}/sgen1-{folder}-{_variables}-100.cnf\"\n",
    "    num_variables, num_clauses, variables, clauses = load_cnf(path)\n",
    "    return num_variables, num_clauses, variables, clauses"
   ]
  },
  {
   "cell_type": "code",
   "execution_count": 18,
   "id": "behind-campus",
   "metadata": {},
   "outputs": [],
   "source": [
    "def get_key_with_value(d, val):\n",
    "    for (key, value) in d.items():\n",
    "        if d[key] == val:\n",
    "            return key\n",
    "        \n",
    "    return -1\n",
    "\n",
    "def mirror_variable(variables, clauses) -> (int, int):\n",
    "    # find variables that repeats the most\n",
    "    counts = dict()\n",
    "    for clause in clauses:\n",
    "        for var in clause:\n",
    "            abs_var = abs(var)\n",
    "            if abs_var not in counts:\n",
    "                counts[abs_var] = 0\n",
    "            counts[abs_var] += 1\n",
    "    \n",
    "    max_count = max(counts.values())\n",
    "    key = get_key_with_value(counts, max_count)\n",
    "    assert(key != -1)\n",
    "    assert(counts[key] == max_count)\n",
    "    new_variable = len(variables) + 1 \n",
    "    assert(new_variable not in variables)\n",
    "    variables.add(new_variable)\n",
    "    replacements = max_count//2\n",
    "    if replacements == 0:\n",
    "        return key, new_variable\n",
    "    for clause in clauses:\n",
    "        for i in range(len(clause)):\n",
    "            if abs(clause[i]) == key:\n",
    "                if clause[i] < 0:\n",
    "                    clause[i] = -new_variable\n",
    "                else:\n",
    "                    clause[i] = new_variable\n",
    "                replacements -= 1\n",
    "                if replacements == 0:\n",
    "                    return key, new_variable\n",
    "    return -1, -1"
   ]
  },
  {
   "cell_type": "code",
   "execution_count": 19,
   "id": "white-beginning",
   "metadata": {},
   "outputs": [],
   "source": [
    "num_variables, num_clauses, variables, clauses = load_file()"
   ]
  },
  {
   "cell_type": "code",
   "execution_count": 20,
   "id": "olive-latino",
   "metadata": {},
   "outputs": [],
   "source": [
    "num_variables_to_mirror = 9\n",
    "variables_to_mirror = []\n",
    "for i in range(num_variables_to_mirror):\n",
    "    variables_to_mirror.append(mirror_variable(variables, clauses))"
   ]
  },
  {
   "cell_type": "code",
   "execution_count": 21,
   "id": "trained-dividend",
   "metadata": {},
   "outputs": [],
   "source": [
    "bqm, or_result_vars, clauses_qubits = cnf_to_bqm(variables, clauses)"
   ]
  },
  {
   "cell_type": "code",
   "execution_count": 22,
   "id": "gothic-population",
   "metadata": {},
   "outputs": [
    {
     "data": {
      "text/plain": [
       "317"
      ]
     },
     "execution_count": 22,
     "metadata": {},
     "output_type": "execute_result"
    }
   ],
   "source": [
    "len(bqm.variables)"
   ]
  },
  {
   "cell_type": "code",
   "execution_count": 23,
   "id": "statistical-postage",
   "metadata": {},
   "outputs": [],
   "source": [
    "def update_bqm_mirror_variable(original, mirror):\n",
    "    global bqm\n",
    "    bqm.add_variable(original, 2)\n",
    "    bqm.add_variable(mirror, 2)\n",
    "    bqm.add_interaction(original, mirror, -4)"
   ]
  },
  {
   "cell_type": "code",
   "execution_count": 24,
   "id": "constant-projection",
   "metadata": {},
   "outputs": [],
   "source": [
    "for vtm in variables_to_mirror:\n",
    "    update_bqm_mirror_variable(vtm[0], vtm[1])"
   ]
  },
  {
   "cell_type": "code",
   "execution_count": 25,
   "id": "focused-portsmouth",
   "metadata": {},
   "outputs": [],
   "source": [
    "from minorminer import find_embedding\n",
    "from dwave.system import DWaveSampler, FixedEmbeddingComposite\n",
    "qpu_pegasus = DWaveSampler(solver={'topology__type': 'pegasus'})"
   ]
  },
  {
   "cell_type": "code",
   "execution_count": 26,
   "id": "adverse-catalog",
   "metadata": {},
   "outputs": [
    {
     "data": {
      "text/plain": [
       "<AxesSubplot:ylabel='Count'>"
      ]
     },
     "execution_count": 26,
     "metadata": {},
     "output_type": "execute_result"
    },
    {
     "data": {
      "image/png": "[encoded data removed]",
      "text/plain": [
       "<Figure size 432x288 with 1 Axes>"
      ]
     },
     "metadata": {
      "needs_background": "light"
     },
     "output_type": "display_data"
    }
   ],
   "source": [
    "embedding = find_embedding(bqm.quadratic.keys(), qpu_pegasus.edgelist, random_seed=1238)\n",
    "\n",
    "def get_chain_lengths(_embedding):\n",
    "    lengths = []\n",
    "    biases = []\n",
    "    for (key, value) in _embedding.items():\n",
    "        lengths.append(len(value))\n",
    "        biases.append(bqm.linear[key])\n",
    "    return lengths, biases\n",
    "\n",
    "import seaborn as sns\n",
    "sns.histplot(get_chain_lengths(embedding)[0])"
   ]
  },
  {
   "cell_type": "code",
   "execution_count": 27,
   "id": "imposed-celebration",
   "metadata": {},
   "outputs": [
    {
     "data": {
      "text/plain": [
       "1312"
      ]
     },
     "execution_count": 27,
     "metadata": {},
     "output_type": "execute_result"
    }
   ],
   "source": [
    "def count_qubits_used(embedding):\n",
    "    physical_vars = set()\n",
    "    for (logic_var, chain) in embedding.items():\n",
    "        for pv in chain:\n",
    "            physical_vars.add(pv)\n",
    "        \n",
    "    return len(physical_vars)\n",
    "count_qubits_used(embedding)"
   ]
  },
  {
   "cell_type": "code",
   "execution_count": 29,
   "id": "living-convenience",
   "metadata": {},
   "outputs": [
    {
     "data": {
      "text/plain": [
       "30.0"
      ]
     },
     "execution_count": 29,
     "metadata": {},
     "output_type": "execute_result"
    }
   ],
   "source": [
    "sampler = FixedEmbeddingComposite(DWaveSampler(solver={\"name\": \"Advantage_system4.1\"}), embedding)\n",
    "sampleset = sampler.sample(bqm, num_reads=1000, answer_mode='raw', num_spin_reversal_transforms=2)\n",
    "sampleset.first.energy"
   ]
  },
  {
   "cell_type": "markdown",
   "id": "parental-thomas",
   "metadata": {},
   "source": [
    "-----------------------"
   ]
  },
  {
   "cell_type": "code",
   "execution_count": 15,
   "id": "second-browser",
   "metadata": {},
   "outputs": [
    {
     "name": "stdout",
     "output_type": "stream",
     "text": [
      "0 1379\n",
      "1 1438\n",
      "2 1405\n",
      "3 1510\n",
      "4 1490\n",
      "5 1410\n",
      "6 1505\n",
      "7 1344\n",
      "8 1328\n",
      "9 1416\n",
      "10 1461\n",
      "11 1569\n",
      "12 1495\n",
      "13 1611\n",
      "14 1431\n",
      "15 1455\n",
      "16 1623\n",
      "17 1391\n",
      "18 1428\n",
      "19 1379\n",
      "20 1393\n"
     ]
    }
   ],
   "source": [
    "num_variables_to_mirror = 1\n",
    "mirrored_variables = []\n",
    "total_used_qubits = []\n",
    "for num_variables_to_mirror in range(21):\n",
    "    \n",
    "    num_variables, num_clauses, variables, clauses = load_file()\n",
    "    variables_to_mirror = []\n",
    "    for i in range(num_variables_to_mirror):\n",
    "        variables_to_mirror.append(mirror_variable(variables, clauses))\n",
    "    bqm, or_result_vars, clauses_qubits = cnf_to_bqm(variables, clauses)\n",
    "    assert(len(bqm.variables) == 308 + num_variables_to_mirror)\n",
    "    for vtm in variables_to_mirror:\n",
    "        update_bqm_mirror_variable(vtm[0], vtm[1])\n",
    "    embedding = find_embedding(bqm.quadratic.keys(), qpu_pegasus.edgelist, random_seed=100)\n",
    "    mirrored_variables.append(num_variables_to_mirror)\n",
    "    total_used_qubits.append(count_qubits_used(embedding))\n",
    "    print(num_variables_to_mirror, count_qubits_used(embedding))"
   ]
  },
  {
   "cell_type": "code",
   "execution_count": null,
   "id": "hairy-validation",
   "metadata": {},
   "outputs": [],
   "source": []
  }
 ],
 "metadata": {
  "kernelspec": {
   "display_name": "Python 3",
   "language": "python",
   "name": "python3"
  },
  "language_info": {
   "codemirror_mode": {
    "name": "ipython",
    "version": 3
   },
   "file_extension": ".py",
   "mimetype": "text/x-python",
   "name": "python",
   "nbconvert_exporter": "python",
   "pygments_lexer": "ipython3",
   "version": "3.9.9"
  }
 },
 "nbformat": 4,
 "nbformat_minor": 5
}
