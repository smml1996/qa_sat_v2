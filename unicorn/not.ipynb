{
 "cells": [
  {
   "cell_type": "code",
   "execution_count": 1,
   "id": "compact-montgomery",
   "metadata": {},
   "outputs": [],
   "source": [
    "from unicorn_utils import *\n",
    "import seaborn as sns"
   ]
  },
  {
   "cell_type": "code",
   "execution_count": 2,
   "id": "practical-jurisdiction",
   "metadata": {},
   "outputs": [],
   "source": [
    "pegasus_qpu = get_qpu()\n",
    "chimera_qpu = DWaveSampler(solver={\"name\": \"DW_2000Q_6\"})"
   ]
  },
  {
   "cell_type": "code",
   "execution_count": 3,
   "id": "persistent-resistance",
   "metadata": {},
   "outputs": [],
   "source": [
    "all_filenames = \"p1 p01 p001 p0001 p00001 p000001 p10 p25 p50 p75 p100\".split(\" \")"
   ]
  },
  {
   "cell_type": "code",
   "execution_count": 4,
   "id": "portuguese-syndrome",
   "metadata": {},
   "outputs": [],
   "source": [
    "input_lines = set()\n",
    "for filename in all_filenames:\n",
    "    file = open(f\"./not_experiments/qubos/not_{filename}.unicorn\").readlines()\n",
    "    input_lines.add(file[2])\n",
    "input_lines\n",
    "input_line = input_lines.pop()\n",
    "assert(len(input_lines) == 0)\n",
    "input_ = [int(x)for x in input_line.split(\" \")[1].split(\",\")]\n",
    "input_ids = [input_]"
   ]
  },
  {
   "cell_type": "code",
   "execution_count": 5,
   "id": "arctic-necklace",
   "metadata": {},
   "outputs": [],
   "source": [
    "# df = get_results_dataframe(\"p100\", input_ids, reads=100, bottom=1.5, top=3, \n",
    "#                            pegasus_qpu=pegasus_qpu, chimera_qpu=chimera_qpu, experiments_folder=\"not\")\n",
    "# df.to_csv('./not_experiments/outputs/p100.csv' )\n",
    "# df"
   ]
  },
  {
   "cell_type": "code",
   "execution_count": 6,
   "id": "split-kennedy",
   "metadata": {},
   "outputs": [
    {
     "name": "stdout",
     "output_type": "stream",
     "text": [
      "total_samples: 100\n",
      "total_samples: 100\n",
      "total_samples: 100\n",
      "total_samples: 100\n",
      "total_samples: 100\n",
      "total_samples: 100\n",
      "total_samples: 100\n",
      "total_samples: 100\n",
      "total_samples: 100\n",
      "total_samples: 100\n",
      "total_samples: 100\n",
      "total_samples: 100\n",
      "total_samples: 100\n",
      "total_samples: 100\n"
     ]
    },
    {
     "data": {
      "text/plain": [
       "([2.25], 0.44)"
      ]
     },
     "execution_count": 6,
     "metadata": {},
     "output_type": "execute_result"
    }
   ],
   "source": [
    "get_best_chain_strength(\"./not_experiments/outputs/p100.csv\")"
   ]
  },
  {
   "cell_type": "code",
   "execution_count": 7,
   "id": "immune-flower",
   "metadata": {},
   "outputs": [],
   "source": [
    "# df = get_results_dataframe(\"p75\", input_ids, reads=100, bottom=1.5, top=3, is_pegasus=False,\n",
    "#                            pegasus_qpu=pegasus_qpu, chimera_qpu=chimera_qpu, experiments_folder=\"not\",\n",
    "#                           random_seed_pegasus=13, random_seed_chimera=39)\n",
    "# df.to_csv('./not_experiments/outputs/p75.csv' )\n",
    "# df"
   ]
  },
  {
   "cell_type": "code",
   "execution_count": 8,
   "id": "crazy-concentrate",
   "metadata": {},
   "outputs": [
    {
     "name": "stdout",
     "output_type": "stream",
     "text": [
      "total_samples: 100\n",
      "total_samples: 100\n",
      "total_samples: 100\n",
      "total_samples: 100\n",
      "total_samples: 100\n",
      "total_samples: 100\n",
      "total_samples: 100\n",
      "total_samples: 100\n",
      "total_samples: 100\n",
      "total_samples: 100\n",
      "total_samples: 100\n",
      "total_samples: 100\n",
      "total_samples: 100\n",
      "total_samples: 100\n"
     ]
    },
    {
     "data": {
      "text/plain": [
       "([2.0, 2.25], 0.41)"
      ]
     },
     "execution_count": 8,
     "metadata": {},
     "output_type": "execute_result"
    }
   ],
   "source": [
    "get_best_chain_strength(\"./not_experiments/outputs/p75.csv\")"
   ]
  },
  {
   "cell_type": "code",
   "execution_count": 9,
   "id": "previous-shakespeare",
   "metadata": {},
   "outputs": [],
   "source": [
    "# df = get_results_dataframe(\"p50\", input_ids, reads=100, bottom=1.5, top=3, is_pegasus=False,\n",
    "#                            pegasus_qpu=pegasus_qpu, chimera_qpu=chimera_qpu, experiments_folder=\"not\",\n",
    "#                           random_seed_pegasus=13, random_seed_chimera=39)\n",
    "# df.to_csv('./not_experiments/outputs/p50.csv' )\n",
    "# df"
   ]
  },
  {
   "cell_type": "code",
   "execution_count": 10,
   "id": "social-canberra",
   "metadata": {},
   "outputs": [
    {
     "name": "stdout",
     "output_type": "stream",
     "text": [
      "total_samples: 100\n",
      "total_samples: 100\n",
      "total_samples: 100\n",
      "total_samples: 100\n",
      "total_samples: 100\n",
      "total_samples: 100\n",
      "total_samples: 100\n",
      "total_samples: 100\n",
      "total_samples: 100\n",
      "total_samples: 100\n",
      "total_samples: 100\n",
      "total_samples: 100\n",
      "total_samples: 100\n",
      "total_samples: 100\n"
     ]
    },
    {
     "data": {
      "text/plain": [
       "([2.25], 0.39)"
      ]
     },
     "execution_count": 10,
     "metadata": {},
     "output_type": "execute_result"
    }
   ],
   "source": [
    "get_best_chain_strength(\"./not_experiments/outputs/p50.csv\")"
   ]
  },
  {
   "cell_type": "code",
   "execution_count": 11,
   "id": "willing-completion",
   "metadata": {},
   "outputs": [],
   "source": [
    "# df = get_results_dataframe(\"p25\", input_ids, reads=100, bottom=1.5, top=3, is_pegasus=False,\n",
    "#                            pegasus_qpu=pegasus_qpu, chimera_qpu=chimera_qpu, experiments_folder=\"not\",\n",
    "#                           random_seed_pegasus=13, random_seed_chimera=39)\n",
    "# df.to_csv('./not_experiments/outputs/p25.csv' )\n",
    "# df"
   ]
  },
  {
   "cell_type": "code",
   "execution_count": 12,
   "id": "ecological-candidate",
   "metadata": {},
   "outputs": [
    {
     "name": "stdout",
     "output_type": "stream",
     "text": [
      "total_samples: 100\n",
      "total_samples: 100\n",
      "total_samples: 100\n",
      "total_samples: 100\n",
      "total_samples: 100\n",
      "total_samples: 100\n",
      "total_samples: 100\n",
      "total_samples: 100\n",
      "total_samples: 100\n",
      "total_samples: 100\n",
      "total_samples: 100\n",
      "total_samples: 100\n",
      "total_samples: 100\n",
      "total_samples: 100\n"
     ]
    },
    {
     "data": {
      "text/plain": [
       "([2.0], 0.46)"
      ]
     },
     "execution_count": 12,
     "metadata": {},
     "output_type": "execute_result"
    }
   ],
   "source": [
    "get_best_chain_strength(\"./not_experiments/outputs/p25.csv\")"
   ]
  },
  {
   "cell_type": "code",
   "execution_count": 13,
   "id": "absolute-protein",
   "metadata": {},
   "outputs": [],
   "source": [
    "# df = get_results_dataframe(\"p10\", input_ids, reads=100, bottom=1.5, top=3, is_pegasus=False,\n",
    "#                            pegasus_qpu=pegasus_qpu, chimera_qpu=chimera_qpu, experiments_folder=\"not\",\n",
    "#                           random_seed_pegasus=13, random_seed_chimera=39)\n",
    "# df.to_csv('./not_experiments/outputs/p10.csv' )\n",
    "# df"
   ]
  },
  {
   "cell_type": "code",
   "execution_count": 14,
   "id": "elegant-victorian",
   "metadata": {},
   "outputs": [
    {
     "name": "stdout",
     "output_type": "stream",
     "text": [
      "total_samples: 100\n",
      "total_samples: 100\n",
      "total_samples: 100\n",
      "total_samples: 100\n",
      "total_samples: 100\n",
      "total_samples: 100\n",
      "total_samples: 100\n",
      "total_samples: 100\n",
      "total_samples: 100\n",
      "total_samples: 100\n",
      "total_samples: 100\n",
      "total_samples: 100\n",
      "total_samples: 100\n",
      "total_samples: 100\n"
     ]
    },
    {
     "data": {
      "text/plain": [
       "([2.0], 0.51)"
      ]
     },
     "execution_count": 14,
     "metadata": {},
     "output_type": "execute_result"
    }
   ],
   "source": [
    "get_best_chain_strength(\"./not_experiments/outputs/p10.csv\")"
   ]
  },
  {
   "cell_type": "code",
   "execution_count": 15,
   "id": "compatible-allowance",
   "metadata": {},
   "outputs": [],
   "source": [
    "# df = get_results_dataframe(\"p1\", input_ids, reads=100, bottom=1.5, top=3, is_pegasus=False,\n",
    "#                            pegasus_qpu=pegasus_qpu, chimera_qpu=chimera_qpu, experiments_folder=\"not\",\n",
    "#                           random_seed_pegasus=13, random_seed_chimera=39)\n",
    "# df.to_csv('./not_experiments/outputs/p1.csv' )\n",
    "# df"
   ]
  },
  {
   "cell_type": "code",
   "execution_count": 16,
   "id": "junior-patient",
   "metadata": {},
   "outputs": [
    {
     "name": "stdout",
     "output_type": "stream",
     "text": [
      "total_samples: 100\n",
      "total_samples: 100\n",
      "total_samples: 100\n",
      "total_samples: 100\n",
      "total_samples: 100\n",
      "total_samples: 100\n",
      "total_samples: 100\n",
      "total_samples: 100\n",
      "total_samples: 100\n",
      "total_samples: 100\n",
      "total_samples: 100\n",
      "total_samples: 100\n",
      "total_samples: 100\n",
      "total_samples: 100\n"
     ]
    },
    {
     "data": {
      "text/plain": [
       "([2.25], 0.35)"
      ]
     },
     "execution_count": 16,
     "metadata": {},
     "output_type": "execute_result"
    }
   ],
   "source": [
    "get_best_chain_strength(\"./not_experiments/outputs/p1.csv\")"
   ]
  },
  {
   "cell_type": "code",
   "execution_count": 17,
   "id": "stylish-chambers",
   "metadata": {},
   "outputs": [],
   "source": [
    "# df = get_results_dataframe(\"p01\", input_ids, reads=100, bottom=1.5, top=3, is_pegasus=False,\n",
    "#                           pegasus_qpu=pegasus_qpu, chimera_qpu=chimera_qpu, experiments_folder=\"not\",\n",
    "#                          random_seed_pegasus=13, random_seed_chimera=39)\n",
    "# df.to_csv('./not_experiments/outputs/p01.csv' )\n",
    "# df"
   ]
  },
  {
   "cell_type": "code",
   "execution_count": 18,
   "id": "working-kitchen",
   "metadata": {},
   "outputs": [
    {
     "name": "stdout",
     "output_type": "stream",
     "text": [
      "total_samples: 100\n",
      "total_samples: 100\n",
      "total_samples: 100\n",
      "total_samples: 100\n",
      "total_samples: 100\n",
      "total_samples: 100\n",
      "total_samples: 100\n",
      "total_samples: 100\n",
      "total_samples: 100\n",
      "total_samples: 100\n",
      "total_samples: 100\n",
      "total_samples: 100\n",
      "total_samples: 100\n",
      "total_samples: 100\n"
     ]
    },
    {
     "data": {
      "text/plain": [
       "([1.75], 0.09)"
      ]
     },
     "execution_count": 18,
     "metadata": {},
     "output_type": "execute_result"
    }
   ],
   "source": [
    "get_best_chain_strength(\"./not_experiments/outputs/p01.csv\")"
   ]
  },
  {
   "cell_type": "code",
   "execution_count": 19,
   "id": "naval-musician",
   "metadata": {},
   "outputs": [],
   "source": [
    "# df = get_results_dataframe(\"p001\", input_ids, reads=100, bottom=1.5, top=3, is_pegasus=False,\n",
    "#                           pegasus_qpu=pegasus_qpu, chimera_qpu=chimera_qpu, experiments_folder=\"not\",\n",
    "#                          random_seed_pegasus=13, random_seed_chimera=39)\n",
    "# df.to_csv('./not_experiments/outputs/p001.csv' )\n",
    "# df"
   ]
  },
  {
   "cell_type": "code",
   "execution_count": 20,
   "id": "marine-brighton",
   "metadata": {},
   "outputs": [
    {
     "name": "stdout",
     "output_type": "stream",
     "text": [
      "total_samples: 100\n",
      "total_samples: 100\n",
      "total_samples: 100\n",
      "total_samples: 100\n",
      "total_samples: 100\n",
      "total_samples: 100\n",
      "total_samples: 100\n",
      "total_samples: 100\n",
      "total_samples: 100\n",
      "total_samples: 100\n",
      "total_samples: 100\n",
      "total_samples: 100\n",
      "total_samples: 100\n",
      "total_samples: 100\n"
     ]
    },
    {
     "data": {
      "text/plain": [
       "([1.75], 0.07)"
      ]
     },
     "execution_count": 20,
     "metadata": {},
     "output_type": "execute_result"
    }
   ],
   "source": [
    "get_best_chain_strength(\"./not_experiments/outputs/p001.csv\")"
   ]
  },
  {
   "cell_type": "code",
   "execution_count": 21,
   "id": "stable-evanescence",
   "metadata": {},
   "outputs": [],
   "source": [
    "# df = get_results_dataframe(\"p0001\", input_ids, reads=100, bottom=1.5, top=3, is_pegasus=False,\n",
    "#                           pegasus_qpu=pegasus_qpu, chimera_qpu=chimera_qpu, experiments_folder=\"not\",\n",
    "#                          random_seed_pegasus=13, random_seed_chimera=39)\n",
    "# df.to_csv('./not_experiments/outputs/p0001.csv' )\n",
    "# df"
   ]
  },
  {
   "cell_type": "code",
   "execution_count": 22,
   "id": "fifty-courage",
   "metadata": {},
   "outputs": [
    {
     "name": "stdout",
     "output_type": "stream",
     "text": [
      "total_samples: 100\n",
      "total_samples: 100\n",
      "total_samples: 100\n",
      "total_samples: 100\n",
      "total_samples: 100\n",
      "total_samples: 100\n",
      "total_samples: 100\n",
      "total_samples: 100\n",
      "total_samples: 100\n",
      "total_samples: 100\n",
      "total_samples: 100\n",
      "total_samples: 100\n",
      "total_samples: 100\n",
      "total_samples: 100\n"
     ]
    },
    {
     "data": {
      "text/plain": [
       "([1.5], 0.01)"
      ]
     },
     "execution_count": 22,
     "metadata": {},
     "output_type": "execute_result"
    }
   ],
   "source": [
    "get_best_chain_strength(\"./not_experiments/outputs/p0001.csv\")"
   ]
  },
  {
   "cell_type": "code",
   "execution_count": 23,
   "id": "adjusted-suite",
   "metadata": {},
   "outputs": [],
   "source": [
    "# df = get_results_dataframe(\"p00001\", input_ids, reads=100, bottom=1.5, top=3, is_pegasus=False,\n",
    "#                           pegasus_qpu=pegasus_qpu, chimera_qpu=chimera_qpu, experiments_folder=\"not\",\n",
    "#                          random_seed_pegasus=13, random_seed_chimera=39)\n",
    "# df.to_csv('./not_experiments/outputs/p00001.csv' )\n",
    "# df"
   ]
  },
  {
   "cell_type": "code",
   "execution_count": 24,
   "id": "double-absolute",
   "metadata": {},
   "outputs": [
    {
     "name": "stdout",
     "output_type": "stream",
     "text": [
      "total_samples: 100\n",
      "total_samples: 100\n",
      "total_samples: 100\n",
      "total_samples: 100\n",
      "total_samples: 100\n",
      "total_samples: 100\n",
      "total_samples: 100\n",
      "total_samples: 100\n",
      "total_samples: 100\n",
      "total_samples: 100\n",
      "total_samples: 100\n",
      "total_samples: 100\n",
      "total_samples: 100\n",
      "total_samples: 100\n"
     ]
    },
    {
     "data": {
      "text/plain": [
       "([1.5, 1.75, 2.0, 2.25, 2.5, 2.75, 3.0], 0.0)"
      ]
     },
     "execution_count": 24,
     "metadata": {},
     "output_type": "execute_result"
    }
   ],
   "source": [
    "get_best_chain_strength(\"./not_experiments/outputs/p00001.csv\")"
   ]
  },
  {
   "cell_type": "markdown",
   "id": "liberal-greenhouse",
   "metadata": {},
   "source": [
    "# Distributions plot"
   ]
  },
  {
   "cell_type": "code",
   "execution_count": 28,
   "id": "dated-testing",
   "metadata": {},
   "outputs": [
    {
     "data": {
      "text/plain": [
       "<AxesSubplot:xlabel='energy', ylabel='Count'>"
      ]
     },
     "execution_count": 28,
     "metadata": {},
     "output_type": "execute_result"
    },
    {
     "data": {
      "image/png": "[encoded data removed]",
      "text/plain": [
       "<Figure size 720x576 with 1 Axes>"
      ]
     },
     "metadata": {},
     "output_type": "display_data"
    }
   ],
   "source": [
    "p1_df = pd.read_csv('./not_experiments/outputs/p100.csv')\n",
    "sns.set(rc={'figure.figsize':(10,8)})\n",
    "sns.set_style(\"whitegrid\", {'axes.grid' : True})\n",
    "\n",
    "sns.histplot(p1_df[(p1_df.type==\"raw\") & (p1_df.chain_strength == 2.25)].energy)"
   ]
  },
  {
   "cell_type": "code",
   "execution_count": 29,
   "id": "unauthorized-english",
   "metadata": {},
   "outputs": [
    {
     "data": {
      "text/plain": [
       "<AxesSubplot:xlabel='energy', ylabel='Count'>"
      ]
     },
     "execution_count": 29,
     "metadata": {},
     "output_type": "execute_result"
    },
    {
     "data": {
      "image/png": "[encoded data removed]",
      "text/plain": [
       "<Figure size 720x576 with 1 Axes>"
      ]
     },
     "metadata": {},
     "output_type": "display_data"
    }
   ],
   "source": [
    "p1_df = pd.read_csv('./not_experiments/outputs/p75.csv')\n",
    "sns.set(rc={'figure.figsize':(10,8)})\n",
    "sns.set_style(\"whitegrid\", {'axes.grid' : True})\n",
    "\n",
    "sns.histplot(p1_df[(p1_df.type==\"raw\") & (p1_df.chain_strength == 2.25)].energy)"
   ]
  },
  {
   "cell_type": "code",
   "execution_count": 30,
   "id": "working-address",
   "metadata": {},
   "outputs": [
    {
     "data": {
      "text/plain": [
       "<AxesSubplot:xlabel='energy', ylabel='Count'>"
      ]
     },
     "execution_count": 30,
     "metadata": {},
     "output_type": "execute_result"
    },
    {
     "data": {
      "image/png": "[encoded data removed]",
      "text/plain": [
       "<Figure size 720x576 with 1 Axes>"
      ]
     },
     "metadata": {},
     "output_type": "display_data"
    }
   ],
   "source": [
    "p1_df = pd.read_csv('./not_experiments/outputs/p50.csv')\n",
    "sns.set(rc={'figure.figsize':(10,8)})\n",
    "sns.set_style(\"whitegrid\", {'axes.grid' : True})\n",
    "\n",
    "sns.histplot(p1_df[(p1_df.type==\"raw\") & (p1_df.chain_strength == 2.25)].energy)"
   ]
  },
  {
   "cell_type": "code",
   "execution_count": 32,
   "id": "detailed-vehicle",
   "metadata": {},
   "outputs": [
    {
     "data": {
      "text/plain": [
       "<AxesSubplot:xlabel='energy', ylabel='Count'>"
      ]
     },
     "execution_count": 32,
     "metadata": {},
     "output_type": "execute_result"
    },
    {
     "data": {
      "image/png": "[encoded data removed]",
      "text/plain": [
       "<Figure size 720x576 with 1 Axes>"
      ]
     },
     "metadata": {},
     "output_type": "display_data"
    }
   ],
   "source": [
    "p1_df = pd.read_csv('./not_experiments/outputs/p25.csv')\n",
    "sns.set(rc={'figure.figsize':(10,8)})\n",
    "sns.set_style(\"whitegrid\", {'axes.grid' : True})\n",
    "\n",
    "sns.histplot(p1_df[(p1_df.type==\"raw\") & (p1_df.chain_strength == 2)].energy)"
   ]
  },
  {
   "cell_type": "code",
   "execution_count": 33,
   "id": "mexican-pricing",
   "metadata": {},
   "outputs": [
    {
     "data": {
      "text/plain": [
       "<AxesSubplot:xlabel='energy', ylabel='Count'>"
      ]
     },
     "execution_count": 33,
     "metadata": {},
     "output_type": "execute_result"
    },
    {
     "data": {
      "image/png": "[encoded data removed]",
      "text/plain": [
       "<Figure size 720x576 with 1 Axes>"
      ]
     },
     "metadata": {},
     "output_type": "display_data"
    }
   ],
   "source": [
    "p1_df = pd.read_csv('./not_experiments/outputs/p10.csv')\n",
    "sns.set(rc={'figure.figsize':(10,8)})\n",
    "sns.set_style(\"whitegrid\", {'axes.grid' : True})\n",
    "\n",
    "sns.histplot(p1_df[(p1_df.type==\"raw\") & (p1_df.chain_strength == 2)].energy)"
   ]
  },
  {
   "cell_type": "code",
   "execution_count": 26,
   "id": "forced-calibration",
   "metadata": {},
   "outputs": [
    {
     "data": {
      "text/plain": [
       "<AxesSubplot:xlabel='energy', ylabel='Count'>"
      ]
     },
     "execution_count": 26,
     "metadata": {},
     "output_type": "execute_result"
    },
    {
     "data": {
      "image/png": "[encoded data removed]",
      "text/plain": [
       "<Figure size 720x576 with 1 Axes>"
      ]
     },
     "metadata": {},
     "output_type": "display_data"
    }
   ],
   "source": [
    "p1_df = pd.read_csv('./not_experiments/outputs/p1.csv')\n",
    "sns.set(rc={'figure.figsize':(10,8)})\n",
    "sns.set_style(\"whitegrid\", {'axes.grid' : True})\n",
    "\n",
    "sns.histplot(p1_df[(p1_df.type==\"raw\") & (p1_df.chain_strength == 2.25)].energy)"
   ]
  },
  {
   "cell_type": "code",
   "execution_count": 27,
   "id": "incomplete-specification",
   "metadata": {},
   "outputs": [
    {
     "data": {
      "text/plain": [
       "<AxesSubplot:xlabel='energy', ylabel='Count'>"
      ]
     },
     "execution_count": 27,
     "metadata": {},
     "output_type": "execute_result"
    },
    {
     "data": {
      "image/png": "[encoded data removed]",
      "text/plain": [
       "<Figure size 720x576 with 1 Axes>"
      ]
     },
     "metadata": {},
     "output_type": "display_data"
    }
   ],
   "source": [
    "p01_df = pd.read_csv('./not_experiments/outputs/p01.csv')\n",
    "sns.set(rc={'figure.figsize':(10,8)})\n",
    "sns.set_style(\"whitegrid\", {'axes.grid' : True})\n",
    "\n",
    "sns.histplot(p01_df[(p01_df.type==\"raw\") & (p01_df.chain_strength == 1.75)].energy)"
   ]
  },
  {
   "cell_type": "code",
   "execution_count": null,
   "id": "selected-damage",
   "metadata": {},
   "outputs": [],
   "source": []
  }
 ],
 "metadata": {
  "kernelspec": {
   "display_name": "Python 3",
   "language": "python",
   "name": "python3"
  },
  "language_info": {
   "codemirror_mode": {
    "name": "ipython",
    "version": 3
   },
   "file_extension": ".py",
   "mimetype": "text/x-python",
   "name": "python",
   "nbconvert_exporter": "python",
   "pygments_lexer": "ipython3",
   "version": "3.9.12"
  }
 },
 "nbformat": 4,
 "nbformat_minor": 5
}
