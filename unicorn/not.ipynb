{
 "cells": [
  {
   "cell_type": "code",
   "execution_count": 2,
   "id": "compact-montgomery",
   "metadata": {},
   "outputs": [],
   "source": [
    "from unicorn_utils import *\n",
    "import seaborn as sns"
   ]
  },
  {
   "cell_type": "code",
   "execution_count": 4,
   "id": "practical-jurisdiction",
   "metadata": {},
   "outputs": [],
   "source": [
    "pegasus_qpu = get_qpu()\n",
    "chimera_qpu = DWaveSampler(solver={\"name\": \"DW_2000Q_6\"})"
   ]
  },
  {
   "cell_type": "code",
   "execution_count": 3,
   "id": "indirect-treaty",
   "metadata": {},
   "outputs": [
    {
     "name": "stdout",
     "output_type": "stream",
     "text": [
      "file: not_experiments/p1\n",
      "cnf vars, clauses, clauses_to_var = 255, 572, 2.24\n",
      "qubo vars 317\n",
      "conn avg, variance, max = 3.19, 2.54, 6\n"
     ]
    }
   ],
   "source": [
    "bqm = get_file_bqm('p1', 'not')"
   ]
  },
  {
   "cell_type": "code",
   "execution_count": 6,
   "id": "written-riverside",
   "metadata": {},
   "outputs": [
    {
     "data": {
      "text/plain": [
       "(5, 480, 0.7)"
      ]
     },
     "execution_count": 6,
     "metadata": {},
     "output_type": "execute_result"
    }
   ],
   "source": [
    "import sys\n",
    "sys.path.append(\"../\")\n",
    "from utils import load_cnf, cnf_to_bqm\n",
    "from embedding_utils import *\n",
    "get_embedding_statistics(get_embedding(bqm, chimera_qpu, random_seed=39))"
   ]
  },
  {
   "cell_type": "code",
   "execution_count": 3,
   "id": "persistent-resistance",
   "metadata": {},
   "outputs": [],
   "source": [
    "all_filenames = \"p1 p01 p001 p0001 p00001 p000001 p10 p25 p50 p75 p100\".split(\" \")"
   ]
  },
  {
   "cell_type": "code",
   "execution_count": 4,
   "id": "portuguese-syndrome",
   "metadata": {},
   "outputs": [],
   "source": [
    "input_lines = set()\n",
    "for filename in all_filenames:\n",
    "    file = open(f\"./not_experiments/qubos/not_{filename}.unicorn\").readlines()\n",
    "    input_lines.add(file[2])\n",
    "input_lines\n",
    "input_line = input_lines.pop()\n",
    "assert(len(input_lines) == 0)\n",
    "input_ = [int(x)for x in input_line.split(\" \")[1].split(\",\")]\n",
    "input_ids = [input_]"
   ]
  },
  {
   "cell_type": "code",
   "execution_count": 5,
   "id": "arctic-necklace",
   "metadata": {},
   "outputs": [],
   "source": [
    "# df = get_results_dataframe(\"p100\", input_ids, reads=100, bottom=1.5, top=3, \n",
    "#                            pegasus_qpu=pegasus_qpu, chimera_qpu=chimera_qpu, experiments_folder=\"not\")\n",
    "# df.to_csv('./not_experiments/outputs/p100.csv' )\n",
    "# df"
   ]
  },
  {
   "cell_type": "code",
   "execution_count": 6,
   "id": "split-kennedy",
   "metadata": {},
   "outputs": [
    {
     "name": "stdout",
     "output_type": "stream",
     "text": [
      "total_samples: 100\n",
      "total_samples: 100\n",
      "total_samples: 100\n",
      "total_samples: 100\n",
      "total_samples: 100\n",
      "total_samples: 100\n",
      "total_samples: 100\n",
      "total_samples: 100\n",
      "total_samples: 100\n",
      "total_samples: 100\n",
      "total_samples: 100\n",
      "total_samples: 100\n",
      "total_samples: 100\n",
      "total_samples: 100\n"
     ]
    },
    {
     "data": {
      "text/plain": [
       "([2.25], 0.44)"
      ]
     },
     "execution_count": 6,
     "metadata": {},
     "output_type": "execute_result"
    }
   ],
   "source": [
    "get_best_chain_strength(\"./not_experiments/outputs/p100.csv\")"
   ]
  },
  {
   "cell_type": "code",
   "execution_count": 7,
   "id": "immune-flower",
   "metadata": {},
   "outputs": [],
   "source": [
    "# df = get_results_dataframe(\"p75\", input_ids, reads=100, bottom=1.5, top=3, is_pegasus=False,\n",
    "#                            pegasus_qpu=pegasus_qpu, chimera_qpu=chimera_qpu, experiments_folder=\"not\",\n",
    "#                           random_seed_pegasus=13, random_seed_chimera=39)\n",
    "# df.to_csv('./not_experiments/outputs/p75.csv' )\n",
    "# df"
   ]
  },
  {
   "cell_type": "code",
   "execution_count": 8,
   "id": "crazy-concentrate",
   "metadata": {},
   "outputs": [
    {
     "name": "stdout",
     "output_type": "stream",
     "text": [
      "total_samples: 100\n",
      "total_samples: 100\n",
      "total_samples: 100\n",
      "total_samples: 100\n",
      "total_samples: 100\n",
      "total_samples: 100\n",
      "total_samples: 100\n",
      "total_samples: 100\n",
      "total_samples: 100\n",
      "total_samples: 100\n",
      "total_samples: 100\n",
      "total_samples: 100\n",
      "total_samples: 100\n",
      "total_samples: 100\n"
     ]
    },
    {
     "data": {
      "text/plain": [
       "([2.0, 2.25], 0.41)"
      ]
     },
     "execution_count": 8,
     "metadata": {},
     "output_type": "execute_result"
    }
   ],
   "source": [
    "get_best_chain_strength(\"./not_experiments/outputs/p75.csv\")"
   ]
  },
  {
   "cell_type": "code",
   "execution_count": 9,
   "id": "previous-shakespeare",
   "metadata": {},
   "outputs": [],
   "source": [
    "# df = get_results_dataframe(\"p50\", input_ids, reads=100, bottom=1.5, top=3, is_pegasus=False,\n",
    "#                            pegasus_qpu=pegasus_qpu, chimera_qpu=chimera_qpu, experiments_folder=\"not\",\n",
    "#                           random_seed_pegasus=13, random_seed_chimera=39)\n",
    "# df.to_csv('./not_experiments/outputs/p50.csv' )\n",
    "# df"
   ]
  },
  {
   "cell_type": "code",
   "execution_count": 10,
   "id": "social-canberra",
   "metadata": {},
   "outputs": [
    {
     "name": "stdout",
     "output_type": "stream",
     "text": [
      "total_samples: 100\n",
      "total_samples: 100\n",
      "total_samples: 100\n",
      "total_samples: 100\n",
      "total_samples: 100\n",
      "total_samples: 100\n",
      "total_samples: 100\n",
      "total_samples: 100\n",
      "total_samples: 100\n",
      "total_samples: 100\n",
      "total_samples: 100\n",
      "total_samples: 100\n",
      "total_samples: 100\n",
      "total_samples: 100\n"
     ]
    },
    {
     "data": {
      "text/plain": [
       "([2.25], 0.39)"
      ]
     },
     "execution_count": 10,
     "metadata": {},
     "output_type": "execute_result"
    }
   ],
   "source": [
    "get_best_chain_strength(\"./not_experiments/outputs/p50.csv\")"
   ]
  },
  {
   "cell_type": "code",
   "execution_count": 11,
   "id": "willing-completion",
   "metadata": {},
   "outputs": [],
   "source": [
    "# df = get_results_dataframe(\"p25\", input_ids, reads=100, bottom=1.5, top=3, is_pegasus=False,\n",
    "#                            pegasus_qpu=pegasus_qpu, chimera_qpu=chimera_qpu, experiments_folder=\"not\",\n",
    "#                           random_seed_pegasus=13, random_seed_chimera=39)\n",
    "# df.to_csv('./not_experiments/outputs/p25.csv' )\n",
    "# df"
   ]
  },
  {
   "cell_type": "code",
   "execution_count": 12,
   "id": "ecological-candidate",
   "metadata": {},
   "outputs": [
    {
     "name": "stdout",
     "output_type": "stream",
     "text": [
      "total_samples: 100\n",
      "total_samples: 100\n",
      "total_samples: 100\n",
      "total_samples: 100\n",
      "total_samples: 100\n",
      "total_samples: 100\n",
      "total_samples: 100\n",
      "total_samples: 100\n",
      "total_samples: 100\n",
      "total_samples: 100\n",
      "total_samples: 100\n",
      "total_samples: 100\n",
      "total_samples: 100\n",
      "total_samples: 100\n"
     ]
    },
    {
     "data": {
      "text/plain": [
       "([2.0], 0.46)"
      ]
     },
     "execution_count": 12,
     "metadata": {},
     "output_type": "execute_result"
    }
   ],
   "source": [
    "get_best_chain_strength(\"./not_experiments/outputs/p25.csv\")"
   ]
  },
  {
   "cell_type": "code",
   "execution_count": 13,
   "id": "absolute-protein",
   "metadata": {},
   "outputs": [],
   "source": [
    "# df = get_results_dataframe(\"p10\", input_ids, reads=100, bottom=1.5, top=3, is_pegasus=False,\n",
    "#                            pegasus_qpu=pegasus_qpu, chimera_qpu=chimera_qpu, experiments_folder=\"not\",\n",
    "#                           random_seed_pegasus=13, random_seed_chimera=39)\n",
    "# df.to_csv('./not_experiments/outputs/p10.csv' )\n",
    "# df"
   ]
  },
  {
   "cell_type": "code",
   "execution_count": 14,
   "id": "elegant-victorian",
   "metadata": {},
   "outputs": [
    {
     "name": "stdout",
     "output_type": "stream",
     "text": [
      "total_samples: 100\n",
      "total_samples: 100\n",
      "total_samples: 100\n",
      "total_samples: 100\n",
      "total_samples: 100\n",
      "total_samples: 100\n",
      "total_samples: 100\n",
      "total_samples: 100\n",
      "total_samples: 100\n",
      "total_samples: 100\n",
      "total_samples: 100\n",
      "total_samples: 100\n",
      "total_samples: 100\n",
      "total_samples: 100\n"
     ]
    },
    {
     "data": {
      "text/plain": [
       "([2.0], 0.51)"
      ]
     },
     "execution_count": 14,
     "metadata": {},
     "output_type": "execute_result"
    }
   ],
   "source": [
    "get_best_chain_strength(\"./not_experiments/outputs/p10.csv\")"
   ]
  },
  {
   "cell_type": "code",
   "execution_count": 15,
   "id": "compatible-allowance",
   "metadata": {},
   "outputs": [],
   "source": [
    "# df = get_results_dataframe(\"p1\", input_ids, reads=100, bottom=1.5, top=3, is_pegasus=False,\n",
    "#                            pegasus_qpu=pegasus_qpu, chimera_qpu=chimera_qpu, experiments_folder=\"not\",\n",
    "#                           random_seed_pegasus=13, random_seed_chimera=39)\n",
    "# df.to_csv('./not_experiments/outputs/p1.csv' )\n",
    "# df"
   ]
  },
  {
   "cell_type": "code",
   "execution_count": 16,
   "id": "junior-patient",
   "metadata": {},
   "outputs": [
    {
     "name": "stdout",
     "output_type": "stream",
     "text": [
      "total_samples: 100\n",
      "total_samples: 100\n",
      "total_samples: 100\n",
      "total_samples: 100\n",
      "total_samples: 100\n",
      "total_samples: 100\n",
      "total_samples: 100\n",
      "total_samples: 100\n",
      "total_samples: 100\n",
      "total_samples: 100\n",
      "total_samples: 100\n",
      "total_samples: 100\n",
      "total_samples: 100\n",
      "total_samples: 100\n"
     ]
    },
    {
     "data": {
      "text/plain": [
       "([2.25], 0.35)"
      ]
     },
     "execution_count": 16,
     "metadata": {},
     "output_type": "execute_result"
    }
   ],
   "source": [
    "get_best_chain_strength(\"./not_experiments/outputs/p1.csv\")"
   ]
  },
  {
   "cell_type": "code",
   "execution_count": 17,
   "id": "stylish-chambers",
   "metadata": {},
   "outputs": [],
   "source": [
    "# df = get_results_dataframe(\"p01\", input_ids, reads=100, bottom=1.5, top=3, is_pegasus=False,\n",
    "#                           pegasus_qpu=pegasus_qpu, chimera_qpu=chimera_qpu, experiments_folder=\"not\",\n",
    "#                          random_seed_pegasus=13, random_seed_chimera=39)\n",
    "# df.to_csv('./not_experiments/outputs/p01.csv' )\n",
    "# df"
   ]
  },
  {
   "cell_type": "code",
   "execution_count": 18,
   "id": "working-kitchen",
   "metadata": {},
   "outputs": [
    {
     "name": "stdout",
     "output_type": "stream",
     "text": [
      "total_samples: 100\n",
      "total_samples: 100\n",
      "total_samples: 100\n",
      "total_samples: 100\n",
      "total_samples: 100\n",
      "total_samples: 100\n",
      "total_samples: 100\n",
      "total_samples: 100\n",
      "total_samples: 100\n",
      "total_samples: 100\n",
      "total_samples: 100\n",
      "total_samples: 100\n",
      "total_samples: 100\n",
      "total_samples: 100\n"
     ]
    },
    {
     "data": {
      "text/plain": [
       "([1.75], 0.09)"
      ]
     },
     "execution_count": 18,
     "metadata": {},
     "output_type": "execute_result"
    }
   ],
   "source": [
    "get_best_chain_strength(\"./not_experiments/outputs/p01.csv\")"
   ]
  },
  {
   "cell_type": "code",
   "execution_count": 19,
   "id": "naval-musician",
   "metadata": {},
   "outputs": [],
   "source": [
    "# df = get_results_dataframe(\"p001\", input_ids, reads=100, bottom=1.5, top=3, is_pegasus=False,\n",
    "#                           pegasus_qpu=pegasus_qpu, chimera_qpu=chimera_qpu, experiments_folder=\"not\",\n",
    "#                          random_seed_pegasus=13, random_seed_chimera=39)\n",
    "# df.to_csv('./not_experiments/outputs/p001.csv' )\n",
    "# df"
   ]
  },
  {
   "cell_type": "code",
   "execution_count": 20,
   "id": "marine-brighton",
   "metadata": {},
   "outputs": [
    {
     "name": "stdout",
     "output_type": "stream",
     "text": [
      "total_samples: 100\n",
      "total_samples: 100\n",
      "total_samples: 100\n",
      "total_samples: 100\n",
      "total_samples: 100\n",
      "total_samples: 100\n",
      "total_samples: 100\n",
      "total_samples: 100\n",
      "total_samples: 100\n",
      "total_samples: 100\n",
      "total_samples: 100\n",
      "total_samples: 100\n",
      "total_samples: 100\n",
      "total_samples: 100\n"
     ]
    },
    {
     "data": {
      "text/plain": [
       "([1.75], 0.07)"
      ]
     },
     "execution_count": 20,
     "metadata": {},
     "output_type": "execute_result"
    }
   ],
   "source": [
    "get_best_chain_strength(\"./not_experiments/outputs/p001.csv\")"
   ]
  },
  {
   "cell_type": "code",
   "execution_count": 21,
   "id": "stable-evanescence",
   "metadata": {},
   "outputs": [],
   "source": [
    "# df = get_results_dataframe(\"p0001\", input_ids, reads=100, bottom=1.5, top=3, is_pegasus=False,\n",
    "#                           pegasus_qpu=pegasus_qpu, chimera_qpu=chimera_qpu, experiments_folder=\"not\",\n",
    "#                          random_seed_pegasus=13, random_seed_chimera=39)\n",
    "# df.to_csv('./not_experiments/outputs/p0001.csv' )\n",
    "# df"
   ]
  },
  {
   "cell_type": "code",
   "execution_count": 22,
   "id": "fifty-courage",
   "metadata": {},
   "outputs": [
    {
     "name": "stdout",
     "output_type": "stream",
     "text": [
      "total_samples: 100\n",
      "total_samples: 100\n",
      "total_samples: 100\n",
      "total_samples: 100\n",
      "total_samples: 100\n",
      "total_samples: 100\n",
      "total_samples: 100\n",
      "total_samples: 100\n",
      "total_samples: 100\n",
      "total_samples: 100\n",
      "total_samples: 100\n",
      "total_samples: 100\n",
      "total_samples: 100\n",
      "total_samples: 100\n"
     ]
    },
    {
     "data": {
      "text/plain": [
       "([1.5], 0.01)"
      ]
     },
     "execution_count": 22,
     "metadata": {},
     "output_type": "execute_result"
    }
   ],
   "source": [
    "get_best_chain_strength(\"./not_experiments/outputs/p0001.csv\")"
   ]
  },
  {
   "cell_type": "code",
   "execution_count": 23,
   "id": "adjusted-suite",
   "metadata": {},
   "outputs": [],
   "source": [
    "# df = get_results_dataframe(\"p00001\", input_ids, reads=100, bottom=1.5, top=3, is_pegasus=False,\n",
    "#                           pegasus_qpu=pegasus_qpu, chimera_qpu=chimera_qpu, experiments_folder=\"not\",\n",
    "#                          random_seed_pegasus=13, random_seed_chimera=39)\n",
    "# df.to_csv('./not_experiments/outputs/p00001.csv' )\n",
    "# df"
   ]
  },
  {
   "cell_type": "code",
   "execution_count": 24,
   "id": "double-absolute",
   "metadata": {},
   "outputs": [
    {
     "name": "stdout",
     "output_type": "stream",
     "text": [
      "total_samples: 100\n",
      "total_samples: 100\n",
      "total_samples: 100\n",
      "total_samples: 100\n",
      "total_samples: 100\n",
      "total_samples: 100\n",
      "total_samples: 100\n",
      "total_samples: 100\n",
      "total_samples: 100\n",
      "total_samples: 100\n",
      "total_samples: 100\n",
      "total_samples: 100\n",
      "total_samples: 100\n",
      "total_samples: 100\n"
     ]
    },
    {
     "data": {
      "text/plain": [
       "([1.5, 1.75, 2.0, 2.25, 2.5, 2.75, 3.0], 0.0)"
      ]
     },
     "execution_count": 24,
     "metadata": {},
     "output_type": "execute_result"
    }
   ],
   "source": [
    "get_best_chain_strength(\"./not_experiments/outputs/p00001.csv\")"
   ]
  },
  {
   "cell_type": "markdown",
   "id": "liberal-greenhouse",
   "metadata": {},
   "source": [
    "# Distributions plot"
   ]
  },
  {
   "cell_type": "code",
   "execution_count": 28,
   "id": "dated-testing",
   "metadata": {},
   "outputs": [
    {
     "data": {
      "text/plain": [
       "<AxesSubplot:xlabel='energy', ylabel='Count'>"
      ]
     },
     "execution_count": 28,
     "metadata": {},
     "output_type": "execute_result"
    },
    {
     "data": {
      "image/png": "[encoded data removed]",
      "text/plain": [
       "<Figure size 720x576 with 1 Axes>"
      ]
     },
     "metadata": {},
     "output_type": "display_data"
    }
   ],
   "source": [
    "p1_df = pd.read_csv('./not_experiments/outputs/p100.csv')\n",
    "sns.set(rc={'figure.figsize':(10,8)})\n",
    "sns.set_style(\"whitegrid\", {'axes.grid' : True})\n",
    "\n",
    "sns.histplot(p1_df[(p1_df.type==\"raw\") & (p1_df.chain_strength == 2.25)].energy)"
   ]
  },
  {
   "cell_type": "code",
   "execution_count": 29,
   "id": "unauthorized-english",
   "metadata": {},
   "outputs": [
    {
     "data": {
      "text/plain": [
       "<AxesSubplot:xlabel='energy', ylabel='Count'>"
      ]
     },
     "execution_count": 29,
     "metadata": {},
     "output_type": "execute_result"
    },
    {
     "data": {
      "image/png": "[encoded data removed]",
      "text/plain": [
       "<Figure size 720x576 with 1 Axes>"
      ]
     },
     "metadata": {},
     "output_type": "display_data"
    }
   ],
   "source": [
    "p1_df = pd.read_csv('./not_experiments/outputs/p75.csv')\n",
    "sns.set(rc={'figure.figsize':(10,8)})\n",
    "sns.set_style(\"whitegrid\", {'axes.grid' : True})\n",
    "\n",
    "sns.histplot(p1_df[(p1_df.type==\"raw\") & (p1_df.chain_strength == 2.25)].energy)"
   ]
  },
  {
   "cell_type": "code",
   "execution_count": 30,
   "id": "working-address",
   "metadata": {},
   "outputs": [
    {
     "data": {
      "text/plain": [
       "<AxesSubplot:xlabel='energy', ylabel='Count'>"
      ]
     },
     "execution_count": 30,
     "metadata": {},
     "output_type": "execute_result"
    },
    {
     "data": {
      "image/png": "[encoded data removed]",
      "text/plain": [
       "<Figure size 720x576 with 1 Axes>"
      ]
     },
     "metadata": {},
     "output_type": "display_data"
    }
   ],
   "source": [
    "p1_df = pd.read_csv('./not_experiments/outputs/p50.csv')\n",
    "sns.set(rc={'figure.figsize':(10,8)})\n",
    "sns.set_style(\"whitegrid\", {'axes.grid' : True})\n",
    "\n",
    "sns.histplot(p1_df[(p1_df.type==\"raw\") & (p1_df.chain_strength == 2.25)].energy)"
   ]
  },
  {
   "cell_type": "code",
   "execution_count": 32,
   "id": "detailed-vehicle",
   "metadata": {},
   "outputs": [
    {
     "data": {
      "text/plain": [
       "<AxesSubplot:xlabel='energy', ylabel='Count'>"
      ]
     },
     "execution_count": 32,
     "metadata": {},
     "output_type": "execute_result"
    },
    {
     "data": {
      "image/png": "[encoded data removed]",
      "text/plain": [
       "<Figure size 720x576 with 1 Axes>"
      ]
     },
     "metadata": {},
     "output_type": "display_data"
    }
   ],
   "source": [
    "p1_df = pd.read_csv('./not_experiments/outputs/p25.csv')\n",
    "sns.set(rc={'figure.figsize':(10,8)})\n",
    "sns.set_style(\"whitegrid\", {'axes.grid' : True})\n",
    "\n",
    "sns.histplot(p1_df[(p1_df.type==\"raw\") & (p1_df.chain_strength == 2)].energy)"
   ]
  },
  {
   "cell_type": "code",
   "execution_count": 33,
   "id": "mexican-pricing",
   "metadata": {},
   "outputs": [
    {
     "data": {
      "text/plain": [
       "<AxesSubplot:xlabel='energy', ylabel='Count'>"
      ]
     },
     "execution_count": 33,
     "metadata": {},
     "output_type": "execute_result"
    },
    {
     "data": {
      "image/png": "[encoded data removed]",
      "text/plain": [
       "<Figure size 720x576 with 1 Axes>"
      ]
     },
     "metadata": {},
     "output_type": "display_data"
    }
   ],
   "source": [
    "p1_df = pd.read_csv('./not_experiments/outputs/p10.csv')\n",
    "sns.set(rc={'figure.figsize':(10,8)})\n",
    "sns.set_style(\"whitegrid\", {'axes.grid' : True})\n",
    "\n",
    "sns.histplot(p1_df[(p1_df.type==\"raw\") & (p1_df.chain_strength == 2)].energy)"
   ]
  },
  {
   "cell_type": "code",
   "execution_count": 26,
   "id": "forced-calibration",
   "metadata": {},
   "outputs": [
    {
     "data": {
      "text/plain": [
       "<AxesSubplot:xlabel='energy', ylabel='Count'>"
      ]
     },
     "execution_count": 26,
     "metadata": {},
     "output_type": "execute_result"
    },
    {
     "data": {
      "image/png": "[encoded data removed]",
      "text/plain": [
       "<Figure size 720x576 with 1 Axes>"
      ]
     },
     "metadata": {},
     "output_type": "display_data"
    }
   ],
   "source": [
    "p1_df = pd.read_csv('./not_experiments/outputs/p1.csv')\n",
    "sns.set(rc={'figure.figsize':(10,8)})\n",
    "sns.set_style(\"whitegrid\", {'axes.grid' : True})\n",
    "\n",
    "sns.histplot(p1_df[(p1_df.type==\"raw\") & (p1_df.chain_strength == 2.25)].energy)"
   ]
  },
  {
   "cell_type": "code",
   "execution_count": 27,
   "id": "incomplete-specification",
   "metadata": {},
   "outputs": [
    {
     "data": {
      "text/plain": [
       "<AxesSubplot:xlabel='energy', ylabel='Count'>"
      ]
     },
     "execution_count": 27,
     "metadata": {},
     "output_type": "execute_result"
    },
    {
     "data": {
      "image/png": "[encoded data removed]",
      "text/plain": [
       "<Figure size 720x576 with 1 Axes>"
      ]
     },
     "metadata": {},
     "output_type": "display_data"
    }
   ],
   "source": [
    "p01_df = pd.read_csv('./not_experiments/outputs/p01.csv')\n",
    "sns.set(rc={'figure.figsize':(10,8)})\n",
    "sns.set_style(\"whitegrid\", {'axes.grid' : True})\n",
    "\n",
    "sns.histplot(p01_df[(p01_df.type==\"raw\") & (p01_df.chain_strength == 1.75)].energy)"
   ]
  },
  {
   "cell_type": "code",
   "execution_count": 8,
   "id": "selected-damage",
   "metadata": {},
   "outputs": [
    {
     "name": "stdout",
     "output_type": "stream",
     "text": [
      "processing file: p1\n",
      "processing file: p01\n",
      "processing file: p001\n",
      "processing file: p0001\n",
      "processing file: p00001\n",
      "processing file: p000001\n",
      "processing file: p10\n",
      "processing file: p25\n",
      "processing file: p50\n",
      "processing file: p75\n",
      "processing file: p100\n"
     ]
    },
    {
     "data": {
      "text/html": [
       "<div>\n",
       "<style scoped>\n",
       "    .dataframe tbody tr th:only-of-type {\n",
       "        vertical-align: middle;\n",
       "    }\n",
       "\n",
       "    .dataframe tbody tr th {\n",
       "        vertical-align: top;\n",
       "    }\n",
       "\n",
       "    .dataframe thead th {\n",
       "        text-align: right;\n",
       "    }\n",
       "</style>\n",
       "<table border=\"1\" class=\"dataframe\">\n",
       "  <thead>\n",
       "    <tr style=\"text-align: right;\">\n",
       "      <th></th>\n",
       "      <th>sat_ratio</th>\n",
       "      <th>solver</th>\n",
       "      <th>time</th>\n",
       "    </tr>\n",
       "  </thead>\n",
       "  <tbody>\n",
       "    <tr>\n",
       "      <th>52</th>\n",
       "      <td>1.000000e-06</td>\n",
       "      <td>cadical</td>\n",
       "      <td>0.049349</td>\n",
       "    </tr>\n",
       "    <tr>\n",
       "      <th>77</th>\n",
       "      <td>1.000000e-07</td>\n",
       "      <td>minisat-gh</td>\n",
       "      <td>0.050371</td>\n",
       "    </tr>\n",
       "    <tr>\n",
       "      <th>73</th>\n",
       "      <td>1.000000e-07</td>\n",
       "      <td>maplesat</td>\n",
       "      <td>0.050607</td>\n",
       "    </tr>\n",
       "    <tr>\n",
       "      <th>76</th>\n",
       "      <td>1.000000e-07</td>\n",
       "      <td>minisat22</td>\n",
       "      <td>0.050787</td>\n",
       "    </tr>\n",
       "    <tr>\n",
       "      <th>75</th>\n",
       "      <td>1.000000e-07</td>\n",
       "      <td>minicard</td>\n",
       "      <td>0.051167</td>\n",
       "    </tr>\n",
       "    <tr>\n",
       "      <th>...</th>\n",
       "      <td>...</td>\n",
       "      <td>...</td>\n",
       "      <td>...</td>\n",
       "    </tr>\n",
       "    <tr>\n",
       "      <th>96</th>\n",
       "      <td>2.500000e-01</td>\n",
       "      <td>lingeling</td>\n",
       "      <td>0.519344</td>\n",
       "    </tr>\n",
       "    <tr>\n",
       "      <th>83</th>\n",
       "      <td>1.000000e-01</td>\n",
       "      <td>lingeling</td>\n",
       "      <td>0.523248</td>\n",
       "    </tr>\n",
       "    <tr>\n",
       "      <th>109</th>\n",
       "      <td>5.000000e-01</td>\n",
       "      <td>lingeling</td>\n",
       "      <td>0.524252</td>\n",
       "    </tr>\n",
       "    <tr>\n",
       "      <th>135</th>\n",
       "      <td>1.000000e+00</td>\n",
       "      <td>lingeling</td>\n",
       "      <td>0.529149</td>\n",
       "    </tr>\n",
       "    <tr>\n",
       "      <th>122</th>\n",
       "      <td>7.500000e-01</td>\n",
       "      <td>lingeling</td>\n",
       "      <td>0.531983</td>\n",
       "    </tr>\n",
       "  </tbody>\n",
       "</table>\n",
       "<p>143 rows × 3 columns</p>\n",
       "</div>"
      ],
      "text/plain": [
       "        sat_ratio      solver      time\n",
       "52   1.000000e-06     cadical  0.049349\n",
       "77   1.000000e-07  minisat-gh  0.050371\n",
       "73   1.000000e-07    maplesat  0.050607\n",
       "76   1.000000e-07   minisat22  0.050787\n",
       "75   1.000000e-07    minicard  0.051167\n",
       "..            ...         ...       ...\n",
       "96   2.500000e-01   lingeling  0.519344\n",
       "83   1.000000e-01   lingeling  0.523248\n",
       "109  5.000000e-01   lingeling  0.524252\n",
       "135  1.000000e+00   lingeling  0.529149\n",
       "122  7.500000e-01   lingeling  0.531983\n",
       "\n",
       "[143 rows x 3 columns]"
      ]
     },
     "execution_count": 8,
     "metadata": {},
     "output_type": "execute_result"
    }
   ],
   "source": [
    "from pysat.solvers import Solver\n",
    "from pysat.formula import CNF\n",
    "import time\n",
    "solvers = ['cadical', 'gluecard3', 'gluecard4','glucose3', 'glucose4', 'lingeling', 'maplechrono',\n",
    "        'maplecm', 'maplesat', 'mergesat3', 'minicard', 'minisat22','minisat-gh']\n",
    "times_column = []\n",
    "probs_column = []\n",
    "solvers_column = []\n",
    "file_names_to_probs = {\n",
    "    'p10': 0.1,\n",
    "    'p25': 0.25,\n",
    "    'p50': 0.5,\n",
    "    'p75': 0.75,\n",
    "    'p100':1,\n",
    "    'p1': 0.01,\n",
    "    'p01': 0.001,\n",
    "    'p001': 0.0001,\n",
    "    'p0001': 0.00001,\n",
    "    'p00001': 0.000001,\n",
    "    'p000001': 0.0000001,\n",
    "}\n",
    "for file in \"p1 p01 p001 p0001 p00001 p000001 p10 p25 p50 p75 p100\".split():\n",
    "    print(f\"processing file: {file}\")\n",
    "    formula = CNF(from_file=f'./not_experiments/cnfs/not_{file}.cnf')\n",
    "    assert(file in file_names_to_probs.keys())\n",
    "    for solver_name in solvers:\n",
    "        solver = Solver(name=solver_name, bootstrap_with=formula.clauses)\n",
    "        current_times = []\n",
    "        for i in range(100000):\n",
    "            init_time = time.perf_counter()\n",
    "            solver.solve()\n",
    "            current_times.append(round((time.perf_counter() - init_time)*10000, 3))\n",
    "            \n",
    "        avg_time = sum(current_times)\n",
    "        #times.append(sum(current_times)/len(current_times))\n",
    "        probs_column.append(file_names_to_probs[file])\n",
    "        times_column.append(sum(current_times)/len(current_times))\n",
    "        solvers_column.append(solver_name)\n",
    "cnf_files_df = pd.DataFrame({\n",
    "    'sat_ratio': probs_column,\n",
    "    'solver': solvers_column,\n",
    "    'time': times_column\n",
    "})\n",
    "cnf_files_df.sort_values(by=['time'])"
   ]
  },
  {
   "cell_type": "code",
   "execution_count": 11,
   "id": "promotional-springer",
   "metadata": {},
   "outputs": [
    {
     "data": {
      "text/plain": [
       "[None]"
      ]
     },
     "execution_count": 11,
     "metadata": {},
     "output_type": "execute_result"
    },
    {
     "data": {
      "image/png": "[encoded data removed]",
      "text/plain": [
       "<Figure size 720x576 with 1 Axes>"
      ]
     },
     "metadata": {},
     "output_type": "display_data"
    }
   ],
   "source": [
    "sns.set(rc={'figure.figsize':(10,8)})\n",
    "sns.set_style(\"whitegrid\", {'axes.grid' : True})\n",
    "\n",
    "a = sns.lineplot(x='sat_ratio', y='time', data=cnf_files_df[cnf_files_df.time < 0.1], hue=\"solver\")\n",
    "a.set(xscale=\"log\")"
   ]
  },
  {
   "cell_type": "code",
   "execution_count": null,
   "id": "through-highland",
   "metadata": {},
   "outputs": [],
   "source": []
  }
 ],
 "metadata": {
  "kernelspec": {
   "display_name": "Python 3",
   "language": "python",
   "name": "python3"
  },
  "language_info": {
   "codemirror_mode": {
    "name": "ipython",
    "version": 3
   },
   "file_extension": ".py",
   "mimetype": "text/x-python",
   "name": "python",
   "nbconvert_exporter": "python",
   "pygments_lexer": "ipython3",
   "version": "3.9.12"
  }
 },
 "nbformat": 4,
 "nbformat_minor": 5
}
