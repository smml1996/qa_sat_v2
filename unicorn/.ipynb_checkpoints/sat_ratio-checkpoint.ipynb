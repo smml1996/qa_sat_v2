{
 "cells": [
  {
   "cell_type": "code",
   "execution_count": 1,
   "id": "apparent-portugal",
   "metadata": {},
   "outputs": [],
   "source": [
    "import sys\n",
    "sys.path.append(\"../\")\n",
    "from utils import load_cnf, cnf_to_bqm\n",
    "from embedding_utils import *\n",
    "import seaborn as sns\n",
    "from redundancy import *\n",
    "from utils import *\n",
    "from dwave.embedding.chain_strength import scaled\n",
    "import pandas as pd\n",
    "from brute_force import get_bqm_random_sat\n",
    "import numpy as np\n",
    "import matplotlib.pyplot as plt\n",
    "from statistics import variance"
   ]
  },
  {
   "cell_type": "code",
   "execution_count": 2,
   "id": "affecting-journalist",
   "metadata": {},
   "outputs": [],
   "source": [
    "one_answer = 9223372036854775807\n",
    "thresholds = [1, 4611686018427387903, 9223372036854775807, 13835058055282163711, 18446744073709551615]"
   ]
  },
  {
   "cell_type": "code",
   "execution_count": 7,
   "id": "inside-simple",
   "metadata": {},
   "outputs": [],
   "source": [
    "def get_vertices_degrees(bqm):\n",
    "    answer = []\n",
    "    for (node, neighbours) in bqm.adj.items():\n",
    "        answer.append(len(neighbours)) \n",
    "    return answer\n",
    "\n",
    "def get_file_bqm(file_name):\n",
    "    bqm, estimated_num_variables = unicorn_file_parser(f\"./sat_ratio/{file_name}.unicorn\")\n",
    "    vertices_degrees = get_vertices_degrees(bqm)\n",
    "    avg_degrees = round(float(sum(vertices_degrees))/float(len(vertices_degrees)),2)\n",
    "    variance_degrees = round(variance(vertices_degrees),2)\n",
    "    \n",
    "    num_variables, num_clauses, variables, clauses = load_cnf(f\"./sat_ratio/{file_name}.cnf\")\n",
    "    print(f\"file: {file_name}\")\n",
    "    print(f\"cnf vars, clauses, clauses_to_var = {num_variables}, {num_clauses}, {round(num_clauses/num_variables,2)}\")\n",
    "    print(f\"qubo vars {len(bqm.variables)}\")\n",
    "    print(f\"conn avg, variance, max = {avg_degrees}, {variance_degrees}, {max(vertices_degrees)}\")\n",
    "    \n",
    "    return bqm"
   ]
  },
  {
   "cell_type": "markdown",
   "id": "improved-extent",
   "metadata": {},
   "source": [
    "# Just one answer"
   ]
  },
  {
   "cell_type": "code",
   "execution_count": 8,
   "id": "sitting-direction",
   "metadata": {},
   "outputs": [
    {
     "name": "stdout",
     "output_type": "stream",
     "text": [
      "file: 1\n",
      "cnf vars, clauses, clauses_to_var = 128, 192, 1.5\n",
      "qubo vars 127\n",
      "conn avg, variance, max = 2.96, 1.02, 4\n"
     ]
    }
   ],
   "source": [
    "bqm = get_file_bqm(\"1\")"
   ]
  },
  {
   "cell_type": "markdown",
   "id": "rough-factory",
   "metadata": {},
   "source": [
    "# 25% are answers"
   ]
  },
  {
   "cell_type": "code",
   "execution_count": 9,
   "id": "administrative-cleaner",
   "metadata": {},
   "outputs": [
    {
     "name": "stdout",
     "output_type": "stream",
     "text": [
      "file: p25\n",
      "cnf vars, clauses, clauses_to_var = 191, 444, 2.32\n",
      "qubo vars 253\n",
      "conn avg, variance, max = 3.49, 2.23, 6\n"
     ]
    }
   ],
   "source": [
    "bqm = get_file_bqm(\"p25\")"
   ]
  },
  {
   "cell_type": "markdown",
   "id": "assured-imagination",
   "metadata": {},
   "source": [
    "# 50% are answers"
   ]
  },
  {
   "cell_type": "code",
   "execution_count": 10,
   "id": "significant-fraction",
   "metadata": {},
   "outputs": [
    {
     "name": "stdout",
     "output_type": "stream",
     "text": [
      "file: p50\n",
      "cnf vars, clauses, clauses_to_var = 191, 444, 2.32\n",
      "qubo vars 253\n",
      "conn avg, variance, max = 3.49, 2.23, 6\n"
     ]
    }
   ],
   "source": [
    "bqm = get_file_bqm(\"p50\")"
   ]
  },
  {
   "cell_type": "markdown",
   "id": "known-grace",
   "metadata": {},
   "source": [
    "# 75% are answers"
   ]
  },
  {
   "cell_type": "code",
   "execution_count": 11,
   "id": "rising-setup",
   "metadata": {},
   "outputs": [
    {
     "name": "stdout",
     "output_type": "stream",
     "text": [
      "file: p75\n",
      "cnf vars, clauses, clauses_to_var = 191, 444, 2.32\n",
      "qubo vars 253\n",
      "conn avg, variance, max = 3.49, 2.23, 6\n"
     ]
    }
   ],
   "source": [
    "bqm = get_file_bqm(\"p75\")"
   ]
  },
  {
   "cell_type": "markdown",
   "id": "colonial-tuesday",
   "metadata": {},
   "source": [
    "# 99% are answers"
   ]
  },
  {
   "cell_type": "code",
   "execution_count": 12,
   "id": "satellite-connecticut",
   "metadata": {},
   "outputs": [
    {
     "name": "stdout",
     "output_type": "stream",
     "text": [
      "file: p100\n",
      "cnf vars, clauses, clauses_to_var = 191, 444, 2.32\n",
      "qubo vars 253\n",
      "conn avg, variance, max = 3.49, 2.23, 6\n"
     ]
    }
   ],
   "source": [
    "bqm = get_file_bqm(\"p100\")"
   ]
  },
  {
   "cell_type": "code",
   "execution_count": null,
   "id": "frozen-trail",
   "metadata": {},
   "outputs": [],
   "source": []
  }
 ],
 "metadata": {
  "kernelspec": {
   "display_name": "Python 3",
   "language": "python",
   "name": "python3"
  },
  "language_info": {
   "codemirror_mode": {
    "name": "ipython",
    "version": 3
   },
   "file_extension": ".py",
   "mimetype": "text/x-python",
   "name": "python",
   "nbconvert_exporter": "python",
   "pygments_lexer": "ipython3",
   "version": "3.9.12"
  }
 },
 "nbformat": 4,
 "nbformat_minor": 5
}
