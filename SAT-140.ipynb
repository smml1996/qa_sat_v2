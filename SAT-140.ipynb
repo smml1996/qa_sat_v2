{
 "cells": [
  {
   "cell_type": "code",
   "execution_count": 1,
   "id": "competent-wagon",
   "metadata": {},
   "outputs": [],
   "source": [
    "from utils import load_cnf, cnf_to_bqm\n",
    "from embedding_utils import *\n",
    "import seaborn as sns\n",
    "from redundancy import *\n",
    "from utils import *\n",
    "from dwave.embedding.chain_strength import scaled"
   ]
  },
  {
   "cell_type": "code",
   "execution_count": 2,
   "id": "other-context",
   "metadata": {},
   "outputs": [],
   "source": [
    "folder = 'sat'\n",
    "_variables = 140\n",
    "path = f\"./{folder}/sgen1-{folder}-{_variables}-100.cnf\"\n",
    "num_variables, num_clauses, variables, clauses = load_cnf(path)\n",
    "bqm, or_result_vars, clauses_qubits, _ = cnf_to_bqm(variables, clauses)"
   ]
  },
  {
   "cell_type": "code",
   "execution_count": 3,
   "id": "incorrect-documentary",
   "metadata": {},
   "outputs": [
    {
     "data": {
      "text/plain": [
       "0.0"
      ]
     },
     "execution_count": 3,
     "metadata": {},
     "output_type": "execute_result"
    }
   ],
   "source": [
    "cnf_result = \"-1 -2 3 -4 -5 6 -7 -8 -9 -10 -11 12 -13 -14 -15 -16 -17 18 -19 -20 -21 -22 23 -24 -25 -26 27 -28 -29 -30 -31 32 -33 -34 -35 36 -37 -38 -39 -40 41 -42 -43 -44 -45 -46 -47 -48 49 -50 51 -52 -53 -54 -55 -56 -57 -58 59 -60 61 -62 -63 -64 -65 -66 -67 68 -69 -70 71 -72 -73 -74 -75 -76 -77 78 -79 -80 -81 -82 -83 84 -85 -86 87 -88 -89 -90 -91 -92 -93 94 -95 -96 -97 -98 99 -100 -101 -102 -103 104 -105 -106 107 -108 -109 -110 -111 -112 113 -114 -115 116 -117 -118 -119 -120 -121 -122 -123 124 -125 -126 -127 128 -129 -130 -131 -132 133 -134 -135 136 -137 -138 -139 -140 0\".split(\" \")\n",
    "answer = dict()\n",
    "for x in cnf_result[:-1]:\n",
    "    int_x = int(x)\n",
    "    answer[abs(int_x)] = int(int_x > 0)\n",
    "evaluate_cnf_formula(answer, or_result_vars, bqm)"
   ]
  },
  {
   "cell_type": "code",
   "execution_count": 4,
   "id": "progressive-victor",
   "metadata": {},
   "outputs": [
    {
     "data": {
      "text/plain": [
       "140"
      ]
     },
     "execution_count": 4,
     "metadata": {},
     "output_type": "execute_result"
    }
   ],
   "source": [
    "len(bqm.adj)"
   ]
  },
  {
   "cell_type": "code",
   "execution_count": 5,
   "id": "basic-motel",
   "metadata": {},
   "outputs": [],
   "source": [
    "# check that clauses of length 5 have only one bit==true\n",
    "for clause in clauses:\n",
    "    line = \"\"\n",
    "    true_bits = 0\n",
    "    for var in clause:\n",
    "        line += f\" {answer[abs(var)]}\"\n",
    "        if answer[abs(var)] == 1:\n",
    "            true_bits +=1\n",
    "    if len(clause) == 5:\n",
    "        assert(true_bits == 1)"
   ]
  },
  {
   "cell_type": "code",
   "execution_count": 27,
   "id": "comic-following",
   "metadata": {},
   "outputs": [],
   "source": [
    "from minorminer import busclique\n",
    "import dwave_networkx as dnx\n",
    "embedding = busclique.find_clique_embedding(140, dnx.pegasus_graph(16), seed=1)"
   ]
  },
  {
   "cell_type": "code",
   "execution_count": 28,
   "id": "popular-scope",
   "metadata": {},
   "outputs": [
    {
     "data": {
      "text/plain": [
       "<AxesSubplot:ylabel='Count'>"
      ]
     },
     "execution_count": 28,
     "metadata": {},
     "output_type": "execute_result"
    },
    {
     "data": {
      "image/png": "[encoded data removed]",
      "text/plain": [
       "<Figure size 432x288 with 1 Axes>"
      ]
     },
     "metadata": {
      "needs_background": "light"
     },
     "output_type": "display_data"
    }
   ],
   "source": [
    "chain_lengths = []\n",
    "for (key, chain) in embedding.items():\n",
    "    chain_lengths.append(len(chain))\n",
    "sns.histplot(chain_lengths)"
   ]
  },
  {
   "cell_type": "code",
   "execution_count": null,
   "id": "assured-scheme",
   "metadata": {},
   "outputs": [],
   "source": []
  }
 ],
 "metadata": {
  "kernelspec": {
   "display_name": "Python 3",
   "language": "python",
   "name": "python3"
  },
  "language_info": {
   "codemirror_mode": {
    "name": "ipython",
    "version": 3
   },
   "file_extension": ".py",
   "mimetype": "text/x-python",
   "name": "python",
   "nbconvert_exporter": "python",
   "pygments_lexer": "ipython3",
   "version": "3.9.9"
  }
 },
 "nbformat": 4,
 "nbformat_minor": 5
}
