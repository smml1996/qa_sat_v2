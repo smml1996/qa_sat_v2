{
 "cells": [
  {
   "cell_type": "code",
   "execution_count": 1,
   "id": "nasty-wings",
   "metadata": {},
   "outputs": [],
   "source": [
    "from utils import load_cnf, cnf_to_bqm\n",
    "from embedding_utils import *\n",
    "import seaborn as sns\n",
    "from redundancy import *\n",
    "from utils import *\n",
    "from dwave.embedding.chain_strength import scaled"
   ]
  },
  {
   "cell_type": "code",
   "execution_count": 2,
   "id": "expected-impossible",
   "metadata": {},
   "outputs": [],
   "source": [
    "folder = 'sat'\n",
    "_variables = 140\n",
    "path = f\"./{folder}/sgen1-{folder}-{_variables}-100.cnf\"\n",
    "num_variables, num_clauses, variables, clauses = load_cnf(path)\n",
    "bqm, or_result_vars, clauses_qubits, _ = cnf_to_bqm(variables, clauses)"
   ]
  },
  {
   "cell_type": "code",
   "execution_count": 3,
   "id": "timely-veteran",
   "metadata": {},
   "outputs": [
    {
     "data": {
      "text/plain": [
       "0.0"
      ]
     },
     "execution_count": 3,
     "metadata": {},
     "output_type": "execute_result"
    }
   ],
   "source": [
    "cnf_result = \"-1 -2 3 -4 -5 6 -7 -8 -9 -10 -11 12 -13 -14 -15 -16 -17 18 -19 -20 -21 -22 23 -24 -25 -26 27 -28 -29 -30 -31 32 -33 -34 -35 36 -37 -38 -39 -40 41 -42 -43 -44 -45 -46 -47 -48 49 -50 51 -52 -53 -54 -55 -56 -57 -58 59 -60 61 -62 -63 -64 -65 -66 -67 68 -69 -70 71 -72 -73 -74 -75 -76 -77 78 -79 -80 -81 -82 -83 84 -85 -86 87 -88 -89 -90 -91 -92 -93 94 -95 -96 -97 -98 99 -100 -101 -102 -103 104 -105 -106 107 -108 -109 -110 -111 -112 113 -114 -115 116 -117 -118 -119 -120 -121 -122 -123 124 -125 -126 -127 128 -129 -130 -131 -132 133 -134 -135 136 -137 -138 -139 -140 0\".split(\" \")\n",
    "answer = dict()\n",
    "for x in cnf_result[:-1]:\n",
    "    int_x = int(x)\n",
    "    answer[abs(int_x)] = int(int_x > 0)\n",
    "evaluate_cnf_formula(answer, or_result_vars, bqm)"
   ]
  },
  {
   "cell_type": "code",
   "execution_count": 4,
   "id": "painful-closing",
   "metadata": {},
   "outputs": [
    {
     "data": {
      "text/plain": [
       "140"
      ]
     },
     "execution_count": 4,
     "metadata": {},
     "output_type": "execute_result"
    }
   ],
   "source": [
    "len(bqm.adj)"
   ]
  },
  {
   "cell_type": "code",
   "execution_count": 5,
   "id": "warming-scroll",
   "metadata": {},
   "outputs": [],
   "source": [
    "# check that clauses of length 5 have only one bit==true\n",
    "for clause in clauses:\n",
    "    line = \"\"\n",
    "    true_bits = 0\n",
    "    for var in clause:\n",
    "        line += f\" {answer[abs(var)]}\"\n",
    "        if answer[abs(var)] == 1:\n",
    "            true_bits +=1\n",
    "    if len(clause) == 5:\n",
    "        assert(true_bits == 1)"
   ]
  },
  {
   "cell_type": "code",
   "execution_count": 6,
   "id": "incorporated-blame",
   "metadata": {},
   "outputs": [],
   "source": [
    "from minorminer import busclique\n",
    "import dwave_networkx as dnx\n",
    "embedding = busclique.find_clique_embedding(160, dnx.pegasus_graph(16), seed=1)"
   ]
  },
  {
   "cell_type": "code",
   "execution_count": 7,
   "id": "signed-associate",
   "metadata": {},
   "outputs": [
    {
     "data": {
      "text/plain": [
       "<AxesSubplot:ylabel='Count'>"
      ]
     },
     "execution_count": 7,
     "metadata": {},
     "output_type": "execute_result"
    },
    {
     "data": {
      "image/png": "[encoded data removed]",
      "text/plain": [
       "<Figure size 432x288 with 1 Axes>"
      ]
     },
     "metadata": {
      "needs_background": "light"
     },
     "output_type": "display_data"
    }
   ],
   "source": [
    "chain_lengths = []\n",
    "for (key, chain) in embedding.items():\n",
    "    chain_lengths.append(len(chain))\n",
    "sns.histplot(chain_lengths)"
   ]
  },
  {
   "cell_type": "code",
   "execution_count": 11,
   "id": "modified-fashion",
   "metadata": {},
   "outputs": [],
   "source": [
    "from greedy import SteepestDescentComposite\n",
    "from dwave.system import DWaveCliqueSampler\n",
    "\n",
    "sampler = SteepestDescentComposite(DWaveCliqueSampler(solver={\"name\": \"Advantage_system4.1\"}))"
   ]
  },
  {
   "cell_type": "code",
   "execution_count": 48,
   "id": "accompanied-million",
   "metadata": {},
   "outputs": [
    {
     "name": "stdout",
     "output_type": "stream",
     "text": [
      "5.0\n"
     ]
    },
    {
     "data": {
      "text/plain": [
       "12.99"
      ]
     },
     "execution_count": 48,
     "metadata": {},
     "output_type": "execute_result"
    }
   ],
   "source": [
    "sampleset = sampler.sample(bqm, num_reads=1000, answer_mode='raw', chain_strength=scaled)\n",
    "print(sampleset.first.energy)\n",
    "get_avg_energy(sampleset)"
   ]
  },
  {
   "cell_type": "code",
   "execution_count": 56,
   "id": "several-disposal",
   "metadata": {},
   "outputs": [
    {
     "name": "stdout",
     "output_type": "stream",
     "text": [
      "5.0\n"
     ]
    },
    {
     "data": {
      "text/plain": [
       "12.96"
      ]
     },
     "execution_count": 56,
     "metadata": {},
     "output_type": "execute_result"
    }
   ],
   "source": [
    "sampleset = sampler.sample(bqm, num_reads=5000, answer_mode='raw', chain_strength=scaled,anneal_schedule=[[0.0,0.0],[12.0,1.0]])\n",
    "print(sampleset.first.energy)\n",
    "get_avg_energy(sampleset)"
   ]
  },
  {
   "cell_type": "code",
   "execution_count": 75,
   "id": "hearing-nothing",
   "metadata": {},
   "outputs": [],
   "source": [
    "qubit_offsets = get_0_qubits_offsets()\n",
    "qpu_offsets = get_qubit_offset_ranges()\n",
    "advance_annealing_of_unused(embedding, qubit_offsets)"
   ]
  },
  {
   "cell_type": "code",
   "execution_count": 208,
   "id": "affected-analysis",
   "metadata": {},
   "outputs": [],
   "source": [
    "for (logic_var, chain) in embedding.items():\n",
    "    for c in chain:\n",
    "        min_offset = get_max_offset(qpu_offsets, c)\n",
    "        qubit_offsets[c] = min_offset/30.0"
   ]
  },
  {
   "cell_type": "code",
   "execution_count": 210,
   "id": "distributed-mountain",
   "metadata": {},
   "outputs": [
    {
     "name": "stdout",
     "output_type": "stream",
     "text": [
      "3.0\n"
     ]
    },
    {
     "data": {
      "text/plain": [
       "5.91"
      ]
     },
     "execution_count": 210,
     "metadata": {},
     "output_type": "execute_result"
    }
   ],
   "source": [
    "sampleset = sampler.sample(bqm, num_reads=1000, answer_mode='raw', chain_strength=scaled, anneal_offsets=qubit_offsets)\n",
    "print(sampleset.first.energy)\n",
    "get_avg_energy(sampleset)"
   ]
  },
  {
   "cell_type": "code",
   "execution_count": 217,
   "id": "speaking-institute",
   "metadata": {},
   "outputs": [
    {
     "name": "stdout",
     "output_type": "stream",
     "text": [
      "2.5\n",
      "3.0\n"
     ]
    }
   ],
   "source": [
    "sampleset_offsets = sampler.sample(bqm, num_reads=100, \n",
    "                                   anneal_schedule=[[0.0,1.0],[0.5,0.0],[19.5,0.0],[25.0,1.0]],\n",
    "                                   answer_mode='raw', \n",
    "                                   chain_strength=scaled, \n",
    "                                   anneal_offsets=qubit_offsets,\n",
    "                                   initial_state=sampleset.first.sample, \n",
    "                                   reinitialize_state=False)\n",
    "print(sampleset_offsets.first.energy)\n",
    "print(get_avg_energy(sampleset_offsets))"
   ]
  },
  {
   "cell_type": "code",
   "execution_count": 61,
   "id": "invalid-strap",
   "metadata": {},
   "outputs": [
    {
     "data": {
      "text/plain": [
       "2.0"
      ]
     },
     "execution_count": 61,
     "metadata": {},
     "output_type": "execute_result"
    }
   ],
   "source": [
    "import neal\n",
    "t_sampler = neal.SimulatedAnnealingSampler()\n",
    "result = t_sampler.sample(bqm, num_sweeps=100000).first\n",
    "result.energy"
   ]
  },
  {
   "cell_type": "code",
   "execution_count": 104,
   "id": "prostate-parameter",
   "metadata": {},
   "outputs": [
    {
     "data": {
      "text/plain": [
       "(-96.0, {})"
      ]
     },
     "execution_count": 104,
     "metadata": {},
     "output_type": "execute_result"
    }
   ],
   "source": [
    "from dwave.preprocessing.lower_bounds import roof_duality\n",
    "roof_duality(bqm, strict=False)"
   ]
  },
  {
   "cell_type": "code",
   "execution_count": 111,
   "id": "supposed-fever",
   "metadata": {},
   "outputs": [
    {
     "data": {
      "text/plain": [
       "1.0"
      ]
     },
     "execution_count": 111,
     "metadata": {},
     "output_type": "execute_result"
    }
   ],
   "source": [
    "bqm.energy(result.sample)"
   ]
  },
  {
   "cell_type": "code",
   "execution_count": 12,
   "id": "addressed-fortune",
   "metadata": {},
   "outputs": [
    {
     "ename": "DisconnectedChainError",
     "evalue": "chain for 26 is not connected",
     "output_type": "error",
     "traceback": [
      "\u001b[0;31m---------------------------------------------------------------------------\u001b[0m",
      "\u001b[0;31mDisconnectedChainError\u001b[0m                    Traceback (most recent call last)",
      "\u001b[0;32m<ipython-input-12-bcced2c3a8e0>\u001b[0m in \u001b[0;36m<module>\u001b[0;34m\u001b[0m\n\u001b[0;32m----> 1\u001b[0;31m \u001b[0mget_greedy_quantum_sampler\u001b[0m\u001b[0;34m(\u001b[0m\u001b[0membedding\u001b[0m\u001b[0;34m)\u001b[0m\u001b[0;34m\u001b[0m\u001b[0;34m\u001b[0m\u001b[0m\n\u001b[0m",
      "\u001b[0;32m~/Documents/satv2/utils.py\u001b[0m in \u001b[0;36mget_greedy_quantum_sampler\u001b[0;34m(embedding)\u001b[0m\n\u001b[1;32m    229\u001b[0m \u001b[0;32mdef\u001b[0m \u001b[0mget_greedy_quantum_sampler\u001b[0m\u001b[0;34m(\u001b[0m\u001b[0membedding\u001b[0m\u001b[0;34m=\u001b[0m\u001b[0;32mNone\u001b[0m\u001b[0;34m)\u001b[0m\u001b[0;34m:\u001b[0m\u001b[0;34m\u001b[0m\u001b[0;34m\u001b[0m\u001b[0m\n\u001b[1;32m    230\u001b[0m     sampler = SteepestDescentComposite(\n\u001b[0;32m--> 231\u001b[0;31m         FixedEmbeddingComposite(DWaveSampler(solver={\"name\": \"Advantage_system4.1\"}), embedding))\n\u001b[0m\u001b[1;32m    232\u001b[0m     \u001b[0;32mreturn\u001b[0m \u001b[0msampler\u001b[0m\u001b[0;34m\u001b[0m\u001b[0;34m\u001b[0m\u001b[0m\n\u001b[1;32m    233\u001b[0m \u001b[0;34m\u001b[0m\u001b[0m\n",
      "\u001b[0;32m/usr/local/lib/python3.9/site-packages/dwave/system/composites/embedding.py\u001b[0m in \u001b[0;36m__init__\u001b[0;34m(self, child_sampler, embedding, source_adjacency, **kwargs)\u001b[0m\n\u001b[1;32m    558\u001b[0m                                             self.target_structure.edgelist)\n\u001b[1;32m    559\u001b[0m \u001b[0;34m\u001b[0m\u001b[0m\n\u001b[0;32m--> 560\u001b[0;31m         \u001b[0mself\u001b[0m\u001b[0;34m.\u001b[0m\u001b[0m_fix_embedding\u001b[0m\u001b[0;34m(\u001b[0m\u001b[0membedding\u001b[0m\u001b[0;34m)\u001b[0m\u001b[0;34m\u001b[0m\u001b[0;34m\u001b[0m\u001b[0m\n\u001b[0m\u001b[1;32m    561\u001b[0m \u001b[0;34m\u001b[0m\u001b[0m\n\u001b[1;32m    562\u001b[0m \u001b[0;34m\u001b[0m\u001b[0m\n",
      "\u001b[0;32m/usr/local/lib/python3.9/site-packages/dwave/system/composites/embedding.py\u001b[0m in \u001b[0;36m_fix_embedding\u001b[0;34m(self, embedding)\u001b[0m\n\u001b[1;32m    424\u001b[0m     \u001b[0;32mdef\u001b[0m \u001b[0m_fix_embedding\u001b[0m\u001b[0;34m(\u001b[0m\u001b[0mself\u001b[0m\u001b[0;34m,\u001b[0m \u001b[0membedding\u001b[0m\u001b[0;34m)\u001b[0m\u001b[0;34m:\u001b[0m\u001b[0;34m\u001b[0m\u001b[0;34m\u001b[0m\u001b[0m\n\u001b[1;32m    425\u001b[0m         \u001b[0mtarget_edgelist\u001b[0m \u001b[0;34m=\u001b[0m \u001b[0mself\u001b[0m\u001b[0;34m.\u001b[0m\u001b[0mtarget_structure\u001b[0m\u001b[0;34m.\u001b[0m\u001b[0medgelist\u001b[0m\u001b[0;34m\u001b[0m\u001b[0;34m\u001b[0m\u001b[0m\n\u001b[0;32m--> 426\u001b[0;31m         \u001b[0membedding\u001b[0m \u001b[0;34m=\u001b[0m \u001b[0mEmbeddedStructure\u001b[0m\u001b[0;34m(\u001b[0m\u001b[0mtarget_edgelist\u001b[0m\u001b[0;34m,\u001b[0m \u001b[0membedding\u001b[0m\u001b[0;34m)\u001b[0m\u001b[0;34m\u001b[0m\u001b[0;34m\u001b[0m\u001b[0m\n\u001b[0m\u001b[1;32m    427\u001b[0m \u001b[0;34m\u001b[0m\u001b[0m\n\u001b[1;32m    428\u001b[0m         \u001b[0;31m# save the embedding and overwrite the find_embedding function\u001b[0m\u001b[0;34m\u001b[0m\u001b[0;34m\u001b[0m\u001b[0m\n",
      "\u001b[0;32m/usr/local/lib/python3.9/site-packages/dwave/embedding/transforms.py\u001b[0m in \u001b[0;36m__init__\u001b[0;34m(self, target_edges, embedding)\u001b[0m\n\u001b[1;32m    106\u001b[0m         \u001b[0;32mfor\u001b[0m \u001b[0mu\u001b[0m\u001b[0;34m,\u001b[0m \u001b[0memb_u\u001b[0m \u001b[0;32min\u001b[0m \u001b[0mself\u001b[0m\u001b[0;34m.\u001b[0m\u001b[0mitems\u001b[0m\u001b[0;34m(\u001b[0m\u001b[0;34m)\u001b[0m\u001b[0;34m:\u001b[0m\u001b[0;34m\u001b[0m\u001b[0;34m\u001b[0m\u001b[0m\n\u001b[1;32m    107\u001b[0m             \u001b[0;32mif\u001b[0m \u001b[0mlen\u001b[0m\u001b[0;34m(\u001b[0m\u001b[0memb_u\u001b[0m\u001b[0;34m)\u001b[0m \u001b[0;34m!=\u001b[0m \u001b[0mdisjoint_sets\u001b[0m\u001b[0;34m[\u001b[0m\u001b[0mu\u001b[0m\u001b[0;34m]\u001b[0m\u001b[0;34m.\u001b[0m\u001b[0msize\u001b[0m\u001b[0;34m(\u001b[0m\u001b[0;36m0\u001b[0m\u001b[0;34m)\u001b[0m\u001b[0;34m:\u001b[0m\u001b[0;34m\u001b[0m\u001b[0;34m\u001b[0m\u001b[0m\n\u001b[0;32m--> 108\u001b[0;31m                 \u001b[0;32mraise\u001b[0m \u001b[0mDisconnectedChainError\u001b[0m\u001b[0;34m(\u001b[0m\u001b[0mu\u001b[0m\u001b[0;34m)\u001b[0m\u001b[0;34m\u001b[0m\u001b[0;34m\u001b[0m\u001b[0m\n\u001b[0m\u001b[1;32m    109\u001b[0m \u001b[0;34m\u001b[0m\u001b[0m\n\u001b[1;32m    110\u001b[0m     \u001b[0;32mdef\u001b[0m \u001b[0m__copy__\u001b[0m\u001b[0;34m(\u001b[0m\u001b[0mself\u001b[0m\u001b[0;34m)\u001b[0m\u001b[0;34m:\u001b[0m\u001b[0;34m\u001b[0m\u001b[0;34m\u001b[0m\u001b[0m\n",
      "\u001b[0;31mDisconnectedChainError\u001b[0m: chain for 26 is not connected"
     ]
    }
   ],
   "source": [
    "get_greedy_quantum_sampler(embedding)"
   ]
  },
  {
   "cell_type": "code",
   "execution_count": null,
   "id": "modified-residence",
   "metadata": {},
   "outputs": [],
   "source": []
  }
 ],
 "metadata": {
  "kernelspec": {
   "display_name": "Python 3",
   "language": "python",
   "name": "python3"
  },
  "language_info": {
   "codemirror_mode": {
    "name": "ipython",
    "version": 3
   },
   "file_extension": ".py",
   "mimetype": "text/x-python",
   "name": "python",
   "nbconvert_exporter": "python",
   "pygments_lexer": "ipython3",
   "version": "3.9.12"
  }
 },
 "nbformat": 4,
 "nbformat_minor": 5
}
